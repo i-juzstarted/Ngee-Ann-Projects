{
 "cells": [
  {
   "cell_type": "markdown",
   "metadata": {},
   "source": [
    "<table class=\"table table-bordered\">\n",
    "    <tr>\n",
    "        <th style=\"text-align:center; width:35%\"><img src='https://www.np.edu.sg/images/default-source/edm/schools-logos/ict-logo-full-colour.jpg' style=\"width: 500px; height: 125px; \"></th>\n",
    "        <th style=\"text-align:center;\"><h1>Machine Learning</h1><h2>Practical 5 - Artificial Neural Networks </h2><h3>AY2022/23 Semester</h3></th>\n",
    "    </tr>\n",
    "</table>"
   ]
  },
  {
   "cell_type": "markdown",
   "metadata": {},
   "source": [
    "## Objectives\n",
    "After completing this practical exercise, students should be able to:\n",
    "* Build and train a Artificial Neural Network model\n",
    "* Evaluate the model and use the model to make predications"
   ]
  },
  {
   "cell_type": "markdown",
   "metadata": {},
   "source": [
    "### 0. Import All the Packages"
   ]
  },
  {
   "cell_type": "code",
   "execution_count": 1,
   "metadata": {},
   "outputs": [],
   "source": [
    "# Loading of packages\n",
    "# Note the difference in which model is imported from sklearn package\n",
    "import pandas as pd  \n",
    "import numpy as np  \n",
    "import matplotlib.pyplot as plt  \n",
    "import random\n",
    "\n",
    "from sklearn.model_selection import train_test_split \n",
    "from sklearn.neural_network import MLPClassifier #The only thing that is new\n",
    "from sklearn import metrics\n",
    "from sklearn.model_selection import GridSearchCV\n",
    "\n",
    "%matplotlib inline"
   ]
  },
  {
   "cell_type": "markdown",
   "metadata": {},
   "source": [
    "### 1. Load the data"
   ]
  },
  {
   "cell_type": "code",
   "execution_count": 2,
   "metadata": {},
   "outputs": [
    {
     "data": {
      "text/html": [
       "<div>\n",
       "<style scoped>\n",
       "    .dataframe tbody tr th:only-of-type {\n",
       "        vertical-align: middle;\n",
       "    }\n",
       "\n",
       "    .dataframe tbody tr th {\n",
       "        vertical-align: top;\n",
       "    }\n",
       "\n",
       "    .dataframe thead th {\n",
       "        text-align: right;\n",
       "    }\n",
       "</style>\n",
       "<table border=\"1\" class=\"dataframe\">\n",
       "  <thead>\n",
       "    <tr style=\"text-align: right;\">\n",
       "      <th></th>\n",
       "      <th>Survived</th>\n",
       "      <th>Pclass</th>\n",
       "      <th>Gender</th>\n",
       "      <th>Age</th>\n",
       "      <th>SibSp</th>\n",
       "      <th>Parch</th>\n",
       "      <th>Fare</th>\n",
       "      <th>Cabin</th>\n",
       "      <th>Embarked</th>\n",
       "      <th>Title</th>\n",
       "      <th>FamilySize</th>\n",
       "      <th>IsAlone</th>\n",
       "    </tr>\n",
       "  </thead>\n",
       "  <tbody>\n",
       "    <tr>\n",
       "      <th>0</th>\n",
       "      <td>0</td>\n",
       "      <td>3</td>\n",
       "      <td>1</td>\n",
       "      <td>0.2750</td>\n",
       "      <td>1</td>\n",
       "      <td>0</td>\n",
       "      <td>0</td>\n",
       "      <td>0</td>\n",
       "      <td>0</td>\n",
       "      <td>1</td>\n",
       "      <td>2</td>\n",
       "      <td>0</td>\n",
       "    </tr>\n",
       "    <tr>\n",
       "      <th>1</th>\n",
       "      <td>1</td>\n",
       "      <td>1</td>\n",
       "      <td>0</td>\n",
       "      <td>0.4750</td>\n",
       "      <td>1</td>\n",
       "      <td>0</td>\n",
       "      <td>3</td>\n",
       "      <td>1</td>\n",
       "      <td>1</td>\n",
       "      <td>3</td>\n",
       "      <td>2</td>\n",
       "      <td>0</td>\n",
       "    </tr>\n",
       "    <tr>\n",
       "      <th>2</th>\n",
       "      <td>1</td>\n",
       "      <td>3</td>\n",
       "      <td>0</td>\n",
       "      <td>0.3250</td>\n",
       "      <td>0</td>\n",
       "      <td>0</td>\n",
       "      <td>1</td>\n",
       "      <td>0</td>\n",
       "      <td>0</td>\n",
       "      <td>4</td>\n",
       "      <td>1</td>\n",
       "      <td>1</td>\n",
       "    </tr>\n",
       "    <tr>\n",
       "      <th>3</th>\n",
       "      <td>1</td>\n",
       "      <td>1</td>\n",
       "      <td>0</td>\n",
       "      <td>0.4375</td>\n",
       "      <td>1</td>\n",
       "      <td>0</td>\n",
       "      <td>3</td>\n",
       "      <td>1</td>\n",
       "      <td>0</td>\n",
       "      <td>3</td>\n",
       "      <td>2</td>\n",
       "      <td>0</td>\n",
       "    </tr>\n",
       "    <tr>\n",
       "      <th>4</th>\n",
       "      <td>0</td>\n",
       "      <td>3</td>\n",
       "      <td>1</td>\n",
       "      <td>0.4375</td>\n",
       "      <td>0</td>\n",
       "      <td>0</td>\n",
       "      <td>1</td>\n",
       "      <td>0</td>\n",
       "      <td>0</td>\n",
       "      <td>1</td>\n",
       "      <td>1</td>\n",
       "      <td>1</td>\n",
       "    </tr>\n",
       "  </tbody>\n",
       "</table>\n",
       "</div>"
      ],
      "text/plain": [
       "   Survived  Pclass  Gender     Age  SibSp  Parch  Fare  Cabin  Embarked  \\\n",
       "0         0       3       1  0.2750      1      0     0      0         0   \n",
       "1         1       1       0  0.4750      1      0     3      1         1   \n",
       "2         1       3       0  0.3250      0      0     1      0         0   \n",
       "3         1       1       0  0.4375      1      0     3      1         0   \n",
       "4         0       3       1  0.4375      0      0     1      0         0   \n",
       "\n",
       "   Title  FamilySize  IsAlone  \n",
       "0      1           2        0  \n",
       "1      3           2        0  \n",
       "2      4           1        1  \n",
       "3      3           2        0  \n",
       "4      1           1        1  "
      ]
     },
     "execution_count": 2,
     "metadata": {},
     "output_type": "execute_result"
    }
   ],
   "source": [
    "# Loading the data\n",
    "df = pd.read_csv('titanic_new.csv')\n",
    "df.head()"
   ]
  },
  {
   "cell_type": "code",
   "execution_count": 3,
   "metadata": {},
   "outputs": [
    {
     "name": "stdout",
     "output_type": "stream",
     "text": [
      "<class 'pandas.core.frame.DataFrame'>\n",
      "RangeIndex: 891 entries, 0 to 890\n",
      "Data columns (total 12 columns):\n",
      " #   Column      Non-Null Count  Dtype  \n",
      "---  ------      --------------  -----  \n",
      " 0   Survived    891 non-null    int64  \n",
      " 1   Pclass      891 non-null    int64  \n",
      " 2   Gender      891 non-null    int64  \n",
      " 3   Age         891 non-null    float64\n",
      " 4   SibSp       891 non-null    int64  \n",
      " 5   Parch       891 non-null    int64  \n",
      " 6   Fare        891 non-null    int64  \n",
      " 7   Cabin       891 non-null    int64  \n",
      " 8   Embarked    891 non-null    int64  \n",
      " 9   Title       891 non-null    int64  \n",
      " 10  FamilySize  891 non-null    int64  \n",
      " 11  IsAlone     891 non-null    int64  \n",
      "dtypes: float64(1), int64(11)\n",
      "memory usage: 83.7 KB\n"
     ]
    }
   ],
   "source": [
    "df.info()"
   ]
  },
  {
   "cell_type": "markdown",
   "metadata": {},
   "source": [
    "### 2. Define Model Inputs (X) & Output (y)"
   ]
  },
  {
   "cell_type": "code",
   "execution_count": 4,
   "metadata": {},
   "outputs": [],
   "source": [
    "# Define Model Inputs (X) and Output (y)\n",
    "X = df.iloc[:, 1:]\n",
    "y = df[\"Survived\"]"
   ]
  },
  {
   "cell_type": "code",
   "execution_count": 5,
   "metadata": {},
   "outputs": [
    {
     "data": {
      "text/html": [
       "<div>\n",
       "<style scoped>\n",
       "    .dataframe tbody tr th:only-of-type {\n",
       "        vertical-align: middle;\n",
       "    }\n",
       "\n",
       "    .dataframe tbody tr th {\n",
       "        vertical-align: top;\n",
       "    }\n",
       "\n",
       "    .dataframe thead th {\n",
       "        text-align: right;\n",
       "    }\n",
       "</style>\n",
       "<table border=\"1\" class=\"dataframe\">\n",
       "  <thead>\n",
       "    <tr style=\"text-align: right;\">\n",
       "      <th></th>\n",
       "      <th>Pclass</th>\n",
       "      <th>Gender</th>\n",
       "      <th>Age</th>\n",
       "      <th>SibSp</th>\n",
       "      <th>Parch</th>\n",
       "      <th>Fare</th>\n",
       "      <th>Cabin</th>\n",
       "      <th>Embarked</th>\n",
       "      <th>Title</th>\n",
       "      <th>FamilySize</th>\n",
       "      <th>IsAlone</th>\n",
       "    </tr>\n",
       "  </thead>\n",
       "  <tbody>\n",
       "    <tr>\n",
       "      <th>0</th>\n",
       "      <td>3</td>\n",
       "      <td>1</td>\n",
       "      <td>0.2750</td>\n",
       "      <td>1</td>\n",
       "      <td>0</td>\n",
       "      <td>0</td>\n",
       "      <td>0</td>\n",
       "      <td>0</td>\n",
       "      <td>1</td>\n",
       "      <td>2</td>\n",
       "      <td>0</td>\n",
       "    </tr>\n",
       "    <tr>\n",
       "      <th>1</th>\n",
       "      <td>1</td>\n",
       "      <td>0</td>\n",
       "      <td>0.4750</td>\n",
       "      <td>1</td>\n",
       "      <td>0</td>\n",
       "      <td>3</td>\n",
       "      <td>1</td>\n",
       "      <td>1</td>\n",
       "      <td>3</td>\n",
       "      <td>2</td>\n",
       "      <td>0</td>\n",
       "    </tr>\n",
       "    <tr>\n",
       "      <th>2</th>\n",
       "      <td>3</td>\n",
       "      <td>0</td>\n",
       "      <td>0.3250</td>\n",
       "      <td>0</td>\n",
       "      <td>0</td>\n",
       "      <td>1</td>\n",
       "      <td>0</td>\n",
       "      <td>0</td>\n",
       "      <td>4</td>\n",
       "      <td>1</td>\n",
       "      <td>1</td>\n",
       "    </tr>\n",
       "    <tr>\n",
       "      <th>3</th>\n",
       "      <td>1</td>\n",
       "      <td>0</td>\n",
       "      <td>0.4375</td>\n",
       "      <td>1</td>\n",
       "      <td>0</td>\n",
       "      <td>3</td>\n",
       "      <td>1</td>\n",
       "      <td>0</td>\n",
       "      <td>3</td>\n",
       "      <td>2</td>\n",
       "      <td>0</td>\n",
       "    </tr>\n",
       "    <tr>\n",
       "      <th>4</th>\n",
       "      <td>3</td>\n",
       "      <td>1</td>\n",
       "      <td>0.4375</td>\n",
       "      <td>0</td>\n",
       "      <td>0</td>\n",
       "      <td>1</td>\n",
       "      <td>0</td>\n",
       "      <td>0</td>\n",
       "      <td>1</td>\n",
       "      <td>1</td>\n",
       "      <td>1</td>\n",
       "    </tr>\n",
       "  </tbody>\n",
       "</table>\n",
       "</div>"
      ],
      "text/plain": [
       "   Pclass  Gender     Age  SibSp  Parch  Fare  Cabin  Embarked  Title  \\\n",
       "0       3       1  0.2750      1      0     0      0         0      1   \n",
       "1       1       0  0.4750      1      0     3      1         1      3   \n",
       "2       3       0  0.3250      0      0     1      0         0      4   \n",
       "3       1       0  0.4375      1      0     3      1         0      3   \n",
       "4       3       1  0.4375      0      0     1      0         0      1   \n",
       "\n",
       "   FamilySize  IsAlone  \n",
       "0           2        0  \n",
       "1           2        0  \n",
       "2           1        1  \n",
       "3           2        0  \n",
       "4           1        1  "
      ]
     },
     "execution_count": 5,
     "metadata": {},
     "output_type": "execute_result"
    }
   ],
   "source": [
    "X.head()"
   ]
  },
  {
   "cell_type": "code",
   "execution_count": 6,
   "metadata": {},
   "outputs": [],
   "source": [
    "# Split both Inputs (X) and Ouput (y) into training set (70%) and testing set (30%)\n",
    "X_train, X_test, y_train, y_test = train_test_split(X, y, test_size=0.3, random_state=2)"
   ]
  },
  {
   "cell_type": "markdown",
   "metadata": {},
   "source": [
    "### 3. Train the Model using training set"
   ]
  },
  {
   "cell_type": "code",
   "execution_count": 7,
   "metadata": {},
   "outputs": [
    {
     "data": {
      "text/plain": [
       "MLPClassifier(activation='logistic', hidden_layer_sizes=(10,), max_iter=2000,\n",
       "              random_state=2, solver='sgd')"
      ]
     },
     "execution_count": 7,
     "metadata": {},
     "output_type": "execute_result"
    }
   ],
   "source": [
    "# Create the ann model\n",
    "mlp = MLPClassifier(activation ='logistic', hidden_layer_sizes=(10,), max_iter= 2000, solver = 'sgd', random_state=2)\n",
    "# Fit the model to the training set\n",
    "mlp.fit(X_train,y_train)"
   ]
  },
  {
   "cell_type": "code",
   "execution_count": 8,
   "metadata": {
    "scrolled": true
   },
   "outputs": [
    {
     "name": "stdout",
     "output_type": "stream",
     "text": [
      "[array([[-0.2505358 , -0.33628703,  0.05272366,  0.20849291,  0.2094354 ,\n",
      "         0.16643627,  0.33259046,  0.02396207, -0.35085489, -0.03324824],\n",
      "       [-0.13245073, -0.01155271, -0.19244615,  0.24067541,  0.04409567,\n",
      "         0.4171915 ,  0.60887036, -0.07606461,  0.03980527, -0.13816403],\n",
      "       [-0.02675066, -0.2735299 , -0.04487049, -0.21648819, -0.19369626,\n",
      "         0.1059934 , -0.08150587, -0.24509721, -0.21286902, -0.08169602],\n",
      "       [-0.0865737 , -0.18244787,  0.08667177,  0.05785457,  0.02208951,\n",
      "        -0.01789683,  0.27540935,  0.04101769, -0.24500177,  0.13158615],\n",
      "       [ 0.33043232,  0.00815329,  0.2247473 , -0.14890788, -0.01727451,\n",
      "        -0.09005914, -0.10987035,  0.20028555,  0.04672185,  0.22412111],\n",
      "       [ 0.17348137, -0.23938946, -0.13745445,  0.02562272, -0.20576079,\n",
      "        -0.37960175, -0.29406736, -0.16468252,  0.36485197,  0.12687975],\n",
      "       [ 0.25129421,  0.07055158,  0.14610453, -0.28379078, -0.19181495,\n",
      "        -0.04285653, -0.1791791 , -0.24523784,  0.33622842, -0.0909819 ],\n",
      "       [ 0.04637908, -0.10823236, -0.15935437, -0.10734452,  0.15780455,\n",
      "         0.10277101, -0.10456071, -0.27790006,  0.20171643, -0.16004589],\n",
      "       [ 0.47482583, -0.25282141, -0.00780062, -0.56344414, -0.45480876,\n",
      "        -0.45205419, -0.66118509,  0.24598959,  0.54826045, -0.56229709],\n",
      "       [-0.15869261, -0.2830447 ,  0.12499894,  0.13532053, -0.17336899,\n",
      "         0.01096109,  0.22214499,  0.13172932, -0.26274873,  0.18088613],\n",
      "       [ 0.08182014, -0.24329493,  0.23783561,  0.2553735 ,  0.29101091,\n",
      "         0.13617858,  0.04622157,  0.234677  , -0.04093235, -0.03669978]]), array([[ 0.74719074],\n",
      "       [ 0.031802  ],\n",
      "       [ 0.01302651],\n",
      "       [-0.71823464],\n",
      "       [-0.65760583],\n",
      "       [-0.76633457],\n",
      "       [-1.22113032],\n",
      "       [ 0.18062341],\n",
      "       [ 0.83857559],\n",
      "       [-0.36186575]])]\n",
      "[array([-0.16626363,  0.24544485, -0.05603465,  0.0457637 ,  0.10954346,\n",
      "        0.25713671,  0.18628622, -0.18870953,  0.00878219, -0.01305239]), array([-0.04395053])]\n"
     ]
    }
   ],
   "source": [
    "# print out the model coefficients and intercept\n",
    "print(mlp.coefs_)\n",
    "print(mlp.intercepts_)"
   ]
  },
  {
   "cell_type": "code",
   "execution_count": 9,
   "metadata": {},
   "outputs": [
    {
     "name": "stdout",
     "output_type": "stream",
     "text": [
      "0.8009630818619583 (Train Accuracy)\n"
     ]
    }
   ],
   "source": [
    "# calculated the training accuracy\n",
    "print(mlp.score(X_train, y_train), '(Train Accuracy)')"
   ]
  },
  {
   "cell_type": "code",
   "execution_count": 10,
   "metadata": {},
   "outputs": [],
   "source": [
    "# Calculated the fitted values for training set\n",
    "y_fitted = mlp.predict(X_train) # returns 0 or 1\n",
    "y_fitted_prob = mlp.predict_proba(X_train)[:,0] # returns probabilities"
   ]
  },
  {
   "cell_type": "code",
   "execution_count": 11,
   "metadata": {},
   "outputs": [
    {
     "name": "stdout",
     "output_type": "stream",
     "text": [
      "[0 1 0 0 1 0 0 1 1 1 1 0 1 0 0 0 0 0 1 0 0 0 1 1 0 0 1 0 0 1 0 0 1 0 0 1 0\n",
      " 1 0 1 0 1 0 1 1 1 1 1 1 0 0 1 1 1 0 1 1 0 0 0 0 0 0 1 0 1 0 0 0 0 0 0 0 0\n",
      " 0 0 0 0 0 0 0 0 0 0 0 1 1 0 0 1 0 1 0 1 1 0 1 0 0 1 0 0 0 0 0 0 1 1 0 1 1\n",
      " 1 0 1 0 0 0 0 0 1 1 1 0 1 1 1 0 0 0 0 0 0 0 0 1 0 0 0 1 0 0 0 1 0 1 1 1 0\n",
      " 0 1 0 0 0 1 1 0 0 0 1 0 0 0 1 0 1 0 1 0 0 0 0 0 0 0 0 0 1 0 1 0 0 0 0 0 1\n",
      " 0 0 1 1 1 0 0 0 0 1 0 1 0 0 1 0 0 0 1 0 0 0 0 1 1 0 0 0 0 0 0 1 0 1 0 0 0\n",
      " 0 0 1 1 1 0 1 0 0 0 1 0 0 0 0 0 0 1 1 0 1 1 0 1 0 1 0 0 0 0 0 0 0 1 0 1 0\n",
      " 0 0 1 0 0 1 0 0 0 0 1 1 0 0 0 1 0 1 1 1 0 0 0 0 1 0 0 0 1 1 0 0 1 0 0 0 0\n",
      " 1 0 0 0 0 0 1 0 0 1 0 1 0 1 1 1 0 1 1 0 0 1 0 1 0 1 0 0 1 1 0 0 0 0 1 0 0\n",
      " 0 0 1 1 0 1 0 1 0 0 0 0 0 1 0 0 0 0 1 1 0 0 1 0 1 0 0 1 0 0 0 1 0 0 0 0 1\n",
      " 0 0 1 1 0 0 0 0 1 0 1 0 0 1 0 0 0 1 1 0 1 0 0 0 0 0 0 0 0 1 1 1 0 0 0 1 0\n",
      " 0 1 0 0 0 1 0 1 1 0 0 1 1 0 1 0 1 1 1 0 1 0 0 1 0 1 1 0 0 1 1 0 0 0 1 0 0\n",
      " 0 1 0 1 0 0 0 0 0 0 1 0 1 0 0 1 0 0 0 0 0 0 0 0 0 0 0 0 0 0 0 0 0 0 1 0 0\n",
      " 0 0 1 1 0 0 0 0 0 0 1 0 0 0 0 1 0 1 0 0 0 0 0 0 1 0 0 0 0 0 1 0 1 0 1 0 1\n",
      " 0 1 0 1 1 1 0 0 0 1 0 1 0 0 0 1 0 1 0 0 1 1 0 0 0 1 0 1 0 0 0 0 0 1 1 0 1\n",
      " 1 1 0 0 0 1 0 0 1 0 1 1 0 0 1 0 0 1 0 1 0 0 1 0 0 1 0 1 0 0 0 1 1 1 1 1 0\n",
      " 0 0 1 0 1 0 1 0 0 0 0 1 1 0 0 1 0 0 0 0 0 0 0 0 0 1 1 0 0 0 0]\n",
      "[0.83383522 0.29113726 0.84396356 0.50022739 0.27091543 0.87186626\n",
      " 0.83383522 0.4244655  0.32775536 0.43474766 0.30508444 0.57590315\n",
      " 0.29905713 0.79011577 0.87232859 0.55355947 0.87254267 0.87237715\n",
      " 0.24320438 0.83544128 0.80053262 0.82206234 0.3709702  0.32698024\n",
      " 0.87220473 0.84333823 0.22976549 0.80662339 0.86201583 0.3420115\n",
      " 0.87251945 0.84369477 0.41807691 0.8725887  0.86757783 0.23969191\n",
      " 0.87237715 0.29875348 0.84376373 0.26712024 0.76034308 0.32018987\n",
      " 0.86717307 0.40245696 0.40245696 0.43443667 0.40262268 0.30508444\n",
      " 0.42722573 0.61110271 0.87227947 0.38768462 0.30490794 0.22603726\n",
      " 0.86746308 0.49255245 0.41488017 0.63290943 0.87240122 0.57409581\n",
      " 0.50034663 0.84367153 0.80053262 0.40622988 0.86166248 0.40253247\n",
      " 0.87205147 0.83375153 0.80644844 0.83730816 0.86384326 0.84389812\n",
      " 0.8617441  0.79809943 0.5405573  0.66124837 0.7531751  0.80062662\n",
      " 0.84376373 0.84329879 0.80616407 0.74745831 0.87237715 0.54703768\n",
      " 0.63498999 0.43438397 0.29107999 0.84394188 0.78932139 0.38506081\n",
      " 0.77303287 0.42735365 0.7902413  0.32021414 0.34096726 0.501216\n",
      " 0.21771977 0.56220553 0.87244893 0.34980239 0.80068887 0.59724135\n",
      " 0.61750345 0.56524843 0.50037727 0.86771082 0.30879603 0.22049525\n",
      " 0.66112579 0.22107747 0.40245696 0.30481416 0.80918444 0.24793961\n",
      " 0.87256576 0.79272312 0.87242514 0.84374088 0.80040611 0.23031552\n",
      " 0.42356756 0.2726245  0.51619409 0.42752143 0.30339116 0.23825288\n",
      " 0.51395034 0.86757783 0.87237715 0.68112699 0.88335314 0.86201583\n",
      " 0.6341833  0.86775401 0.38786744 0.84376373 0.86757783 0.62400417\n",
      " 0.29821393 0.54914121 0.84367153 0.84378645 0.22467431 0.80043786\n",
      " 0.41644237 0.31942232 0.40245696 0.80075079 0.80034235 0.4781126\n",
      " 0.82051498 0.86753236 0.84364815 0.4163276  0.23957652 0.57409581\n",
      " 0.84371789 0.88721957 0.41641441 0.86201583 0.86201583 0.84389812\n",
      " 0.40245696 0.84367153 0.41577367 0.86201583 0.22316412 0.63267826\n",
      " 0.87237715 0.8722547  0.80071987 0.86757783 0.87237715 0.63551424\n",
      " 0.53775922 0.87244893 0.3420115  0.84376373 0.22951919 0.87237715\n",
      " 0.8674397  0.51447426 0.87247258 0.86546536 0.32029655 0.79385125\n",
      " 0.62752758 0.27752521 0.42757304 0.32014611 0.87156134 0.72503377\n",
      " 0.78991234 0.89210246 0.3093076  0.57590315 0.27389323 0.86201583\n",
      " 0.88341366 0.3885884  0.74687552 0.84376373 0.84392007 0.41641441\n",
      " 0.50076763 0.87256576 0.80050112 0.86757783 0.36606958 0.45824322\n",
      " 0.86179273 0.84320498 0.87984954 0.82210268 0.86757783 0.86201583\n",
      " 0.3502061  0.73041721 0.30456359 0.83389694 0.87237715 0.80056404\n",
      " 0.86192751 0.82754893 0.40848131 0.31928035 0.42811301 0.87237715\n",
      " 0.49280233 0.63411102 0.54368668 0.79795219 0.32163508 0.80068887\n",
      " 0.87237715 0.85155708 0.83037553 0.57590315 0.82794009 0.32006459\n",
      " 0.32693351 0.8870509  0.41657752 0.36617265 0.75365209 0.28057373\n",
      " 0.59097944 0.35140549 0.8725887  0.5401995  0.68909723 0.88358619\n",
      " 0.63506436 0.87247258 0.8726115  0.36589573 0.82915191 0.27444319\n",
      " 0.86352813 0.6343284  0.52922519 0.37740701 0.62059362 0.87202543\n",
      " 0.44525115 0.87247258 0.87227947 0.79016613 0.8722547  0.29908916\n",
      " 0.40254649 0.80071987 0.87256576 0.63558982 0.39799904 0.80087361\n",
      " 0.3052483  0.24781804 0.30464024 0.74098605 0.62614239 0.86764497\n",
      " 0.56230014 0.33609669 0.74843393 0.78981959 0.84321915 0.41921065\n",
      " 0.23951586 0.5161151  0.74919877 0.38237058 0.86201583 0.84385385\n",
      " 0.79838609 0.80059537 0.34271082 0.76855959 0.83854242 0.87251945\n",
      " 0.80090411 0.87251945 0.39880261 0.84400654 0.84392007 0.22048412\n",
      " 0.79299675 0.41648558 0.84387605 0.26994492 0.31621251 0.41570279\n",
      " 0.83548544 0.37049153 0.41647415 0.56281124 0.57281604 0.43346239\n",
      " 0.63311771 0.24325907 0.79208803 0.22976549 0.86741618 0.86201583\n",
      " 0.46544158 0.22995898 0.87242514 0.83854242 0.62679214 0.80075079\n",
      " 0.37076787 0.57345032 0.84523843 0.86201583 0.51395034 0.40245696\n",
      " 0.40245696 0.82752534 0.40243506 0.87249608 0.20651711 0.83383522\n",
      " 0.87237715 0.50073318 0.87217954 0.55594346 0.28824951 0.86201583\n",
      " 0.80090411 0.84396356 0.76048307 0.24314163 0.40245696 0.79003985\n",
      " 0.86757783 0.41577367 0.87247258 0.40259098 0.86757783 0.79934547\n",
      " 0.28302979 0.82291257 0.84402784 0.75285536 0.41369237 0.87251945\n",
      " 0.84338237 0.62591194 0.87247258 0.22947141 0.85729356 0.65320678\n",
      " 0.43429126 0.39466103 0.84400654 0.87254267 0.69068997 0.52896981\n",
      " 0.38773473 0.88679193 0.27413632 0.56249057 0.87237715 0.32690498\n",
      " 0.83379357 0.87254267 0.87235294 0.40262268 0.30866513 0.88360193\n",
      " 0.40245696 0.80644844 0.73662141 0.56390587 0.79982015 0.84376373\n",
      " 0.67934346 0.69068997 0.83366625 0.40245696 0.45836501 0.43386516\n",
      " 0.67934346 0.79389754 0.86201583 0.42934666 0.87237715 0.78981959\n",
      " 0.40257574 0.57281604 0.64072825 0.84402784 0.41921065 0.84343187\n",
      " 0.32016719 0.42752143 0.8278699  0.84323916 0.36601291 0.34315655\n",
      " 0.84392007 0.40623787 0.83527653 0.24289669 0.28172505 0.31860718\n",
      " 0.88635632 0.40245696 0.86757783 0.57428228 0.32026748 0.86757783\n",
      " 0.27758904 0.41531986 0.84376373 0.84376373 0.48845876 0.27775484\n",
      " 0.8349223  0.86201583 0.63558982 0.24472505 0.50134341 0.87237715\n",
      " 0.86216498 0.46874356 0.78110573 0.31940197 0.80096486 0.7812\n",
      " 0.62691279 0.74378956 0.80090411 0.71194123 0.27957414 0.55469331\n",
      " 0.48214872 0.87240122 0.80065779 0.48948669 0.54377785 0.78932139\n",
      " 0.72523381 0.76055285 0.82785254 0.8620806  0.7570049  0.84323071\n",
      " 0.86757783 0.79011577 0.87237715 0.6613662  0.87251945 0.87220473\n",
      " 0.87254267 0.82051498 0.82051498 0.86768901 0.49314723 0.62155779\n",
      " 0.62637595 0.80053262 0.62418426 0.26972691 0.21064374 0.90876036\n",
      " 0.80059537 0.82923466 0.80059537 0.82306427 0.67885245 0.23169232\n",
      " 0.88638481 0.86201583 0.84402784 0.8864696  0.22345018 0.86775401\n",
      " 0.22468258 0.68971542 0.87178479 0.69044755 0.65936526 0.86757783\n",
      " 0.84362464 0.38841851 0.79805999 0.85152353 0.79982015 0.87150407\n",
      " 0.83523625 0.25905403 0.88627015 0.28755159 0.86729642 0.32029655\n",
      " 0.84350514 0.46989402 0.50005909 0.22962003 0.62649389 0.4363026\n",
      " 0.30859426 0.22987794 0.51395034 0.76094798 0.70185206 0.22990972\n",
      " 0.84374088 0.35517313 0.90876036 0.70002287 0.87244893 0.32041087\n",
      " 0.55469331 0.35271643 0.80214293 0.84362464 0.41646313 0.42765353\n",
      " 0.66823727 0.80024608 0.84402784 0.21996342 0.84389812 0.31590956\n",
      " 0.80644844 0.80040611 0.68876422 0.5601751  0.63167282 0.27961828\n",
      " 0.36617265 0.87265669 0.29798398 0.40245696 0.22614608 0.87249608\n",
      " 0.80644844 0.84380905 0.19922829 0.8870047  0.84398512 0.21855417\n",
      " 0.87244893 0.37724119 0.37383559 0.62568462 0.87237715 0.41652244\n",
      " 0.87207736 0.79844631 0.30075924 0.74897681 0.49224637 0.82786678\n",
      " 0.80087361 0.36605026 0.87189314 0.79505688 0.29875348 0.84376373\n",
      " 0.28948578 0.57590315 0.84376373 0.8725887  0.24484001 0.326906\n",
      " 0.22955202 0.43484223 0.4191854  0.79948279 0.68865388 0.54988063\n",
      " 0.40245696 0.87254267 0.38726079 0.55721628 0.22923352 0.54261508\n",
      " 0.8723041  0.87242514 0.55481905 0.3662169  0.23006324 0.87251945\n",
      " 0.6613662  0.40245696 0.84394188 0.61691677 0.69074801 0.87263417\n",
      " 0.83854242 0.74866689 0.83313097 0.84507508 0.83854242 0.26983122\n",
      " 0.36601291 0.83742836 0.61614627 0.57590315 0.69068997]\n"
     ]
    }
   ],
   "source": [
    "print(y_fitted)\n",
    "print(y_fitted_prob)"
   ]
  },
  {
   "cell_type": "markdown",
   "metadata": {},
   "source": [
    "### 4. Evaluate the Model using testing set"
   ]
  },
  {
   "cell_type": "code",
   "execution_count": 12,
   "metadata": {},
   "outputs": [
    {
     "name": "stdout",
     "output_type": "stream",
     "text": [
      "0.7649253731343284 (Test Accuracy)\n"
     ]
    }
   ],
   "source": [
    "# calculated the testing accuracy\n",
    "print(mlp.score(X_test, y_test), '(Test Accuracy)')"
   ]
  },
  {
   "cell_type": "markdown",
   "metadata": {},
   "source": [
    "### 5. Exercise: Improve the Model\n",
    "Improve the model performance of MLPClassifier() by adjusting the below listed hyperparameters.\n",
    "\n",
    "* activation\n",
    "* hidden_layer_sizes\n",
    "* max_iter\n",
    "* solver\n",
    "\n",
    "You are encouraged to use `GridSearchCV` you learned in Practical 4 to find the best values for the above mentioned hyperparameters. "
   ]
  },
  {
   "cell_type": "code",
   "execution_count": 15,
   "metadata": {},
   "outputs": [
    {
     "name": "stdout",
     "output_type": "stream",
     "text": [
      "0.8280337941628264\n",
      "{'activation': 'relu', 'hidden_layer_sizes': (20,), 'max_iter': 2000, 'solver': 'adam'}\n"
     ]
    }
   ],
   "source": [
    "# Task 1: Use GridSearch to find the best combination of model hyperparameters\n",
    "\n",
    "# Creation of the ann model\n",
    "mlp = MLPClassifier(hidden_layer_sizes=(10,), max_iter= 2000, solver = 'sgd', random_state=2)\n",
    "\n",
    "param_grid = { \"activation\" : [\"logistic\", \"relu\"],\n",
    "             \"hidden_layer_sizes\" : [(5,), (10,), (20,)],\n",
    "              \"max_iter\" : [200, 2000, 4000],\n",
    "              \"solver\" : [\"sgd\", \"adam\"]\n",
    "             }\n",
    "\n",
    "gridsearch = GridSearchCV(mlp, param_grid=param_grid, scoring='accuracy', cv= 10, n_jobs=-1)\n",
    "#CV is the num of partition for cross validation\n",
    "#n_jobs is the num of jobs to run in parallel, -1 means using all processors\n",
    "\n",
    "gridsearch = gridsearch.fit(X_train, y_train)\n",
    "\n",
    "print(gridsearch.best_score_)\n",
    "print(gridsearch.best_params_)"
   ]
  },
  {
   "cell_type": "code",
   "execution_count": 17,
   "metadata": {},
   "outputs": [
    {
     "data": {
      "text/plain": [
       "MLPClassifier(hidden_layer_sizes=(20,), max_iter=2000, random_state=2)"
      ]
     },
     "execution_count": 17,
     "metadata": {},
     "output_type": "execute_result"
    }
   ],
   "source": [
    "# Task 2: Build the model using the above suggested hyperparameter values\n",
    "\n",
    "mlp_best_case = MLPClassifier(activation ='relu', hidden_layer_sizes=(20,), max_iter= 2000, solver = 'adam', random_state=2)\n",
    "mlp_best_case.fit(X_train,y_train)"
   ]
  },
  {
   "cell_type": "code",
   "execution_count": 18,
   "metadata": {},
   "outputs": [
    {
     "name": "stdout",
     "output_type": "stream",
     "text": [
      "0.841091492776886 (Train Accuracy)\n",
      "0.7835820895522388 (Test Accuracy)\n"
     ]
    }
   ],
   "source": [
    "# Task 3: Evaluate the model: train acc & test acc\n",
    "print(mlp_best_case.score(X_train, y_train), '(Train Accuracy)')\n",
    "print(mlp_best_case.score(X_test, y_test), '(Test Accuracy)')"
   ]
  },
  {
   "cell_type": "markdown",
   "metadata": {},
   "source": [
    "# Task 4: Comments\n",
    "\n",
    "With the use of gridsearch, we managed to find the parameter and conditions that produced the best scores for the model which saves a lot of time in terms of manually finding out which conditions produced the best score. It just improves the overall ease of use while still producing fairly accurate models."
   ]
  },
  {
   "cell_type": "markdown",
   "metadata": {},
   "source": [
    "### 6. Related Online Resource\n",
    "You may find below YouTube video useful for you to understand and further explore on `MLPClassifier()`.\n",
    "\n",
    "If you have difficulty to watch the video in Jupyter Notebook, please click [here](https://youtu.be/X8SPO875mQY)."
   ]
  },
  {
   "cell_type": "code",
   "execution_count": null,
   "metadata": {},
   "outputs": [],
   "source": [
    "from IPython.display import YouTubeVideo\n",
    "YouTubeVideo('X8SPO875mQY')"
   ]
  }
 ],
 "metadata": {
  "kernelspec": {
   "display_name": "Python 3 (ipykernel)",
   "language": "python",
   "name": "python3"
  },
  "language_info": {
   "codemirror_mode": {
    "name": "ipython",
    "version": 3
   },
   "file_extension": ".py",
   "mimetype": "text/x-python",
   "name": "python",
   "nbconvert_exporter": "python",
   "pygments_lexer": "ipython3",
   "version": "3.9.7"
  }
 },
 "nbformat": 4,
 "nbformat_minor": 2
}
