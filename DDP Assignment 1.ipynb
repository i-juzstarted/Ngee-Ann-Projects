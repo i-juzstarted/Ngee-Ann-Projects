{
 "cells": [
  {
   "cell_type": "markdown",
   "metadata": {},
   "source": [
    "<table class=\"table table-bordered\">\n",
    "    <tr>\n",
    "        <th style=\"width:250px\"><img src='https://www.np.edu.sg/images/default-source/default-album/img-logo.png?sfvrsn=764583a6_0' style=\"width: 100%; height: 125px; \"></th>\n",
    "        <th style=\"text-align:center;\"><h1>Distributed Data Pipelines</h1><h2>Assignment 1 </h2><h3>Diploma in Data Science</h3></th>\n",
    "    </tr>\n",
    "</table>"
   ]
  },
  {
   "cell_type": "markdown",
   "metadata": {},
   "source": [
    "Learning Objectives:\n",
    "- Design PySpark Based Machine Learning\n",
    "- Execute PySpark Syntax Correctly\n",
    "- Evaluate and Select Final Model based on Metrics"
   ]
  },
  {
   "cell_type": "markdown",
   "metadata": {},
   "source": [
    "You will be **graded on the use of PySpark**, so usage of **Pandas itself should be avoided as much as possible**, especially if a particular native method or function is already available in PySpark. **Penalties will be imposed in such cases.**"
   ]
  },
  {
   "cell_type": "markdown",
   "metadata": {},
   "source": [
    "<h2> Code </h2> <a id=\"top\"></a>\n",
    "\n",
    "[Go to Report](#report)"
   ]
  },
  {
   "cell_type": "code",
   "execution_count": 1,
   "metadata": {},
   "outputs": [],
   "source": [
    "# import the packages\n",
    "from pyspark.sql import SparkSession\n",
    "from pyspark.sql import Row\n",
    "\n",
    "#Used to Count Null Values\n",
    "from pyspark.sql.functions import col, isnan, when, count\n",
    "\n",
    "#Used to handle null values\n",
    "from pyspark.ml.feature import Imputer\n",
    "\n",
    "#One Hot Encoding (PySpark)\n",
    "from pyspark.ml import Pipeline\n",
    "from pyspark.ml.feature import OneHotEncoder, StringIndexer\n",
    "\n",
    "#Vector Assembler\n",
    "from pyspark.ml.feature import VectorAssembler\n",
    "\n",
    "#Standard Scalar\n",
    "from pyspark.ml.feature import StandardScaler\n",
    "\n",
    "#Linear Regression\n",
    "from pyspark.ml.regression import LinearRegression"
   ]
  },
  {
   "cell_type": "markdown",
   "metadata": {},
   "source": [
    "### Step 1: Problem Statement Formulation"
   ]
  },
  {
   "cell_type": "markdown",
   "metadata": {},
   "source": [
    "#### Step 1.1: Load the data from CSV File & Creating a copy of the data"
   ]
  },
  {
   "cell_type": "code",
   "execution_count": 2,
   "metadata": {},
   "outputs": [],
   "source": [
    "# load and explore data\n",
    "spark=SparkSession.builder.appName('DDP_Assignment 1').getOrCreate()\n",
    "df=spark.read.csv('./data/sg_flat_prices_mod.csv', header=True, inferSchema=True)\n",
    "\n",
    "#Creating a copy of the CSV for best practice\n",
    "df_copy=spark.read.csv('./data/sg_flat_prices_mod.csv', header=True, inferSchema=True) "
   ]
  },
  {
   "cell_type": "markdown",
   "metadata": {},
   "source": [
    "#### Step 1.2: Data Exploration and Understanding"
   ]
  },
  {
   "cell_type": "code",
   "execution_count": 3,
   "metadata": {},
   "outputs": [
    {
     "data": {
      "text/plain": [
       "[('year', 'int'),\n",
       " ('month', 'int'),\n",
       " ('town', 'string'),\n",
       " ('flat_type', 'string'),\n",
       " ('block', 'string'),\n",
       " ('street_name', 'string'),\n",
       " ('storey_range', 'string'),\n",
       " ('floor_area_sqm', 'double'),\n",
       " ('flat_model', 'string'),\n",
       " ('lease_commence_date', 'int'),\n",
       " ('remaining_lease', 'int'),\n",
       " ('resale_price', 'double')]"
      ]
     },
     "execution_count": 3,
     "metadata": {},
     "output_type": "execute_result"
    }
   ],
   "source": [
    "#Finding out the columns and its data types\n",
    "df.dtypes"
   ]
  },
  {
   "cell_type": "code",
   "execution_count": 4,
   "metadata": {},
   "outputs": [
    {
     "data": {
      "text/html": [
       "<table border='1'>\n",
       "<tr><th>year</th><th>month</th><th>town</th><th>flat_type</th><th>block</th><th>street_name</th><th>storey_range</th><th>floor_area_sqm</th><th>flat_model</th><th>lease_commence_date</th><th>remaining_lease</th><th>resale_price</th></tr>\n",
       "<tr><td>2017</td><td>1</td><td>ANG MO KIO</td><td>2 ROOM</td><td>406</td><td>ANG MO KIO AVE 10</td><td>10 TO 12</td><td>44.0</td><td>Improved</td><td>1979</td><td>736</td><td>232000.0</td></tr>\n",
       "<tr><td>2017</td><td>1</td><td>ANG MO KIO</td><td>3 ROOM</td><td>108</td><td>ANG MO KIO AVE 4</td><td>01 TO 03</td><td>67.0</td><td>New Generation</td><td>1978</td><td>727</td><td>250000.0</td></tr>\n",
       "<tr><td>2017</td><td>1</td><td>ANG MO KIO</td><td>3 ROOM</td><td>602</td><td>ANG MO KIO AVE 5</td><td>01 TO 03</td><td>67.0</td><td>New Generation</td><td>1980</td><td>749</td><td>262000.0</td></tr>\n",
       "<tr><td>2017</td><td>1</td><td>ANG MO KIO</td><td>3 ROOM</td><td>465</td><td>ANG MO KIO AVE 10</td><td>04 TO 06</td><td>68.0</td><td>New Generation</td><td>1980</td><td>745</td><td>265000.0</td></tr>\n",
       "<tr><td>2017</td><td>1</td><td>ANG MO KIO</td><td>3 ROOM</td><td>601</td><td>ANG MO KIO AVE 5</td><td>01 TO 03</td><td>67.0</td><td>New Generation</td><td>1980</td><td>749</td><td>265000.0</td></tr>\n",
       "<tr><td>2017</td><td>1</td><td>ANG MO KIO</td><td>3 ROOM</td><td>150</td><td>ANG MO KIO AVE 5</td><td>01 TO 03</td><td>68.0</td><td>New Generation</td><td>1981</td><td>756</td><td>275000.0</td></tr>\n",
       "<tr><td>2017</td><td>1</td><td>ANG MO KIO</td><td>3 ROOM</td><td>447</td><td>ANG MO KIO AVE 10</td><td>04 TO 06</td><td>68.0</td><td>New Generation</td><td>1979</td><td>738</td><td>280000.0</td></tr>\n",
       "<tr><td>2017</td><td>1</td><td>ANG MO KIO</td><td>3 ROOM</td><td>218</td><td>ANG MO KIO AVE 1</td><td>04 TO 06</td><td>67.0</td><td>New Generation</td><td>1976</td><td>700</td><td>285000.0</td></tr>\n",
       "<tr><td>2017</td><td>1</td><td>ANG MO KIO</td><td>3 ROOM</td><td>447</td><td>ANG MO KIO AVE 10</td><td>04 TO 06</td><td>68.0</td><td>New Generation</td><td>1979</td><td>738</td><td>285000.0</td></tr>\n",
       "<tr><td>2017</td><td>1</td><td>ANG MO KIO</td><td>3 ROOM</td><td>571</td><td>ANG MO KIO AVE 3</td><td>01 TO 03</td><td>67.0</td><td>New Generation</td><td>1979</td><td>736</td><td>285000.0</td></tr>\n",
       "<tr><td>2017</td><td>1</td><td>ANG MO KIO</td><td>3 ROOM</td><td>534</td><td>ANG MO KIO AVE 10</td><td>01 TO 03</td><td>68.0</td><td>New Generation</td><td>1980</td><td>745</td><td>288500.0</td></tr>\n",
       "<tr><td>2017</td><td>1</td><td>ANG MO KIO</td><td>3 ROOM</td><td>233</td><td>ANG MO KIO AVE 3</td><td>10 TO 12</td><td>67.0</td><td>New Generation</td><td>1977</td><td>716</td><td>295000.0</td></tr>\n",
       "<tr><td>2017</td><td>1</td><td>ANG MO KIO</td><td>3 ROOM</td><td>235</td><td>ANG MO KIO AVE 3</td><td>04 TO 06</td><td>67.0</td><td>New Generation</td><td>1977</td><td>716</td><td>295000.0</td></tr>\n",
       "<tr><td>2017</td><td>1</td><td>ANG MO KIO</td><td>3 ROOM</td><td>219</td><td>ANG MO KIO AVE 1</td><td>07 TO 09</td><td>67.0</td><td>New Generation</td><td>1977</td><td>714</td><td>297000.0</td></tr>\n",
       "<tr><td>2017</td><td>1</td><td>ANG MO KIO</td><td>3 ROOM</td><td>536</td><td>ANG MO KIO AVE 10</td><td>07 TO 09</td><td>68.0</td><td>New Generation</td><td>1980</td><td>745</td><td>298000.0</td></tr>\n",
       "<tr><td>2017</td><td>1</td><td>ANG MO KIO</td><td>3 ROOM</td><td>230</td><td>ANG MO KIO AVE 3</td><td>04 TO 06</td><td>67.0</td><td>New Generation</td><td>1978</td><td>720</td><td>298000.0</td></tr>\n",
       "<tr><td>2017</td><td>1</td><td>ANG MO KIO</td><td>3 ROOM</td><td>570</td><td>ANG MO KIO AVE 3</td><td>10 TO 12</td><td>67.0</td><td>New Generation</td><td>1979</td><td>736</td><td>300000.0</td></tr>\n",
       "<tr><td>2017</td><td>1</td><td>ANG MO KIO</td><td>3 ROOM</td><td>624</td><td>ANG MO KIO AVE 4</td><td>04 TO 06</td><td>68.0</td><td>New Generation</td><td>1980</td><td>752</td><td>301000.0</td></tr>\n",
       "<tr><td>2017</td><td>1</td><td>ANG MO KIO</td><td>3 ROOM</td><td>441</td><td>ANG MO KIO AVE 10</td><td>07 TO 09</td><td>67.0</td><td>New Generation</td><td>1979</td><td>732</td><td>306000.0</td></tr>\n",
       "<tr><td>2017</td><td>1</td><td>ANG MO KIO</td><td>3 ROOM</td><td>625</td><td>ANG MO KIO AVE 9</td><td>04 TO 06</td><td>68.0</td><td>New Generation</td><td>1980</td><td>752</td><td>312000.0</td></tr>\n",
       "</table>\n",
       "only showing top 20 rows\n"
      ],
      "text/plain": [
       "+----+-----+----------+---------+-----+-----------------+------------+--------------+--------------+-------------------+---------------+------------+\n",
       "|year|month|      town|flat_type|block|      street_name|storey_range|floor_area_sqm|    flat_model|lease_commence_date|remaining_lease|resale_price|\n",
       "+----+-----+----------+---------+-----+-----------------+------------+--------------+--------------+-------------------+---------------+------------+\n",
       "|2017|    1|ANG MO KIO|   2 ROOM|  406|ANG MO KIO AVE 10|    10 TO 12|          44.0|      Improved|               1979|            736|    232000.0|\n",
       "|2017|    1|ANG MO KIO|   3 ROOM|  108| ANG MO KIO AVE 4|    01 TO 03|          67.0|New Generation|               1978|            727|    250000.0|\n",
       "|2017|    1|ANG MO KIO|   3 ROOM|  602| ANG MO KIO AVE 5|    01 TO 03|          67.0|New Generation|               1980|            749|    262000.0|\n",
       "|2017|    1|ANG MO KIO|   3 ROOM|  465|ANG MO KIO AVE 10|    04 TO 06|          68.0|New Generation|               1980|            745|    265000.0|\n",
       "|2017|    1|ANG MO KIO|   3 ROOM|  601| ANG MO KIO AVE 5|    01 TO 03|          67.0|New Generation|               1980|            749|    265000.0|\n",
       "|2017|    1|ANG MO KIO|   3 ROOM|  150| ANG MO KIO AVE 5|    01 TO 03|          68.0|New Generation|               1981|            756|    275000.0|\n",
       "|2017|    1|ANG MO KIO|   3 ROOM|  447|ANG MO KIO AVE 10|    04 TO 06|          68.0|New Generation|               1979|            738|    280000.0|\n",
       "|2017|    1|ANG MO KIO|   3 ROOM|  218| ANG MO KIO AVE 1|    04 TO 06|          67.0|New Generation|               1976|            700|    285000.0|\n",
       "|2017|    1|ANG MO KIO|   3 ROOM|  447|ANG MO KIO AVE 10|    04 TO 06|          68.0|New Generation|               1979|            738|    285000.0|\n",
       "|2017|    1|ANG MO KIO|   3 ROOM|  571| ANG MO KIO AVE 3|    01 TO 03|          67.0|New Generation|               1979|            736|    285000.0|\n",
       "|2017|    1|ANG MO KIO|   3 ROOM|  534|ANG MO KIO AVE 10|    01 TO 03|          68.0|New Generation|               1980|            745|    288500.0|\n",
       "|2017|    1|ANG MO KIO|   3 ROOM|  233| ANG MO KIO AVE 3|    10 TO 12|          67.0|New Generation|               1977|            716|    295000.0|\n",
       "|2017|    1|ANG MO KIO|   3 ROOM|  235| ANG MO KIO AVE 3|    04 TO 06|          67.0|New Generation|               1977|            716|    295000.0|\n",
       "|2017|    1|ANG MO KIO|   3 ROOM|  219| ANG MO KIO AVE 1|    07 TO 09|          67.0|New Generation|               1977|            714|    297000.0|\n",
       "|2017|    1|ANG MO KIO|   3 ROOM|  536|ANG MO KIO AVE 10|    07 TO 09|          68.0|New Generation|               1980|            745|    298000.0|\n",
       "|2017|    1|ANG MO KIO|   3 ROOM|  230| ANG MO KIO AVE 3|    04 TO 06|          67.0|New Generation|               1978|            720|    298000.0|\n",
       "|2017|    1|ANG MO KIO|   3 ROOM|  570| ANG MO KIO AVE 3|    10 TO 12|          67.0|New Generation|               1979|            736|    300000.0|\n",
       "|2017|    1|ANG MO KIO|   3 ROOM|  624| ANG MO KIO AVE 4|    04 TO 06|          68.0|New Generation|               1980|            752|    301000.0|\n",
       "|2017|    1|ANG MO KIO|   3 ROOM|  441|ANG MO KIO AVE 10|    07 TO 09|          67.0|New Generation|               1979|            732|    306000.0|\n",
       "|2017|    1|ANG MO KIO|   3 ROOM|  625| ANG MO KIO AVE 9|    04 TO 06|          68.0|New Generation|               1980|            752|    312000.0|\n",
       "+----+-----+----------+---------+-----+-----------------+------------+--------------+--------------+-------------------+---------------+------------+\n",
       "only showing top 20 rows"
      ]
     },
     "execution_count": 4,
     "metadata": {},
     "output_type": "execute_result"
    }
   ],
   "source": [
    "#Establishing the data is a recognisable format for the ease of viewing\n",
    "spark.conf.set('spark.sql.repl.eagerEval.enabled', True)\n",
    "df"
   ]
  },
  {
   "cell_type": "code",
   "execution_count": 5,
   "metadata": {},
   "outputs": [
    {
     "name": "stdout",
     "output_type": "stream",
     "text": [
      "-RECORD 0--------------------------------\n",
      " year                | 2017              \n",
      " month               | 1                 \n",
      " town                | ANG MO KIO        \n",
      " flat_type           | 2 ROOM            \n",
      " block               | 406               \n",
      " street_name         | ANG MO KIO AVE 10 \n",
      " storey_range        | 10 TO 12          \n",
      " floor_area_sqm      | 44.0              \n",
      " flat_model          | Improved          \n",
      " lease_commence_date | 1979              \n",
      " remaining_lease     | 736               \n",
      " resale_price        | 232000.0          \n",
      "only showing top 1 row\n",
      "\n"
     ]
    }
   ],
   "source": [
    "#Example of one row of data with its column\n",
    "df.show(1, vertical=True)"
   ]
  },
  {
   "cell_type": "code",
   "execution_count": 6,
   "metadata": {},
   "outputs": [
    {
     "name": "stdout",
     "output_type": "stream",
     "text": [
      "root\n",
      " |-- year: integer (nullable = true)\n",
      " |-- month: integer (nullable = true)\n",
      " |-- town: string (nullable = true)\n",
      " |-- flat_type: string (nullable = true)\n",
      " |-- block: string (nullable = true)\n",
      " |-- street_name: string (nullable = true)\n",
      " |-- storey_range: string (nullable = true)\n",
      " |-- floor_area_sqm: double (nullable = true)\n",
      " |-- flat_model: string (nullable = true)\n",
      " |-- lease_commence_date: integer (nullable = true)\n",
      " |-- remaining_lease: integer (nullable = true)\n",
      " |-- resale_price: double (nullable = true)\n",
      "\n"
     ]
    }
   ],
   "source": [
    "#All variables can have the potential of having null values\n",
    "df.printSchema()"
   ]
  },
  {
   "cell_type": "code",
   "execution_count": 7,
   "metadata": {},
   "outputs": [
    {
     "data": {
      "text/plain": [
       "pyspark.sql.dataframe.DataFrame"
      ]
     },
     "execution_count": 7,
     "metadata": {},
     "output_type": "execute_result"
    }
   ],
   "source": [
    "type(df)"
   ]
  },
  {
   "cell_type": "code",
   "execution_count": 8,
   "metadata": {},
   "outputs": [
    {
     "name": "stdout",
     "output_type": "stream",
     "text": [
      "+-------+------------------+------------------+-----------------+\n",
      "|summary|              year|             month|   floor_area_sqm|\n",
      "+-------+------------------+------------------+-----------------+\n",
      "|  count|             64247|             64247|            64197|\n",
      "|   mean|2018.0262424704656| 6.779133656046197|97.77009984890256|\n",
      "| stddev|0.8146939469668695|3.2635673352950514|24.26994610142912|\n",
      "|    min|              2017|                 1|             31.0|\n",
      "|    max|              2019|                12|            249.0|\n",
      "+-------+------------------+------------------+-----------------+\n",
      "\n"
     ]
    }
   ],
   "source": [
    "df.select('year', 'month', 'floor_area_sqm').describe().show()"
   ]
  },
  {
   "cell_type": "code",
   "execution_count": 9,
   "metadata": {},
   "outputs": [
    {
     "name": "stdout",
     "output_type": "stream",
     "text": [
      "+-------+-------------------+------------------+------------------+\n",
      "|summary|lease_commence_date|   remaining_lease|      resale_price|\n",
      "+-------+-------------------+------------------+------------------+\n",
      "|  count|              64247|             64247|             64247|\n",
      "|   mean| 1993.6012420813422| 894.6413840334957|438943.70469516085|\n",
      "| stddev| 12.465629502278013|149.62669792791093|153760.65294972394|\n",
      "|    min|               1966|               553|          150000.0|\n",
      "|    max|               2016|              1160|         1205000.0|\n",
      "+-------+-------------------+------------------+------------------+\n",
      "\n"
     ]
    }
   ],
   "source": [
    "df.select('lease_commence_date', 'remaining_lease', 'resale_price').describe().show()"
   ]
  },
  {
   "cell_type": "markdown",
   "metadata": {},
   "source": [
    "#### Trying to understand the context of the dataset"
   ]
  },
  {
   "cell_type": "code",
   "execution_count": 10,
   "metadata": {},
   "outputs": [
    {
     "data": {
      "text/plain": [
       "[Row(year=2018), Row(year=2019), Row(year=2017)]"
      ]
     },
     "execution_count": 10,
     "metadata": {},
     "output_type": "execute_result"
    }
   ],
   "source": [
    "df.select('year').distinct().collect()"
   ]
  },
  {
   "cell_type": "code",
   "execution_count": 11,
   "metadata": {},
   "outputs": [
    {
     "data": {
      "text/plain": [
       "[Row(town='QUEENSTOWN'),\n",
       " Row(town='BEDOK'),\n",
       " Row(town='CLEMENTI'),\n",
       " Row(town='SERANGOON'),\n",
       " Row(town='BUKIT PANJANG'),\n",
       " Row(town='BUKIT TIMAH'),\n",
       " Row(town='YISHUN'),\n",
       " Row(town='GEYLANG'),\n",
       " Row(town='WOODLANDS'),\n",
       " Row(town='BUKIT MERAH'),\n",
       " Row(town='TOA PAYOH'),\n",
       " Row(town='BISHAN'),\n",
       " Row(town='PUNGGOL'),\n",
       " Row(town='HOUGANG'),\n",
       " Row(town='ANG MO KIO'),\n",
       " Row(town='PASIR RIS'),\n",
       " Row(town='SENGKANG'),\n",
       " Row(town='KALLANG/WHAMPOA'),\n",
       " Row(town='BUKIT BATOK'),\n",
       " Row(town='TAMPINES'),\n",
       " Row(town='JURONG WEST'),\n",
       " Row(town='JURONG EAST'),\n",
       " Row(town='MARINE PARADE'),\n",
       " Row(town='CENTRAL AREA'),\n",
       " Row(town='SEMBAWANG'),\n",
       " Row(town='CHOA CHU KANG')]"
      ]
     },
     "execution_count": 11,
     "metadata": {},
     "output_type": "execute_result"
    }
   ],
   "source": [
    "df.select('town').distinct().collect()"
   ]
  },
  {
   "cell_type": "code",
   "execution_count": 12,
   "metadata": {},
   "outputs": [
    {
     "data": {
      "text/plain": [
       "[Row(flat_type='3 ROOM'),\n",
       " Row(flat_type='1 ROOM'),\n",
       " Row(flat_type='4 ROOM'),\n",
       " Row(flat_type='2 ROOM'),\n",
       " Row(flat_type='EXECUTIVE'),\n",
       " Row(flat_type='5 ROOM'),\n",
       " Row(flat_type='MULTI-GENERATION')]"
      ]
     },
     "execution_count": 12,
     "metadata": {},
     "output_type": "execute_result"
    }
   ],
   "source": [
    "df.select('flat_type').distinct().collect()"
   ]
  },
  {
   "cell_type": "code",
   "execution_count": 13,
   "metadata": {},
   "outputs": [
    {
     "data": {
      "text/plain": [
       "[Row(flat_model='Apartment'),\n",
       " Row(flat_model='Premium Maisonette'),\n",
       " Row(flat_model='Improved'),\n",
       " Row(flat_model='Type S2'),\n",
       " Row(flat_model='New Generation'),\n",
       " Row(flat_model='Improved-Maisonette'),\n",
       " Row(flat_model='Model A-Maisonette'),\n",
       " Row(flat_model='Maisonette'),\n",
       " Row(flat_model='Multi Generation'),\n",
       " Row(flat_model='Model A'),\n",
       " Row(flat_model='DBSS'),\n",
       " Row(flat_model='Simplified'),\n",
       " Row(flat_model='Terrace'),\n",
       " Row(flat_model='Adjoined flat'),\n",
       " Row(flat_model='Type S1'),\n",
       " Row(flat_model='Standard'),\n",
       " Row(flat_model='Premium Apartment'),\n",
       " Row(flat_model='Model A2'),\n",
       " Row(flat_model='Premium Apartment Loft')]"
      ]
     },
     "execution_count": 13,
     "metadata": {},
     "output_type": "execute_result"
    }
   ],
   "source": [
    "df.select('flat_model').distinct().collect()"
   ]
  },
  {
   "cell_type": "code",
   "execution_count": 14,
   "metadata": {},
   "outputs": [
    {
     "data": {
      "text/plain": [
       "[Row(lease_commence_date=1990),\n",
       " Row(lease_commence_date=1975),\n",
       " Row(lease_commence_date=1977),\n",
       " Row(lease_commence_date=2003),\n",
       " Row(lease_commence_date=2007),\n",
       " Row(lease_commence_date=1974),\n",
       " Row(lease_commence_date=2015),\n",
       " Row(lease_commence_date=2006),\n",
       " Row(lease_commence_date=1978),\n",
       " Row(lease_commence_date=2013),\n",
       " Row(lease_commence_date=1988),\n",
       " Row(lease_commence_date=1997),\n",
       " Row(lease_commence_date=1994),\n",
       " Row(lease_commence_date=1968),\n",
       " Row(lease_commence_date=2014),\n",
       " Row(lease_commence_date=1973),\n",
       " Row(lease_commence_date=1979),\n",
       " Row(lease_commence_date=1971),\n",
       " Row(lease_commence_date=1966),\n",
       " Row(lease_commence_date=2004),\n",
       " Row(lease_commence_date=1991),\n",
       " Row(lease_commence_date=1967),\n",
       " Row(lease_commence_date=1969),\n",
       " Row(lease_commence_date=1982),\n",
       " Row(lease_commence_date=1996),\n",
       " Row(lease_commence_date=1989),\n",
       " Row(lease_commence_date=1998),\n",
       " Row(lease_commence_date=1985),\n",
       " Row(lease_commence_date=1970),\n",
       " Row(lease_commence_date=2012),\n",
       " Row(lease_commence_date=1987),\n",
       " Row(lease_commence_date=2009),\n",
       " Row(lease_commence_date=2016),\n",
       " Row(lease_commence_date=1995),\n",
       " Row(lease_commence_date=1980),\n",
       " Row(lease_commence_date=2001),\n",
       " Row(lease_commence_date=1972),\n",
       " Row(lease_commence_date=1992),\n",
       " Row(lease_commence_date=1983),\n",
       " Row(lease_commence_date=2005),\n",
       " Row(lease_commence_date=1984),\n",
       " Row(lease_commence_date=2000),\n",
       " Row(lease_commence_date=1981),\n",
       " Row(lease_commence_date=2010),\n",
       " Row(lease_commence_date=1986),\n",
       " Row(lease_commence_date=2011),\n",
       " Row(lease_commence_date=1976),\n",
       " Row(lease_commence_date=2008),\n",
       " Row(lease_commence_date=1999),\n",
       " Row(lease_commence_date=2002),\n",
       " Row(lease_commence_date=1993)]"
      ]
     },
     "execution_count": 14,
     "metadata": {},
     "output_type": "execute_result"
    }
   ],
   "source": [
    "df.select('lease_commence_date').distinct().collect()"
   ]
  },
  {
   "cell_type": "code",
   "execution_count": 15,
   "metadata": {},
   "outputs": [
    {
     "data": {
      "text/plain": [
       "[Row(town='QUEENSTOWN'),\n",
       " Row(town='BEDOK'),\n",
       " Row(town='CLEMENTI'),\n",
       " Row(town='SERANGOON'),\n",
       " Row(town='BUKIT PANJANG'),\n",
       " Row(town='BUKIT TIMAH'),\n",
       " Row(town='YISHUN'),\n",
       " Row(town='GEYLANG'),\n",
       " Row(town='WOODLANDS'),\n",
       " Row(town='BUKIT MERAH'),\n",
       " Row(town='TOA PAYOH'),\n",
       " Row(town='BISHAN'),\n",
       " Row(town='PUNGGOL'),\n",
       " Row(town='HOUGANG'),\n",
       " Row(town='ANG MO KIO'),\n",
       " Row(town='PASIR RIS'),\n",
       " Row(town='SENGKANG'),\n",
       " Row(town='KALLANG/WHAMPOA'),\n",
       " Row(town='BUKIT BATOK'),\n",
       " Row(town='TAMPINES'),\n",
       " Row(town='JURONG WEST'),\n",
       " Row(town='JURONG EAST'),\n",
       " Row(town='MARINE PARADE'),\n",
       " Row(town='CENTRAL AREA'),\n",
       " Row(town='SEMBAWANG'),\n",
       " Row(town='CHOA CHU KANG')]"
      ]
     },
     "execution_count": 15,
     "metadata": {},
     "output_type": "execute_result"
    }
   ],
   "source": [
    "df.select('town').distinct().collect()"
   ]
  },
  {
   "cell_type": "code",
   "execution_count": 16,
   "metadata": {},
   "outputs": [
    {
     "name": "stdout",
     "output_type": "stream",
     "text": [
      "+---------------+------------------------+\n",
      "|           town|max(lease_commence_date)|\n",
      "+---------------+------------------------+\n",
      "|     QUEENSTOWN|                    2015|\n",
      "|          BEDOK|                    2014|\n",
      "|       CLEMENTI|                    2013|\n",
      "|      SERANGOON|                    1999|\n",
      "|  BUKIT PANJANG|                    2015|\n",
      "|    BUKIT TIMAH|                    1989|\n",
      "|         YISHUN|                    2016|\n",
      "|        GEYLANG|                    2011|\n",
      "|      WOODLANDS|                    2015|\n",
      "|    BUKIT MERAH|                    2016|\n",
      "|      TOA PAYOH|                    2012|\n",
      "|         BISHAN|                    2011|\n",
      "|        PUNGGOL|                    2016|\n",
      "|        HOUGANG|                    2016|\n",
      "|     ANG MO KIO|                    2015|\n",
      "|      PASIR RIS|                    2015|\n",
      "|       SENGKANG|                    2016|\n",
      "|KALLANG/WHAMPOA|                    2012|\n",
      "|    BUKIT BATOK|                    2005|\n",
      "|       TAMPINES|                    2015|\n",
      "+---------------+------------------------+\n",
      "only showing top 20 rows\n",
      "\n"
     ]
    }
   ],
   "source": [
    "df.select(\"town\",\"lease_commence_date\").groupBy(\"town\").max().show()"
   ]
  },
  {
   "cell_type": "code",
   "execution_count": 17,
   "metadata": {},
   "outputs": [
    {
     "name": "stdout",
     "output_type": "stream",
     "text": [
      "+---------------+------------------------+\n",
      "|           town|min(lease_commence_date)|\n",
      "+---------------+------------------------+\n",
      "|     QUEENSTOWN|                    1967|\n",
      "|          BEDOK|                    1972|\n",
      "|       CLEMENTI|                    1978|\n",
      "|      SERANGOON|                    1978|\n",
      "|  BUKIT PANJANG|                    1986|\n",
      "|    BUKIT TIMAH|                    1974|\n",
      "|         YISHUN|                    1978|\n",
      "|        GEYLANG|                    1967|\n",
      "|      WOODLANDS|                    1974|\n",
      "|    BUKIT MERAH|                    1967|\n",
      "|      TOA PAYOH|                    1967|\n",
      "|         BISHAN|                    1973|\n",
      "|        PUNGGOL|                    2002|\n",
      "|        HOUGANG|                    1975|\n",
      "|     ANG MO KIO|                    1976|\n",
      "|      PASIR RIS|                    1980|\n",
      "|       SENGKANG|                    1998|\n",
      "|KALLANG/WHAMPOA|                    1969|\n",
      "|    BUKIT BATOK|                    1983|\n",
      "|       TAMPINES|                    1982|\n",
      "+---------------+------------------------+\n",
      "only showing top 20 rows\n",
      "\n"
     ]
    }
   ],
   "source": [
    "df.select(\"town\",\"lease_commence_date\").groupBy(\"town\").min().show()"
   ]
  },
  {
   "cell_type": "code",
   "execution_count": 18,
   "metadata": {},
   "outputs": [
    {
     "name": "stdout",
     "output_type": "stream",
     "text": [
      "+---------------+------------------------+\n",
      "|           town|avg(lease_commence_date)|\n",
      "+---------------+------------------------+\n",
      "|     QUEENSTOWN|       1990.153981264637|\n",
      "|          BEDOK|      1983.6955380577429|\n",
      "|       CLEMENTI|      1986.4932287954384|\n",
      "|      SERANGOON|      1988.0617935192163|\n",
      "|  BUKIT PANJANG|      1999.2827181208054|\n",
      "|    BUKIT TIMAH|       1983.968253968254|\n",
      "|         YISHUN|      1992.8806831294714|\n",
      "|        GEYLANG|      1982.8140283140283|\n",
      "|      WOODLANDS|       1996.879711307137|\n",
      "|    BUKIT MERAH|      1991.0806826997673|\n",
      "|      TOA PAYOH|      1986.0169413919414|\n",
      "|         BISHAN|      1990.2271293375395|\n",
      "|        PUNGGOL|      2010.0436082731123|\n",
      "|        HOUGANG|      1991.6770623742455|\n",
      "|     ANG MO KIO|      1984.2516283853274|\n",
      "|      PASIR RIS|      1993.5294117647059|\n",
      "|       SENGKANG|      2006.5790744466801|\n",
      "|KALLANG/WHAMPOA|       1986.599686847599|\n",
      "|    BUKIT BATOK|      1989.1015911872705|\n",
      "|       TAMPINES|      1990.8865196078432|\n",
      "+---------------+------------------------+\n",
      "only showing top 20 rows\n",
      "\n"
     ]
    }
   ],
   "source": [
    "df.select(\"town\",\"lease_commence_date\").groupBy(\"town\").mean().show()"
   ]
  },
  {
   "cell_type": "markdown",
   "metadata": {},
   "source": [
    "#### Step 1.3: Value Based Problem Statement**"
   ]
  },
  {
   "cell_type": "markdown",
   "metadata": {},
   "source": [
    "Given the variables of the HDB such as the year it was sold, the age of the flat when it was sold, the type of flat, and other variables finds the resale price of a given HDB flat. \n",
    "\n",
    "\n",
    "This would allow potential HDB buyers to gauge the costs of an HDB flat given a set of variables and details which will give these buyers the convenience to know if they can afford an HDB flat given the conditions and find out if the prices are matched to previous sales."
   ]
  },
  {
   "cell_type": "markdown",
   "metadata": {},
   "source": [
    "### Step 2: Exploratory Data Analysis and Data Cleansing"
   ]
  },
  {
   "cell_type": "code",
   "execution_count": 19,
   "metadata": {},
   "outputs": [
    {
     "name": "stdout",
     "output_type": "stream",
     "text": [
      "+----+-----+----------+---------+-----+-----------------+------------+--------------+--------------+-------------------+---------------+------------+\n",
      "|year|month|      town|flat_type|block|      street_name|storey_range|floor_area_sqm|    flat_model|lease_commence_date|remaining_lease|resale_price|\n",
      "+----+-----+----------+---------+-----+-----------------+------------+--------------+--------------+-------------------+---------------+------------+\n",
      "|2017|    1|ANG MO KIO|   2 ROOM|  406|ANG MO KIO AVE 10|    10 TO 12|          44.0|      Improved|               1979|            736|    232000.0|\n",
      "|2017|    1|ANG MO KIO|   3 ROOM|  108| ANG MO KIO AVE 4|    01 TO 03|          67.0|New Generation|               1978|            727|    250000.0|\n",
      "|2017|    1|ANG MO KIO|   3 ROOM|  602| ANG MO KIO AVE 5|    01 TO 03|          67.0|New Generation|               1980|            749|    262000.0|\n",
      "|2017|    1|ANG MO KIO|   3 ROOM|  465|ANG MO KIO AVE 10|    04 TO 06|          68.0|New Generation|               1980|            745|    265000.0|\n",
      "|2017|    1|ANG MO KIO|   3 ROOM|  601| ANG MO KIO AVE 5|    01 TO 03|          67.0|New Generation|               1980|            749|    265000.0|\n",
      "|2017|    1|ANG MO KIO|   3 ROOM|  150| ANG MO KIO AVE 5|    01 TO 03|          68.0|New Generation|               1981|            756|    275000.0|\n",
      "|2017|    1|ANG MO KIO|   3 ROOM|  447|ANG MO KIO AVE 10|    04 TO 06|          68.0|New Generation|               1979|            738|    280000.0|\n",
      "|2017|    1|ANG MO KIO|   3 ROOM|  218| ANG MO KIO AVE 1|    04 TO 06|          67.0|New Generation|               1976|            700|    285000.0|\n",
      "|2017|    1|ANG MO KIO|   3 ROOM|  447|ANG MO KIO AVE 10|    04 TO 06|          68.0|New Generation|               1979|            738|    285000.0|\n",
      "|2017|    1|ANG MO KIO|   3 ROOM|  571| ANG MO KIO AVE 3|    01 TO 03|          67.0|New Generation|               1979|            736|    285000.0|\n",
      "|2017|    1|ANG MO KIO|   3 ROOM|  534|ANG MO KIO AVE 10|    01 TO 03|          68.0|New Generation|               1980|            745|    288500.0|\n",
      "|2017|    1|ANG MO KIO|   3 ROOM|  233| ANG MO KIO AVE 3|    10 TO 12|          67.0|New Generation|               1977|            716|    295000.0|\n",
      "|2017|    1|ANG MO KIO|   3 ROOM|  235| ANG MO KIO AVE 3|    04 TO 06|          67.0|New Generation|               1977|            716|    295000.0|\n",
      "|2017|    1|ANG MO KIO|   3 ROOM|  219| ANG MO KIO AVE 1|    07 TO 09|          67.0|New Generation|               1977|            714|    297000.0|\n",
      "|2017|    1|ANG MO KIO|   3 ROOM|  536|ANG MO KIO AVE 10|    07 TO 09|          68.0|New Generation|               1980|            745|    298000.0|\n",
      "|2017|    1|ANG MO KIO|   3 ROOM|  230| ANG MO KIO AVE 3|    04 TO 06|          67.0|New Generation|               1978|            720|    298000.0|\n",
      "|2017|    1|ANG MO KIO|   3 ROOM|  570| ANG MO KIO AVE 3|    10 TO 12|          67.0|New Generation|               1979|            736|    300000.0|\n",
      "|2017|    1|ANG MO KIO|   3 ROOM|  624| ANG MO KIO AVE 4|    04 TO 06|          68.0|New Generation|               1980|            752|    301000.0|\n",
      "|2017|    1|ANG MO KIO|   3 ROOM|  441|ANG MO KIO AVE 10|    07 TO 09|          67.0|New Generation|               1979|            732|    306000.0|\n",
      "|2017|    1|ANG MO KIO|   3 ROOM|  625| ANG MO KIO AVE 9|    04 TO 06|          68.0|New Generation|               1980|            752|    312000.0|\n",
      "+----+-----+----------+---------+-----+-----------------+------------+--------------+--------------+-------------------+---------------+------------+\n",
      "only showing top 20 rows\n",
      "\n"
     ]
    }
   ],
   "source": [
    "df.show()"
   ]
  },
  {
   "cell_type": "code",
   "execution_count": 20,
   "metadata": {},
   "outputs": [
    {
     "data": {
      "text/plain": [
       "[('year', 'int'),\n",
       " ('month', 'int'),\n",
       " ('town', 'string'),\n",
       " ('flat_type', 'string'),\n",
       " ('block', 'string'),\n",
       " ('street_name', 'string'),\n",
       " ('storey_range', 'string'),\n",
       " ('floor_area_sqm', 'double'),\n",
       " ('flat_model', 'string'),\n",
       " ('lease_commence_date', 'int'),\n",
       " ('remaining_lease', 'int'),\n",
       " ('resale_price', 'double')]"
      ]
     },
     "execution_count": 20,
     "metadata": {},
     "output_type": "execute_result"
    }
   ],
   "source": [
    "df.dtypes"
   ]
  },
  {
   "cell_type": "code",
   "execution_count": 21,
   "metadata": {},
   "outputs": [
    {
     "data": {
      "text/plain": [
       "[Row(block='467'),\n",
       " Row(block='262B'),\n",
       " Row(block='296'),\n",
       " Row(block='829'),\n",
       " Row(block='101D'),\n",
       " Row(block='675'),\n",
       " Row(block='691'),\n",
       " Row(block='477A'),\n",
       " Row(block='663D'),\n",
       " Row(block='59B'),\n",
       " Row(block='451'),\n",
       " Row(block='853'),\n",
       " Row(block='125'),\n",
       " Row(block='439A'),\n",
       " Row(block='116B'),\n",
       " Row(block='944'),\n",
       " Row(block='788E'),\n",
       " Row(block='677B'),\n",
       " Row(block='800'),\n",
       " Row(block='219C'),\n",
       " Row(block='919'),\n",
       " Row(block='926'),\n",
       " Row(block='870'),\n",
       " Row(block='681A'),\n",
       " Row(block='700B'),\n",
       " Row(block='666'),\n",
       " Row(block='17A'),\n",
       " Row(block='635B'),\n",
       " Row(block='447'),\n",
       " Row(block='7'),\n",
       " Row(block='124'),\n",
       " Row(block='273A'),\n",
       " Row(block='51'),\n",
       " Row(block='506A'),\n",
       " Row(block='656D'),\n",
       " Row(block='176B'),\n",
       " Row(block='289C'),\n",
       " Row(block='468D'),\n",
       " Row(block='684A'),\n",
       " Row(block='989D'),\n",
       " Row(block='333D'),\n",
       " Row(block='280A'),\n",
       " Row(block='475'),\n",
       " Row(block='613'),\n",
       " Row(block='289E'),\n",
       " Row(block='307'),\n",
       " Row(block='185C'),\n",
       " Row(block='311A'),\n",
       " Row(block='718'),\n",
       " Row(block='574'),\n",
       " Row(block='409A'),\n",
       " Row(block='259C'),\n",
       " Row(block='525B'),\n",
       " Row(block='169'),\n",
       " Row(block='205'),\n",
       " Row(block='544'),\n",
       " Row(block='334'),\n",
       " Row(block='747'),\n",
       " Row(block='337A'),\n",
       " Row(block='435A'),\n",
       " Row(block='491H'),\n",
       " Row(block='577'),\n",
       " Row(block='740'),\n",
       " Row(block='168C'),\n",
       " Row(block='674A'),\n",
       " Row(block='581'),\n",
       " Row(block='669B'),\n",
       " Row(block='332C'),\n",
       " Row(block='470'),\n",
       " Row(block='272'),\n",
       " Row(block='682C'),\n",
       " Row(block='743'),\n",
       " Row(block='462'),\n",
       " Row(block='711'),\n",
       " Row(block='175A'),\n",
       " Row(block='647'),\n",
       " Row(block='442'),\n",
       " Row(block='1A'),\n",
       " Row(block='195B'),\n",
       " Row(block='102D'),\n",
       " Row(block='700A'),\n",
       " Row(block='291C'),\n",
       " Row(block='975'),\n",
       " Row(block='668B'),\n",
       " Row(block='497C'),\n",
       " Row(block='492C'),\n",
       " Row(block='54'),\n",
       " Row(block='448'),\n",
       " Row(block='15'),\n",
       " Row(block='517C'),\n",
       " Row(block='232'),\n",
       " Row(block='282'),\n",
       " Row(block='234'),\n",
       " Row(block='383'),\n",
       " Row(block='173C'),\n",
       " Row(block='26B'),\n",
       " Row(block='157B'),\n",
       " Row(block='230B'),\n",
       " Row(block='700'),\n",
       " Row(block='131B'),\n",
       " Row(block='635'),\n",
       " Row(block='155'),\n",
       " Row(block='940'),\n",
       " Row(block='102C'),\n",
       " Row(block='483'),\n",
       " Row(block='862'),\n",
       " Row(block='339C'),\n",
       " Row(block='412B'),\n",
       " Row(block='851'),\n",
       " Row(block='979B'),\n",
       " Row(block='110C'),\n",
       " Row(block='652A'),\n",
       " Row(block='452B'),\n",
       " Row(block='886'),\n",
       " Row(block='154'),\n",
       " Row(block='714'),\n",
       " Row(block='132'),\n",
       " Row(block='441B'),\n",
       " Row(block='406C'),\n",
       " Row(block='317'),\n",
       " Row(block='727'),\n",
       " Row(block='265D'),\n",
       " Row(block='168A'),\n",
       " Row(block='12A'),\n",
       " Row(block='314A'),\n",
       " Row(block='115C'),\n",
       " Row(block='158A'),\n",
       " Row(block='492D'),\n",
       " Row(block='625'),\n",
       " Row(block='504B'),\n",
       " Row(block='428'),\n",
       " Row(block='434B'),\n",
       " Row(block='388'),\n",
       " Row(block='521'),\n",
       " Row(block='200'),\n",
       " Row(block='495'),\n",
       " Row(block='658D'),\n",
       " Row(block='206A'),\n",
       " Row(block='178A'),\n",
       " Row(block='424A'),\n",
       " Row(block='332B'),\n",
       " Row(block='869A'),\n",
       " Row(block='101'),\n",
       " Row(block='672'),\n",
       " Row(block='938'),\n",
       " Row(block='854'),\n",
       " Row(block='11'),\n",
       " Row(block='305D'),\n",
       " Row(block='260B'),\n",
       " Row(block='207D'),\n",
       " Row(block='653B'),\n",
       " Row(block='660A'),\n",
       " Row(block='324A'),\n",
       " Row(block='279A'),\n",
       " Row(block='415'),\n",
       " Row(block='422'),\n",
       " Row(block='685'),\n",
       " Row(block='307B'),\n",
       " Row(block='543'),\n",
       " Row(block='433'),\n",
       " Row(block='279'),\n",
       " Row(block='319B'),\n",
       " Row(block='990C'),\n",
       " Row(block='450E'),\n",
       " Row(block='979'),\n",
       " Row(block='351'),\n",
       " Row(block='387'),\n",
       " Row(block='323'),\n",
       " Row(block='138'),\n",
       " Row(block='961'),\n",
       " Row(block='361'),\n",
       " Row(block='313D'),\n",
       " Row(block='823'),\n",
       " Row(block='288F'),\n",
       " Row(block='782C'),\n",
       " Row(block='419'),\n",
       " Row(block='724'),\n",
       " Row(block='836'),\n",
       " Row(block='613B'),\n",
       " Row(block='69'),\n",
       " Row(block='29'),\n",
       " Row(block='703'),\n",
       " Row(block='309'),\n",
       " Row(block='637C'),\n",
       " Row(block='501C'),\n",
       " Row(block='303D'),\n",
       " Row(block='659C'),\n",
       " Row(block='602B'),\n",
       " Row(block='788'),\n",
       " Row(block='317C'),\n",
       " Row(block='192B'),\n",
       " Row(block='201E'),\n",
       " Row(block='534'),\n",
       " Row(block='42'),\n",
       " Row(block='112'),\n",
       " Row(block='272D'),\n",
       " Row(block='424'),\n",
       " Row(block='335B'),\n",
       " Row(block='586'),\n",
       " Row(block='43A'),\n",
       " Row(block='981A'),\n",
       " Row(block='863'),\n",
       " Row(block='408B'),\n",
       " Row(block='468A'),\n",
       " Row(block='326C'),\n",
       " Row(block='87'),\n",
       " Row(block='626'),\n",
       " Row(block='468'),\n",
       " Row(block='201A'),\n",
       " Row(block='120C'),\n",
       " Row(block='974'),\n",
       " Row(block='73'),\n",
       " Row(block='267C'),\n",
       " Row(block='434'),\n",
       " Row(block='18D'),\n",
       " Row(block='315C'),\n",
       " Row(block='686'),\n",
       " Row(block='227A'),\n",
       " Row(block='485C'),\n",
       " Row(block='10A'),\n",
       " Row(block='348'),\n",
       " Row(block='308'),\n",
       " Row(block='656A'),\n",
       " Row(block='512'),\n",
       " Row(block='459'),\n",
       " Row(block='64'),\n",
       " Row(block='710'),\n",
       " Row(block='221B'),\n",
       " Row(block='650B'),\n",
       " Row(block='467B'),\n",
       " Row(block='322A'),\n",
       " Row(block='356'),\n",
       " Row(block='682D'),\n",
       " Row(block='632B'),\n",
       " Row(block='122B'),\n",
       " Row(block='489C'),\n",
       " Row(block='651B'),\n",
       " Row(block='186C'),\n",
       " Row(block='780B'),\n",
       " Row(block='333C'),\n",
       " Row(block='23B'),\n",
       " Row(block='3'),\n",
       " Row(block='105A'),\n",
       " Row(block='541'),\n",
       " Row(block='259B'),\n",
       " Row(block='446'),\n",
       " Row(block='478'),\n",
       " Row(block='484C'),\n",
       " Row(block='970'),\n",
       " Row(block='652C'),\n",
       " Row(block='488B'),\n",
       " Row(block='213C'),\n",
       " Row(block='888A'),\n",
       " Row(block='856E'),\n",
       " Row(block='406'),\n",
       " Row(block='432'),\n",
       " Row(block='584'),\n",
       " Row(block='30'),\n",
       " Row(block='113'),\n",
       " Row(block='303C'),\n",
       " Row(block='450F'),\n",
       " Row(block='485B'),\n",
       " Row(block='499B'),\n",
       " Row(block='334A'),\n",
       " Row(block='519D'),\n",
       " Row(block='528C'),\n",
       " Row(block='34'),\n",
       " Row(block='652'),\n",
       " Row(block='615B'),\n",
       " Row(block='924'),\n",
       " Row(block='497D'),\n",
       " Row(block='443'),\n",
       " Row(block='910'),\n",
       " Row(block='880'),\n",
       " Row(block='654C'),\n",
       " Row(block='661A'),\n",
       " Row(block='352A'),\n",
       " Row(block='786'),\n",
       " Row(block='313B'),\n",
       " Row(block='107D'),\n",
       " Row(block='84A'),\n",
       " Row(block='989A'),\n",
       " Row(block='673C'),\n",
       " Row(block='133'),\n",
       " Row(block='447A'),\n",
       " Row(block='309D'),\n",
       " Row(block='305B'),\n",
       " Row(block='878'),\n",
       " Row(block='896A'),\n",
       " Row(block='874'),\n",
       " Row(block='161A'),\n",
       " Row(block='425'),\n",
       " Row(block='789'),\n",
       " Row(block='288E'),\n",
       " Row(block='524'),\n",
       " Row(block='195E'),\n",
       " Row(block='441A'),\n",
       " Row(block='287'),\n",
       " Row(block='81A'),\n",
       " Row(block='264D'),\n",
       " Row(block='365'),\n",
       " Row(block='737'),\n",
       " Row(block='670'),\n",
       " Row(block='895'),\n",
       " Row(block='389'),\n",
       " Row(block='966'),\n",
       " Row(block='257C'),\n",
       " Row(block='624C'),\n",
       " Row(block='299C'),\n",
       " Row(block='162'),\n",
       " Row(block='185D'),\n",
       " Row(block='59'),\n",
       " Row(block='354A'),\n",
       " Row(block='277C'),\n",
       " Row(block='289F'),\n",
       " Row(block='903'),\n",
       " Row(block='230F'),\n",
       " Row(block='547D'),\n",
       " Row(block='250'),\n",
       " Row(block='310'),\n",
       " Row(block='139'),\n",
       " Row(block='146'),\n",
       " Row(block='289D'),\n",
       " Row(block='205A'),\n",
       " Row(block='18B'),\n",
       " Row(block='123A'),\n",
       " Row(block='649B'),\n",
       " Row(block='451A'),\n",
       " Row(block='526B'),\n",
       " Row(block='1C'),\n",
       " Row(block='871A'),\n",
       " Row(block='658B'),\n",
       " Row(block='352'),\n",
       " Row(block='379'),\n",
       " Row(block='265C'),\n",
       " Row(block='405A'),\n",
       " Row(block='559'),\n",
       " Row(block='782'),\n",
       " Row(block='636B'),\n",
       " Row(block='518C'),\n",
       " Row(block='160'),\n",
       " Row(block='8'),\n",
       " Row(block='296D'),\n",
       " Row(block='786C'),\n",
       " Row(block='695'),\n",
       " Row(block='430A'),\n",
       " Row(block='271C'),\n",
       " Row(block='123B'),\n",
       " Row(block='619D'),\n",
       " Row(block='842C'),\n",
       " Row(block='894'),\n",
       " Row(block='479'),\n",
       " Row(block='258'),\n",
       " Row(block='692'),\n",
       " Row(block='796'),\n",
       " Row(block='951'),\n",
       " Row(block='618D'),\n",
       " Row(block='683D'),\n",
       " Row(block='787'),\n",
       " Row(block='495F'),\n",
       " Row(block='325C'),\n",
       " Row(block='103C'),\n",
       " Row(block='886B'),\n",
       " Row(block='327B'),\n",
       " Row(block='326D'),\n",
       " Row(block='570'),\n",
       " Row(block='22'),\n",
       " Row(block='276A'),\n",
       " Row(block='888'),\n",
       " Row(block='203'),\n",
       " Row(block='28'),\n",
       " Row(block='4B'),\n",
       " Row(block='3B'),\n",
       " Row(block='184'),\n",
       " Row(block='111B'),\n",
       " Row(block='285B'),\n",
       " Row(block='209C'),\n",
       " Row(block='698C'),\n",
       " Row(block='199A'),\n",
       " Row(block='423'),\n",
       " Row(block='539'),\n",
       " Row(block='628'),\n",
       " Row(block='813'),\n",
       " Row(block='843'),\n",
       " Row(block='199'),\n",
       " Row(block='636'),\n",
       " Row(block='699A'),\n",
       " Row(block='225C'),\n",
       " Row(block='808'),\n",
       " Row(block='343'),\n",
       " Row(block='157C'),\n",
       " Row(block='219B'),\n",
       " Row(block='7A'),\n",
       " Row(block='856'),\n",
       " Row(block='515D'),\n",
       " Row(block='311C'),\n",
       " Row(block='217A'),\n",
       " Row(block='520A'),\n",
       " Row(block='663'),\n",
       " Row(block='730'),\n",
       " Row(block='986A'),\n",
       " Row(block='917'),\n",
       " Row(block='202A'),\n",
       " Row(block='436A'),\n",
       " Row(block='633B'),\n",
       " Row(block='106C'),\n",
       " Row(block='699B'),\n",
       " Row(block='556'),\n",
       " Row(block='712'),\n",
       " Row(block='85'),\n",
       " Row(block='679B'),\n",
       " Row(block='321B'),\n",
       " Row(block='107C'),\n",
       " Row(block='495B'),\n",
       " Row(block='188A'),\n",
       " Row(block='35'),\n",
       " Row(block='16'),\n",
       " Row(block='644'),\n",
       " Row(block='272A'),\n",
       " Row(block='742'),\n",
       " Row(block='52'),\n",
       " Row(block='588B'),\n",
       " Row(block='634'),\n",
       " Row(block='691A'),\n",
       " Row(block='251'),\n",
       " Row(block='320C'),\n",
       " Row(block='29A'),\n",
       " Row(block='488'),\n",
       " Row(block='493C'),\n",
       " Row(block='973'),\n",
       " Row(block='257B'),\n",
       " Row(block='593A'),\n",
       " Row(block='747A'),\n",
       " Row(block='296B'),\n",
       " Row(block='171'),\n",
       " Row(block='868'),\n",
       " Row(block='856D'),\n",
       " Row(block='183'),\n",
       " Row(block='359A'),\n",
       " Row(block='933'),\n",
       " Row(block='807'),\n",
       " Row(block='332A'),\n",
       " Row(block='441'),\n",
       " Row(block='270A'),\n",
       " Row(block='187'),\n",
       " Row(block='898A'),\n",
       " Row(block='356A'),\n",
       " Row(block='964'),\n",
       " Row(block='126D'),\n",
       " Row(block='337C'),\n",
       " Row(block='679C'),\n",
       " Row(block='190B'),\n",
       " Row(block='890A'),\n",
       " Row(block='410'),\n",
       " Row(block='128A'),\n",
       " Row(block='184C'),\n",
       " Row(block='352C'),\n",
       " Row(block='309C'),\n",
       " Row(block='71'),\n",
       " Row(block='208C'),\n",
       " Row(block='782D'),\n",
       " Row(block='331A'),\n",
       " Row(block='528'),\n",
       " Row(block='108B'),\n",
       " Row(block='296C'),\n",
       " Row(block='959'),\n",
       " Row(block='276'),\n",
       " Row(block='298'),\n",
       " Row(block='408A'),\n",
       " Row(block='749'),\n",
       " Row(block='1G'),\n",
       " Row(block='98'),\n",
       " Row(block='188'),\n",
       " Row(block='124C'),\n",
       " Row(block='980'),\n",
       " Row(block='63A'),\n",
       " Row(block='340A'),\n",
       " Row(block='215A'),\n",
       " Row(block='169B'),\n",
       " Row(block='187B'),\n",
       " Row(block='842F'),\n",
       " Row(block='163B'),\n",
       " Row(block='432B'),\n",
       " Row(block='325A'),\n",
       " Row(block='629'),\n",
       " Row(block='47'),\n",
       " Row(block='458'),\n",
       " Row(block='466'),\n",
       " Row(block='902'),\n",
       " Row(block='445B'),\n",
       " Row(block='195'),\n",
       " Row(block='223'),\n",
       " Row(block='99'),\n",
       " Row(block='568'),\n",
       " Row(block='357C'),\n",
       " Row(block='891A'),\n",
       " Row(block='426A'),\n",
       " Row(block='617B'),\n",
       " Row(block='635A'),\n",
       " Row(block='174D'),\n",
       " Row(block='206C'),\n",
       " Row(block='697'),\n",
       " Row(block='554'),\n",
       " Row(block='372'),\n",
       " Row(block='990A'),\n",
       " Row(block='107'),\n",
       " Row(block='726'),\n",
       " Row(block='110'),\n",
       " Row(block='357B'),\n",
       " Row(block='122A'),\n",
       " Row(block='842D'),\n",
       " Row(block='892'),\n",
       " Row(block='565'),\n",
       " Row(block='517E'),\n",
       " Row(block='301C'),\n",
       " Row(block='209B'),\n",
       " Row(block='250A'),\n",
       " Row(block='894C'),\n",
       " Row(block='128D'),\n",
       " Row(block='987C'),\n",
       " Row(block='445A'),\n",
       " Row(block='824'),\n",
       " Row(block='689D'),\n",
       " Row(block='928'),\n",
       " Row(block='687A'),\n",
       " Row(block='785'),\n",
       " Row(block='204D'),\n",
       " Row(block='82A'),\n",
       " Row(block='324D'),\n",
       " Row(block='119A'),\n",
       " Row(block='390'),\n",
       " Row(block='112B'),\n",
       " Row(block='63B'),\n",
       " Row(block='61A'),\n",
       " Row(block='261A'),\n",
       " Row(block='334D'),\n",
       " Row(block='890B'),\n",
       " Row(block='214'),\n",
       " Row(block='560'),\n",
       " Row(block='405B'),\n",
       " Row(block='656'),\n",
       " Row(block='527'),\n",
       " Row(block='325B'),\n",
       " Row(block='348A'),\n",
       " Row(block='179'),\n",
       " Row(block='609'),\n",
       " Row(block='614B'),\n",
       " Row(block='267B'),\n",
       " Row(block='589A'),\n",
       " Row(block='267'),\n",
       " Row(block='573'),\n",
       " Row(block='850'),\n",
       " Row(block='953'),\n",
       " Row(block='323C'),\n",
       " Row(block='886D'),\n",
       " Row(block='475C'),\n",
       " Row(block='520'),\n",
       " Row(block='250B'),\n",
       " Row(block='826'),\n",
       " Row(block='408'),\n",
       " Row(block='633A'),\n",
       " Row(block='509A'),\n",
       " Row(block='440'),\n",
       " Row(block='26C'),\n",
       " Row(block='284'),\n",
       " Row(block='505B'),\n",
       " Row(block='94C'),\n",
       " Row(block='248'),\n",
       " Row(block='484'),\n",
       " Row(block='327'),\n",
       " Row(block='825'),\n",
       " Row(block='202'),\n",
       " Row(block='604B'),\n",
       " Row(block='96'),\n",
       " Row(block='117A'),\n",
       " Row(block='550B'),\n",
       " Row(block='528B'),\n",
       " Row(block='610'),\n",
       " Row(block='221'),\n",
       " Row(block='897B'),\n",
       " Row(block='320'),\n",
       " Row(block='804'),\n",
       " Row(block='94E'),\n",
       " Row(block='43'),\n",
       " Row(block='633'),\n",
       " Row(block='503'),\n",
       " Row(block='873'),\n",
       " Row(block='287C'),\n",
       " Row(block='304B'),\n",
       " Row(block='212C'),\n",
       " Row(block='301A'),\n",
       " Row(block='300'),\n",
       " Row(block='110B'),\n",
       " Row(block='897'),\n",
       " Row(block='105B'),\n",
       " Row(block='658A'),\n",
       " Row(block='401'),\n",
       " Row(block='5'),\n",
       " Row(block='421'),\n",
       " Row(block='675B'),\n",
       " Row(block='289B'),\n",
       " Row(block='491B'),\n",
       " Row(block='273'),\n",
       " Row(block='676A'),\n",
       " Row(block='316A'),\n",
       " Row(block='678D'),\n",
       " Row(block='38B'),\n",
       " Row(block='338A'),\n",
       " Row(block='169C'),\n",
       " Row(block='680B'),\n",
       " Row(block='48A'),\n",
       " Row(block='163'),\n",
       " Row(block='31'),\n",
       " Row(block='815'),\n",
       " Row(block='604A'),\n",
       " Row(block='321A'),\n",
       " Row(block='842E'),\n",
       " Row(block='797'),\n",
       " Row(block='190A'),\n",
       " Row(block='139A'),\n",
       " Row(block='62B'),\n",
       " Row(block='450D'),\n",
       " Row(block='782B'),\n",
       " Row(block='331B'),\n",
       " Row(block='908'),\n",
       " Row(block='102B'),\n",
       " Row(block='466A'),\n",
       " Row(block='688F'),\n",
       " Row(block='100'),\n",
       " Row(block='670A'),\n",
       " Row(block='121C'),\n",
       " Row(block='448A'),\n",
       " Row(block='27A'),\n",
       " Row(block='912'),\n",
       " Row(block='299B'),\n",
       " Row(block='664C'),\n",
       " Row(block='612B'),\n",
       " Row(block='352B'),\n",
       " Row(block='637B'),\n",
       " Row(block='18'),\n",
       " Row(block='523'),\n",
       " Row(block='481'),\n",
       " Row(block='359'),\n",
       " Row(block='637D'),\n",
       " Row(block='250C'),\n",
       " Row(block='446B'),\n",
       " Row(block='642B'),\n",
       " Row(block='617'),\n",
       " Row(block='476'),\n",
       " Row(block='70'),\n",
       " Row(block='673A'),\n",
       " Row(block='280B'),\n",
       " Row(block='206'),\n",
       " Row(block='80C'),\n",
       " Row(block='174'),\n",
       " Row(block='619'),\n",
       " Row(block='733'),\n",
       " Row(block='172C'),\n",
       " Row(block='171C'),\n",
       " Row(block='301D'),\n",
       " Row(block='745'),\n",
       " Row(block='772'),\n",
       " Row(block='181A'),\n",
       " Row(block='336B'),\n",
       " Row(block='780E'),\n",
       " Row(block='302'),\n",
       " Row(block='453'),\n",
       " Row(block='663C'),\n",
       " Row(block='632'),\n",
       " Row(block='761'),\n",
       " Row(block='168'),\n",
       " Row(block='173B'),\n",
       " Row(block='921'),\n",
       " Row(block='502'),\n",
       " Row(block='430C'),\n",
       " Row(block='342A'),\n",
       " Row(block='364'),\n",
       " Row(block='269C'),\n",
       " Row(block='505'),\n",
       " Row(block='224'),\n",
       " Row(block='684'),\n",
       " Row(block='188B'),\n",
       " Row(block='121B'),\n",
       " Row(block='312A'),\n",
       " Row(block='109A'),\n",
       " Row(block='498H'),\n",
       " Row(block='603C'),\n",
       " Row(block='218'),\n",
       " Row(block='61'),\n",
       " Row(block='681C'),\n",
       " Row(block='273C'),\n",
       " Row(block='27'),\n",
       " Row(block='477'),\n",
       " Row(block='649'),\n",
       " Row(block='504D'),\n",
       " Row(block='353C'),\n",
       " Row(block='484A'),\n",
       " Row(block='658'),\n",
       " Row(block='275D'),\n",
       " Row(block='413A'),\n",
       " Row(block='260A'),\n",
       " Row(block='406B'),\n",
       " Row(block='335A'),\n",
       " Row(block='230D'),\n",
       " Row(block='75'),\n",
       " Row(block='449'),\n",
       " Row(block='486B'),\n",
       " Row(block='667'),\n",
       " Row(block='360B'),\n",
       " Row(block='79B'),\n",
       " Row(block='639'),\n",
       " Row(block='493'),\n",
       " Row(block='469B'),\n",
       " Row(block='274'),\n",
       " Row(block='313C'),\n",
       " Row(block='122E'),\n",
       " Row(block='748C'),\n",
       " Row(block='414A'),\n",
       " Row(block='287D'),\n",
       " Row(block='649A'),\n",
       " Row(block='277B'),\n",
       " Row(block='350B'),\n",
       " Row(block='158D'),\n",
       " Row(block='895C'),\n",
       " Row(block='333A'),\n",
       " Row(block='547B'),\n",
       " Row(block='453C'),\n",
       " Row(block='601'),\n",
       " Row(block='219'),\n",
       " Row(block='166'),\n",
       " Row(block='497B'),\n",
       " Row(block='686C'),\n",
       " Row(block='614'),\n",
       " Row(block='801'),\n",
       " Row(block='659'),\n",
       " Row(block='619B'),\n",
       " Row(block='413B'),\n",
       " Row(block='131'),\n",
       " Row(block='310A'),\n",
       " Row(block='640'),\n",
       " Row(block='140'),\n",
       " Row(block='298A'),\n",
       " Row(block='549'),\n",
       " Row(block='126'),\n",
       " Row(block='17'),\n",
       " Row(block='202C'),\n",
       " Row(block='409B'),\n",
       " Row(block='160B'),\n",
       " Row(block='625A'),\n",
       " Row(block='77A'),\n",
       " Row(block='227'),\n",
       " Row(block='357A'),\n",
       " Row(block='26'),\n",
       " Row(block='617D'),\n",
       " Row(block='286'),\n",
       " Row(block='612A'),\n",
       " Row(block='225A'),\n",
       " Row(block='515A'),\n",
       " Row(block='8A'),\n",
       " Row(block='490B'),\n",
       " Row(block='905'),\n",
       " Row(block='120'),\n",
       " Row(block='984D'),\n",
       " Row(block='736'),\n",
       " Row(block='268C'),\n",
       " Row(block='979A'),\n",
       " Row(block='492'),\n",
       " Row(block='876'),\n",
       " Row(block='195A'),\n",
       " Row(block='889'),\n",
       " Row(block='131C'),\n",
       " Row(block='123E'),\n",
       " Row(block='286B'),\n",
       " Row(block='588A'),\n",
       " Row(block='548'),\n",
       " Row(block='326'),\n",
       " Row(block='271A'),\n",
       " Row(block='656C'),\n",
       " Row(block='690E'),\n",
       " Row(block='866'),\n",
       " Row(block='168D'),\n",
       " Row(block='351A'),\n",
       " Row(block='782A'),\n",
       " Row(block='523D'),\n",
       " Row(block='429A'),\n",
       " Row(block='289A'),\n",
       " Row(block='835'),\n",
       " Row(block='683A'),\n",
       " Row(block='773'),\n",
       " Row(block='601A'),\n",
       " Row(block='303B'),\n",
       " Row(block='698D'),\n",
       " Row(block='842'),\n",
       " Row(block='716'),\n",
       " Row(block='46'),\n",
       " Row(block='621'),\n",
       " Row(block='268'),\n",
       " Row(block='631'),\n",
       " Row(block='795A'),\n",
       " Row(block='687B'),\n",
       " Row(block='433A'),\n",
       " Row(block='187A'),\n",
       " Row(block='130'),\n",
       " Row(block='374'),\n",
       " Row(block='683C'),\n",
       " Row(block='906'),\n",
       " Row(block='518B'),\n",
       " Row(block='476B'),\n",
       " Row(block='183B'),\n",
       " Row(block='857A'),\n",
       " Row(block='535'),\n",
       " Row(block='354B'),\n",
       " Row(block='860A'),\n",
       " Row(block='279B'),\n",
       " Row(block='220B'),\n",
       " Row(block='558'),\n",
       " Row(block='161B'),\n",
       " Row(block='446C'),\n",
       " Row(block='375'),\n",
       " Row(block='315B'),\n",
       " Row(block='476D'),\n",
       " Row(block='406A'),\n",
       " Row(block='292A'),\n",
       " Row(block='230J'),\n",
       " Row(block='685C'),\n",
       " Row(block='985B'),\n",
       " Row(block='894B'),\n",
       " Row(block='592C'),\n",
       " Row(block='528A'),\n",
       " Row(block='494E'),\n",
       " Row(block='207'),\n",
       " Row(block='455'),\n",
       " Row(block='802'),\n",
       " Row(block='147'),\n",
       " Row(block='164'),\n",
       " Row(block='839'),\n",
       " Row(block='176C'),\n",
       " Row(block='439C'),\n",
       " Row(block='948'),\n",
       " Row(block='381'),\n",
       " Row(block='632C'),\n",
       " Row(block='887C'),\n",
       " Row(block='430B'),\n",
       " Row(block='780D'),\n",
       " Row(block='78'),\n",
       " Row(block='196C'),\n",
       " Row(block='211D'),\n",
       " Row(block='790'),\n",
       " Row(block='288C'),\n",
       " Row(block='770'),\n",
       " Row(block='208'),\n",
       " Row(block='787C'),\n",
       " Row(block='507A'),\n",
       " Row(block='493B'),\n",
       " Row(block='662D'),\n",
       " Row(block='227B'),\n",
       " Row(block='196A'),\n",
       " Row(block='348D'),\n",
       " Row(block='324B'),\n",
       " Row(block='428B'),\n",
       " Row(block='281A'),\n",
       " Row(block='197D'),\n",
       " Row(block='328'),\n",
       " Row(block='501'),\n",
       " Row(block='486'),\n",
       " Row(block='615A'),\n",
       " Row(block='126C'),\n",
       " Row(block='166A'),\n",
       " Row(block='485D'),\n",
       " Row(block='77'),\n",
       " Row(block='228'),\n",
       " Row(block='676B'),\n",
       " Row(block='168B'),\n",
       " Row(block='525'),\n",
       " Row(block='603B'),\n",
       " Row(block='89'),\n",
       " Row(block='157D'),\n",
       " Row(block='691B'),\n",
       " Row(block='904'),\n",
       " Row(block='508A'),\n",
       " Row(block='101A'),\n",
       " Row(block='306A'),\n",
       " Row(block='289G'),\n",
       " Row(block='623C'),\n",
       " Row(block='495A'),\n",
       " Row(block='342B'),\n",
       " Row(block='890C'),\n",
       " Row(block='136'),\n",
       " Row(block='943'),\n",
       " Row(block='198'),\n",
       " Row(block='620'),\n",
       " Row(block='4C'),\n",
       " Row(block='290'),\n",
       " Row(block='297A'),\n",
       " Row(block='663A'),\n",
       " Row(block='589C'),\n",
       " Row(block='845'),\n",
       " Row(block='359B'),\n",
       " Row(block='522C'),\n",
       " Row(block='118'),\n",
       " Row(block='257'),\n",
       " Row(block='6'),\n",
       " Row(block='5A'),\n",
       " Row(block='893A'),\n",
       " Row(block='686B'),\n",
       " Row(block='309B'),\n",
       " Row(block='200B'),\n",
       " Row(block='618B'),\n",
       " Row(block='669'),\n",
       " Row(block='223D'),\n",
       " Row(block='571B'),\n",
       " Row(block='424C'),\n",
       " Row(block='432D'),\n",
       " Row(block='517'),\n",
       " Row(block='211A'),\n",
       " Row(block='641A'),\n",
       " Row(block='292B'),\n",
       " Row(block='385'),\n",
       " Row(block='133A'),\n",
       " Row(block='675A'),\n",
       " Row(block='203C'),\n",
       " Row(block='572A'),\n",
       " Row(block='258D'),\n",
       " Row(block='935'),\n",
       " Row(block='549B'),\n",
       " Row(block='747B'),\n",
       " Row(block='756'),\n",
       " Row(block='841'),\n",
       " Row(block='171B'),\n",
       " Row(block='980B'),\n",
       " Row(block='798'),\n",
       " Row(block='589B'),\n",
       " Row(block='407B'),\n",
       " Row(block='932'),\n",
       " Row(block='671B'),\n",
       " Row(block='661B'),\n",
       " Row(block='107B'),\n",
       " Row(block='286C'),\n",
       " Row(block='426D'),\n",
       " Row(block='185'),\n",
       " Row(block='753'),\n",
       " Row(block='341'),\n",
       " Row(block='290B'),\n",
       " Row(block='518A'),\n",
       " Row(block='653'),\n",
       " Row(block='3D'),\n",
       " Row(block='197A'),\n",
       " Row(block='623B'),\n",
       " Row(block='185B'),\n",
       " Row(block='115B'),\n",
       " Row(block='632A'),\n",
       " Row(block='191B'),\n",
       " Row(block='230'),\n",
       " Row(block='256'),\n",
       " Row(block='537'),\n",
       " Row(block='329'),\n",
       " Row(block='452'),\n",
       " Row(block='269A'),\n",
       " Row(block='275B'),\n",
       " Row(block='497G'),\n",
       " Row(block='438A'),\n",
       " Row(block='258A'),\n",
       " Row(block='523C'),\n",
       " Row(block='527B'),\n",
       " Row(block='320D'),\n",
       " Row(block='192C'),\n",
       " Row(block='201'),\n",
       " Row(block='503B'),\n",
       " Row(block='443C'),\n",
       " Row(block='681D'),\n",
       " Row(block='199C'),\n",
       " Row(block='495C'),\n",
       " Row(block='967'),\n",
       " Row(block='360A'),\n",
       " Row(block='80B'),\n",
       " Row(block='689C'),\n",
       " Row(block='799'),\n",
       " Row(block='471A'),\n",
       " Row(block='177'),\n",
       " Row(block='604'),\n",
       " Row(block='344'),\n",
       " Row(block='899B'),\n",
       " Row(block='14A'),\n",
       " Row(block='678'),\n",
       " Row(block='290G'),\n",
       " Row(block='673B'),\n",
       " Row(block='899A'),\n",
       " Row(block='830A'),\n",
       " Row(block='350C'),\n",
       " Row(block='244'),\n",
       " Row(block='229'),\n",
       " Row(block='657'),\n",
       " Row(block='702'),\n",
       " Row(block='273B'),\n",
       " Row(block='60'),\n",
       " Row(block='413'),\n",
       " Row(block='273D'),\n",
       " Row(block='104'),\n",
       " Row(block='246'),\n",
       " Row(block='68'),\n",
       " ...]"
      ]
     },
     "execution_count": 21,
     "metadata": {},
     "output_type": "execute_result"
    }
   ],
   "source": [
    "df.select('block').distinct().collect()"
   ]
  },
  {
   "cell_type": "code",
   "execution_count": 22,
   "metadata": {},
   "outputs": [
    {
     "name": "stdout",
     "output_type": "stream",
     "text": [
      "-RECORD 0--------------------------------\n",
      " year                | 2017              \n",
      " month               | 1                 \n",
      " town                | ANG MO KIO        \n",
      " flat_type           | 2 ROOM            \n",
      " block               | 406               \n",
      " street_name         | ANG MO KIO AVE 10 \n",
      " storey_range        | 10 TO 12          \n",
      " floor_area_sqm      | 44.0              \n",
      " flat_model          | Improved          \n",
      " lease_commence_date | 1979              \n",
      " remaining_lease     | 736               \n",
      " resale_price        | 232000.0          \n",
      "only showing top 1 row\n",
      "\n"
     ]
    }
   ],
   "source": [
    "#Overview of the columns with a row of data for understanding\n",
    "df.show(1, vertical=True)\n",
    "\n",
    "#Also, cross checking the data types according to the cell above\n",
    "#To ensure that pyspark identifies the correct data types\n",
    "#Block seems to be in the wrong data type but is correct\n",
    "#Block can contain letters (Ex. 123A)"
   ]
  },
  {
   "cell_type": "markdown",
   "metadata": {},
   "source": [
    "#### Data Exploration"
   ]
  },
  {
   "cell_type": "code",
   "execution_count": 23,
   "metadata": {},
   "outputs": [
    {
     "name": "stdout",
     "output_type": "stream",
     "text": [
      "+----------------+------------------+\n",
      "|       flat_type| avg(resale_price)|\n",
      "+----------------+------------------+\n",
      "|          1 ROOM| 186181.6551724138|\n",
      "|          2 ROOM|233600.68988030468|\n",
      "|          3 ROOM| 307712.2837821541|\n",
      "|          4 ROOM| 432760.1087740674|\n",
      "|          5 ROOM| 528812.8562151295|\n",
      "|       EXECUTIVE| 625390.6592435675|\n",
      "|MULTI-GENERATION| 806804.6060606061|\n",
      "+----------------+------------------+\n",
      "\n"
     ]
    }
   ],
   "source": [
    "df_DE1 = df.select([\"flat_type\", \"resale_price\"]).groupBy('flat_type').avg().sort(\"flat_type\").show()"
   ]
  },
  {
   "cell_type": "code",
   "execution_count": 24,
   "metadata": {},
   "outputs": [
    {
     "name": "stdout",
     "output_type": "stream",
     "text": [
      "+---------------+------------------+\n",
      "|           town| avg(resale_price)|\n",
      "+---------------+------------------+\n",
      "|         YISHUN| 359988.7258250635|\n",
      "|      WOODLANDS|376810.78428227745|\n",
      "|    BUKIT BATOK| 377715.2757037944|\n",
      "|      SEMBAWANG| 378804.1880729761|\n",
      "|  CHOA CHU KANG|384960.08120300755|\n",
      "|    JURONG WEST| 387879.4531122346|\n",
      "|          BEDOK| 410944.0495771362|\n",
      "|     ANG MO KIO| 411547.1964346932|\n",
      "|    JURONG EAST| 416185.7745504841|\n",
      "|  BUKIT PANJANG|428196.38632550335|\n",
      "|        HOUGANG|429212.74610328645|\n",
      "|        GEYLANG|430605.67181467183|\n",
      "|       SENGKANG|433994.11826156947|\n",
      "|        PUNGGOL| 453269.6137253925|\n",
      "|       CLEMENTI| 469028.6115466857|\n",
      "|       TAMPINES|474205.32034313725|\n",
      "|      SERANGOON| 490769.0934438583|\n",
      "|      PASIR RIS| 492123.0871459695|\n",
      "|      TOA PAYOH| 494166.7532051282|\n",
      "|KALLANG/WHAMPOA|496043.73121085594|\n",
      "+---------------+------------------+\n",
      "only showing top 20 rows\n",
      "\n"
     ]
    }
   ],
   "source": [
    "df_DE2 = df.select([\"town\", \"resale_price\"]).groupBy('town').avg().sort(\"avg(resale_price)\", ascending=True).show()"
   ]
  },
  {
   "cell_type": "markdown",
   "metadata": {},
   "source": [
    "#### Checking string values that may share the same meaning but different naming convention"
   ]
  },
  {
   "cell_type": "code",
   "execution_count": 25,
   "metadata": {},
   "outputs": [
    {
     "data": {
      "text/plain": [
       "[Row(town='QUEENSTOWN'),\n",
       " Row(town='BEDOK'),\n",
       " Row(town='CLEMENTI'),\n",
       " Row(town='SERANGOON'),\n",
       " Row(town='BUKIT PANJANG'),\n",
       " Row(town='BUKIT TIMAH'),\n",
       " Row(town='YISHUN'),\n",
       " Row(town='GEYLANG'),\n",
       " Row(town='WOODLANDS'),\n",
       " Row(town='BUKIT MERAH'),\n",
       " Row(town='TOA PAYOH'),\n",
       " Row(town='BISHAN'),\n",
       " Row(town='PUNGGOL'),\n",
       " Row(town='HOUGANG'),\n",
       " Row(town='ANG MO KIO'),\n",
       " Row(town='PASIR RIS'),\n",
       " Row(town='SENGKANG'),\n",
       " Row(town='KALLANG/WHAMPOA'),\n",
       " Row(town='BUKIT BATOK'),\n",
       " Row(town='TAMPINES'),\n",
       " Row(town='JURONG WEST'),\n",
       " Row(town='JURONG EAST'),\n",
       " Row(town='MARINE PARADE'),\n",
       " Row(town='CENTRAL AREA'),\n",
       " Row(town='SEMBAWANG'),\n",
       " Row(town='CHOA CHU KANG')]"
      ]
     },
     "execution_count": 25,
     "metadata": {},
     "output_type": "execute_result"
    }
   ],
   "source": [
    "df.select('town').distinct().collect()"
   ]
  },
  {
   "cell_type": "code",
   "execution_count": 26,
   "metadata": {},
   "outputs": [
    {
     "data": {
      "text/plain": [
       "[Row(flat_type='3 ROOM'),\n",
       " Row(flat_type='1 ROOM'),\n",
       " Row(flat_type='4 ROOM'),\n",
       " Row(flat_type='2 ROOM'),\n",
       " Row(flat_type='EXECUTIVE'),\n",
       " Row(flat_type='5 ROOM'),\n",
       " Row(flat_type='MULTI-GENERATION')]"
      ]
     },
     "execution_count": 26,
     "metadata": {},
     "output_type": "execute_result"
    }
   ],
   "source": [
    "df.select('flat_type').distinct().collect()"
   ]
  },
  {
   "cell_type": "code",
   "execution_count": 27,
   "metadata": {},
   "outputs": [
    {
     "data": {
      "text/plain": [
       "[Row(street_name='BEDOK STH AVE 3'),\n",
       " Row(street_name='JURONG EAST ST 32'),\n",
       " Row(street_name='NTH BRIDGE RD'),\n",
       " Row(street_name='BEDOK NTH ST 2'),\n",
       " Row(street_name='CRAWFORD LANE'),\n",
       " Row(street_name='ANG MO KIO ST 21'),\n",
       " Row(street_name='SEMBAWANG CRES'),\n",
       " Row(street_name='RIVERVALE DR'),\n",
       " Row(street_name='WOODLANDS DR 60'),\n",
       " Row(street_name='LIM LIAK ST'),\n",
       " Row(street_name='BEDOK NTH AVE 3'),\n",
       " Row(street_name='CHOA CHU KANG NTH 6'),\n",
       " Row(street_name='LOR 8 TOA PAYOH'),\n",
       " Row(street_name='JOO SENG RD'),\n",
       " Row(street_name='TAO CHING RD'),\n",
       " Row(street_name='CHOA CHU KANG ST 53'),\n",
       " Row(street_name='PUNGGOL PL'),\n",
       " Row(street_name='JLN DAMAI'),\n",
       " Row(street_name='MCNAIR RD'),\n",
       " Row(street_name='EVERTON PK'),\n",
       " Row(street_name='BT BATOK ST 25'),\n",
       " Row(street_name='JLN BT HO SWEE'),\n",
       " Row(street_name='KALLANG BAHRU'),\n",
       " Row(street_name='YISHUN ST 20'),\n",
       " Row(street_name='BEDOK NTH ST 4'),\n",
       " Row(street_name='SERANGOON NTH AVE 3'),\n",
       " Row(street_name='ANG MO KIO AVE 8'),\n",
       " Row(street_name='QUEEN ST'),\n",
       " Row(street_name=\"ST. GEORGE'S RD\"),\n",
       " Row(street_name='YISHUN ST 61'),\n",
       " Row(street_name='BUFFALO RD'),\n",
       " Row(street_name='ANCHORVALE CRES'),\n",
       " Row(street_name='BT BATOK ST 31'),\n",
       " Row(street_name='JURONG WEST ST 71'),\n",
       " Row(street_name='KLANG LANE'),\n",
       " Row(street_name='BOON KENG RD'),\n",
       " Row(street_name='JURONG EAST ST 31'),\n",
       " Row(street_name='ANG MO KIO AVE 9'),\n",
       " Row(street_name='EDGEFIELD PLAINS'),\n",
       " Row(street_name='JELAPANG RD'),\n",
       " Row(street_name='PASIR RIS ST 51'),\n",
       " Row(street_name='PUNGGOL WALK'),\n",
       " Row(street_name='ANG MO KIO AVE 4'),\n",
       " Row(street_name='BEDOK STH AVE 1'),\n",
       " Row(street_name='OLD AIRPORT RD'),\n",
       " Row(street_name='PUNGGOL DR'),\n",
       " Row(street_name='SPOTTISWOODE PK RD'),\n",
       " Row(street_name='JURONG WEST ST 91'),\n",
       " Row(street_name='PASIR RIS ST 72'),\n",
       " Row(street_name='WOODLANDS DR 62'),\n",
       " Row(street_name='YISHUN AVE 4'),\n",
       " Row(street_name='HOUGANG ST 22'),\n",
       " Row(street_name='ANCHORVALE ST'),\n",
       " Row(street_name='JLN RUMAH TINGGI'),\n",
       " Row(street_name='JLN MEMBINA'),\n",
       " Row(street_name=\"QUEEN'S RD\"),\n",
       " Row(street_name='BEDOK STH AVE 2'),\n",
       " Row(street_name='SENJA LINK'),\n",
       " Row(street_name='JURONG EAST ST 13'),\n",
       " Row(street_name='UPP SERANGOON CRES'),\n",
       " Row(street_name='ELIAS RD'),\n",
       " Row(street_name='ANG MO KIO ST 31'),\n",
       " Row(street_name='SEGAR RD'),\n",
       " Row(street_name='ROWELL RD'),\n",
       " Row(street_name='GEYLANG EAST AVE 1'),\n",
       " Row(street_name='JURONG EAST ST 21'),\n",
       " Row(street_name='WOODLANDS CRES'),\n",
       " Row(street_name='MONTREAL DR'),\n",
       " Row(street_name='DOVER CL EAST'),\n",
       " Row(street_name='UPP SERANGOON RD'),\n",
       " Row(street_name='YUNG SHENG RD'),\n",
       " Row(street_name='JLN KAYU'),\n",
       " Row(street_name='WOODLANDS AVE 6'),\n",
       " Row(street_name='LOR LEW LIAN'),\n",
       " Row(street_name='YISHUN ST 41'),\n",
       " Row(street_name='HOUGANG AVE 7'),\n",
       " Row(street_name='SIMEI ST 1'),\n",
       " Row(street_name='SIMEI ST 5'),\n",
       " Row(street_name='JOO CHIAT RD'),\n",
       " Row(street_name='HOUGANG AVE 6'),\n",
       " Row(street_name='PASIR RIS ST 12'),\n",
       " Row(street_name='WOODLANDS DR 50'),\n",
       " Row(street_name='JLN TENAGA'),\n",
       " Row(street_name='CLEMENTI ST 12'),\n",
       " Row(street_name=\"C'WEALTH DR\"),\n",
       " Row(street_name='CLARENCE LANE'),\n",
       " Row(street_name='GEYLANG SERAI'),\n",
       " Row(street_name='MONTREAL LINK'),\n",
       " Row(street_name='HOUGANG ST 52'),\n",
       " Row(street_name='CLEMENTI ST 11'),\n",
       " Row(street_name='JURONG WEST ST 93'),\n",
       " Row(street_name='OWEN RD'),\n",
       " Row(street_name='YISHUN ST 81'),\n",
       " Row(street_name='JURONG WEST ST 81'),\n",
       " Row(street_name='TAMPINES ST 41'),\n",
       " Row(street_name='YISHUN AVE 2'),\n",
       " Row(street_name='COMPASSVALE DR'),\n",
       " Row(street_name='WOODLANDS DR 52'),\n",
       " Row(street_name='TAMAN HO SWEE'),\n",
       " Row(street_name='SERANGOON CTRL'),\n",
       " Row(street_name='TAMPINES ST 83'),\n",
       " Row(street_name='UPP ALJUNIED LANE'),\n",
       " Row(street_name='JLN TENTERAM'),\n",
       " Row(street_name='STRATHMORE AVE'),\n",
       " Row(street_name='WOODLANDS AVE 4'),\n",
       " Row(street_name='CLEMENTI ST 14'),\n",
       " Row(street_name='CHAI CHEE AVE'),\n",
       " Row(street_name='JURONG WEST ST 42'),\n",
       " Row(street_name='WOODLANDS DR 71'),\n",
       " Row(street_name='CHOA CHU KANG CRES'),\n",
       " Row(street_name='CHANGI VILLAGE RD'),\n",
       " Row(street_name='ANCHORVALE LINK'),\n",
       " Row(street_name='BEDOK RESERVOIR RD'),\n",
       " Row(street_name='WOODLANDS DR 72'),\n",
       " Row(street_name='SENGKANG EAST AVE'),\n",
       " Row(street_name='INDUS RD'),\n",
       " Row(street_name='SENJA RD'),\n",
       " Row(street_name='SERANGOON AVE 2'),\n",
       " Row(street_name='CHOA CHU KANG LOOP'),\n",
       " Row(street_name='CLEMENTI AVE 1'),\n",
       " Row(street_name='BUANGKOK LINK'),\n",
       " Row(street_name='TAMPINES ST 71'),\n",
       " Row(street_name='WOODLANDS CIRCLE'),\n",
       " Row(street_name='WOODLANDS AVE 1'),\n",
       " Row(street_name='KRETA AYER RD'),\n",
       " Row(street_name='CHOA CHU KANG AVE 2'),\n",
       " Row(street_name=\"C'WEALTH CL\"),\n",
       " Row(street_name='YISHUN RING RD'),\n",
       " Row(street_name='KIM TIAN RD'),\n",
       " Row(street_name='CHAI CHEE RD'),\n",
       " Row(street_name='JLN TIGA'),\n",
       " Row(street_name='TAMPINES CTRL 8'),\n",
       " Row(street_name='BEDOK RESERVOIR CRES'),\n",
       " Row(street_name='FARRER RD'),\n",
       " Row(street_name='KG ARANG RD'),\n",
       " Row(street_name='BOON LAY AVE'),\n",
       " Row(street_name='PASIR RIS ST 71'),\n",
       " Row(street_name='DAKOTA CRES'),\n",
       " Row(street_name='ANG MO KIO AVE 1'),\n",
       " Row(street_name='HOUGANG AVE 8'),\n",
       " Row(street_name='JURONG WEST ST 62'),\n",
       " Row(street_name='PASIR RIS ST 52'),\n",
       " Row(street_name='UPP CROSS ST'),\n",
       " Row(street_name='BT BATOK WEST AVE 2'),\n",
       " Row(street_name='WOODLANDS AVE 9'),\n",
       " Row(street_name='CHOA CHU KANG DR'),\n",
       " Row(street_name='FERNVALE LANE'),\n",
       " Row(street_name='JURONG WEST ST 51'),\n",
       " Row(street_name='CHOA CHU KANG NTH 5'),\n",
       " Row(street_name='HOUGANG AVE 5'),\n",
       " Row(street_name='MARSILING RISE'),\n",
       " Row(street_name=\"C'WEALTH AVE WEST\"),\n",
       " Row(street_name='SERANGOON NTH AVE 4'),\n",
       " Row(street_name='TAMPINES ST 24'),\n",
       " Row(street_name='BT BATOK ST 32'),\n",
       " Row(street_name='BT BATOK CTRL'),\n",
       " Row(street_name='TELOK BLANGAH DR'),\n",
       " Row(street_name='DEPOT RD'),\n",
       " Row(street_name='WOODLANDS ST 32'),\n",
       " Row(street_name='BT MERAH VIEW'),\n",
       " Row(street_name='JURONG EAST ST 24'),\n",
       " Row(street_name='PUNGGOL RD'),\n",
       " Row(street_name='WOODLANDS RING RD'),\n",
       " Row(street_name='YISHUN ST 21'),\n",
       " Row(street_name='KANG CHING RD'),\n",
       " Row(street_name='PASIR RIS DR 6'),\n",
       " Row(street_name='PASIR RIS DR 4'),\n",
       " Row(street_name='WOODLANDS DR 53'),\n",
       " Row(street_name='TECK WHYE AVE'),\n",
       " Row(street_name='BT BATOK ST 52'),\n",
       " Row(street_name='HAVELOCK RD'),\n",
       " Row(street_name='HAIG RD'),\n",
       " Row(street_name='WOODLANDS DR 70'),\n",
       " Row(street_name='WOODLANDS DR 14'),\n",
       " Row(street_name='YISHUN AVE 6'),\n",
       " Row(street_name='PASIR RIS ST 13'),\n",
       " Row(street_name='KIM CHENG ST'),\n",
       " Row(street_name='CHOA CHU KANG NTH 7'),\n",
       " Row(street_name='BAIN ST'),\n",
       " Row(street_name='TAMPINES ST 91'),\n",
       " Row(street_name='SMITH ST'),\n",
       " Row(street_name='HOUGANG ST 92'),\n",
       " Row(street_name='PAYA LEBAR WAY'),\n",
       " Row(street_name='SERANGOON NTH AVE 2'),\n",
       " Row(street_name='PASIR RIS ST 41'),\n",
       " Row(street_name='LOR 1A TOA PAYOH'),\n",
       " Row(street_name='CHOA CHU KANG AVE 3'),\n",
       " Row(street_name='HOUGANG ST 91'),\n",
       " Row(street_name='SILAT AVE'),\n",
       " Row(street_name='CHAI CHEE ST'),\n",
       " Row(street_name='YISHUN CTRL'),\n",
       " Row(street_name='MACPHERSON LANE'),\n",
       " Row(street_name='HOUGANG ST 31'),\n",
       " Row(street_name='ALJUNIED RD'),\n",
       " Row(street_name='JLN DUA'),\n",
       " Row(street_name='JURONG WEST ST 65'),\n",
       " Row(street_name='LOR 5 TOA PAYOH'),\n",
       " Row(street_name='ANCHORVALE DR'),\n",
       " Row(street_name='HOUGANG AVE 3'),\n",
       " Row(street_name='BOON LAY DR'),\n",
       " Row(street_name='CHANDER RD'),\n",
       " Row(street_name='CLEMENTI WEST ST 2'),\n",
       " Row(street_name='TAH CHING RD'),\n",
       " Row(street_name='ANG MO KIO ST 32'),\n",
       " Row(street_name='VEERASAMY RD'),\n",
       " Row(street_name='TAMPINES ST 11'),\n",
       " Row(street_name='TAMPINES ST 21'),\n",
       " Row(street_name='WOODLANDS DR 75'),\n",
       " Row(street_name='AH HOOD RD'),\n",
       " Row(street_name='HOUGANG AVE 1'),\n",
       " Row(street_name='EDGEDALE PLAINS'),\n",
       " Row(street_name='WOODLANDS ST 13'),\n",
       " Row(street_name='BEACH RD'),\n",
       " Row(street_name='ANG MO KIO AVE 3'),\n",
       " Row(street_name='BEDOK STH RD'),\n",
       " Row(street_name='TELOK BLANGAH HTS'),\n",
       " Row(street_name='CHOA CHU KANG ST 52'),\n",
       " Row(street_name='ANCHORVALE RD'),\n",
       " Row(street_name='HOY FATT RD'),\n",
       " Row(street_name='YISHUN ST 31'),\n",
       " Row(street_name='YUNG HO RD'),\n",
       " Row(street_name='LOR LIMAU'),\n",
       " Row(street_name='CLEMENTI ST 13'),\n",
       " Row(street_name='LOR 3 GEYLANG'),\n",
       " Row(street_name='HOUGANG ST 51'),\n",
       " Row(street_name='GEYLANG BAHRU'),\n",
       " Row(street_name='MARSILING LANE'),\n",
       " Row(street_name='BT BATOK WEST AVE 7'),\n",
       " Row(street_name='CHOA CHU KANG ST 64'),\n",
       " Row(street_name='JURONG WEST CTRL 1'),\n",
       " Row(street_name='TOA PAYOH CTRL'),\n",
       " Row(street_name='SEMBAWANG VISTA'),\n",
       " Row(street_name='LOWER DELTA RD'),\n",
       " Row(street_name='BEDOK NTH ST 3'),\n",
       " Row(street_name='BRIGHT HILL DR'),\n",
       " Row(street_name='MOH GUAN TER'),\n",
       " Row(street_name='SENGKANG WEST AVE'),\n",
       " Row(street_name='HO CHING RD'),\n",
       " Row(street_name='HOUGANG ST 21'),\n",
       " Row(street_name='MARSILING RD'),\n",
       " Row(street_name='BEDOK NTH AVE 4'),\n",
       " Row(street_name='CHOA CHU KANG ST 54'),\n",
       " Row(street_name='TAMPINES AVE 8'),\n",
       " Row(street_name='DELTA AVE'),\n",
       " Row(street_name='CHOA CHU KANG AVE 4'),\n",
       " Row(street_name='SEMBAWANG DR'),\n",
       " Row(street_name='SERANGOON AVE 4'),\n",
       " Row(street_name='TAMPINES ST 84'),\n",
       " Row(street_name='REDHILL CL'),\n",
       " Row(street_name=\"QUEEN'S CL\"),\n",
       " Row(street_name='DOVER RD'),\n",
       " Row(street_name='MARSILING DR'),\n",
       " Row(street_name='YISHUN ST 72'),\n",
       " Row(street_name='KIM KEAT LINK'),\n",
       " Row(street_name='SIN MING RD'),\n",
       " Row(street_name='PENDING RD'),\n",
       " Row(street_name='PASIR RIS DR 1'),\n",
       " Row(street_name='BEDOK NTH ST 1'),\n",
       " Row(street_name='ANG MO KIO ST 52'),\n",
       " Row(street_name='JURONG WEST ST 64'),\n",
       " Row(street_name=\"ST. GEORGE'S LANE\"),\n",
       " Row(street_name='YUNG AN RD'),\n",
       " Row(street_name='BT BATOK ST 11'),\n",
       " Row(street_name='FARRER PK RD'),\n",
       " Row(street_name='WHAMPOA WEST'),\n",
       " Row(street_name='PUNGGOL WAY'),\n",
       " Row(street_name='BISHAN ST 13'),\n",
       " Row(street_name='HOUGANG AVE 10'),\n",
       " Row(street_name='HOLLAND CL'),\n",
       " Row(street_name='SERANGOON CTRL DR'),\n",
       " Row(street_name='YISHUN AVE 9'),\n",
       " Row(street_name='BISHAN ST 23'),\n",
       " Row(street_name='TOWNER RD'),\n",
       " Row(street_name='SIN MING AVE'),\n",
       " Row(street_name='SHUNFU RD'),\n",
       " Row(street_name='PIPIT RD'),\n",
       " Row(street_name=\"C'WEALTH CRES\"),\n",
       " Row(street_name='SIMEI LANE'),\n",
       " Row(street_name='TIONG BAHRU RD'),\n",
       " Row(street_name='FERNVALE LINK'),\n",
       " Row(street_name='ANG MO KIO ST 61'),\n",
       " Row(street_name='ANG MO KIO AVE 10'),\n",
       " Row(street_name='TELOK BLANGAH WAY'),\n",
       " Row(street_name='CLEMENTI AVE 2'),\n",
       " Row(street_name='JURONG WEST ST 52'),\n",
       " Row(street_name='PASIR RIS ST 21'),\n",
       " Row(street_name='CANBERRA RD'),\n",
       " Row(street_name='YISHUN AVE 11'),\n",
       " Row(street_name='TESSENSOHN RD'),\n",
       " Row(street_name='BISHAN ST 12'),\n",
       " Row(street_name='JLN KLINIK'),\n",
       " Row(street_name='COMPASSVALE BOW'),\n",
       " Row(street_name='TOA PAYOH EAST'),\n",
       " Row(street_name='JURONG WEST ST 75'),\n",
       " Row(street_name='CLEMENTI AVE 6'),\n",
       " Row(street_name='YUAN CHING RD'),\n",
       " Row(street_name='ANG MO KIO AVE 6'),\n",
       " Row(street_name='JLN BATU'),\n",
       " Row(street_name='SENGKANG CTRL'),\n",
       " Row(street_name='BT BATOK ST 21'),\n",
       " Row(street_name='BT MERAH LANE 1'),\n",
       " Row(street_name='WOODLANDS DR 44'),\n",
       " Row(street_name='RIVERVALE WALK'),\n",
       " Row(street_name='YUNG PING RD'),\n",
       " Row(street_name='CHOA CHU KANG ST 62'),\n",
       " Row(street_name='SELEGIE RD'),\n",
       " Row(street_name='JLN TECK WHYE'),\n",
       " Row(street_name='CHOA CHU KANG AVE 5'),\n",
       " Row(street_name='TELOK BLANGAH ST 31'),\n",
       " Row(street_name='HOUGANG AVE 2'),\n",
       " Row(street_name='MEI LING ST'),\n",
       " Row(street_name='POTONG PASIR AVE 1'),\n",
       " Row(street_name='BEDOK NTH AVE 1'),\n",
       " Row(street_name='LOR 2 TOA PAYOH'),\n",
       " Row(street_name='STIRLING RD'),\n",
       " Row(street_name='LOR 1 TOA PAYOH'),\n",
       " Row(street_name='TOA PAYOH NTH'),\n",
       " Row(street_name='CANTONMENT RD'),\n",
       " Row(street_name='RIVERVALE ST'),\n",
       " Row(street_name='WOODLANDS ST 31'),\n",
       " Row(street_name='YISHUN ST 11'),\n",
       " Row(street_name='TAMPINES ST 81'),\n",
       " Row(street_name='BEDOK NTH AVE 2'),\n",
       " Row(street_name='DORSET RD'),\n",
       " Row(street_name='CHIN SWEE RD'),\n",
       " Row(street_name='YISHUN ST 51'),\n",
       " Row(street_name='TOH YI DR'),\n",
       " Row(street_name='NEW MKT RD'),\n",
       " Row(street_name='BT BATOK EAST AVE 5'),\n",
       " Row(street_name='TAMPINES ST 72'),\n",
       " Row(street_name='TAMPINES ST 12'),\n",
       " Row(street_name='YUNG LOH RD'),\n",
       " Row(street_name='JLN BT MERAH'),\n",
       " Row(street_name='TECK WHYE CRES'),\n",
       " Row(street_name='SUMANG LINK'),\n",
       " Row(street_name='TEBAN GDNS RD'),\n",
       " Row(street_name='JURONG WEST ST 61'),\n",
       " Row(street_name='SERANGOON AVE 1'),\n",
       " Row(street_name='KELANTAN RD'),\n",
       " Row(street_name='SEMBAWANG WAY'),\n",
       " Row(street_name='CHAI CHEE DR'),\n",
       " Row(street_name='BT BATOK EAST AVE 3'),\n",
       " Row(street_name='CHOA CHU KANG ST 51'),\n",
       " Row(street_name='SENGKANG EAST RD'),\n",
       " Row(street_name='JELEBU RD'),\n",
       " Row(street_name='ALJUNIED CRES'),\n",
       " Row(street_name='TELOK BLANGAH RISE'),\n",
       " Row(street_name='HOUGANG ST 11'),\n",
       " Row(street_name='TAMPINES AVE 7'),\n",
       " Row(street_name='CLEMENTI AVE 3'),\n",
       " Row(street_name='MARINE CRES'),\n",
       " Row(street_name='LOR AH SOO'),\n",
       " Row(street_name='CANTONMENT CL'),\n",
       " Row(street_name='WOODLANDS ST 11'),\n",
       " Row(street_name='TAMPINES CTRL 1'),\n",
       " Row(street_name='WOODLANDS DR 73'),\n",
       " Row(street_name='LENGKONG TIGA'),\n",
       " Row(street_name='TAMPINES CTRL 7'),\n",
       " Row(street_name='YISHUN AVE 3'),\n",
       " Row(street_name='WEST COAST DR'),\n",
       " Row(street_name=\"C'WEALTH AVE\"),\n",
       " Row(street_name='BT BATOK ST 24'),\n",
       " Row(street_name='JURONG WEST ST 72'),\n",
       " Row(street_name='BT BATOK ST 51'),\n",
       " Row(street_name='EUNOS RD 5'),\n",
       " Row(street_name='PASIR RIS DR 3'),\n",
       " Row(street_name='TAMPINES ST 45'),\n",
       " Row(street_name='CAMBRIDGE RD'),\n",
       " Row(street_name='ANG MO KIO ST 11'),\n",
       " Row(street_name='SEMBAWANG CL'),\n",
       " Row(street_name='COMPASSVALE ST'),\n",
       " Row(street_name='YISHUN ST 22'),\n",
       " Row(street_name='CASHEW RD'),\n",
       " Row(street_name='CASSIA CRES'),\n",
       " Row(street_name='JURONG WEST ST 73'),\n",
       " Row(street_name='YISHUN ST 71'),\n",
       " Row(street_name='UPP SERANGOON VIEW'),\n",
       " Row(street_name='BT BATOK WEST AVE 6'),\n",
       " Row(street_name='CIRCUIT RD'),\n",
       " Row(street_name='TAMPINES ST 32'),\n",
       " Row(street_name='BT BATOK ST 33'),\n",
       " Row(street_name='CHOA CHU KANG CTRL'),\n",
       " Row(street_name='MARSILING CRES'),\n",
       " Row(street_name='WOODLANDS DR 16'),\n",
       " Row(street_name='GHIM MOH LINK'),\n",
       " Row(street_name='TAMPINES AVE 1'),\n",
       " Row(street_name='NEW UPP CHANGI RD'),\n",
       " Row(street_name='BT BATOK ST 22'),\n",
       " Row(street_name='ANCHORVALE LANE'),\n",
       " Row(street_name='POTONG PASIR AVE 3'),\n",
       " Row(street_name='WHAMPOA RD'),\n",
       " Row(street_name='SIMS PL'),\n",
       " Row(street_name='WOODLANDS ST 81'),\n",
       " Row(street_name='KIM TIAN PL'),\n",
       " Row(street_name='SIMS DR'),\n",
       " Row(street_name='TAMPINES AVE 4'),\n",
       " Row(street_name='GLOUCESTER RD'),\n",
       " Row(street_name='FRENCH RD'),\n",
       " Row(street_name='BALAM RD'),\n",
       " Row(street_name='JLN BAHAGIA'),\n",
       " Row(street_name='KG KAYU RD'),\n",
       " Row(street_name='MARINE TER'),\n",
       " Row(street_name='ANG MO KIO AVE 2'),\n",
       " Row(street_name='BANGKIT RD'),\n",
       " Row(street_name='BUANGKOK CRES'),\n",
       " Row(street_name='PASIR RIS ST 11'),\n",
       " Row(street_name='COMPASSVALE LINK'),\n",
       " Row(street_name='TAMPINES ST 82'),\n",
       " Row(street_name='WHAMPOA STH'),\n",
       " Row(street_name='TAMPINES ST 34'),\n",
       " Row(street_name='JLN BERSEH'),\n",
       " Row(street_name='CLEMENTI AVE 5'),\n",
       " Row(street_name='SAUJANA RD'),\n",
       " Row(street_name='BEDOK RESERVOIR VIEW'),\n",
       " Row(street_name='SERANGOON AVE 3'),\n",
       " Row(street_name='KIM PONG RD'),\n",
       " Row(street_name='RACE COURSE RD'),\n",
       " Row(street_name='PASIR RIS DR 10'),\n",
       " Row(street_name='TANGLIN HALT RD'),\n",
       " Row(street_name='WOODLANDS AVE 3'),\n",
       " Row(street_name='BISHAN ST 11'),\n",
       " Row(street_name='JURONG WEST AVE 3'),\n",
       " Row(street_name='LOR 4 TOA PAYOH'),\n",
       " Row(street_name='CLEMENTI AVE 4'),\n",
       " Row(street_name='TAMPINES ST 23'),\n",
       " Row(street_name='SENGKANG WEST WAY'),\n",
       " Row(street_name='BISHAN ST 24'),\n",
       " Row(street_name='BT BATOK WEST AVE 5'),\n",
       " Row(street_name='REDHILL RD'),\n",
       " Row(street_name='BT PANJANG RING RD'),\n",
       " Row(street_name='LOR 6 TOA PAYOH'),\n",
       " Row(street_name='CORPORATION DR'),\n",
       " Row(street_name='BEDOK NTH RD'),\n",
       " Row(street_name='BEDOK CTRL'),\n",
       " Row(street_name='BOON LAY PL'),\n",
       " Row(street_name='FAJAR RD'),\n",
       " Row(street_name='GEYLANG EAST CTRL'),\n",
       " Row(street_name=\"JLN MA'MOR\"),\n",
       " Row(street_name='CLEMENTI WEST ST 1'),\n",
       " Row(street_name='CANBERRA LINK'),\n",
       " Row(street_name='LENGKOK BAHRU'),\n",
       " Row(street_name='JLN KUKOH'),\n",
       " Row(street_name='TAMPINES ST 44'),\n",
       " Row(street_name='JURONG WEST ST 24'),\n",
       " Row(street_name='UPP BOON KENG RD'),\n",
       " Row(street_name='ADMIRALTY LINK'),\n",
       " Row(street_name='COMPASSVALE WALK'),\n",
       " Row(street_name='BEO CRES'),\n",
       " Row(street_name='COMPASSVALE LANE'),\n",
       " Row(street_name='WOODLANDS ST 82'),\n",
       " Row(street_name='KIM KEAT AVE'),\n",
       " Row(street_name='BT BATOK EAST AVE 4'),\n",
       " Row(street_name='JURONG EAST AVE 1'),\n",
       " Row(street_name='SENGKANG EAST WAY'),\n",
       " Row(street_name='SIMEI ST 4'),\n",
       " Row(street_name='PUNGGOL FIELD'),\n",
       " Row(street_name='WOODLANDS ST 83'),\n",
       " Row(street_name='CHOA CHU KANG AVE 1'),\n",
       " Row(street_name='JELLICOE RD'),\n",
       " Row(street_name='BISHAN ST 22'),\n",
       " Row(street_name='WHAMPOA DR'),\n",
       " Row(street_name='LOR 3 TOA PAYOH'),\n",
       " Row(street_name='WOODLANDS DR 40'),\n",
       " Row(street_name='HOUGANG CTRL'),\n",
       " Row(street_name='GHIM MOH RD'),\n",
       " Row(street_name='SIMEI ST 2'),\n",
       " Row(street_name='TAMPINES ST 43'),\n",
       " Row(street_name='TECK WHYE LANE'),\n",
       " Row(street_name='TAMPINES AVE 9'),\n",
       " Row(street_name='SIMEI RD'),\n",
       " Row(street_name='MARINE DR'),\n",
       " Row(street_name='PASIR RIS ST 53'),\n",
       " Row(street_name='HOLLAND AVE'),\n",
       " Row(street_name='POTONG PASIR AVE 2'),\n",
       " Row(street_name='BT PURMEI RD'),\n",
       " Row(street_name='ZION RD'),\n",
       " Row(street_name='EUNOS CRES'),\n",
       " Row(street_name='PUNGGOL EAST'),\n",
       " Row(street_name='YISHUN AVE 1'),\n",
       " Row(street_name='TELOK BLANGAH CRES'),\n",
       " Row(street_name='UBI AVE 1'),\n",
       " Row(street_name='PUNGGOL FIELD WALK'),\n",
       " Row(street_name='HOLLAND DR'),\n",
       " Row(street_name='WOODLANDS DR 42'),\n",
       " Row(street_name='YISHUN AVE 5'),\n",
       " Row(street_name='TAMPINES ST 42'),\n",
       " Row(street_name='EMPRESS RD'),\n",
       " Row(street_name='BT BATOK ST 34'),\n",
       " Row(street_name='WATERLOO ST'),\n",
       " Row(street_name='TAMPINES AVE 5'),\n",
       " Row(street_name='BOON TIONG RD'),\n",
       " Row(street_name='JLN DUSUN'),\n",
       " Row(street_name=\"KING GEORGE'S AVE\"),\n",
       " Row(street_name='HENDERSON CRES'),\n",
       " Row(street_name='GANGSA RD'),\n",
       " Row(street_name='JURONG WEST AVE 1'),\n",
       " Row(street_name='FERNVALE RD'),\n",
       " Row(street_name='HOUGANG AVE 4'),\n",
       " Row(street_name='JURONG WEST ST 41'),\n",
       " Row(street_name='RIVERVALE CRES'),\n",
       " Row(street_name='COMPASSVALE RD'),\n",
       " Row(street_name='BT BATOK WEST AVE 4'),\n",
       " Row(street_name='BUANGKOK GREEN'),\n",
       " Row(street_name='PUNGGOL CTRL'),\n",
       " Row(street_name='TAMPINES ST 33'),\n",
       " Row(street_name='TG PAGAR PLAZA'),\n",
       " Row(street_name='WEST COAST RD'),\n",
       " Row(street_name='JURONG WEST ST 74'),\n",
       " Row(street_name='JLN RAJAH'),\n",
       " Row(street_name='YISHUN AVE 7'),\n",
       " Row(street_name='SIMS AVE'),\n",
       " Row(street_name='DOVER CRES'),\n",
       " Row(street_name='REDHILL LANE'),\n",
       " Row(street_name='BENDEMEER RD'),\n",
       " Row(street_name='WOODLANDS ST 41'),\n",
       " Row(street_name='JURONG WEST ST 25'),\n",
       " Row(street_name='ADMIRALTY DR'),\n",
       " Row(street_name='SAGO LANE'),\n",
       " Row(street_name='BT MERAH CTRL'),\n",
       " Row(street_name='PANDAN GDNS'),\n",
       " Row(street_name='JURONG WEST ST 92'),\n",
       " Row(street_name='WOODLANDS AVE 5'),\n",
       " Row(street_name='HOUGANG ST 61'),\n",
       " Row(street_name='SERANGOON NTH AVE 1'),\n",
       " Row(street_name='LOR 7 TOA PAYOH'),\n",
       " Row(street_name='HOUGANG AVE 9'),\n",
       " Row(street_name='TAMPINES ST 22'),\n",
       " Row(street_name='PINE CL'),\n",
       " Row(street_name='COMPASSVALE CRES'),\n",
       " Row(street_name='KENT RD'),\n",
       " Row(street_name='BT BATOK WEST AVE 8'),\n",
       " Row(street_name='PETIR RD'),\n",
       " Row(street_name='LOMPANG RD'),\n",
       " Row(street_name='WELLINGTON CIRCLE'),\n",
       " Row(street_name='YISHUN CTRL 1'),\n",
       " Row(street_name='JURONG WEST AVE 5'),\n",
       " Row(street_name='MOULMEIN RD'),\n",
       " Row(street_name='YUNG KUANG RD'),\n",
       " Row(street_name='ANG MO KIO AVE 5'),\n",
       " Row(street_name='TOH GUAN RD'),\n",
       " Row(street_name='QUEENSWAY')]"
      ]
     },
     "execution_count": 27,
     "metadata": {},
     "output_type": "execute_result"
    }
   ],
   "source": [
    "df.select('street_name').distinct().collect()"
   ]
  },
  {
   "cell_type": "code",
   "execution_count": 28,
   "metadata": {},
   "outputs": [
    {
     "data": {
      "text/plain": [
       "[Row(storey_range='43 TO 45'),\n",
       " Row(storey_range='37 TO 39'),\n",
       " Row(storey_range='10 TO 12'),\n",
       " Row(storey_range='04 TO 06'),\n",
       " Row(storey_range='40 TO 42'),\n",
       " Row(storey_range='16 TO 18'),\n",
       " Row(storey_range='19 TO 21'),\n",
       " Row(storey_range='34 TO 36'),\n",
       " Row(storey_range='31 TO 33'),\n",
       " Row(storey_range='13 TO 15'),\n",
       " Row(storey_range='46 TO 48'),\n",
       " Row(storey_range='22 TO 24'),\n",
       " Row(storey_range='25 TO 27'),\n",
       " Row(storey_range='07 TO 09'),\n",
       " Row(storey_range='01 TO 03'),\n",
       " Row(storey_range='28 TO 30'),\n",
       " Row(storey_range='49 TO 51')]"
      ]
     },
     "execution_count": 28,
     "metadata": {},
     "output_type": "execute_result"
    }
   ],
   "source": [
    "df.select('storey_range').distinct().collect()"
   ]
  },
  {
   "cell_type": "code",
   "execution_count": 29,
   "metadata": {},
   "outputs": [
    {
     "data": {
      "text/plain": [
       "[Row(flat_model='Apartment'),\n",
       " Row(flat_model='Premium Maisonette'),\n",
       " Row(flat_model='Improved'),\n",
       " Row(flat_model='Type S2'),\n",
       " Row(flat_model='New Generation'),\n",
       " Row(flat_model='Improved-Maisonette'),\n",
       " Row(flat_model='Model A-Maisonette'),\n",
       " Row(flat_model='Maisonette'),\n",
       " Row(flat_model='Multi Generation'),\n",
       " Row(flat_model='Model A'),\n",
       " Row(flat_model='DBSS'),\n",
       " Row(flat_model='Simplified'),\n",
       " Row(flat_model='Terrace'),\n",
       " Row(flat_model='Adjoined flat'),\n",
       " Row(flat_model='Type S1'),\n",
       " Row(flat_model='Standard'),\n",
       " Row(flat_model='Premium Apartment'),\n",
       " Row(flat_model='Model A2'),\n",
       " Row(flat_model='Premium Apartment Loft')]"
      ]
     },
     "execution_count": 29,
     "metadata": {},
     "output_type": "execute_result"
    }
   ],
   "source": [
    "df.select('flat_model').distinct().collect()"
   ]
  },
  {
   "cell_type": "markdown",
   "metadata": {},
   "source": [
    "#### Step 2.1: Grouping"
   ]
  },
  {
   "cell_type": "code",
   "execution_count": 30,
   "metadata": {},
   "outputs": [
    {
     "data": {
      "text/html": [
       "<table border='1'>\n",
       "<tr><th>flat_type</th><th>avg(year)</th><th>avg(month)</th><th>avg(floor_area_sqm)</th><th>avg(lease_commence_date)</th><th>avg(remaining_lease)</th><th>avg(resale_price)</th></tr>\n",
       "<tr><td>3 ROOM</td><td>2018.0241195714927</td><td>6.7736224260696645</td><td>68.29045480787735</td><td>1984.083520431073</td><td>779.8618897940855</td><td>307712.2837821541</td></tr>\n",
       "<tr><td>1 ROOM</td><td>2018.0689655172414</td><td>5.827586206896552</td><td>31.0</td><td>1975.0</td><td>668.5172413793103</td><td>186181.6551724138</td></tr>\n",
       "<tr><td>4 ROOM</td><td>2018.0238041516245</td><td>6.782039711191335</td><td>95.56707105719238</td><td>1997.065959687124</td><td>936.4632972322503</td><td>432760.1087740674</td></tr>\n",
       "<tr><td>2 ROOM</td><td>2018.2121871599566</td><td>6.9162132752992385</td><td>45.869423286180634</td><td>1995.4036996735583</td><td>913.0533188248096</td><td>233600.68988030468</td></tr>\n",
       "<tr><td>EXECUTIVE</td><td>2018.0087057457922</td><td>6.700909266782744</td><td>144.30160572644613</td><td>1993.595473012188</td><td>895.2505320177984</td><td>625390.6592435675</td></tr>\n",
       "<tr><td>5 ROOM</td><td>2018.0267026891179</td><td>6.7964940939934655</td><td>118.18541090726313</td><td>1997.0799195777834</td><td>936.5038326212616</td><td>528812.8562151295</td></tr>\n",
       "<tr><td>MULTI-GENERATION</td><td>2018.3030303030303</td><td>7.9393939393939394</td><td>164.8181818181818</td><td>1987.060606060606</td><td>815.0909090909091</td><td>806804.6060606061</td></tr>\n",
       "</table>\n"
      ],
      "text/plain": [
       "+----------------+------------------+------------------+-------------------+------------------------+--------------------+------------------+\n",
       "|       flat_type|         avg(year)|        avg(month)|avg(floor_area_sqm)|avg(lease_commence_date)|avg(remaining_lease)| avg(resale_price)|\n",
       "+----------------+------------------+------------------+-------------------+------------------------+--------------------+------------------+\n",
       "|          3 ROOM|2018.0241195714927|6.7736224260696645|  68.29045480787735|       1984.083520431073|   779.8618897940855| 307712.2837821541|\n",
       "|          1 ROOM|2018.0689655172414| 5.827586206896552|               31.0|                  1975.0|   668.5172413793103| 186181.6551724138|\n",
       "|          4 ROOM|2018.0238041516245| 6.782039711191335|  95.56707105719238|       1997.065959687124|   936.4632972322503| 432760.1087740674|\n",
       "|          2 ROOM|2018.2121871599566|6.9162132752992385| 45.869423286180634|      1995.4036996735583|   913.0533188248096|233600.68988030468|\n",
       "|       EXECUTIVE|2018.0087057457922| 6.700909266782744| 144.30160572644613|       1993.595473012188|   895.2505320177984| 625390.6592435675|\n",
       "|          5 ROOM|2018.0267026891179|6.7964940939934655| 118.18541090726313|      1997.0799195777834|   936.5038326212616| 528812.8562151295|\n",
       "|MULTI-GENERATION|2018.3030303030303|7.9393939393939394|  164.8181818181818|       1987.060606060606|   815.0909090909091| 806804.6060606061|\n",
       "+----------------+------------------+------------------+-------------------+------------------------+--------------------+------------------+"
      ]
     },
     "execution_count": 30,
     "metadata": {},
     "output_type": "execute_result"
    }
   ],
   "source": [
    "#Average of each columns grouped by the different flat types\n",
    "df.groupby('flat_type').avg()"
   ]
  },
  {
   "cell_type": "code",
   "execution_count": 31,
   "metadata": {},
   "outputs": [
    {
     "name": "stdout",
     "output_type": "stream",
     "text": [
      "+----------------+---------+----------+-------------------+------------------------+--------------------+-----------------+\n",
      "|       flat_type|max(year)|max(month)|max(floor_area_sqm)|max(lease_commence_date)|max(remaining_lease)|max(resale_price)|\n",
      "+----------------+---------+----------+-------------------+------------------------+--------------------+-----------------+\n",
      "|          3 ROOM|     2019|        12|              249.0|                    2016|                1160|        1185000.0|\n",
      "|          1 ROOM|     2019|        11|               31.0|                    1975|                 684|         232000.0|\n",
      "|          4 ROOM|     2019|        12|              135.0|                    2016|                1160|        1110000.0|\n",
      "|          2 ROOM|     2019|        12|               60.0|                    2015|                1159|         418000.0|\n",
      "|       EXECUTIVE|     2019|        12|              215.0|                    2004|                1034|        1160000.0|\n",
      "|          5 ROOM|     2019|        12|              160.0|                    2016|                1158|        1205000.0|\n",
      "|MULTI-GENERATION|     2019|        12|              179.0|                    1988|                 831|         990000.0|\n",
      "+----------------+---------+----------+-------------------+------------------------+--------------------+-----------------+\n",
      "\n"
     ]
    }
   ],
   "source": [
    "#Finding out the Max Resale price for each flat type\n",
    "df.groupBy('flat_type').max().show()"
   ]
  },
  {
   "cell_type": "code",
   "execution_count": 32,
   "metadata": {},
   "outputs": [
    {
     "name": "stdout",
     "output_type": "stream",
     "text": [
      "+----------------+-----+\n",
      "|       flat_type|count|\n",
      "+----------------+-----+\n",
      "|          3 ROOM|15589|\n",
      "|          1 ROOM|   29|\n",
      "|          4 ROOM|26592|\n",
      "|          2 ROOM|  919|\n",
      "|       EXECUTIVE| 5169|\n",
      "|          5 ROOM|15916|\n",
      "|MULTI-GENERATION|   33|\n",
      "+----------------+-----+\n",
      "\n"
     ]
    }
   ],
   "source": [
    "df.groupBy('flat_type').count().show()"
   ]
  },
  {
   "cell_type": "code",
   "execution_count": 33,
   "metadata": {},
   "outputs": [
    {
     "name": "stdout",
     "output_type": "stream",
     "text": [
      "+------------+------------------+\n",
      "|storey_range| avg(resale_price)|\n",
      "+------------+------------------+\n",
      "|    01 TO 03| 394274.2836198463|\n",
      "|    04 TO 06| 412115.9694568433|\n",
      "|    07 TO 09|423477.66865580005|\n",
      "|    10 TO 12|438086.75250713184|\n",
      "|    13 TO 15|472987.87508488825|\n",
      "|    16 TO 18|514570.93940520444|\n",
      "|    19 TO 21| 591394.6781223805|\n",
      "|    22 TO 24| 610122.5498092031|\n",
      "|    25 TO 27| 666919.1401295896|\n",
      "|    28 TO 30| 751391.7605177993|\n",
      "|    31 TO 33| 800630.9291338583|\n",
      "|    34 TO 36| 802757.8962962963|\n",
      "|    37 TO 39| 845602.7674418605|\n",
      "|    40 TO 42|       894045.9375|\n",
      "|    43 TO 45|1037833.3333333334|\n",
      "|    46 TO 48|1018845.4545454546|\n",
      "|    49 TO 51|1022814.6666666666|\n",
      "+------------+------------------+\n",
      "\n"
     ]
    }
   ],
   "source": [
    "df.select(\"storey_range\", \"resale_price\").groupBy(\"storey_range\").mean().sort(\"storey_range\").show()"
   ]
  },
  {
   "cell_type": "code",
   "execution_count": 34,
   "metadata": {},
   "outputs": [
    {
     "data": {
      "text/html": [
       "<table border='1'>\n",
       "<tr><th>storey_range</th><th>count</th></tr>\n",
       "<tr><td>01 TO 03</td><td>11448</td></tr>\n",
       "<tr><td>04 TO 06</td><td>14876</td></tr>\n",
       "<tr><td>07 TO 09</td><td>13681</td></tr>\n",
       "<tr><td>10 TO 12</td><td>12269</td></tr>\n",
       "<tr><td>13 TO 15</td><td>5949</td></tr>\n",
       "<tr><td>16 TO 18</td><td>2690</td></tr>\n",
       "<tr><td>19 TO 21</td><td>1193</td></tr>\n",
       "<tr><td>22 TO 24</td><td>891</td></tr>\n",
       "<tr><td>25 TO 27</td><td>463</td></tr>\n",
       "<tr><td>28 TO 30</td><td>309</td></tr>\n",
       "<tr><td>31 TO 33</td><td>127</td></tr>\n",
       "<tr><td>34 TO 36</td><td>135</td></tr>\n",
       "<tr><td>37 TO 39</td><td>129</td></tr>\n",
       "<tr><td>40 TO 42</td><td>64</td></tr>\n",
       "<tr><td>43 TO 45</td><td>6</td></tr>\n",
       "<tr><td>46 TO 48</td><td>11</td></tr>\n",
       "<tr><td>49 TO 51</td><td>6</td></tr>\n",
       "</table>\n"
      ],
      "text/plain": [
       "+------------+-----+\n",
       "|storey_range|count|\n",
       "+------------+-----+\n",
       "|    01 TO 03|11448|\n",
       "|    04 TO 06|14876|\n",
       "|    07 TO 09|13681|\n",
       "|    10 TO 12|12269|\n",
       "|    13 TO 15| 5949|\n",
       "|    16 TO 18| 2690|\n",
       "|    19 TO 21| 1193|\n",
       "|    22 TO 24|  891|\n",
       "|    25 TO 27|  463|\n",
       "|    28 TO 30|  309|\n",
       "|    31 TO 33|  127|\n",
       "|    34 TO 36|  135|\n",
       "|    37 TO 39|  129|\n",
       "|    40 TO 42|   64|\n",
       "|    43 TO 45|    6|\n",
       "|    46 TO 48|   11|\n",
       "|    49 TO 51|    6|\n",
       "+------------+-----+"
      ]
     },
     "execution_count": 34,
     "metadata": {},
     "output_type": "execute_result"
    }
   ],
   "source": [
    "df.select(\"storey_range\").groupBy(\"storey_range\").count().sort(\"storey_range\")"
   ]
  },
  {
   "cell_type": "markdown",
   "metadata": {},
   "source": [
    "#### Step 2.2: Filtering"
   ]
  },
  {
   "cell_type": "code",
   "execution_count": 35,
   "metadata": {},
   "outputs": [
    {
     "name": "stdout",
     "output_type": "stream",
     "text": [
      "+--------------+------------+\n",
      "|floor_area_sqm|resale_price|\n",
      "+--------------+------------+\n",
      "|         118.0|    530000.0|\n",
      "|         119.0|    560000.0|\n",
      "|         120.0|    568888.0|\n",
      "|         137.0|    590000.0|\n",
      "|         112.0|    608000.0|\n",
      "|         119.0|    630000.0|\n",
      "|         117.0|    873388.0|\n",
      "|         120.0|    875000.0|\n",
      "|         120.0|    880000.0|\n",
      "|         117.0|    535000.0|\n",
      "|         126.0|    550008.0|\n",
      "|         119.0|    565000.0|\n",
      "|         127.0|    613000.0|\n",
      "|         117.0|    615000.0|\n",
      "|         122.0|    630000.0|\n",
      "|         118.0|    650000.0|\n",
      "|         115.0|    660000.0|\n",
      "|         117.0|    719888.0|\n",
      "|         120.0|    680000.0|\n",
      "|         121.0|    720000.0|\n",
      "+--------------+------------+\n",
      "only showing top 20 rows\n",
      "\n"
     ]
    }
   ],
   "source": [
    "#Filtering to show 5 Room flat that is more than or equal to 2018\n",
    "#Show the floor_area_sqm and resale price\n",
    "df.filter((df[\"year\"]>=2018) & (df[\"flat_type\"]==\"5 ROOM\")).select(['floor_area_sqm', 'resale_price']).show()"
   ]
  },
  {
   "cell_type": "markdown",
   "metadata": {},
   "source": [
    "#### Step 2.3: Additional Columns (flat_age_of_sale)\n"
   ]
  },
  {
   "cell_type": "code",
   "execution_count": 36,
   "metadata": {},
   "outputs": [
    {
     "name": "stdout",
     "output_type": "stream",
     "text": [
      "+----+-----+----------+---------+-----+-----------------+------------+--------------+--------------+-------------------+---------------+------------+----------------+\n",
      "|year|month|      town|flat_type|block|      street_name|storey_range|floor_area_sqm|    flat_model|lease_commence_date|remaining_lease|resale_price|flat_age_of_sale|\n",
      "+----+-----+----------+---------+-----+-----------------+------------+--------------+--------------+-------------------+---------------+------------+----------------+\n",
      "|2017|    1|ANG MO KIO|   2 ROOM|  406|ANG MO KIO AVE 10|    10 TO 12|          44.0|      Improved|               1979|            736|    232000.0|              38|\n",
      "|2017|    1|ANG MO KIO|   3 ROOM|  108| ANG MO KIO AVE 4|    01 TO 03|          67.0|New Generation|               1978|            727|    250000.0|              39|\n",
      "|2017|    1|ANG MO KIO|   3 ROOM|  602| ANG MO KIO AVE 5|    01 TO 03|          67.0|New Generation|               1980|            749|    262000.0|              37|\n",
      "|2017|    1|ANG MO KIO|   3 ROOM|  465|ANG MO KIO AVE 10|    04 TO 06|          68.0|New Generation|               1980|            745|    265000.0|              37|\n",
      "|2017|    1|ANG MO KIO|   3 ROOM|  601| ANG MO KIO AVE 5|    01 TO 03|          67.0|New Generation|               1980|            749|    265000.0|              37|\n",
      "|2017|    1|ANG MO KIO|   3 ROOM|  150| ANG MO KIO AVE 5|    01 TO 03|          68.0|New Generation|               1981|            756|    275000.0|              36|\n",
      "|2017|    1|ANG MO KIO|   3 ROOM|  447|ANG MO KIO AVE 10|    04 TO 06|          68.0|New Generation|               1979|            738|    280000.0|              38|\n",
      "|2017|    1|ANG MO KIO|   3 ROOM|  218| ANG MO KIO AVE 1|    04 TO 06|          67.0|New Generation|               1976|            700|    285000.0|              41|\n",
      "|2017|    1|ANG MO KIO|   3 ROOM|  447|ANG MO KIO AVE 10|    04 TO 06|          68.0|New Generation|               1979|            738|    285000.0|              38|\n",
      "|2017|    1|ANG MO KIO|   3 ROOM|  571| ANG MO KIO AVE 3|    01 TO 03|          67.0|New Generation|               1979|            736|    285000.0|              38|\n",
      "|2017|    1|ANG MO KIO|   3 ROOM|  534|ANG MO KIO AVE 10|    01 TO 03|          68.0|New Generation|               1980|            745|    288500.0|              37|\n",
      "|2017|    1|ANG MO KIO|   3 ROOM|  233| ANG MO KIO AVE 3|    10 TO 12|          67.0|New Generation|               1977|            716|    295000.0|              40|\n",
      "|2017|    1|ANG MO KIO|   3 ROOM|  235| ANG MO KIO AVE 3|    04 TO 06|          67.0|New Generation|               1977|            716|    295000.0|              40|\n",
      "|2017|    1|ANG MO KIO|   3 ROOM|  219| ANG MO KIO AVE 1|    07 TO 09|          67.0|New Generation|               1977|            714|    297000.0|              40|\n",
      "|2017|    1|ANG MO KIO|   3 ROOM|  536|ANG MO KIO AVE 10|    07 TO 09|          68.0|New Generation|               1980|            745|    298000.0|              37|\n",
      "|2017|    1|ANG MO KIO|   3 ROOM|  230| ANG MO KIO AVE 3|    04 TO 06|          67.0|New Generation|               1978|            720|    298000.0|              39|\n",
      "|2017|    1|ANG MO KIO|   3 ROOM|  570| ANG MO KIO AVE 3|    10 TO 12|          67.0|New Generation|               1979|            736|    300000.0|              38|\n",
      "|2017|    1|ANG MO KIO|   3 ROOM|  624| ANG MO KIO AVE 4|    04 TO 06|          68.0|New Generation|               1980|            752|    301000.0|              37|\n",
      "|2017|    1|ANG MO KIO|   3 ROOM|  441|ANG MO KIO AVE 10|    07 TO 09|          67.0|New Generation|               1979|            732|    306000.0|              38|\n",
      "|2017|    1|ANG MO KIO|   3 ROOM|  625| ANG MO KIO AVE 9|    04 TO 06|          68.0|New Generation|               1980|            752|    312000.0|              37|\n",
      "+----+-----+----------+---------+-----+-----------------+------------+--------------+--------------+-------------------+---------------+------------+----------------+\n",
      "only showing top 20 rows\n",
      "\n"
     ]
    }
   ],
   "source": [
    "df = df.withColumn('flat_age_of_sale', col('year')-col('lease_commence_date'))\n",
    "df.show()"
   ]
  },
  {
   "cell_type": "markdown",
   "metadata": {},
   "source": [
    "#### Step 2.4: Drop Unecessary Columns"
   ]
  },
  {
   "cell_type": "code",
   "execution_count": 37,
   "metadata": {},
   "outputs": [
    {
     "name": "stdout",
     "output_type": "stream",
     "text": [
      "-RECORD 0--------------------------------\n",
      " year                | 2017              \n",
      " month               | 1                 \n",
      " town                | ANG MO KIO        \n",
      " flat_type           | 2 ROOM            \n",
      " block               | 406               \n",
      " street_name         | ANG MO KIO AVE 10 \n",
      " storey_range        | 10 TO 12          \n",
      " floor_area_sqm      | 44.0              \n",
      " flat_model          | Improved          \n",
      " lease_commence_date | 1979              \n",
      " remaining_lease     | 736               \n",
      " resale_price        | 232000.0          \n",
      " flat_age_of_sale    | 38                \n",
      "only showing top 1 row\n",
      "\n"
     ]
    }
   ],
   "source": [
    "df.show(1, vertical=True)"
   ]
  },
  {
   "cell_type": "code",
   "execution_count": 38,
   "metadata": {},
   "outputs": [
    {
     "name": "stdout",
     "output_type": "stream",
     "text": [
      "-RECORD 0-------------------------\n",
      " year                | 2017       \n",
      " month               | 1          \n",
      " town                | ANG MO KIO \n",
      " flat_type           | 2 ROOM     \n",
      " storey_range        | 10 TO 12   \n",
      " floor_area_sqm      | 44.0       \n",
      " flat_model          | Improved   \n",
      " lease_commence_date | 1979       \n",
      " remaining_lease     | 736        \n",
      " resale_price        | 232000.0   \n",
      " flat_age_of_sale    | 38         \n",
      "only showing top 1 row\n",
      "\n"
     ]
    }
   ],
   "source": [
    "df = df.drop('block', 'street_name')\n",
    "df.show(1, vertical=True)"
   ]
  },
  {
   "cell_type": "markdown",
   "metadata": {},
   "source": [
    "#### Step 2.5: Finding the columns that contains NULL values"
   ]
  },
  {
   "cell_type": "code",
   "execution_count": 39,
   "metadata": {},
   "outputs": [
    {
     "name": "stdout",
     "output_type": "stream",
     "text": [
      "+----+-----+----+---------+------------+--------------+----------+-------------------+---------------+------------+----------------+\n",
      "|year|month|town|flat_type|storey_range|floor_area_sqm|flat_model|lease_commence_date|remaining_lease|resale_price|flat_age_of_sale|\n",
      "+----+-----+----+---------+------------+--------------+----------+-------------------+---------------+------------+----------------+\n",
      "|   0|    0|   0|        0|           0|            50|         0|                  0|              0|           0|               0|\n",
      "+----+-----+----+---------+------------+--------------+----------+-------------------+---------------+------------+----------------+\n",
      "\n"
     ]
    }
   ],
   "source": [
    "#Finding the columns that contains null values\n",
    "df.select([count(when(isnan(x) | col(x).isNull(), x)).alias(x) for x in df.columns]).show()\n",
    "\n",
    "#However since there are a large number of rows, it can be hard to view\n",
    "#So, I decided to split to showcase them in seperate tables"
   ]
  },
  {
   "cell_type": "code",
   "execution_count": 40,
   "metadata": {},
   "outputs": [],
   "source": [
    "#Defining the 2 different columns for ease of readability as it will not be stacked\n",
    "df1c = ['year', 'month', 'town', 'flat_type', 'storey_range', 'floor_area_sqm']\n",
    "df2c = ['flat_model', 'lease_commence_date', 'remaining_lease', 'resale_price', 'flat_age_of_sale']"
   ]
  },
  {
   "cell_type": "code",
   "execution_count": 41,
   "metadata": {},
   "outputs": [
    {
     "name": "stdout",
     "output_type": "stream",
     "text": [
      "+----+-----+----+---------+------------+--------------+\n",
      "|year|month|town|flat_type|storey_range|floor_area_sqm|\n",
      "+----+-----+----+---------+------------+--------------+\n",
      "|   0|    0|   0|        0|           0|            50|\n",
      "+----+-----+----+---------+------------+--------------+\n",
      "\n"
     ]
    }
   ],
   "source": [
    "#Column 1 variables with null values \n",
    "#Floor_area_sqm contains 50 null values\n",
    "df.select([count(when(isnan(x) | col(x).isNull(), x)).alias(x) for x in df1c]).show()"
   ]
  },
  {
   "cell_type": "code",
   "execution_count": 42,
   "metadata": {},
   "outputs": [
    {
     "name": "stdout",
     "output_type": "stream",
     "text": [
      "+----------+-------------------+---------------+------------+----------------+\n",
      "|flat_model|lease_commence_date|remaining_lease|resale_price|flat_age_of_sale|\n",
      "+----------+-------------------+---------------+------------+----------------+\n",
      "|         0|                  0|              0|           0|               0|\n",
      "+----------+-------------------+---------------+------------+----------------+\n",
      "\n"
     ]
    }
   ],
   "source": [
    "#Column 2 variables with null values\n",
    "df.select([count(when(isnan(x) | col(x).isNull(), x)).alias(x) for x in df2c]).show()"
   ]
  },
  {
   "cell_type": "code",
   "execution_count": 43,
   "metadata": {},
   "outputs": [
    {
     "data": {
      "text/html": [
       "<table border='1'>\n",
       "<tr><th>year</th><th>month</th><th>town</th><th>flat_type</th><th>storey_range</th><th>floor_area_sqm</th><th>flat_model</th><th>lease_commence_date</th><th>remaining_lease</th><th>resale_price</th><th>flat_age_of_sale</th></tr>\n",
       "<tr><td>2017</td><td>3</td><td>QUEENSTOWN</td><td>4 ROOM</td><td>19 TO 21</td><td>null</td><td>Improved</td><td>1970</td><td>628</td><td>556000.0</td><td>47</td></tr>\n",
       "<tr><td>2017</td><td>3</td><td>TOA PAYOH</td><td>4 ROOM</td><td>16 TO 18</td><td>null</td><td>Improved</td><td>1976</td><td>698</td><td>383000.0</td><td>41</td></tr>\n",
       "<tr><td>2017</td><td>3</td><td>TOA PAYOH</td><td>4 ROOM</td><td>16 TO 18</td><td>null</td><td>Improved</td><td>1975</td><td>683</td><td>390000.0</td><td>42</td></tr>\n",
       "<tr><td>2017</td><td>3</td><td>TOA PAYOH</td><td>4 ROOM</td><td>13 TO 15</td><td>null</td><td>Improved</td><td>1973</td><td>664</td><td>420000.0</td><td>44</td></tr>\n",
       "<tr><td>2017</td><td>3</td><td>TOA PAYOH</td><td>4 ROOM</td><td>07 TO 09</td><td>null</td><td>Improved</td><td>1973</td><td>664</td><td>420000.0</td><td>44</td></tr>\n",
       "<tr><td>2017</td><td>4</td><td>BEDOK</td><td>4 ROOM</td><td>01 TO 03</td><td>null</td><td>Improved</td><td>1977</td><td>713</td><td>320000.0</td><td>40</td></tr>\n",
       "<tr><td>2017</td><td>4</td><td>BEDOK</td><td>4 ROOM</td><td>04 TO 06</td><td>null</td><td>Improved</td><td>1977</td><td>713</td><td>352000.0</td><td>40</td></tr>\n",
       "<tr><td>2017</td><td>4</td><td>BEDOK</td><td>4 ROOM</td><td>07 TO 09</td><td>null</td><td>Improved</td><td>1977</td><td>713</td><td>365000.0</td><td>40</td></tr>\n",
       "<tr><td>2017</td><td>4</td><td>BEDOK</td><td>4 ROOM</td><td>13 TO 15</td><td>null</td><td>Improved</td><td>1977</td><td>713</td><td>385000.0</td><td>40</td></tr>\n",
       "<tr><td>2017</td><td>4</td><td>BUKIT MERAH</td><td>4 ROOM</td><td>04 TO 06</td><td>null</td><td>Improved</td><td>1973</td><td>657</td><td>420000.0</td><td>44</td></tr>\n",
       "<tr><td>2017</td><td>4</td><td>BUKIT MERAH</td><td>4 ROOM</td><td>10 TO 12</td><td>null</td><td>Improved</td><td>1976</td><td>696</td><td>435000.0</td><td>41</td></tr>\n",
       "<tr><td>2017</td><td>4</td><td>BUKIT MERAH</td><td>4 ROOM</td><td>10 TO 12</td><td>null</td><td>Improved</td><td>1976</td><td>696</td><td>490000.0</td><td>41</td></tr>\n",
       "<tr><td>2017</td><td>4</td><td>CENTRAL AREA</td><td>4 ROOM</td><td>10 TO 12</td><td>null</td><td>Improved</td><td>1980</td><td>745</td><td>640000.0</td><td>37</td></tr>\n",
       "<tr><td>2017</td><td>4</td><td>KALLANG/WHAMPOA</td><td>4 ROOM</td><td>07 TO 09</td><td>null</td><td>Improved</td><td>1974</td><td>669</td><td>380000.0</td><td>43</td></tr>\n",
       "<tr><td>2018</td><td>4</td><td>MARINE PARADE</td><td>4 ROOM</td><td>07 TO 09</td><td>null</td><td>Improved</td><td>1975</td><td>671</td><td>525000.0</td><td>43</td></tr>\n",
       "<tr><td>2018</td><td>4</td><td>MARINE PARADE</td><td>4 ROOM</td><td>10 TO 12</td><td>null</td><td>Improved</td><td>1975</td><td>670</td><td>530000.0</td><td>43</td></tr>\n",
       "<tr><td>2018</td><td>4</td><td>MARINE PARADE</td><td>4 ROOM</td><td>10 TO 12</td><td>null</td><td>Improved</td><td>1976</td><td>682</td><td>547000.0</td><td>42</td></tr>\n",
       "<tr><td>2018</td><td>4</td><td>QUEENSTOWN</td><td>4 ROOM</td><td>13 TO 15</td><td>null</td><td>Improved</td><td>1970</td><td>615</td><td>468888.0</td><td>48</td></tr>\n",
       "<tr><td>2018</td><td>4</td><td>QUEENSTOWN</td><td>4 ROOM</td><td>13 TO 15</td><td>null</td><td>Improved</td><td>1970</td><td>615</td><td>495000.0</td><td>48</td></tr>\n",
       "<tr><td>2018</td><td>4</td><td>TOA PAYOH</td><td>4 ROOM</td><td>04 TO 06</td><td>null</td><td>Improved</td><td>1976</td><td>684</td><td>325000.0</td><td>42</td></tr>\n",
       "</table>\n",
       "only showing top 20 rows\n"
      ],
      "text/plain": [
       "+----+-----+---------------+---------+------------+--------------+----------+-------------------+---------------+------------+----------------+\n",
       "|year|month|           town|flat_type|storey_range|floor_area_sqm|flat_model|lease_commence_date|remaining_lease|resale_price|flat_age_of_sale|\n",
       "+----+-----+---------------+---------+------------+--------------+----------+-------------------+---------------+------------+----------------+\n",
       "|2017|    3|     QUEENSTOWN|   4 ROOM|    19 TO 21|          null|  Improved|               1970|            628|    556000.0|              47|\n",
       "|2017|    3|      TOA PAYOH|   4 ROOM|    16 TO 18|          null|  Improved|               1976|            698|    383000.0|              41|\n",
       "|2017|    3|      TOA PAYOH|   4 ROOM|    16 TO 18|          null|  Improved|               1975|            683|    390000.0|              42|\n",
       "|2017|    3|      TOA PAYOH|   4 ROOM|    13 TO 15|          null|  Improved|               1973|            664|    420000.0|              44|\n",
       "|2017|    3|      TOA PAYOH|   4 ROOM|    07 TO 09|          null|  Improved|               1973|            664|    420000.0|              44|\n",
       "|2017|    4|          BEDOK|   4 ROOM|    01 TO 03|          null|  Improved|               1977|            713|    320000.0|              40|\n",
       "|2017|    4|          BEDOK|   4 ROOM|    04 TO 06|          null|  Improved|               1977|            713|    352000.0|              40|\n",
       "|2017|    4|          BEDOK|   4 ROOM|    07 TO 09|          null|  Improved|               1977|            713|    365000.0|              40|\n",
       "|2017|    4|          BEDOK|   4 ROOM|    13 TO 15|          null|  Improved|               1977|            713|    385000.0|              40|\n",
       "|2017|    4|    BUKIT MERAH|   4 ROOM|    04 TO 06|          null|  Improved|               1973|            657|    420000.0|              44|\n",
       "|2017|    4|    BUKIT MERAH|   4 ROOM|    10 TO 12|          null|  Improved|               1976|            696|    435000.0|              41|\n",
       "|2017|    4|    BUKIT MERAH|   4 ROOM|    10 TO 12|          null|  Improved|               1976|            696|    490000.0|              41|\n",
       "|2017|    4|   CENTRAL AREA|   4 ROOM|    10 TO 12|          null|  Improved|               1980|            745|    640000.0|              37|\n",
       "|2017|    4|KALLANG/WHAMPOA|   4 ROOM|    07 TO 09|          null|  Improved|               1974|            669|    380000.0|              43|\n",
       "|2018|    4|  MARINE PARADE|   4 ROOM|    07 TO 09|          null|  Improved|               1975|            671|    525000.0|              43|\n",
       "|2018|    4|  MARINE PARADE|   4 ROOM|    10 TO 12|          null|  Improved|               1975|            670|    530000.0|              43|\n",
       "|2018|    4|  MARINE PARADE|   4 ROOM|    10 TO 12|          null|  Improved|               1976|            682|    547000.0|              42|\n",
       "|2018|    4|     QUEENSTOWN|   4 ROOM|    13 TO 15|          null|  Improved|               1970|            615|    468888.0|              48|\n",
       "|2018|    4|     QUEENSTOWN|   4 ROOM|    13 TO 15|          null|  Improved|               1970|            615|    495000.0|              48|\n",
       "|2018|    4|      TOA PAYOH|   4 ROOM|    04 TO 06|          null|  Improved|               1976|            684|    325000.0|              42|\n",
       "+----+-----+---------------+---------+------------+--------------+----------+-------------------+---------------+------------+----------------+\n",
       "only showing top 20 rows"
      ]
     },
     "execution_count": 43,
     "metadata": {},
     "output_type": "execute_result"
    }
   ],
   "source": [
    "df.filter(df.floor_area_sqm.isNull())"
   ]
  },
  {
   "cell_type": "markdown",
   "metadata": {},
   "source": [
    "#### Step 2.5.1: Closed Case Analysis (Drop NA Values)\n",
    "##### Dropping rows with null values (50/64248 rows) "
   ]
  },
  {
   "cell_type": "code",
   "execution_count": 44,
   "metadata": {},
   "outputs": [],
   "source": [
    "df = df.na.drop()"
   ]
  },
  {
   "cell_type": "code",
   "execution_count": 45,
   "metadata": {},
   "outputs": [
    {
     "data": {
      "text/plain": [
       "64197"
      ]
     },
     "execution_count": 45,
     "metadata": {},
     "output_type": "execute_result"
    }
   ],
   "source": [
    "#Dropping the 50 variables\n",
    "df.count()\n",
    "\n",
    "#64248 - 50 = 64197 rows"
   ]
  },
  {
   "cell_type": "code",
   "execution_count": 46,
   "metadata": {},
   "outputs": [
    {
     "name": "stdout",
     "output_type": "stream",
     "text": [
      "+----+-----+----+---------+------------+--------------+\n",
      "|year|month|town|flat_type|storey_range|floor_area_sqm|\n",
      "+----+-----+----+---------+------------+--------------+\n",
      "|   0|    0|   0|        0|           0|             0|\n",
      "+----+-----+----+---------+------------+--------------+\n",
      "\n"
     ]
    }
   ],
   "source": [
    "#No more null values in the floor_area_sqm column\n",
    "df.select([count(when(isnan(x) | col(x).isNull(), x)).alias(x) for x in df1c]).show()"
   ]
  },
  {
   "cell_type": "markdown",
   "metadata": {},
   "source": [
    "#### Step 2.5.2: Median Imputer (Replacing null values with Median)"
   ]
  },
  {
   "cell_type": "code",
   "execution_count": 47,
   "metadata": {},
   "outputs": [],
   "source": [
    "imputer = Imputer(\n",
    "    inputCols=['floor_area_sqm'], \n",
    "    outputCols=[\"{}_imputed\".format(c) for c in ['floor_area_sqm']]\n",
    "    ).setStrategy(\"median\")"
   ]
  },
  {
   "cell_type": "code",
   "execution_count": 48,
   "metadata": {},
   "outputs": [
    {
     "name": "stdout",
     "output_type": "stream",
     "text": [
      "+----+-----+----------+---------+------------+--------------+--------------+-------------------+---------------+------------+----------------+----------------------+\n",
      "|year|month|      town|flat_type|storey_range|floor_area_sqm|    flat_model|lease_commence_date|remaining_lease|resale_price|flat_age_of_sale|floor_area_sqm_imputed|\n",
      "+----+-----+----------+---------+------------+--------------+--------------+-------------------+---------------+------------+----------------+----------------------+\n",
      "|2017|    1|ANG MO KIO|   2 ROOM|    10 TO 12|          44.0|      Improved|               1979|            736|    232000.0|              38|                  44.0|\n",
      "|2017|    1|ANG MO KIO|   3 ROOM|    01 TO 03|          67.0|New Generation|               1978|            727|    250000.0|              39|                  67.0|\n",
      "|2017|    1|ANG MO KIO|   3 ROOM|    01 TO 03|          67.0|New Generation|               1980|            749|    262000.0|              37|                  67.0|\n",
      "|2017|    1|ANG MO KIO|   3 ROOM|    04 TO 06|          68.0|New Generation|               1980|            745|    265000.0|              37|                  68.0|\n",
      "|2017|    1|ANG MO KIO|   3 ROOM|    01 TO 03|          67.0|New Generation|               1980|            749|    265000.0|              37|                  67.0|\n",
      "|2017|    1|ANG MO KIO|   3 ROOM|    01 TO 03|          68.0|New Generation|               1981|            756|    275000.0|              36|                  68.0|\n",
      "|2017|    1|ANG MO KIO|   3 ROOM|    04 TO 06|          68.0|New Generation|               1979|            738|    280000.0|              38|                  68.0|\n",
      "|2017|    1|ANG MO KIO|   3 ROOM|    04 TO 06|          67.0|New Generation|               1976|            700|    285000.0|              41|                  67.0|\n",
      "|2017|    1|ANG MO KIO|   3 ROOM|    04 TO 06|          68.0|New Generation|               1979|            738|    285000.0|              38|                  68.0|\n",
      "|2017|    1|ANG MO KIO|   3 ROOM|    01 TO 03|          67.0|New Generation|               1979|            736|    285000.0|              38|                  67.0|\n",
      "|2017|    1|ANG MO KIO|   3 ROOM|    01 TO 03|          68.0|New Generation|               1980|            745|    288500.0|              37|                  68.0|\n",
      "|2017|    1|ANG MO KIO|   3 ROOM|    10 TO 12|          67.0|New Generation|               1977|            716|    295000.0|              40|                  67.0|\n",
      "|2017|    1|ANG MO KIO|   3 ROOM|    04 TO 06|          67.0|New Generation|               1977|            716|    295000.0|              40|                  67.0|\n",
      "|2017|    1|ANG MO KIO|   3 ROOM|    07 TO 09|          67.0|New Generation|               1977|            714|    297000.0|              40|                  67.0|\n",
      "|2017|    1|ANG MO KIO|   3 ROOM|    07 TO 09|          68.0|New Generation|               1980|            745|    298000.0|              37|                  68.0|\n",
      "|2017|    1|ANG MO KIO|   3 ROOM|    04 TO 06|          67.0|New Generation|               1978|            720|    298000.0|              39|                  67.0|\n",
      "|2017|    1|ANG MO KIO|   3 ROOM|    10 TO 12|          67.0|New Generation|               1979|            736|    300000.0|              38|                  67.0|\n",
      "|2017|    1|ANG MO KIO|   3 ROOM|    04 TO 06|          68.0|New Generation|               1980|            752|    301000.0|              37|                  68.0|\n",
      "|2017|    1|ANG MO KIO|   3 ROOM|    07 TO 09|          67.0|New Generation|               1979|            732|    306000.0|              38|                  67.0|\n",
      "|2017|    1|ANG MO KIO|   3 ROOM|    04 TO 06|          68.0|New Generation|               1980|            752|    312000.0|              37|                  68.0|\n",
      "+----+-----+----------+---------+------------+--------------+--------------+-------------------+---------------+------------+----------------+----------------------+\n",
      "only showing top 20 rows\n",
      "\n",
      "+----+-----+----+---------+------------+--------------+\n",
      "|year|month|town|flat_type|storey_range|floor_area_sqm|\n",
      "+----+-----+----+---------+------------+--------------+\n",
      "|   0|    0|   0|        0|           0|             0|\n",
      "+----+-----+----+---------+------------+--------------+\n",
      "\n"
     ]
    }
   ],
   "source": [
    "df_median_imputer = imputer.fit(df).transform(df)\n",
    "df_median_imputer.show()\n",
    "df_median_imputer.select([count(when(isnan(x) | col(x).isNull(), x)).alias(x) for x in df1c]).show()"
   ]
  },
  {
   "cell_type": "markdown",
   "metadata": {},
   "source": [
    "#### Step 2.5.2: Mean Imputer (Replacing null values with Mean)"
   ]
  },
  {
   "cell_type": "code",
   "execution_count": 49,
   "metadata": {},
   "outputs": [],
   "source": [
    "imputer = Imputer(\n",
    "    inputCols=['floor_area_sqm'], \n",
    "    outputCols=[\"{}_imputed\".format(c) for c in ['floor_area_sqm']]\n",
    "    ).setStrategy(\"mean\")"
   ]
  },
  {
   "cell_type": "code",
   "execution_count": 50,
   "metadata": {},
   "outputs": [
    {
     "name": "stdout",
     "output_type": "stream",
     "text": [
      "+----+-----+----------+---------+------------+--------------+--------------+-------------------+---------------+------------+----------------+----------------------+\n",
      "|year|month|      town|flat_type|storey_range|floor_area_sqm|    flat_model|lease_commence_date|remaining_lease|resale_price|flat_age_of_sale|floor_area_sqm_imputed|\n",
      "+----+-----+----------+---------+------------+--------------+--------------+-------------------+---------------+------------+----------------+----------------------+\n",
      "|2017|    1|ANG MO KIO|   2 ROOM|    10 TO 12|          44.0|      Improved|               1979|            736|    232000.0|              38|                  44.0|\n",
      "|2017|    1|ANG MO KIO|   3 ROOM|    01 TO 03|          67.0|New Generation|               1978|            727|    250000.0|              39|                  67.0|\n",
      "|2017|    1|ANG MO KIO|   3 ROOM|    01 TO 03|          67.0|New Generation|               1980|            749|    262000.0|              37|                  67.0|\n",
      "|2017|    1|ANG MO KIO|   3 ROOM|    04 TO 06|          68.0|New Generation|               1980|            745|    265000.0|              37|                  68.0|\n",
      "|2017|    1|ANG MO KIO|   3 ROOM|    01 TO 03|          67.0|New Generation|               1980|            749|    265000.0|              37|                  67.0|\n",
      "|2017|    1|ANG MO KIO|   3 ROOM|    01 TO 03|          68.0|New Generation|               1981|            756|    275000.0|              36|                  68.0|\n",
      "|2017|    1|ANG MO KIO|   3 ROOM|    04 TO 06|          68.0|New Generation|               1979|            738|    280000.0|              38|                  68.0|\n",
      "|2017|    1|ANG MO KIO|   3 ROOM|    04 TO 06|          67.0|New Generation|               1976|            700|    285000.0|              41|                  67.0|\n",
      "|2017|    1|ANG MO KIO|   3 ROOM|    04 TO 06|          68.0|New Generation|               1979|            738|    285000.0|              38|                  68.0|\n",
      "|2017|    1|ANG MO KIO|   3 ROOM|    01 TO 03|          67.0|New Generation|               1979|            736|    285000.0|              38|                  67.0|\n",
      "|2017|    1|ANG MO KIO|   3 ROOM|    01 TO 03|          68.0|New Generation|               1980|            745|    288500.0|              37|                  68.0|\n",
      "|2017|    1|ANG MO KIO|   3 ROOM|    10 TO 12|          67.0|New Generation|               1977|            716|    295000.0|              40|                  67.0|\n",
      "|2017|    1|ANG MO KIO|   3 ROOM|    04 TO 06|          67.0|New Generation|               1977|            716|    295000.0|              40|                  67.0|\n",
      "|2017|    1|ANG MO KIO|   3 ROOM|    07 TO 09|          67.0|New Generation|               1977|            714|    297000.0|              40|                  67.0|\n",
      "|2017|    1|ANG MO KIO|   3 ROOM|    07 TO 09|          68.0|New Generation|               1980|            745|    298000.0|              37|                  68.0|\n",
      "|2017|    1|ANG MO KIO|   3 ROOM|    04 TO 06|          67.0|New Generation|               1978|            720|    298000.0|              39|                  67.0|\n",
      "|2017|    1|ANG MO KIO|   3 ROOM|    10 TO 12|          67.0|New Generation|               1979|            736|    300000.0|              38|                  67.0|\n",
      "|2017|    1|ANG MO KIO|   3 ROOM|    04 TO 06|          68.0|New Generation|               1980|            752|    301000.0|              37|                  68.0|\n",
      "|2017|    1|ANG MO KIO|   3 ROOM|    07 TO 09|          67.0|New Generation|               1979|            732|    306000.0|              38|                  67.0|\n",
      "|2017|    1|ANG MO KIO|   3 ROOM|    04 TO 06|          68.0|New Generation|               1980|            752|    312000.0|              37|                  68.0|\n",
      "+----+-----+----------+---------+------------+--------------+--------------+-------------------+---------------+------------+----------------+----------------------+\n",
      "only showing top 20 rows\n",
      "\n",
      "+----+-----+----+---------+------------+--------------+\n",
      "|year|month|town|flat_type|storey_range|floor_area_sqm|\n",
      "+----+-----+----+---------+------------+--------------+\n",
      "|   0|    0|   0|        0|           0|             0|\n",
      "+----+-----+----+---------+------------+--------------+\n",
      "\n"
     ]
    }
   ],
   "source": [
    "df_mean_imputer = imputer.fit(df).transform(df)\n",
    "df_mean_imputer.show()\n",
    "df_mean_imputer.select([count(when(isnan(x) | col(x).isNull(), x)).alias(x) for x in df1c]).show()"
   ]
  },
  {
   "cell_type": "markdown",
   "metadata": {},
   "source": [
    "### Step 3: Data Wrangling and Categorical Transformation"
   ]
  },
  {
   "cell_type": "markdown",
   "metadata": {},
   "source": [
    "#### String Indexing + OHE"
   ]
  },
  {
   "cell_type": "code",
   "execution_count": 51,
   "metadata": {},
   "outputs": [
    {
     "name": "stdout",
     "output_type": "stream",
     "text": [
      "-RECORD 0-------------------------\n",
      " year                | 2017       \n",
      " month               | 1          \n",
      " town                | ANG MO KIO \n",
      " flat_type           | 2 ROOM     \n",
      " storey_range        | 10 TO 12   \n",
      " floor_area_sqm      | 44.0       \n",
      " flat_model          | Improved   \n",
      " lease_commence_date | 1979       \n",
      " remaining_lease     | 736        \n",
      " resale_price        | 232000.0   \n",
      " flat_age_of_sale    | 38         \n",
      "only showing top 1 row\n",
      "\n"
     ]
    }
   ],
   "source": [
    "#Remove once done\n",
    "df.show(1, vertical=True)"
   ]
  },
  {
   "cell_type": "code",
   "execution_count": 52,
   "metadata": {},
   "outputs": [],
   "source": [
    "string_var = [\"town\", \"flat_type\", \"storey_range\", \"flat_model\"]"
   ]
  },
  {
   "cell_type": "code",
   "execution_count": 53,
   "metadata": {},
   "outputs": [],
   "source": [
    "stage_string = [StringIndexer(inputCol= c, outputCol= c+\"_si\") for c in string_var]\n",
    "stage_one_hot = [OneHotEncoder(inputCol= c+\"_si\", outputCol= c+ \"_OHE\") for c in string_var]"
   ]
  },
  {
   "cell_type": "code",
   "execution_count": 54,
   "metadata": {
    "scrolled": true
   },
   "outputs": [
    {
     "name": "stdout",
     "output_type": "stream",
     "text": [
      "+----+-----+----------+---------+------------+--------------+--------------+-------------------+---------------+------------+----------------+-------+------------+---------------+-------------+--------------+-------------+----------------+--------------+\n",
      "|year|month|      town|flat_type|storey_range|floor_area_sqm|    flat_model|lease_commence_date|remaining_lease|resale_price|flat_age_of_sale|town_si|flat_type_si|storey_range_si|flat_model_si|      town_OHE|flat_type_OHE|storey_range_OHE|flat_model_OHE|\n",
      "+----+-----+----------+---------+------------+--------------+--------------+-------------------+---------------+------------+----------------+-------+------------+---------------+-------------+--------------+-------------+----------------+--------------+\n",
      "|2017|    1|ANG MO KIO|   2 ROOM|    10 TO 12|          44.0|      Improved|               1979|            736|    232000.0|              38|    8.0|         4.0|            2.0|          1.0|(25,[8],[1.0])|(6,[4],[1.0])|  (16,[2],[1.0])|(18,[1],[1.0])|\n",
      "|2017|    1|ANG MO KIO|   3 ROOM|    01 TO 03|          67.0|New Generation|               1978|            727|    250000.0|              39|    8.0|         2.0|            3.0|          2.0|(25,[8],[1.0])|(6,[2],[1.0])|  (16,[3],[1.0])|(18,[2],[1.0])|\n",
      "|2017|    1|ANG MO KIO|   3 ROOM|    01 TO 03|          67.0|New Generation|               1980|            749|    262000.0|              37|    8.0|         2.0|            3.0|          2.0|(25,[8],[1.0])|(6,[2],[1.0])|  (16,[3],[1.0])|(18,[2],[1.0])|\n",
      "+----+-----+----------+---------+------------+--------------+--------------+-------------------+---------------+------------+----------------+-------+------------+---------------+-------------+--------------+-------------+----------------+--------------+\n",
      "only showing top 3 rows\n",
      "\n"
     ]
    }
   ],
   "source": [
    "#Adding the encoded columns\n",
    "ppl = Pipeline(stages= stage_string + stage_one_hot)\n",
    "pyspark_indexing_OHE = ppl.fit(df).transform(df)\n",
    "pyspark_indexing_OHE.show(3)"
   ]
  },
  {
   "cell_type": "code",
   "execution_count": 55,
   "metadata": {},
   "outputs": [
    {
     "name": "stdout",
     "output_type": "stream",
     "text": [
      "+----+-----+--------------+-------------------+---------------+------------+----------------+-------+------------+---------------+-------------+--------------+-------------+----------------+--------------+\n",
      "|year|month|floor_area_sqm|lease_commence_date|remaining_lease|resale_price|flat_age_of_sale|town_si|flat_type_si|storey_range_si|flat_model_si|      town_OHE|flat_type_OHE|storey_range_OHE|flat_model_OHE|\n",
      "+----+-----+--------------+-------------------+---------------+------------+----------------+-------+------------+---------------+-------------+--------------+-------------+----------------+--------------+\n",
      "|2017|    1|          44.0|               1979|            736|    232000.0|              38|    8.0|         4.0|            2.0|          1.0|(25,[8],[1.0])|(6,[4],[1.0])|  (16,[2],[1.0])|(18,[1],[1.0])|\n",
      "+----+-----+--------------+-------------------+---------------+------------+----------------+-------+------------+---------------+-------------+--------------+-------------+----------------+--------------+\n",
      "only showing top 1 row\n",
      "\n"
     ]
    }
   ],
   "source": [
    "#Dropping of Original Strings\n",
    "pyspark_indexing_OHE = pyspark_indexing_OHE.drop(\"town\", \"flat_type\", \"storey_range\", \"flat_model\")\n",
    "pyspark_indexing_OHE.show(1)"
   ]
  },
  {
   "cell_type": "code",
   "execution_count": 56,
   "metadata": {},
   "outputs": [
    {
     "name": "stdout",
     "output_type": "stream",
     "text": [
      "+----+-----+--------------+-------------------+---------------+----------------+-------+------------+---------------+-------------+------------+\n",
      "|year|month|floor_area_sqm|lease_commence_date|remaining_lease|flat_age_of_sale|town_si|flat_type_si|storey_range_si|flat_model_si|resale_price|\n",
      "+----+-----+--------------+-------------------+---------------+----------------+-------+------------+---------------+-------------+------------+\n",
      "|2017|    1|          44.0|               1979|            736|              38|    8.0|         4.0|            2.0|          1.0|    232000.0|\n",
      "+----+-----+--------------+-------------------+---------------+----------------+-------+------------+---------------+-------------+------------+\n",
      "only showing top 1 row\n",
      "\n"
     ]
    }
   ],
   "source": [
    "#Version with only string indexing\n",
    "pyspark_indexing = pyspark_indexing_OHE.drop(\"town_OHE\", \"flat_type_OHE\", \"storey_range_OHE\", \"flat_model_OHE\")\n",
    "pyspark_indexing = pyspark_indexing.select(\"year\", \"month\", \"floor_area_sqm\", \"lease_commence_date\", \"remaining_lease\", \"flat_age_of_sale\", \"town_si\", \"flat_type_si\", \"storey_range_si\", \"flat_model_si\", \"resale_price\")\n",
    "pyspark_indexing.show(1)"
   ]
  },
  {
   "cell_type": "code",
   "execution_count": 57,
   "metadata": {},
   "outputs": [],
   "source": [
    "#Version with only one hot encoding\n",
    "pyspark_OHE = pyspark_indexing_OHE.drop(\"town_si\", \"flat_type_si\", \"storey_range_si\", \"flat_model_si\")\n",
    "pyspark_OHE = pyspark_OHE.select(\"year\", \"month\", \"floor_area_sqm\", \"lease_commence_date\", \"remaining_lease\", \"flat_age_of_sale\" , \"town_OHE\", \"flat_type_OHE\", \"storey_range_OHE\", \"flat_model_OHE\", \"resale_price\")\n",
    "#pyspark_OHE.show()"
   ]
  },
  {
   "cell_type": "code",
   "execution_count": 58,
   "metadata": {},
   "outputs": [],
   "source": [
    "#Choosing OHE over string indexing as it nets a better end score\n",
    "#Although string indexing is personally preferred due to ease of readability\n",
    "\n",
    "#df_final = pyspark_indexing\n",
    "df_final = pyspark_OHE"
   ]
  },
  {
   "cell_type": "markdown",
   "metadata": {},
   "source": [
    "### Step 4: Machine Learning Modelling"
   ]
  },
  {
   "cell_type": "markdown",
   "metadata": {},
   "source": [
    "#### Step 4.1: Train Test Split"
   ]
  },
  {
   "cell_type": "code",
   "execution_count": 59,
   "metadata": {},
   "outputs": [],
   "source": [
    "# how to we train or test our models?\n",
    "(train, test) = df_final.randomSplit([0.8, 0.2], seed=42)\n",
    "#Train 80%, Test 20& "
   ]
  },
  {
   "cell_type": "code",
   "execution_count": 60,
   "metadata": {},
   "outputs": [
    {
     "name": "stdout",
     "output_type": "stream",
     "text": [
      "51362 11\n",
      "12835 11\n"
     ]
    }
   ],
   "source": [
    "# use code to show number of rows and columns,\n",
    "print((train.count()),len(train.columns))\n",
    "print((test.count()),len(test.columns))"
   ]
  },
  {
   "cell_type": "code",
   "execution_count": 61,
   "metadata": {},
   "outputs": [
    {
     "name": "stdout",
     "output_type": "stream",
     "text": [
      "+----+-----+--------------+-------------------+---------------+----------------+---------------+-------------+----------------+--------------+------------+\n",
      "|year|month|floor_area_sqm|lease_commence_date|remaining_lease|flat_age_of_sale|       town_OHE|flat_type_OHE|storey_range_OHE|flat_model_OHE|resale_price|\n",
      "+----+-----+--------------+-------------------+---------------+----------------+---------------+-------------+----------------+--------------+------------+\n",
      "|2017|    1|          34.0|               1971|            642|              46|(25,[10],[1.0])|(6,[4],[1.0])|  (16,[1],[1.0])|(18,[7],[1.0])|    218000.0|\n",
      "|2017|    1|          34.0|               1971|            642|              46|(25,[10],[1.0])|(6,[4],[1.0])|  (16,[1],[1.0])|(18,[7],[1.0])|    230000.0|\n",
      "|2017|    1|          42.0|               1971|            636|              46|(25,[18],[1.0])|(6,[4],[1.0])|  (16,[2],[1.0])|(18,[7],[1.0])|    215000.0|\n",
      "|2017|    1|          43.0|               1967|            593|              50|(25,[13],[1.0])|(6,[4],[1.0])|  (16,[1],[1.0])|(18,[7],[1.0])|    228500.0|\n",
      "|2017|    1|          44.0|               1979|            736|              38| (25,[8],[1.0])|(6,[4],[1.0])|  (16,[2],[1.0])|(18,[1],[1.0])|    232000.0|\n",
      "|2017|    1|          45.0|               1978|            726|              39| (25,[6],[1.0])|(6,[4],[1.0])|  (16,[0],[1.0])|(18,[1],[1.0])|    238000.0|\n",
      "|2017|    1|          46.0|               1973|            666|              44|(25,[18],[1.0])|(6,[4],[1.0])|  (16,[2],[1.0])|(18,[7],[1.0])|    220000.0|\n",
      "|2017|    1|          47.0|               2012|           1132|               5| (25,[7],[1.0])|(6,[4],[1.0])|  (16,[2],[1.0])|(18,[0],[1.0])|    252000.0|\n",
      "|2017|    1|          47.0|               2012|           1136|               5| (25,[3],[1.0])|(6,[4],[1.0])|  (16,[0],[1.0])|(18,[0],[1.0])|    235000.0|\n",
      "|2017|    1|          48.0|               1970|            629|              47|(25,[14],[1.0])|(6,[4],[1.0])|  (16,[1],[1.0])|(18,[7],[1.0])|    276000.0|\n",
      "+----+-----+--------------+-------------------+---------------+----------------+---------------+-------------+----------------+--------------+------------+\n",
      "only showing top 10 rows\n",
      "\n",
      "+----+-----+--------------+-------------------+---------------+----------------+---------------+-------------+----------------+--------------+------------+\n",
      "|year|month|floor_area_sqm|lease_commence_date|remaining_lease|flat_age_of_sale|       town_OHE|flat_type_OHE|storey_range_OHE|flat_model_OHE|resale_price|\n",
      "+----+-----+--------------+-------------------+---------------+----------------+---------------+-------------+----------------+--------------+------------+\n",
      "|2017|    1|          42.0|               1971|            636|              46|(25,[18],[1.0])|(6,[4],[1.0])|  (16,[1],[1.0])|(18,[7],[1.0])|    205000.0|\n",
      "|2017|    1|          45.0|               1976|            696|              41|(25,[10],[1.0])|(6,[4],[1.0])|  (16,[1],[1.0])|(18,[1],[1.0])|    245000.0|\n",
      "|2017|    1|          45.0|               2012|           1130|               5| (25,[4],[1.0])|(6,[4],[1.0])|  (16,[3],[1.0])|(18,[0],[1.0])|    250000.0|\n",
      "|2017|    1|          50.0|               2012|           1130|               5| (25,[1],[1.0])|(6,[4],[1.0])|  (16,[6],[1.0])|(18,[0],[1.0])|    273000.0|\n",
      "|2017|    1|          56.0|               1969|            612|              48|(25,[18],[1.0])|(6,[2],[1.0])|  (16,[1],[1.0])|(18,[7],[1.0])|    330000.0|\n",
      "|2017|    1|          57.0|               1973|            666|              44|(25,[18],[1.0])|(6,[2],[1.0])|  (16,[1],[1.0])|(18,[7],[1.0])|    272000.0|\n",
      "|2017|    1|          59.0|               1974|            677|              43|(25,[17],[1.0])|(6,[2],[1.0])|  (16,[5],[1.0])|(18,[1],[1.0])|    388000.0|\n",
      "|2017|    1|          59.0|               1976|            700|              41|(25,[14],[1.0])|(6,[2],[1.0])|  (16,[4],[1.0])|(18,[1],[1.0])|    286000.0|\n",
      "|2017|    1|          60.0|               1967|            588|              50|(25,[18],[1.0])|(6,[2],[1.0])|  (16,[0],[1.0])|(18,[7],[1.0])|    235000.0|\n",
      "|2017|    1|          60.0|               1967|            588|              50|(25,[18],[1.0])|(6,[2],[1.0])|  (16,[3],[1.0])|(18,[7],[1.0])|    230000.0|\n",
      "+----+-----+--------------+-------------------+---------------+----------------+---------------+-------------+----------------+--------------+------------+\n",
      "only showing top 10 rows\n",
      "\n"
     ]
    }
   ],
   "source": [
    "# as well as a sample of 10 rows before heading into Machine Learning Modelling\n",
    "train.show(10)\n",
    "test.show(10)"
   ]
  },
  {
   "cell_type": "markdown",
   "metadata": {},
   "source": [
    "#### Step 4.2 Vector Assembling"
   ]
  },
  {
   "cell_type": "code",
   "execution_count": 62,
   "metadata": {},
   "outputs": [
    {
     "name": "stdout",
     "output_type": "stream",
     "text": [
      "+----+-----+--------------+-------------------+---------------+----------------+---------------+-------------+----------------+--------------+------------+--------------------+\n",
      "|year|month|floor_area_sqm|lease_commence_date|remaining_lease|flat_age_of_sale|       town_OHE|flat_type_OHE|storey_range_OHE|flat_model_OHE|resale_price|               Xcols|\n",
      "+----+-----+--------------+-------------------+---------------+----------------+---------------+-------------+----------------+--------------+------------+--------------------+\n",
      "|2017|    1|          34.0|               1971|            642|              46|(25,[10],[1.0])|(6,[4],[1.0])|  (16,[1],[1.0])|(18,[7],[1.0])|    218000.0|(31,[0,1,2,3,4,5,...|\n",
      "|2017|    1|          34.0|               1971|            642|              46|(25,[10],[1.0])|(6,[4],[1.0])|  (16,[1],[1.0])|(18,[7],[1.0])|    230000.0|(31,[0,1,2,3,4,5,...|\n",
      "|2017|    1|          42.0|               1971|            636|              46|(25,[18],[1.0])|(6,[4],[1.0])|  (16,[2],[1.0])|(18,[7],[1.0])|    215000.0|(31,[0,1,2,3,4,5,...|\n",
      "|2017|    1|          43.0|               1967|            593|              50|(25,[13],[1.0])|(6,[4],[1.0])|  (16,[1],[1.0])|(18,[7],[1.0])|    228500.0|(31,[0,1,2,3,4,5,...|\n",
      "|2017|    1|          44.0|               1979|            736|              38| (25,[8],[1.0])|(6,[4],[1.0])|  (16,[2],[1.0])|(18,[1],[1.0])|    232000.0|(31,[0,1,2,3,4,5,...|\n",
      "|2017|    1|          45.0|               1978|            726|              39| (25,[6],[1.0])|(6,[4],[1.0])|  (16,[0],[1.0])|(18,[1],[1.0])|    238000.0|(31,[0,1,2,3,4,5,...|\n",
      "|2017|    1|          46.0|               1973|            666|              44|(25,[18],[1.0])|(6,[4],[1.0])|  (16,[2],[1.0])|(18,[7],[1.0])|    220000.0|(31,[0,1,2,3,4,5,...|\n",
      "|2017|    1|          47.0|               2012|           1132|               5| (25,[7],[1.0])|(6,[4],[1.0])|  (16,[2],[1.0])|(18,[0],[1.0])|    252000.0|(31,[0,1,2,3,4,5,...|\n",
      "|2017|    1|          47.0|               2012|           1136|               5| (25,[3],[1.0])|(6,[4],[1.0])|  (16,[0],[1.0])|(18,[0],[1.0])|    235000.0|(31,[0,1,2,3,4,5,...|\n",
      "|2017|    1|          48.0|               1970|            629|              47|(25,[14],[1.0])|(6,[4],[1.0])|  (16,[1],[1.0])|(18,[7],[1.0])|    276000.0|(31,[0,1,2,3,4,5,...|\n",
      "+----+-----+--------------+-------------------+---------------+----------------+---------------+-------------+----------------+--------------+------------+--------------------+\n",
      "only showing top 10 rows\n",
      "\n"
     ]
    }
   ],
   "source": [
    "featureassembler=VectorAssembler(inputCols=df_final.columns[:-4],outputCol=\"Xcols\")\n",
    "train_vectored = featureassembler.transform(train)\n",
    "train_vectored.show(10)"
   ]
  },
  {
   "cell_type": "code",
   "execution_count": 63,
   "metadata": {},
   "outputs": [
    {
     "name": "stdout",
     "output_type": "stream",
     "text": [
      "+----+-----+--------------+-------------------+---------------+----------------+---------------+-------------+----------------+--------------+------------+--------------------+\n",
      "|year|month|floor_area_sqm|lease_commence_date|remaining_lease|flat_age_of_sale|       town_OHE|flat_type_OHE|storey_range_OHE|flat_model_OHE|resale_price|               Xcols|\n",
      "+----+-----+--------------+-------------------+---------------+----------------+---------------+-------------+----------------+--------------+------------+--------------------+\n",
      "|2017|    1|          42.0|               1971|            636|              46|(25,[18],[1.0])|(6,[4],[1.0])|  (16,[1],[1.0])|(18,[7],[1.0])|    205000.0|(31,[0,1,2,3,4,5,...|\n",
      "|2017|    1|          45.0|               1976|            696|              41|(25,[10],[1.0])|(6,[4],[1.0])|  (16,[1],[1.0])|(18,[1],[1.0])|    245000.0|(31,[0,1,2,3,4,5,...|\n",
      "|2017|    1|          45.0|               2012|           1130|               5| (25,[4],[1.0])|(6,[4],[1.0])|  (16,[3],[1.0])|(18,[0],[1.0])|    250000.0|(31,[0,1,2,3,4,5,...|\n",
      "|2017|    1|          50.0|               2012|           1130|               5| (25,[1],[1.0])|(6,[4],[1.0])|  (16,[6],[1.0])|(18,[0],[1.0])|    273000.0|(31,[0,1,2,3,4,5,...|\n",
      "|2017|    1|          56.0|               1969|            612|              48|(25,[18],[1.0])|(6,[2],[1.0])|  (16,[1],[1.0])|(18,[7],[1.0])|    330000.0|(31,[0,1,2,3,4,5,...|\n",
      "|2017|    1|          57.0|               1973|            666|              44|(25,[18],[1.0])|(6,[2],[1.0])|  (16,[1],[1.0])|(18,[7],[1.0])|    272000.0|(31,[0,1,2,3,4,5,...|\n",
      "|2017|    1|          59.0|               1974|            677|              43|(25,[17],[1.0])|(6,[2],[1.0])|  (16,[5],[1.0])|(18,[1],[1.0])|    388000.0|(31,[0,1,2,3,4,5,...|\n",
      "|2017|    1|          59.0|               1976|            700|              41|(25,[14],[1.0])|(6,[2],[1.0])|  (16,[4],[1.0])|(18,[1],[1.0])|    286000.0|(31,[0,1,2,3,4,5,...|\n",
      "|2017|    1|          60.0|               1967|            588|              50|(25,[18],[1.0])|(6,[2],[1.0])|  (16,[0],[1.0])|(18,[7],[1.0])|    235000.0|(31,[0,1,2,3,4,5,...|\n",
      "|2017|    1|          60.0|               1967|            588|              50|(25,[18],[1.0])|(6,[2],[1.0])|  (16,[3],[1.0])|(18,[7],[1.0])|    230000.0|(31,[0,1,2,3,4,5,...|\n",
      "+----+-----+--------------+-------------------+---------------+----------------+---------------+-------------+----------------+--------------+------------+--------------------+\n",
      "only showing top 10 rows\n",
      "\n"
     ]
    }
   ],
   "source": [
    "test_vectored = featureassembler.transform(test)\n",
    "test_vectored.show(10)"
   ]
  },
  {
   "cell_type": "code",
   "execution_count": 64,
   "metadata": {},
   "outputs": [
    {
     "name": "stdout",
     "output_type": "stream",
     "text": [
      "+------------+\n",
      "|resale_price|\n",
      "+------------+\n",
      "|    205000.0|\n",
      "+------------+\n",
      "only showing top 1 row\n",
      "\n"
     ]
    }
   ],
   "source": [
    "test_vectored.select(test_vectored.columns[10]).show((1))"
   ]
  },
  {
   "cell_type": "markdown",
   "metadata": {},
   "source": [
    " #### Step 4.3: Numerical Transformation (Z-Score Transformation)"
   ]
  },
  {
   "cell_type": "code",
   "execution_count": 65,
   "metadata": {},
   "outputs": [
    {
     "name": "stdout",
     "output_type": "stream",
     "text": [
      "+----+-----+--------------+-------------------+---------------+----------------+---------------+-------------+----------------+--------------+------------+--------------------+--------------------+\n",
      "|year|month|floor_area_sqm|lease_commence_date|remaining_lease|flat_age_of_sale|       town_OHE|flat_type_OHE|storey_range_OHE|flat_model_OHE|resale_price|               Xcols|       Xcols_sscaled|\n",
      "+----+-----+--------------+-------------------+---------------+----------------+---------------+-------------+----------------+--------------+------------+--------------------+--------------------+\n",
      "|2017|    1|          34.0|               1971|            642|              46|(25,[10],[1.0])|(6,[4],[1.0])|  (16,[1],[1.0])|(18,[7],[1.0])|    218000.0|(31,[0,1,2,3,4,5,...|[-1.2578361850677...|\n",
      "|2017|    1|          34.0|               1971|            642|              46|(25,[10],[1.0])|(6,[4],[1.0])|  (16,[1],[1.0])|(18,[7],[1.0])|    230000.0|(31,[0,1,2,3,4,5,...|[-1.2578361850677...|\n",
      "|2017|    1|          42.0|               1971|            636|              46|(25,[18],[1.0])|(6,[4],[1.0])|  (16,[2],[1.0])|(18,[7],[1.0])|    215000.0|(31,[0,1,2,3,4,5,...|[-1.2578361850677...|\n",
      "|2017|    1|          43.0|               1967|            593|              50|(25,[13],[1.0])|(6,[4],[1.0])|  (16,[1],[1.0])|(18,[7],[1.0])|    228500.0|(31,[0,1,2,3,4,5,...|[-1.2578361850677...|\n",
      "|2017|    1|          44.0|               1979|            736|              38| (25,[8],[1.0])|(6,[4],[1.0])|  (16,[2],[1.0])|(18,[1],[1.0])|    232000.0|(31,[0,1,2,3,4,5,...|[-1.2578361850677...|\n",
      "|2017|    1|          45.0|               1978|            726|              39| (25,[6],[1.0])|(6,[4],[1.0])|  (16,[0],[1.0])|(18,[1],[1.0])|    238000.0|(31,[0,1,2,3,4,5,...|[-1.2578361850677...|\n",
      "|2017|    1|          46.0|               1973|            666|              44|(25,[18],[1.0])|(6,[4],[1.0])|  (16,[2],[1.0])|(18,[7],[1.0])|    220000.0|(31,[0,1,2,3,4,5,...|[-1.2578361850677...|\n",
      "|2017|    1|          47.0|               2012|           1132|               5| (25,[7],[1.0])|(6,[4],[1.0])|  (16,[2],[1.0])|(18,[0],[1.0])|    252000.0|(31,[0,1,2,3,4,5,...|[-1.2578361850677...|\n",
      "|2017|    1|          47.0|               2012|           1136|               5| (25,[3],[1.0])|(6,[4],[1.0])|  (16,[0],[1.0])|(18,[0],[1.0])|    235000.0|(31,[0,1,2,3,4,5,...|[-1.2578361850677...|\n",
      "|2017|    1|          48.0|               1970|            629|              47|(25,[14],[1.0])|(6,[4],[1.0])|  (16,[1],[1.0])|(18,[7],[1.0])|    276000.0|(31,[0,1,2,3,4,5,...|[-1.2578361850677...|\n",
      "|2017|    1|          51.0|               1971|            642|              46|(25,[10],[1.0])|(6,[4],[1.0])|  (16,[1],[1.0])|(18,[7],[1.0])|    300000.0|(31,[0,1,2,3,4,5,...|[-1.2578361850677...|\n",
      "|2017|    1|          52.0|               2008|           1087|               9| (25,[2],[1.0])|(6,[4],[1.0])|  (16,[1],[1.0])|(18,[3],[1.0])|    258000.0|(31,[0,1,2,3,4,5,...|[-1.2578361850677...|\n",
      "|2017|    1|          54.0|               1970|            625|              47|(25,[10],[1.0])|(6,[2],[1.0])|  (16,[0],[1.0])|(18,[7],[1.0])|    300000.0|(31,[0,1,2,3,4,5,...|[-1.2578361850677...|\n",
      "|2017|    1|          55.0|               1969|            612|              48|(25,[18],[1.0])|(6,[2],[1.0])|  (16,[3],[1.0])|(18,[7],[1.0])|    269000.0|(31,[0,1,2,3,4,5,...|[-1.2578361850677...|\n",
      "|2017|    1|          55.0|               1982|            768|              35|(25,[23],[1.0])|(6,[4],[1.0])|  (16,[0],[1.0])|(18,[1],[1.0])|    250000.0|(31,[0,1,2,3,4,5,...|[-1.2578361850677...|\n",
      "|2017|    1|          56.0|               1969|            612|              48|(25,[18],[1.0])|(6,[2],[1.0])|  (16,[3],[1.0])|(18,[7],[1.0])|    238000.0|(31,[0,1,2,3,4,5,...|[-1.2578361850677...|\n",
      "|2017|    1|          56.0|               1970|            629|              47|(25,[14],[1.0])|(6,[2],[1.0])|  (16,[1],[1.0])|(18,[7],[1.0])|    225000.0|(31,[0,1,2,3,4,5,...|[-1.2578361850677...|\n",
      "|2017|    1|          56.0|               2008|           1087|               9| (25,[2],[1.0])|(6,[4],[1.0])|  (16,[3],[1.0])|(18,[3],[1.0])|    240000.0|(31,[0,1,2,3,4,5,...|[-1.2578361850677...|\n",
      "|2017|    1|          58.0|               1969|            618|              48|(25,[10],[1.0])|(6,[2],[1.0])|  (16,[0],[1.0])|(18,[7],[1.0])|    333000.0|(31,[0,1,2,3,4,5,...|[-1.2578361850677...|\n",
      "|2017|    1|          59.0|               1967|            588|              50|(25,[18],[1.0])|(6,[2],[1.0])|  (16,[3],[1.0])|(18,[7],[1.0])|    263000.0|(31,[0,1,2,3,4,5,...|[-1.2578361850677...|\n",
      "+----+-----+--------------+-------------------+---------------+----------------+---------------+-------------+----------------+--------------+------------+--------------------+--------------------+\n",
      "only showing top 20 rows\n",
      "\n"
     ]
    }
   ],
   "source": [
    "sScaler = StandardScaler(withMean=True, withStd=True, inputCol=\"Xcols\", outputCol=\"Xcols_sscaled\")\n",
    "train_sscaled = sScaler.fit(train_vectored).transform(train_vectored)\n",
    "train_sscaled.show()"
   ]
  },
  {
   "cell_type": "code",
   "execution_count": 66,
   "metadata": {},
   "outputs": [
    {
     "name": "stdout",
     "output_type": "stream",
     "text": [
      "+----+-----+--------------+-------------------+---------------+----------------+---------------+-------------+----------------+--------------+------------+--------------------+--------------------+\n",
      "|year|month|floor_area_sqm|lease_commence_date|remaining_lease|flat_age_of_sale|       town_OHE|flat_type_OHE|storey_range_OHE|flat_model_OHE|resale_price|               Xcols|       Xcols_sscaled|\n",
      "+----+-----+--------------+-------------------+---------------+----------------+---------------+-------------+----------------+--------------+------------+--------------------+--------------------+\n",
      "|2017|    1|          42.0|               1971|            636|              46|(25,[18],[1.0])|(6,[4],[1.0])|  (16,[1],[1.0])|(18,[7],[1.0])|    205000.0|(31,[0,1,2,3,4,5,...|[-1.2666285800628...|\n",
      "|2017|    1|          45.0|               1976|            696|              41|(25,[10],[1.0])|(6,[4],[1.0])|  (16,[1],[1.0])|(18,[1],[1.0])|    245000.0|(31,[0,1,2,3,4,5,...|[-1.2666285800628...|\n",
      "|2017|    1|          45.0|               2012|           1130|               5| (25,[4],[1.0])|(6,[4],[1.0])|  (16,[3],[1.0])|(18,[0],[1.0])|    250000.0|(31,[0,1,2,3,4,5,...|[-1.2666285800628...|\n",
      "|2017|    1|          50.0|               2012|           1130|               5| (25,[1],[1.0])|(6,[4],[1.0])|  (16,[6],[1.0])|(18,[0],[1.0])|    273000.0|(31,[0,1,2,3,4,5,...|[-1.2666285800628...|\n",
      "|2017|    1|          56.0|               1969|            612|              48|(25,[18],[1.0])|(6,[2],[1.0])|  (16,[1],[1.0])|(18,[7],[1.0])|    330000.0|(31,[0,1,2,3,4,5,...|[-1.2666285800628...|\n",
      "|2017|    1|          57.0|               1973|            666|              44|(25,[18],[1.0])|(6,[2],[1.0])|  (16,[1],[1.0])|(18,[7],[1.0])|    272000.0|(31,[0,1,2,3,4,5,...|[-1.2666285800628...|\n",
      "|2017|    1|          59.0|               1974|            677|              43|(25,[17],[1.0])|(6,[2],[1.0])|  (16,[5],[1.0])|(18,[1],[1.0])|    388000.0|(31,[0,1,2,3,4,5,...|[-1.2666285800628...|\n",
      "|2017|    1|          59.0|               1976|            700|              41|(25,[14],[1.0])|(6,[2],[1.0])|  (16,[4],[1.0])|(18,[1],[1.0])|    286000.0|(31,[0,1,2,3,4,5,...|[-1.2666285800628...|\n",
      "|2017|    1|          60.0|               1967|            588|              50|(25,[18],[1.0])|(6,[2],[1.0])|  (16,[0],[1.0])|(18,[7],[1.0])|    235000.0|(31,[0,1,2,3,4,5,...|[-1.2666285800628...|\n",
      "|2017|    1|          60.0|               1967|            588|              50|(25,[18],[1.0])|(6,[2],[1.0])|  (16,[3],[1.0])|(18,[7],[1.0])|    230000.0|(31,[0,1,2,3,4,5,...|[-1.2666285800628...|\n",
      "|2017|    1|          60.0|               1967|            588|              50|(25,[18],[1.0])|(6,[2],[1.0])|  (16,[3],[1.0])|(18,[7],[1.0])|    262000.0|(31,[0,1,2,3,4,5,...|[-1.2666285800628...|\n",
      "|2017|    1|          60.0|               1969|            612|              48|(25,[14],[1.0])|(6,[2],[1.0])|  (16,[0],[1.0])|(18,[7],[1.0])|    338181.0|(31,[0,1,2,3,4,5,...|[-1.2666285800628...|\n",
      "|2017|    1|          60.0|               1970|            630|              47|(25,[17],[1.0])|(6,[2],[1.0])|  (16,[1],[1.0])|(18,[1],[1.0])|    299800.0|(31,[0,1,2,3,4,5,...|[-1.2666285800628...|\n",
      "|2017|    1|          60.0|               1985|            813|              32| (25,[6],[1.0])|(6,[2],[1.0])|  (16,[1],[1.0])|(18,[1],[1.0])|    301888.0|(31,[0,1,2,3,4,5,...|[-1.2666285800628...|\n",
      "|2017|    1|          60.0|               1999|            978|              18| (25,[3],[1.0])|(6,[2],[1.0])|  (16,[0],[1.0])|(18,[0],[1.0])|    300000.0|(31,[0,1,2,3,4,5,...|[-1.2666285800628...|\n",
      "|2017|    1|          64.0|               1968|            605|              49|(25,[18],[1.0])|(6,[2],[1.0])|  (16,[0],[1.0])|(18,[7],[1.0])|    256000.0|(31,[0,1,2,3,4,5,...|[-1.2666285800628...|\n",
      "|2017|    1|          64.0|               1986|            825|              31| (25,[7],[1.0])|(6,[2],[1.0])|  (16,[0],[1.0])|(18,[4],[1.0])|    292000.0|(31,[0,1,2,3,4,5,...|[-1.2666285800628...|\n",
      "|2017|    1|          65.0|               1976|            696|              41| (25,[6],[1.0])|(6,[2],[1.0])|  (16,[4],[1.0])|(18,[1],[1.0])|    300000.0|(31,[0,1,2,3,4,5,...|[-1.2666285800628...|\n",
      "|2017|    1|          65.0|               1982|            768|              35|(25,[13],[1.0])|(6,[2],[1.0])|  (16,[2],[1.0])|(18,[1],[1.0])|    308000.0|(31,[0,1,2,3,4,5,...|[-1.2666285800628...|\n",
      "|2017|    1|          66.0|               1970|            624|              47|(25,[13],[1.0])|(6,[2],[1.0])|  (16,[1],[1.0])|(18,[1],[1.0])|    295000.0|(31,[0,1,2,3,4,5,...|[-1.2666285800628...|\n",
      "+----+-----+--------------+-------------------+---------------+----------------+---------------+-------------+----------------+--------------+------------+--------------------+--------------------+\n",
      "only showing top 20 rows\n",
      "\n"
     ]
    }
   ],
   "source": [
    "test_sscaled = sScaler.fit(test_vectored).transform(test_vectored)\n",
    "test_sscaled.show()"
   ]
  },
  {
   "cell_type": "markdown",
   "metadata": {},
   "source": [
    "#### Step 4.4: Assigning Input and Output Variables"
   ]
  },
  {
   "cell_type": "code",
   "execution_count": 67,
   "metadata": {},
   "outputs": [
    {
     "name": "stdout",
     "output_type": "stream",
     "text": [
      "+--------------------+------------+\n",
      "|       Xcols_sscaled|resale_price|\n",
      "+--------------------+------------+\n",
      "|[-1.2578361850677...|    218000.0|\n",
      "|[-1.2578361850677...|    230000.0|\n",
      "|[-1.2578361850677...|    215000.0|\n",
      "|[-1.2578361850677...|    228500.0|\n",
      "|[-1.2578361850677...|    232000.0|\n",
      "|[-1.2578361850677...|    238000.0|\n",
      "|[-1.2578361850677...|    220000.0|\n",
      "|[-1.2578361850677...|    252000.0|\n",
      "|[-1.2578361850677...|    235000.0|\n",
      "|[-1.2578361850677...|    276000.0|\n",
      "+--------------------+------------+\n",
      "only showing top 10 rows\n",
      "\n"
     ]
    }
   ],
   "source": [
    "train_data = train_sscaled.select(\"Xcols_sscaled\",\"resale_price\")\n",
    "train_data.show(10)"
   ]
  },
  {
   "cell_type": "code",
   "execution_count": 68,
   "metadata": {},
   "outputs": [
    {
     "name": "stdout",
     "output_type": "stream",
     "text": [
      "+--------------------+------------+\n",
      "|       Xcols_sscaled|resale_price|\n",
      "+--------------------+------------+\n",
      "|[-1.2666285800628...|    205000.0|\n",
      "|[-1.2666285800628...|    245000.0|\n",
      "|[-1.2666285800628...|    250000.0|\n",
      "|[-1.2666285800628...|    273000.0|\n",
      "|[-1.2666285800628...|    330000.0|\n",
      "|[-1.2666285800628...|    272000.0|\n",
      "|[-1.2666285800628...|    388000.0|\n",
      "|[-1.2666285800628...|    286000.0|\n",
      "|[-1.2666285800628...|    235000.0|\n",
      "|[-1.2666285800628...|    230000.0|\n",
      "+--------------------+------------+\n",
      "only showing top 10 rows\n",
      "\n"
     ]
    }
   ],
   "source": [
    "test_data = test_sscaled.select(\"Xcols_sscaled\",\"resale_price\")\n",
    "test_data.show(10)"
   ]
  },
  {
   "cell_type": "markdown",
   "metadata": {},
   "source": [
    "#### Step 4.5: Linear Regression Predictive Algorithm Model"
   ]
  },
  {
   "cell_type": "code",
   "execution_count": 69,
   "metadata": {},
   "outputs": [
    {
     "name": "stdout",
     "output_type": "stream",
     "text": [
      "[-3029.1484266702005,-1361.508041333557,109135.56994912216,39787.71996755186,-9535.089293623492,-40052.64929173598,-103822.88922468675,-96319.84710700151,-92527.36705050583,-81331.29764512027,-62682.23611141957,-84502.26833147935,-46669.861064487726,-61208.39270661259,-39027.0242260086,-80109.73180691988,-16838.378316303744,-56030.458329890964,-64822.8947968928,-22754.45366260156,-21405.7609972157,-55382.65779196294,-67499.8746549728,-11013.606980874498,-23492.300724753753,-39706.47732765023,-22457.92846952839,-30246.343063103104,-12966.950200876861,-212.93552739312256,-2462.6527681413177]\n",
      "439023.72177230526\n"
     ]
    }
   ],
   "source": [
    "regressor=LinearRegression(featuresCol=\"Xcols_sscaled\", labelCol='resale_price')\n",
    "regressor=regressor.fit(train_data)\n",
    "\n",
    "print(regressor.coefficients)\n",
    "print(regressor.intercept)"
   ]
  },
  {
   "cell_type": "code",
   "execution_count": 70,
   "metadata": {},
   "outputs": [
    {
     "data": {
      "text/plain": [
       "[Row(Xcols_sscaled=DenseVector([-1.2578, -1.7677, -2.6288, -1.817, -1.6928, 1.7377, -0.2884, -0.2914, -0.2882, -0.27, -0.2607, -0.2593, -0.2372, -0.2196, -0.2168, -0.2089, 4.8578, -0.1984, -0.1967, -0.1856, -0.1746, -0.1722, -0.1691, -0.1642, -0.1567, -0.152, -0.1503, -0.1466, -0.1413, -0.091, -0.0768]), resale_price=218000.0)]"
      ]
     },
     "execution_count": 70,
     "metadata": {},
     "output_type": "execute_result"
    }
   ],
   "source": [
    "train_data.take(1)"
   ]
  },
  {
   "cell_type": "markdown",
   "metadata": {},
   "source": [
    "### Step 5: Model Evaluation and Selection"
   ]
  },
  {
   "cell_type": "markdown",
   "metadata": {},
   "source": [
    "#### Step 5.1: Model Results"
   ]
  },
  {
   "cell_type": "code",
   "execution_count": 71,
   "metadata": {},
   "outputs": [
    {
     "name": "stdout",
     "output_type": "stream",
     "text": [
      "+--------------------+------------+------------------+\n",
      "|       Xcols_sscaled|resale_price|        prediction|\n",
      "+--------------------+------------+------------------+\n",
      "|[-1.2578361850677...|    218000.0|219528.78378633506|\n",
      "|[-1.2578361850677...|    230000.0|219528.78378633506|\n",
      "|[-1.2578361850677...|    215000.0| 187551.6304364471|\n",
      "|[-1.2578361850677...|    228500.0|195944.90802077844|\n",
      "|[-1.2578361850677...|    232000.0|206587.44137194057|\n",
      "|[-1.2578361850677...|    238000.0|185921.37506316355|\n",
      "|[-1.2578361850677...|    220000.0|216446.97970272021|\n",
      "|[-1.2578361850677...|    252000.0| 302683.3773212639|\n",
      "|[-1.2578361850677...|    235000.0|271369.06648660824|\n",
      "|[-1.2578361850677...|    276000.0|235810.15082757865|\n",
      "|[-1.2578361850677...|    300000.0|295971.85455804813|\n",
      "|[-1.2578361850677...|    258000.0|246801.70902513375|\n",
      "|[-1.2578361850677...|    300000.0|304134.90624278184|\n",
      "|[-1.2578361850677...|    269000.0|234716.94131625854|\n",
      "|[-1.2578361850677...|    250000.0| 459347.0009913819|\n",
      "|[-1.2578361850677...|    238000.0|239213.59253812392|\n",
      "|[-1.2578361850677...|    225000.0|271783.36060250236|\n",
      "|[-1.2578361850677...|    240000.0| 264788.3139125956|\n",
      "|[-1.2578361850677...|    333000.0| 316157.2581066666|\n",
      "|[-1.2578361850677...|    263000.0|241412.39119928054|\n",
      "+--------------------+------------+------------------+\n",
      "only showing top 20 rows\n",
      "\n"
     ]
    }
   ],
   "source": [
    "train_pred_results=regressor.evaluate(train_data)\n",
    "train_pred_results.predictions.show()"
   ]
  },
  {
   "cell_type": "code",
   "execution_count": 72,
   "metadata": {},
   "outputs": [
    {
     "name": "stdout",
     "output_type": "stream",
     "text": [
      "+--------------------+------------+------------------+\n",
      "|       Xcols_sscaled|resale_price|        prediction|\n",
      "+--------------------+------------+------------------+\n",
      "|[-1.2666285800628...|    205000.0| 191808.2046236571|\n",
      "|[-1.2666285800628...|    245000.0| 295352.1786854175|\n",
      "|[-1.2666285800628...|    250000.0| 329624.1537802085|\n",
      "|[-1.2666285800628...|    273000.0| 241861.4275077857|\n",
      "|[-1.2666285800628...|    330000.0|243451.52725419583|\n",
      "|[-1.2666285800628...|    272000.0|   270194.48906214|\n",
      "|[-1.2666285800628...|    388000.0| 367643.3908269855|\n",
      "|[-1.2666285800628...|    286000.0|322181.03268332535|\n",
      "|[-1.2666285800628...|    235000.0| 250124.9591656272|\n",
      "|[-1.2666285800628...|    230000.0| 250124.9591656272|\n",
      "|[-1.2666285800628...|    262000.0| 250124.9591656272|\n",
      "|[-1.2666285800628...|    338181.0|287332.57044942223|\n",
      "|[-1.2666285800628...|    299800.0| 349447.4851437416|\n",
      "|[-1.2666285800628...|    301888.0|294164.76140377135|\n",
      "|[-1.2666285800628...|    300000.0|252632.72865303358|\n",
      "|[-1.2666285800628...|    256000.0| 273450.9476277179|\n",
      "|[-1.2666285800628...|    292000.0|239328.36902459167|\n",
      "|[-1.2666285800628...|    300000.0|266308.96109495766|\n",
      "|[-1.2666285800628...|    308000.0| 384401.7353084616|\n",
      "|[-1.2666285800628...|    295000.0| 321011.5781231034|\n",
      "+--------------------+------------+------------------+\n",
      "only showing top 20 rows\n",
      "\n"
     ]
    }
   ],
   "source": [
    "test_pred_results=regressor.evaluate(test_data)\n",
    "test_pred_results.predictions.show()"
   ]
  },
  {
   "cell_type": "markdown",
   "metadata": {},
   "source": [
    "#### Step 5.2: Model Evaluation"
   ]
  },
  {
   "cell_type": "code",
   "execution_count": 73,
   "metadata": {},
   "outputs": [
    {
     "data": {
      "text/plain": [
       "(50390.25831901301, 4342120724.292134, 0.8159537590753954)"
      ]
     },
     "execution_count": 73,
     "metadata": {},
     "output_type": "execute_result"
    }
   ],
   "source": [
    "##### Train Data: MAE, MSE, R2\n",
    "train_pred_results.meanAbsoluteError, train_pred_results.meanSquaredError, train_pred_results.r2"
   ]
  },
  {
   "cell_type": "code",
   "execution_count": 74,
   "metadata": {},
   "outputs": [
    {
     "data": {
      "text/plain": [
       "(50324.110608917195, 4361561396.975159, 0.8174267939126624)"
      ]
     },
     "execution_count": 74,
     "metadata": {},
     "output_type": "execute_result"
    }
   ],
   "source": [
    "##### Test Data: MAE, MSE, R2\n",
    "test_pred_results.meanAbsoluteError, test_pred_results.meanSquaredError, test_pred_results.r2"
   ]
  },
  {
   "cell_type": "code",
   "execution_count": 75,
   "metadata": {},
   "outputs": [
    {
     "name": "stdout",
     "output_type": "stream",
     "text": [
      "+--------------------+------------+\n",
      "|       Xcols_sscaled|resale_price|\n",
      "+--------------------+------------+\n",
      "|[-1.2666285800628...|    205000.0|\n",
      "|[-1.2666285800628...|    245000.0|\n",
      "|[-1.2666285800628...|    250000.0|\n",
      "+--------------------+------------+\n",
      "\n"
     ]
    }
   ],
   "source": [
    "pyspark_3_rows = test_data.limit(3)\n",
    "pyspark_3_rows.show()"
   ]
  },
  {
   "cell_type": "code",
   "execution_count": 76,
   "metadata": {},
   "outputs": [
    {
     "name": "stdout",
     "output_type": "stream",
     "text": [
      "+--------------------+------------+-----------------+\n",
      "|       Xcols_sscaled|resale_price|       prediction|\n",
      "+--------------------+------------+-----------------+\n",
      "|[-1.2666285800628...|    205000.0|191808.2046236571|\n",
      "|[-1.2666285800628...|    245000.0|295352.1786854175|\n",
      "|[-1.2666285800628...|    250000.0|329624.1537802085|\n",
      "+--------------------+------------+-----------------+\n",
      "\n"
     ]
    }
   ],
   "source": [
    "regressor.evaluate(pyspark_3_rows).predictions.show()\n",
    "\n",
    "#Differences:\n",
    "#205,000 - 191,808 = 13,192\n",
    "#245,000 - 295,352 = -50,352\n",
    "#250,000 - 329,624 = -79,624"
   ]
  },
  {
   "cell_type": "markdown",
   "metadata": {},
   "source": [
    "##### One-Hot-Encoding:\n",
    "###### Train Data Score:\n",
    "MAE: 50390\n",
    "\n",
    "MSE: 4342120724\n",
    "\n",
    "r^2: 0.816\n",
    "\n",
    "###### Test Data Score:\n",
    "MAE: 50324\n",
    "\n",
    "MSE: 4361561396\n",
    "\n",
    "r^2: 0.817"
   ]
  },
  {
   "cell_type": "markdown",
   "metadata": {},
   "source": [
    "##### String Indexing:"
   ]
  },
  {
   "cell_type": "markdown",
   "metadata": {},
   "source": [
    "###### Train Data Score:\n",
    "MAE: 74312\n",
    "\n",
    "MSE: 10180702096\n",
    "\n",
    "r^2: 0.568\n",
    "\n",
    "###### Test Data Score:\n",
    "MAE: 73987\n",
    "\n",
    "MSE: 10174364878\n",
    "\n",
    "r^2: 0.573"
   ]
  },
  {
   "cell_type": "markdown",
   "metadata": {},
   "source": [
    "### Step 6: Report<a id=\"report\"></a>\n",
    "\n",
    "[Back to top](#top)"
   ]
  },
  {
   "cell_type": "markdown",
   "metadata": {},
   "source": [
    "### 6.0. Table of Contents for Report<a id=\"part0\"></a>\n"
   ]
  },
  {
   "cell_type": "markdown",
   "metadata": {},
   "source": [
    "#### 0. [Table of Contents](#part0) \n",
    "\n",
    "#### 1. [Problem Statement Formulation](#part1)\n",
    "   - [1.1 Load the Data](#part1.1)\n",
    "   - [1.2 Explore & Understand the Data](#part1.2)\n",
    "   - [1.3 Value Based Problem Statement](#part1.3)\n",
    "\n",
    "#### 2. [Exploratory Data Analysis and Data Cleansing](#part2)\n",
    "   - [2.1 Interesting Trends](#part2.1)\n",
    "   - [2.2 Anomalies](#part2.2)\n",
    "   - [2.3 Potential Errors](#part2.3)\n",
    "   - [2.4 Missing Value Treatment](#part2.4)\n",
    "\n",
    "#### 3. [Data Wrangling and Transformation](#part3)\n",
    "   - [3.1 Categorical Data](#part3.1)\n",
    "   - [3.2 Numerical Data](#part3.2)\n",
    "   - [3.3 Others (Dropping & Adding of Columns)](#part3.3)\n",
    "   \n",
    "\n",
    "#### 4. [Machine Learning Modelling](#part4)\n",
    "   - [4.1 Show Count of Rows and Columns](#part4.1)\n",
    "   - [4.2 Sample of 10 Rows before Modelling](#part4.2)\n",
    "   - [4.3 Build the Predictive Model](#part4.3)\n",
    "\n",
    "#### 5. [Model Evaluation and Selection](#part5)\n",
    "   - [5.1 Utilise Model Metrics for Evaluation](#part5.1)\n",
    "   - [5.2 Compare Models and Decide on Final Model](#part5.2)\n",
    "\n",
    "#### 6. [Summary and Further Improvements](#part6)\n",
    "   - [6.1 Summarise your Findings](#part6.1)\n",
    "   - [6.2 Explain the Possible Further Improvements](#part6.2)  "
   ]
  },
  {
   "cell_type": "markdown",
   "metadata": {},
   "source": [
    "### 6.1. Problem Statement Formulation <a id=\"part1\"></a>\n",
    "[Back to top](#top)"
   ]
  },
  {
   "cell_type": "markdown",
   "metadata": {},
   "source": [
    "#### 6.1.1. Load the Data <a id=\"part1.1\"></a>"
   ]
  },
  {
   "cell_type": "markdown",
   "metadata": {},
   "source": [
    "A copy of that csv is made along with the main dataframe as best practice to ensure that if there were to be an issue down the road, I can conveniently reference back to the original untouched CSV file."
   ]
  },
  {
   "attachments": {
    "Screenshot%20%28557%29.png": {
     "image/png": "[encoded data removed]"
    }
   },
   "cell_type": "markdown",
   "metadata": {},
   "source": [
    "![Screenshot%20%28557%29.png](attachment:Screenshot%20%28557%29.png)"
   ]
  },
  {
   "cell_type": "markdown",
   "metadata": {},
   "source": [
    "#### 6.1.2. Explore and Understand the Data <a id=\"part1.2\"></a>"
   ]
  },
  {
   "cell_type": "markdown",
   "metadata": {},
   "source": [
    "Additionally, the various features in PySpark allowed me to better understand the data before doing any form of data wrangling. For instance, upon exploring the dtypes of the variables, I found the column ‘block’ to be classes as a string. Initially I thought it was an error when PySpark was identifies the type. However, it was found that block can contain alphabets such as “123A”. Hence, being classed as a string.\n"
   ]
  },
  {
   "cell_type": "markdown",
   "metadata": {},
   "source": [
    "#### 6.1.3. Value Based Problem Statement <a id=\"part1.3\"></a>"
   ]
  },
  {
   "cell_type": "markdown",
   "metadata": {},
   "source": [
    "Given the variables of the HDB such as the year it was sold, the age of the flat when it was sold, the type of flat, and other variables finds the resale price of a given HDB flat. \n",
    "This would allow potential HDB buyers to gauge the costs of an HDB flat given a set of variables and details which will give these buyers the convenience to know if they can afford an HDB flat given the conditions and find out if the prices are matched to previous sales.\n",
    "\n",
    "<div style=\"text-align: right\"> Word count for Section 6.1: 199</div>"
   ]
  },
  {
   "cell_type": "markdown",
   "metadata": {},
   "source": [
    "### 6.2. Exploratory Data Analysis and Data Cleansing <a id=\"part2\"></a>\n",
    "[Back to top](#top)"
   ]
  },
  {
   "cell_type": "markdown",
   "metadata": {},
   "source": [
    "#### 6.2.1. Interesting Trends <a id=\"part2.1\"></a>"
   ]
  },
  {
   "cell_type": "markdown",
   "metadata": {},
   "source": [
    "An interesting trend is that the average resale price of each storey range gradually increases as the storey increase. However, from ranges 43 to 51, there is a decrease in resale price which could mean that those levels are potentially no longer as desirable or could just be due to the count of the data being particularly low as shown below."
   ]
  },
  {
   "attachments": {
    "Screenshot%20%28559%29.png": {
     "image/png": "[encoded data removed]"
    }
   },
   "cell_type": "markdown",
   "metadata": {},
   "source": [
    "![Screenshot%20%28559%29.png](attachment:Screenshot%20%28559%29.png)\n",
    "\n",
    "\n"
   ]
  },
  {
   "attachments": {
    "Screenshot%20%28560%29.png": {
     "image/png": "[encoded data removed]"
    }
   },
   "cell_type": "markdown",
   "metadata": {},
   "source": [
    "![Screenshot%20%28560%29.png](attachment:Screenshot%20%28560%29.png)"
   ]
  },
  {
   "cell_type": "markdown",
   "metadata": {},
   "source": [
    "#### 6.2.2. Anomalies <a id=\"part2.2\"></a>"
   ]
  },
  {
   "cell_type": "markdown",
   "metadata": {},
   "source": [
    "No anomalies were found by looking at the distinct data, for example, I observed no instances whereby the same data have different naming conventions but the same meaning. \n"
   ]
  },
  {
   "attachments": {
    "Screenshot%20%28563%29.png": {
     "image/png": "[encoded data removed]"
    }
   },
   "cell_type": "markdown",
   "metadata": {},
   "source": [
    "![Screenshot%20%28563%29.png](attachment:Screenshot%20%28563%29.png)"
   ]
  },
  {
   "cell_type": "markdown",
   "metadata": {},
   "source": [
    "#### 6.2.3. Potential Errors <a id=\"part2.3\"></a>"
   ]
  },
  {
   "cell_type": "markdown",
   "metadata": {},
   "source": [
    "A potential error is that the remaining lease columns are in months and not years. This is an assumption as the metadata was not given and the remaining lease column contains large values. Additionally, it would be logical based on the fact that HDB flats only have a maximum 99-year lease with no freehold HDB available. However, without the metadata, we can only assume. As such, the columns were not converted from months to years which would have improved readability. "
   ]
  },
  {
   "cell_type": "markdown",
   "metadata": {},
   "source": [
    "#### 6.2.4. Missing Value Treatment <a id=\"part2.4\"></a>"
   ]
  },
  {
   "cell_type": "markdown",
   "metadata": {},
   "source": [
    "It was found that 50 rows of data had missing values and they all resided in the ‘flat_age_of_sale’ column. Upon further inspection, they were not the only rows of data for any specific column. As such, it was decided to do a closed case analysis where we drop the 50 rows of data which resulted in the total number of data dropping from 64,248 to 64,197. Median and mean imputer was also used to replace the null value.\n",
    "\n",
    "\n",
    "<div style=\"text-align: right\"> Word count for Section 6.2: 247</div>"
   ]
  },
  {
   "attachments": {
    "Screenshot%20%28566%29.png": {
     "image/png": "[encoded data removed]"
    }
   },
   "cell_type": "markdown",
   "metadata": {},
   "source": [
    "![Screenshot%20%28566%29.png](attachment:Screenshot%20%28566%29.png)"
   ]
  },
  {
   "attachments": {
    "Screenshot%20%28567%29.png": {
     "image/png": "[encoded data removed]"
    }
   },
   "cell_type": "markdown",
   "metadata": {},
   "source": [
    "![Screenshot%20%28567%29.png](attachment:Screenshot%20%28567%29.png)"
   ]
  },
  {
   "cell_type": "markdown",
   "metadata": {},
   "source": [
    "### 6.3. Data Wrangling and Transformation <a id=\"part3\"></a>\n",
    "[Back to top](#top)"
   ]
  },
  {
   "cell_type": "markdown",
   "metadata": {},
   "source": [
    "#### 6.3.1. Categorical Data <a id=\"part3.1\"></a>"
   ]
  },
  {
   "cell_type": "markdown",
   "metadata": {},
   "source": [
    "String indexing and one hot encoding were used to encode the categorical data from string to a numerical form in preparation for the machine learning model. Of the two, personally, string indexing is preferred as it is more intuitive and simpler to read. However, both methods were used to enable us the option. Eventually, it was found that one hot encoding produced a much better result. Thus, one hot encoding was used in the end."
   ]
  },
  {
   "cell_type": "markdown",
   "metadata": {},
   "source": [
    "#### 6.3.2. Numerical Data <a id=\"part3.2\"></a>"
   ]
  },
  {
   "cell_type": "markdown",
   "metadata": {},
   "source": [
    "The Z-score transformation was done after vectoring to ensure that the data is better organised and it improves the overall stability of numerical models in linear regression models. Additionally, it helps to speed up the training process."
   ]
  },
  {
   "cell_type": "markdown",
   "metadata": {},
   "source": [
    "#### 6.3.3. Others (Dropping & Addition of Columns) <a id=\"part3.3\"></a>"
   ]
  },
  {
   "cell_type": "markdown",
   "metadata": {},
   "source": [
    "Columns “block” and “street_name” were dropped as they were not necessary and it improves overall model efficiency. Additionally, “flat_age_of_sale” was added by subtracting the “lease_commence_date” from the “year” to get the age of the flat when it was sold as that could be a useful value-added factor in predicting the resale price of the flat.\n",
    "\n",
    "<div style=\"text-align: right\"> Word count for Section 6.3: 167</div>"
   ]
  },
  {
   "cell_type": "markdown",
   "metadata": {},
   "source": [
    "### 6.4. Machine Learning Modelling <a id=\"part4\"></a>\n",
    "[Back to top](#top)"
   ]
  },
  {
   "cell_type": "markdown",
   "metadata": {},
   "source": [
    "#### 6.4.1. Show Count of Rows and Columns <a id=\"part4.1\"></a>"
   ]
  },
  {
   "cell_type": "markdown",
   "metadata": {},
   "source": [
    "The train test split was done at 80% for train data and 20% for test data. As such, the train data has 51,362 rows of data and 11 columns. Test data has 12,835 rows of data and 11 columns. The rows add up to the total number of rows of data before the transformation. This is done to ensure that there are sufficient amounts of data after transformation for the prediction model to ensure it will not be ridiculously accurate or inaccurate due to the lack of data."
   ]
  },
  {
   "attachments": {
    "Screenshot%20%28574%29.png": {
     "image/png": "[encoded data removed]"
    }
   },
   "cell_type": "markdown",
   "metadata": {},
   "source": [
    "![Screenshot%20%28574%29.png](attachment:Screenshot%20%28574%29.png)"
   ]
  },
  {
   "cell_type": "markdown",
   "metadata": {},
   "source": [
    "#### 6.4.2. Sample of 10 Rows before Modelling <a id=\"part4.2\"></a>"
   ]
  },
  {
   "cell_type": "markdown",
   "metadata": {},
   "source": [
    "Likewise, the sampling of 10 rows of data before modelling is to check and ensure the data is good to go before the machine learning process."
   ]
  },
  {
   "attachments": {
    "Screenshot%20%28571%29.png": {
     "image/png": "[encoded data removed]"
    }
   },
   "cell_type": "markdown",
   "metadata": {},
   "source": [
    "![Screenshot%20%28571%29.png](attachment:Screenshot%20%28571%29.png)"
   ]
  },
  {
   "attachments": {
    "Screenshot%20%28572%29.png": {
     "image/png": "[encoded data removed]"
    }
   },
   "cell_type": "markdown",
   "metadata": {},
   "source": [
    "![Screenshot%20%28572%29.png](attachment:Screenshot%20%28572%29.png)"
   ]
  },
  {
   "cell_type": "markdown",
   "metadata": {},
   "source": [
    "#### 6.4.3. Build the Predictive Model <a id=\"part4.3\"></a>"
   ]
  },
  {
   "cell_type": "markdown",
   "metadata": {},
   "source": [
    "The machine learning predictive model built is a regression model as the target is the resale price of HDB flats which are numerical. The model is then fitted and run with the end product showing the input which is the Xcols_sscaled, the original target resale price, and the ultimate prediction the model came up with. From there, we can compare it on the train and test data to evaluate the accuracy of the model.\n",
    "\n",
    "<div style=\"text-align: right\"> Word count for Section 6.4: 188</div>"
   ]
  },
  {
   "cell_type": "markdown",
   "metadata": {},
   "source": [
    "### 6.5. Model Evaluation and Selection <a id=\"part5\"></a>\n",
    "[Back to top](#top)"
   ]
  },
  {
   "cell_type": "markdown",
   "metadata": {},
   "source": [
    "#### 6.5.1. Utilize Model Metrics for Evaluation <a id=\"part5.1\"></a>"
   ]
  },
  {
   "cell_type": "markdown",
   "metadata": {},
   "source": [
    "After the machine learning prediction model was used and the predicted outcome was produced, it is not a definitive or conclusive way to show how accurate a given model is. As such, there is a set of formulas that are used to showcase the accuracy of a model. \n",
    "\n",
    "\n",
    "In this case, mean absolute error, mean squared error and r squared were used to test model accuracy for the train and test data. \n",
    "\n",
    "\n",
    "Overall, the mean absolute error and mean squared error for both data were very large. However, both r-squared values seem satisfactory with at least a 0.8 out of the maximum possible 1. Additionally, it is found that generally, the test data was ever so slightly more accurate than the train data in this particular outcome.\n",
    "\n",
    "\n",
    "Additionally, we can try to predict on a smaller scale and we can find the difference in resale price between the actual and predicted.\n"
   ]
  },
  {
   "attachments": {
    "Screenshot%20%28577%29.png": {
     "image/png": "[encoded data removed]"
    }
   },
   "cell_type": "markdown",
   "metadata": {},
   "source": [
    "![Screenshot%20%28577%29.png](attachment:Screenshot%20%28577%29.png)"
   ]
  },
  {
   "cell_type": "markdown",
   "metadata": {},
   "source": [
    "#### 6.5.2. Compare Models and Decide on Final Model <a id=\"part5.2\"></a>"
   ]
  },
  {
   "cell_type": "markdown",
   "metadata": {},
   "source": [
    "Comparing the models when using string indexing and one hot encoding shows that one hot encoding produces a significantly more accurate model as compared to that produced by string indexing. As such, as explained earlier, one hot encoding will be used for the categorical data encoding due to the much better accuracy of the model.\n",
    "<div style=\"text-align: right\"> Word count for Section 6.4: 206</div>"
   ]
  },
  {
   "attachments": {
    "Screenshot%20%28578%29.png": {
     "image/png": "[encoded data removed]"
    }
   },
   "cell_type": "markdown",
   "metadata": {},
   "source": [
    "![Screenshot%20%28578%29.png](attachment:Screenshot%20%28578%29.png)"
   ]
  },
  {
   "cell_type": "markdown",
   "metadata": {},
   "source": [
    "### 6.6. Summary and Further Improvements <a id=\"part6\"></a>\n",
    "[Back to top](#top)"
   ]
  },
  {
   "cell_type": "markdown",
   "metadata": {},
   "source": [
    "#### 6.6.1. Summarise your Findings <a id=\"part6.1\"></a>"
   ]
  },
  {
   "cell_type": "markdown",
   "metadata": {},
   "source": [
    "Overall, the model prediction was satisfactory in terms of the accuracy of the prediction. We found that with the given variables, we decently predict the resale price of the given HDB flat with just several factors which will aid buyers in gauging the costs of the HDB flat in a certain town with a given set of variables.\n",
    "\n",
    "\n",
    "Additionally, buyers would be able to refer to the model and find out if the price quoted to them for a specific unit is competitive and comparable to ensure that the end user is not getting ripped off."
   ]
  },
  {
   "cell_type": "markdown",
   "metadata": {},
   "source": [
    "#### 6.6.2. Explain the Possible Further Improvements <a id=\"part6.2\"></a>"
   ]
  },
  {
   "cell_type": "markdown",
   "metadata": {},
   "source": [
    "A possible area for improvement could be the handling of missing values as simply removing them may not prove best for the accuracy of the model prediction. However, I deemed it acceptable given the small number of null values present.\n",
    "\n",
    "\n",
    "Additionally, more variables can be given to predict the resale price of HDB. For example, the number of bathrooms can be given or proximity to a bus stop, food centre, shopping mall, and other variables can be added to aid the accuracy of the model.\n",
    "\n",
    "<div style=\"text-align: right\"> Word count for Section 6.4: 181</div>"
   ]
  },
  {
   "cell_type": "markdown",
   "metadata": {},
   "source": [
    "### \"Unlisted\" Youtube Link to Video Presentation\n",
    "[Back to top](#top)"
   ]
  },
  {
   "cell_type": "code",
   "execution_count": 77,
   "metadata": {},
   "outputs": [],
   "source": [
    "# insert your link in this cell, you are allowed to comment it out\n",
    "# youtube link: https://youtu.be/Ka2oAPzVAro"
   ]
  }
 ],
 "metadata": {
  "kernelspec": {
   "display_name": "Python 3 (ipykernel)",
   "language": "python",
   "name": "python3"
  },
  "language_info": {
   "codemirror_mode": {
    "name": "ipython",
    "version": 3
   },
   "file_extension": ".py",
   "mimetype": "text/x-python",
   "name": "python",
   "nbconvert_exporter": "python",
   "pygments_lexer": "ipython3",
   "version": "3.9.7"
  }
 },
 "nbformat": 4,
 "nbformat_minor": 4
}
