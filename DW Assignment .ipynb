{
 "cells": [
  {
   "cell_type": "markdown",
   "metadata": {},
   "source": [
    "<table class=\"table table-bordered\">\n",
    "    <tr>\n",
    "        <th style=\"width:250px\"><img src='https://www.np.edu.sg/PublishingImages/Pages/default/odp/ICT.jpg' style=\"width: 100%; height: 125px; \"></th>\n",
    "        <th style=\"text-align:center;\"><h1>Data Wrangling</h1><h2>Assignment 2 </h2><h3>Diploma in Data Science</h3><h4>Leong Kai En, Matthew (S10204010C)</h4></th>\n",
    "    </tr>\n",
    "</table>\n",
    "\n",
    "<a id=\"top\"></a>"
   ]
  },
  {
   "cell_type": "markdown",
   "metadata": {},
   "source": [
    "<h2> Code </h2> <a id=\"top\"></a>\n",
    "\n",
    "[Go to Report](#report)\n",
    "\n",
    "[Go to other methods (Not used)](#methods)"
   ]
  },
  {
   "cell_type": "code",
   "execution_count": 1,
   "metadata": {},
   "outputs": [],
   "source": [
    "# import the packages\n",
    "import pandas as pd\n",
    "import numpy as np\n",
    "\n",
    "#Plotting visuals\n",
    "import matplotlib.pyplot as plt\n",
    "import seaborn as sns\n",
    "import scipy.stats as stats #For Q-Q plots\n",
    "\n",
    "#Sklearn process for train test split\n",
    "from sklearn.model_selection import train_test_split\n",
    "\n",
    "#Missing Value Imputation\n",
    "from sklearn.pipeline import Pipeline\n",
    "import feature_engine.imputation as mdi\n",
    "\n",
    "#Categorical Data Encoding\n",
    "from feature_engine.encoding import OrdinalEncoder \n",
    "\n",
    "#Power Transformation\n",
    "from sklearn.pipeline import Pipeline\n",
    "from feature_engine.transformation import PowerTransformer\n",
    "\n",
    "#Variable Discretisation/Binning\n",
    "from sklearn.preprocessing import KBinsDiscretizer\n",
    "from feature_engine.discretisation import EqualWidthDiscretiser\n",
    "\n",
    "#Feature Engineer\n",
    "from sklearn.preprocessing import MaxAbsScaler, StandardScaler\n",
    "\n",
    "#Naive Baseline Model\n",
    "from scipy import stats\n",
    "from sklearn.metrics import mean_squared_error\n",
    "from sklearn.metrics import r2_score\n",
    "\n",
    "#Linear Regression\n",
    "from sklearn.linear_model import LinearRegression\n",
    "from sklearn.linear_model import LogisticRegression"
   ]
  },
  {
   "cell_type": "markdown",
   "metadata": {},
   "source": [
    "## 1.1: Load\n"
   ]
  },
  {
   "cell_type": "code",
   "execution_count": 2,
   "metadata": {},
   "outputs": [
    {
     "data": {
      "text/plain": [
       "'\\nTarget: Position column from data_results\\n'"
      ]
     },
     "execution_count": 2,
     "metadata": {},
     "output_type": "execute_result"
    }
   ],
   "source": [
    "data_driver = pd.read_csv('./datasets/f1db_csv_mod/drivers_mod.csv')\n",
    "data_pitstops =  pd.read_csv('./datasets/f1db_csv_mod/pit_stops_mod.csv')\n",
    "data_qualifying =  pd.read_csv('./datasets/f1db_csv_mod/qualifying_mod.csv')\n",
    "data_races =  pd.read_csv('./datasets/f1db_csv_mod/races_mod.csv')\n",
    "data_results =  pd.read_csv('./datasets/f1db_csv_mod/results_mod.csv')\n",
    "data_status = pd.read_csv('./datasets/f1db_csv_mod/status_mod.csv')\n",
    "\n",
    "\n",
    "'''\n",
    "Target: Position column from data_results\n",
    "'''"
   ]
  },
  {
   "cell_type": "markdown",
   "metadata": {},
   "source": [
    "## 1.2 Copy of Dataset"
   ]
  },
  {
   "cell_type": "code",
   "execution_count": 3,
   "metadata": {},
   "outputs": [],
   "source": [
    "#Copies of data set in case\n",
    "data_driver_copy = pd.read_csv('./datasets/f1db_csv_mod/drivers_mod.csv')\n",
    "data_pitstops_copy =  pd.read_csv('./datasets/f1db_csv_mod/pit_stops_mod.csv')\n",
    "data_qualifying_copy =  pd.read_csv('./datasets/f1db_csv_mod/qualifying_mod.csv')\n",
    "data_races_copy =  pd.read_csv('./datasets/f1db_csv_mod/races_mod.csv')\n",
    "data_results_copy =  pd.read_csv('./datasets/f1db_csv_mod/results_mod.csv')\n",
    "data_status_copy = pd.read_csv('./datasets/f1db_csv_mod/status_mod.csv')"
   ]
  },
  {
   "cell_type": "markdown",
   "metadata": {},
   "source": [
    "## Step 2: Data Wrangling on multiple tables \n",
    "[Back to top](#top)"
   ]
  },
  {
   "cell_type": "markdown",
   "metadata": {},
   "source": [
    "### 2.1 Data_Drivers Data "
   ]
  },
  {
   "cell_type": "code",
   "execution_count": 4,
   "metadata": {},
   "outputs": [
    {
     "data": {
      "text/html": [
       "<div>\n",
       "<style scoped>\n",
       "    .dataframe tbody tr th:only-of-type {\n",
       "        vertical-align: middle;\n",
       "    }\n",
       "\n",
       "    .dataframe tbody tr th {\n",
       "        vertical-align: top;\n",
       "    }\n",
       "\n",
       "    .dataframe thead th {\n",
       "        text-align: right;\n",
       "    }\n",
       "</style>\n",
       "<table border=\"1\" class=\"dataframe\">\n",
       "  <thead>\n",
       "    <tr style=\"text-align: right;\">\n",
       "      <th></th>\n",
       "      <th>driverId</th>\n",
       "      <th>driverRef</th>\n",
       "      <th>number</th>\n",
       "      <th>code</th>\n",
       "      <th>forename</th>\n",
       "      <th>surname</th>\n",
       "      <th>dob</th>\n",
       "      <th>nationality</th>\n",
       "    </tr>\n",
       "  </thead>\n",
       "  <tbody>\n",
       "    <tr>\n",
       "      <th>0</th>\n",
       "      <td>1</td>\n",
       "      <td>hamilton</td>\n",
       "      <td>44</td>\n",
       "      <td>HAM</td>\n",
       "      <td>Lewis</td>\n",
       "      <td>Hamilton</td>\n",
       "      <td>1985-01-07</td>\n",
       "      <td>British</td>\n",
       "    </tr>\n",
       "  </tbody>\n",
       "</table>\n",
       "</div>"
      ],
      "text/plain": [
       "   driverId driverRef number code forename   surname         dob nationality\n",
       "0         1  hamilton     44  HAM    Lewis  Hamilton  1985-01-07     British"
      ]
     },
     "execution_count": 4,
     "metadata": {},
     "output_type": "execute_result"
    }
   ],
   "source": [
    "#Boolean masking to help get the driver in question\n",
    "data_driver = data_driver[data_driver[\"driverId\"]==1]\n",
    "data_driver\n",
    "\n",
    "#Dropping URL column which is only used for self-referencing & context\n",
    "data_driver = data_driver.drop(\"url\", axis=1) #Dropping the url column\n",
    "data_driver"
   ]
  },
  {
   "cell_type": "markdown",
   "metadata": {},
   "source": [
    "### 2.2 Data_Pitstops Data "
   ]
  },
  {
   "cell_type": "code",
   "execution_count": 5,
   "metadata": {},
   "outputs": [
    {
     "data": {
      "text/html": [
       "<div>\n",
       "<style scoped>\n",
       "    .dataframe tbody tr th:only-of-type {\n",
       "        vertical-align: middle;\n",
       "    }\n",
       "\n",
       "    .dataframe tbody tr th {\n",
       "        vertical-align: top;\n",
       "    }\n",
       "\n",
       "    .dataframe thead th {\n",
       "        text-align: right;\n",
       "    }\n",
       "</style>\n",
       "<table border=\"1\" class=\"dataframe\">\n",
       "  <thead>\n",
       "    <tr style=\"text-align: right;\">\n",
       "      <th></th>\n",
       "      <th>raceId</th>\n",
       "      <th>driverId</th>\n",
       "      <th>stop</th>\n",
       "      <th>lap</th>\n",
       "      <th>time</th>\n",
       "      <th>duration</th>\n",
       "      <th>milliseconds</th>\n",
       "    </tr>\n",
       "  </thead>\n",
       "  <tbody>\n",
       "    <tr>\n",
       "      <th>11</th>\n",
       "      <td>841</td>\n",
       "      <td>1</td>\n",
       "      <td>1</td>\n",
       "      <td>16</td>\n",
       "      <td>17:28:24</td>\n",
       "      <td>23.227</td>\n",
       "      <td>23227</td>\n",
       "    </tr>\n",
       "    <tr>\n",
       "      <th>33</th>\n",
       "      <td>841</td>\n",
       "      <td>1</td>\n",
       "      <td>2</td>\n",
       "      <td>36</td>\n",
       "      <td>17:59:29</td>\n",
       "      <td>23.199</td>\n",
       "      <td>23199</td>\n",
       "    </tr>\n",
       "    <tr>\n",
       "      <th>49</th>\n",
       "      <td>842</td>\n",
       "      <td>1</td>\n",
       "      <td>1</td>\n",
       "      <td>12</td>\n",
       "      <td>16:24:40</td>\n",
       "      <td>22.552</td>\n",
       "      <td>22552</td>\n",
       "    </tr>\n",
       "    <tr>\n",
       "      <th>72</th>\n",
       "      <td>842</td>\n",
       "      <td>1</td>\n",
       "      <td>2</td>\n",
       "      <td>24</td>\n",
       "      <td>16:45:48</td>\n",
       "      <td>22.611</td>\n",
       "      <td>22611</td>\n",
       "    </tr>\n",
       "    <tr>\n",
       "      <th>89</th>\n",
       "      <td>842</td>\n",
       "      <td>1</td>\n",
       "      <td>3</td>\n",
       "      <td>37</td>\n",
       "      <td>17:08:28</td>\n",
       "      <td>25.382</td>\n",
       "      <td>25382</td>\n",
       "    </tr>\n",
       "    <tr>\n",
       "      <th>...</th>\n",
       "      <td>...</td>\n",
       "      <td>...</td>\n",
       "      <td>...</td>\n",
       "      <td>...</td>\n",
       "      <td>...</td>\n",
       "      <td>...</td>\n",
       "      <td>...</td>\n",
       "    </tr>\n",
       "    <tr>\n",
       "      <th>8748</th>\n",
       "      <td>1051</td>\n",
       "      <td>1</td>\n",
       "      <td>2</td>\n",
       "      <td>42</td>\n",
       "      <td>18:05:37</td>\n",
       "      <td>25.381</td>\n",
       "      <td>25381</td>\n",
       "    </tr>\n",
       "    <tr>\n",
       "      <th>8754</th>\n",
       "      <td>1072</td>\n",
       "      <td>1</td>\n",
       "      <td>1</td>\n",
       "      <td>10</td>\n",
       "      <td>20:49:49</td>\n",
       "      <td>20.580</td>\n",
       "      <td>20580</td>\n",
       "    </tr>\n",
       "    <tr>\n",
       "      <th>8762</th>\n",
       "      <td>1072</td>\n",
       "      <td>1</td>\n",
       "      <td>2</td>\n",
       "      <td>13</td>\n",
       "      <td>20:58:32</td>\n",
       "      <td>16:35.856</td>\n",
       "      <td>995856</td>\n",
       "    </tr>\n",
       "    <tr>\n",
       "      <th>8782</th>\n",
       "      <td>1072</td>\n",
       "      <td>1</td>\n",
       "      <td>3</td>\n",
       "      <td>15</td>\n",
       "      <td>21:22:02</td>\n",
       "      <td>18:06.674</td>\n",
       "      <td>1086674</td>\n",
       "    </tr>\n",
       "    <tr>\n",
       "      <th>8801</th>\n",
       "      <td>1073</td>\n",
       "      <td>1</td>\n",
       "      <td>1</td>\n",
       "      <td>14</td>\n",
       "      <td>17:24:04</td>\n",
       "      <td>21.595</td>\n",
       "      <td>21595</td>\n",
       "    </tr>\n",
       "  </tbody>\n",
       "</table>\n",
       "<p>431 rows × 7 columns</p>\n",
       "</div>"
      ],
      "text/plain": [
       "      raceId  driverId  stop  lap      time   duration  milliseconds\n",
       "11       841         1     1   16  17:28:24     23.227         23227\n",
       "33       841         1     2   36  17:59:29     23.199         23199\n",
       "49       842         1     1   12  16:24:40     22.552         22552\n",
       "72       842         1     2   24  16:45:48     22.611         22611\n",
       "89       842         1     3   37  17:08:28     25.382         25382\n",
       "...      ...       ...   ...  ...       ...        ...           ...\n",
       "8748    1051         1     2   42  18:05:37     25.381         25381\n",
       "8754    1072         1     1   10  20:49:49     20.580         20580\n",
       "8762    1072         1     2   13  20:58:32  16:35.856        995856\n",
       "8782    1072         1     3   15  21:22:02  18:06.674       1086674\n",
       "8801    1073         1     1   14  17:24:04     21.595         21595\n",
       "\n",
       "[431 rows x 7 columns]"
      ]
     },
     "execution_count": 5,
     "metadata": {},
     "output_type": "execute_result"
    }
   ],
   "source": [
    "#Boolean masking to help get the driver in question\n",
    "data_pitstops = data_pitstops[data_pitstops[\"driverId\"]==1]\n",
    "data_pitstops"
   ]
  },
  {
   "cell_type": "markdown",
   "metadata": {},
   "source": [
    "### 2.3 Data_Qualifying Data "
   ]
  },
  {
   "cell_type": "code",
   "execution_count": 6,
   "metadata": {},
   "outputs": [
    {
     "data": {
      "text/html": [
       "<div>\n",
       "<style scoped>\n",
       "    .dataframe tbody tr th:only-of-type {\n",
       "        vertical-align: middle;\n",
       "    }\n",
       "\n",
       "    .dataframe tbody tr th {\n",
       "        vertical-align: top;\n",
       "    }\n",
       "\n",
       "    .dataframe thead th {\n",
       "        text-align: right;\n",
       "    }\n",
       "</style>\n",
       "<table border=\"1\" class=\"dataframe\">\n",
       "  <thead>\n",
       "    <tr style=\"text-align: right;\">\n",
       "      <th></th>\n",
       "      <th>qualifyId</th>\n",
       "      <th>raceId</th>\n",
       "      <th>driverId</th>\n",
       "      <th>constructorId</th>\n",
       "      <th>number</th>\n",
       "      <th>qualifying_position</th>\n",
       "      <th>q1</th>\n",
       "      <th>q2</th>\n",
       "      <th>q3</th>\n",
       "    </tr>\n",
       "  </thead>\n",
       "  <tbody>\n",
       "    <tr>\n",
       "      <th>0</th>\n",
       "      <td>1</td>\n",
       "      <td>18</td>\n",
       "      <td>1</td>\n",
       "      <td>1</td>\n",
       "      <td>22</td>\n",
       "      <td>1</td>\n",
       "      <td>1:26.572</td>\n",
       "      <td>1:25.187</td>\n",
       "      <td>1:26.714</td>\n",
       "    </tr>\n",
       "    <tr>\n",
       "      <th>25</th>\n",
       "      <td>26</td>\n",
       "      <td>19</td>\n",
       "      <td>1</td>\n",
       "      <td>1</td>\n",
       "      <td>22</td>\n",
       "      <td>4</td>\n",
       "      <td>1:35.392</td>\n",
       "      <td>1:34.627</td>\n",
       "      <td>1:36.709</td>\n",
       "    </tr>\n",
       "    <tr>\n",
       "      <th>46</th>\n",
       "      <td>47</td>\n",
       "      <td>20</td>\n",
       "      <td>1</td>\n",
       "      <td>1</td>\n",
       "      <td>22</td>\n",
       "      <td>3</td>\n",
       "      <td>1:32.750</td>\n",
       "      <td>1:31.922</td>\n",
       "      <td>1:33.292</td>\n",
       "    </tr>\n",
       "    <tr>\n",
       "      <th>70</th>\n",
       "      <td>71</td>\n",
       "      <td>21</td>\n",
       "      <td>1</td>\n",
       "      <td>1</td>\n",
       "      <td>22</td>\n",
       "      <td>5</td>\n",
       "      <td>1:21.366</td>\n",
       "      <td>1:20.825</td>\n",
       "      <td>1:22.096</td>\n",
       "    </tr>\n",
       "    <tr>\n",
       "      <th>90</th>\n",
       "      <td>91</td>\n",
       "      <td>22</td>\n",
       "      <td>1</td>\n",
       "      <td>1</td>\n",
       "      <td>22</td>\n",
       "      <td>3</td>\n",
       "      <td>1:26.192</td>\n",
       "      <td>1:26.477</td>\n",
       "      <td>1:27.923</td>\n",
       "    </tr>\n",
       "    <tr>\n",
       "      <th>...</th>\n",
       "      <td>...</td>\n",
       "      <td>...</td>\n",
       "      <td>...</td>\n",
       "      <td>...</td>\n",
       "      <td>...</td>\n",
       "      <td>...</td>\n",
       "      <td>...</td>\n",
       "      <td>...</td>\n",
       "      <td>...</td>\n",
       "    </tr>\n",
       "    <tr>\n",
       "      <th>9036</th>\n",
       "      <td>9077</td>\n",
       "      <td>1070</td>\n",
       "      <td>1</td>\n",
       "      <td>131</td>\n",
       "      <td>44</td>\n",
       "      <td>2</td>\n",
       "      <td>1:17.207</td>\n",
       "      <td>1:16.474</td>\n",
       "      <td>1:16.020</td>\n",
       "    </tr>\n",
       "    <tr>\n",
       "      <th>9055</th>\n",
       "      <td>9096</td>\n",
       "      <td>1071</td>\n",
       "      <td>1</td>\n",
       "      <td>131</td>\n",
       "      <td>44</td>\n",
       "      <td>1</td>\n",
       "      <td>1:08.733</td>\n",
       "      <td>1:08.068</td>\n",
       "      <td>1:07.934</td>\n",
       "    </tr>\n",
       "    <tr>\n",
       "      <th>9075</th>\n",
       "      <td>9116</td>\n",
       "      <td>1051</td>\n",
       "      <td>1</td>\n",
       "      <td>131</td>\n",
       "      <td>44</td>\n",
       "      <td>1</td>\n",
       "      <td>1:21.901</td>\n",
       "      <td>1:21.682</td>\n",
       "      <td>1:20.827</td>\n",
       "    </tr>\n",
       "    <tr>\n",
       "      <th>9095</th>\n",
       "      <td>9136</td>\n",
       "      <td>1072</td>\n",
       "      <td>1</td>\n",
       "      <td>131</td>\n",
       "      <td>44</td>\n",
       "      <td>1</td>\n",
       "      <td>1:28.466</td>\n",
       "      <td>1:27.712</td>\n",
       "      <td>1:27.511</td>\n",
       "    </tr>\n",
       "    <tr>\n",
       "      <th>9116</th>\n",
       "      <td>9157</td>\n",
       "      <td>1073</td>\n",
       "      <td>1</td>\n",
       "      <td>131</td>\n",
       "      <td>44</td>\n",
       "      <td>2</td>\n",
       "      <td>1:22.845</td>\n",
       "      <td>1:23.145</td>\n",
       "      <td>1:22.480</td>\n",
       "    </tr>\n",
       "  </tbody>\n",
       "</table>\n",
       "<p>288 rows × 9 columns</p>\n",
       "</div>"
      ],
      "text/plain": [
       "      qualifyId  raceId  driverId  constructorId  number  qualifying_position  \\\n",
       "0             1      18         1              1      22                    1   \n",
       "25           26      19         1              1      22                    4   \n",
       "46           47      20         1              1      22                    3   \n",
       "70           71      21         1              1      22                    5   \n",
       "90           91      22         1              1      22                    3   \n",
       "...         ...     ...       ...            ...     ...                  ...   \n",
       "9036       9077    1070         1            131      44                    2   \n",
       "9055       9096    1071         1            131      44                    1   \n",
       "9075       9116    1051         1            131      44                    1   \n",
       "9095       9136    1072         1            131      44                    1   \n",
       "9116       9157    1073         1            131      44                    2   \n",
       "\n",
       "            q1        q2        q3  \n",
       "0     1:26.572  1:25.187  1:26.714  \n",
       "25    1:35.392  1:34.627  1:36.709  \n",
       "46    1:32.750  1:31.922  1:33.292  \n",
       "70    1:21.366  1:20.825  1:22.096  \n",
       "90    1:26.192  1:26.477  1:27.923  \n",
       "...        ...       ...       ...  \n",
       "9036  1:17.207  1:16.474  1:16.020  \n",
       "9055  1:08.733  1:08.068  1:07.934  \n",
       "9075  1:21.901  1:21.682  1:20.827  \n",
       "9095  1:28.466  1:27.712  1:27.511  \n",
       "9116  1:22.845  1:23.145  1:22.480  \n",
       "\n",
       "[288 rows x 9 columns]"
      ]
     },
     "execution_count": 6,
     "metadata": {},
     "output_type": "execute_result"
    }
   ],
   "source": [
    "#Boolean masking to help get the driver in question\n",
    "data_qualifying = data_qualifying[data_qualifying[\"driverId\"]==1]\n",
    "data_qualifying\n",
    "\n",
    "#Renamed position to qualifying position to mitigate confusion\n",
    "data_qualifying.rename(columns = {'position': 'qualifying_position'}, inplace = True)\n",
    "data_qualifying"
   ]
  },
  {
   "cell_type": "markdown",
   "metadata": {},
   "source": [
    "### 2.4 Data_Races Data "
   ]
  },
  {
   "cell_type": "code",
   "execution_count": 7,
   "metadata": {},
   "outputs": [
    {
     "data": {
      "text/html": [
       "<div>\n",
       "<style scoped>\n",
       "    .dataframe tbody tr th:only-of-type {\n",
       "        vertical-align: middle;\n",
       "    }\n",
       "\n",
       "    .dataframe tbody tr th {\n",
       "        vertical-align: top;\n",
       "    }\n",
       "\n",
       "    .dataframe thead th {\n",
       "        text-align: right;\n",
       "    }\n",
       "</style>\n",
       "<table border=\"1\" class=\"dataframe\">\n",
       "  <thead>\n",
       "    <tr style=\"text-align: right;\">\n",
       "      <th></th>\n",
       "      <th>raceId</th>\n",
       "      <th>round</th>\n",
       "      <th>circuitId</th>\n",
       "      <th>name</th>\n",
       "      <th>date</th>\n",
       "      <th>time</th>\n",
       "    </tr>\n",
       "  </thead>\n",
       "  <tbody>\n",
       "    <tr>\n",
       "      <th>0</th>\n",
       "      <td>1</td>\n",
       "      <td>1</td>\n",
       "      <td>1</td>\n",
       "      <td>Australian Grand Prix</td>\n",
       "      <td>3/29/2009</td>\n",
       "      <td>6:00:00</td>\n",
       "    </tr>\n",
       "    <tr>\n",
       "      <th>1</th>\n",
       "      <td>2</td>\n",
       "      <td>2</td>\n",
       "      <td>2</td>\n",
       "      <td>Malaysian Grand Prix</td>\n",
       "      <td>4/5/12009</td>\n",
       "      <td>9:00:00</td>\n",
       "    </tr>\n",
       "    <tr>\n",
       "      <th>2</th>\n",
       "      <td>3</td>\n",
       "      <td>3</td>\n",
       "      <td>17</td>\n",
       "      <td>Chinese Grand Prix</td>\n",
       "      <td>4/19/2009</td>\n",
       "      <td>7:00:00</td>\n",
       "    </tr>\n",
       "    <tr>\n",
       "      <th>3</th>\n",
       "      <td>4</td>\n",
       "      <td>4</td>\n",
       "      <td>3</td>\n",
       "      <td>Bahrain Grand Prix</td>\n",
       "      <td>4/26/2009</td>\n",
       "      <td>12:00:00</td>\n",
       "    </tr>\n",
       "    <tr>\n",
       "      <th>4</th>\n",
       "      <td>5</td>\n",
       "      <td>5</td>\n",
       "      <td>4</td>\n",
       "      <td>Spanish Grand Prix</td>\n",
       "      <td>5/10/2009</td>\n",
       "      <td>12:00:00</td>\n",
       "    </tr>\n",
       "    <tr>\n",
       "      <th>...</th>\n",
       "      <td>...</td>\n",
       "      <td>...</td>\n",
       "      <td>...</td>\n",
       "      <td>...</td>\n",
       "      <td>...</td>\n",
       "      <td>...</td>\n",
       "    </tr>\n",
       "    <tr>\n",
       "      <th>1075</th>\n",
       "      <td>1092</td>\n",
       "      <td>19</td>\n",
       "      <td>22</td>\n",
       "      <td>Japanese Grand Prix</td>\n",
       "      <td>10/9/2022</td>\n",
       "      <td>5:10:00</td>\n",
       "    </tr>\n",
       "    <tr>\n",
       "      <th>1076</th>\n",
       "      <td>1093</td>\n",
       "      <td>20</td>\n",
       "      <td>69</td>\n",
       "      <td>United States Grand Prix</td>\n",
       "      <td>10/23/2022</td>\n",
       "      <td>19:00:00</td>\n",
       "    </tr>\n",
       "    <tr>\n",
       "      <th>1077</th>\n",
       "      <td>1094</td>\n",
       "      <td>21</td>\n",
       "      <td>32</td>\n",
       "      <td>Mexico City Grand Prix</td>\n",
       "      <td>10/30/2022</td>\n",
       "      <td>19:00:00</td>\n",
       "    </tr>\n",
       "    <tr>\n",
       "      <th>1078</th>\n",
       "      <td>1095</td>\n",
       "      <td>22</td>\n",
       "      <td>18</td>\n",
       "      <td>São Paulo Grand Prix</td>\n",
       "      <td>11/13/2022</td>\n",
       "      <td>17:00:00</td>\n",
       "    </tr>\n",
       "    <tr>\n",
       "      <th>1079</th>\n",
       "      <td>1096</td>\n",
       "      <td>23</td>\n",
       "      <td>24</td>\n",
       "      <td>Abu Dhabi Grand Prix</td>\n",
       "      <td>11/20/2022</td>\n",
       "      <td>13:00:00</td>\n",
       "    </tr>\n",
       "  </tbody>\n",
       "</table>\n",
       "<p>1080 rows × 6 columns</p>\n",
       "</div>"
      ],
      "text/plain": [
       "      raceId  round  circuitId                      name        date      time\n",
       "0          1      1          1     Australian Grand Prix   3/29/2009   6:00:00\n",
       "1          2      2          2      Malaysian Grand Prix   4/5/12009   9:00:00\n",
       "2          3      3         17        Chinese Grand Prix   4/19/2009   7:00:00\n",
       "3          4      4          3        Bahrain Grand Prix   4/26/2009  12:00:00\n",
       "4          5      5          4        Spanish Grand Prix   5/10/2009  12:00:00\n",
       "...      ...    ...        ...                       ...         ...       ...\n",
       "1075    1092     19         22       Japanese Grand Prix   10/9/2022   5:10:00\n",
       "1076    1093     20         69  United States Grand Prix  10/23/2022  19:00:00\n",
       "1077    1094     21         32    Mexico City Grand Prix  10/30/2022  19:00:00\n",
       "1078    1095     22         18      São Paulo Grand Prix  11/13/2022  17:00:00\n",
       "1079    1096     23         24      Abu Dhabi Grand Prix  11/20/2022  13:00:00\n",
       "\n",
       "[1080 rows x 6 columns]"
      ]
     },
     "execution_count": 7,
     "metadata": {},
     "output_type": "execute_result"
    }
   ],
   "source": [
    "#Dropping URL column which is only used for self-referencing & context\n",
    "data_races = data_races.drop(\"url\", axis=1) #Dropping the url column\n",
    "data_races"
   ]
  },
  {
   "cell_type": "markdown",
   "metadata": {},
   "source": [
    "### 2.5 Data_Results Data "
   ]
  },
  {
   "cell_type": "code",
   "execution_count": 8,
   "metadata": {},
   "outputs": [
    {
     "data": {
      "text/html": [
       "<div>\n",
       "<style scoped>\n",
       "    .dataframe tbody tr th:only-of-type {\n",
       "        vertical-align: middle;\n",
       "    }\n",
       "\n",
       "    .dataframe tbody tr th {\n",
       "        vertical-align: top;\n",
       "    }\n",
       "\n",
       "    .dataframe thead th {\n",
       "        text-align: right;\n",
       "    }\n",
       "</style>\n",
       "<table border=\"1\" class=\"dataframe\">\n",
       "  <thead>\n",
       "    <tr style=\"text-align: right;\">\n",
       "      <th></th>\n",
       "      <th>resultId</th>\n",
       "      <th>raceId</th>\n",
       "      <th>driverId</th>\n",
       "      <th>constructorId</th>\n",
       "      <th>number</th>\n",
       "      <th>grid</th>\n",
       "      <th>position</th>\n",
       "      <th>statusId</th>\n",
       "    </tr>\n",
       "  </thead>\n",
       "  <tbody>\n",
       "    <tr>\n",
       "      <th>0</th>\n",
       "      <td>1</td>\n",
       "      <td>18</td>\n",
       "      <td>1</td>\n",
       "      <td>1</td>\n",
       "      <td>22</td>\n",
       "      <td>1</td>\n",
       "      <td>1</td>\n",
       "      <td>1</td>\n",
       "    </tr>\n",
       "    <tr>\n",
       "      <th>26</th>\n",
       "      <td>27</td>\n",
       "      <td>19</td>\n",
       "      <td>1</td>\n",
       "      <td>1</td>\n",
       "      <td>22</td>\n",
       "      <td>9</td>\n",
       "      <td>5</td>\n",
       "      <td>1</td>\n",
       "    </tr>\n",
       "    <tr>\n",
       "      <th>56</th>\n",
       "      <td>57</td>\n",
       "      <td>20</td>\n",
       "      <td>1</td>\n",
       "      <td>1</td>\n",
       "      <td>22</td>\n",
       "      <td>3</td>\n",
       "      <td>13</td>\n",
       "      <td>11</td>\n",
       "    </tr>\n",
       "    <tr>\n",
       "      <th>68</th>\n",
       "      <td>69</td>\n",
       "      <td>21</td>\n",
       "      <td>1</td>\n",
       "      <td>1</td>\n",
       "      <td>22</td>\n",
       "      <td>5</td>\n",
       "      <td>3</td>\n",
       "      <td>1</td>\n",
       "    </tr>\n",
       "    <tr>\n",
       "      <th>89</th>\n",
       "      <td>90</td>\n",
       "      <td>22</td>\n",
       "      <td>1</td>\n",
       "      <td>1</td>\n",
       "      <td>22</td>\n",
       "      <td>3</td>\n",
       "      <td>2</td>\n",
       "      <td>1</td>\n",
       "    </tr>\n",
       "    <tr>\n",
       "      <th>...</th>\n",
       "      <td>...</td>\n",
       "      <td>...</td>\n",
       "      <td>...</td>\n",
       "      <td>...</td>\n",
       "      <td>...</td>\n",
       "      <td>...</td>\n",
       "      <td>...</td>\n",
       "      <td>...</td>\n",
       "    </tr>\n",
       "    <tr>\n",
       "      <th>25301</th>\n",
       "      <td>25307</td>\n",
       "      <td>1070</td>\n",
       "      <td>1</td>\n",
       "      <td>131</td>\n",
       "      <td>44</td>\n",
       "      <td>2</td>\n",
       "      <td>2</td>\n",
       "      <td>1</td>\n",
       "    </tr>\n",
       "    <tr>\n",
       "      <th>25320</th>\n",
       "      <td>25326</td>\n",
       "      <td>1071</td>\n",
       "      <td>1</td>\n",
       "      <td>131</td>\n",
       "      <td>44</td>\n",
       "      <td>10</td>\n",
       "      <td>99</td>\n",
       "      <td>1</td>\n",
       "    </tr>\n",
       "    <tr>\n",
       "      <th>25340</th>\n",
       "      <td>25346</td>\n",
       "      <td>1051</td>\n",
       "      <td>1</td>\n",
       "      <td>131</td>\n",
       "      <td>44</td>\n",
       "      <td>1</td>\n",
       "      <td>99</td>\n",
       "      <td>1</td>\n",
       "    </tr>\n",
       "    <tr>\n",
       "      <th>25360</th>\n",
       "      <td>25366</td>\n",
       "      <td>1072</td>\n",
       "      <td>1</td>\n",
       "      <td>131</td>\n",
       "      <td>44</td>\n",
       "      <td>1</td>\n",
       "      <td>99</td>\n",
       "      <td>1</td>\n",
       "    </tr>\n",
       "    <tr>\n",
       "      <th>25381</th>\n",
       "      <td>25387</td>\n",
       "      <td>1073</td>\n",
       "      <td>1</td>\n",
       "      <td>131</td>\n",
       "      <td>44</td>\n",
       "      <td>2</td>\n",
       "      <td>2</td>\n",
       "      <td>1</td>\n",
       "    </tr>\n",
       "  </tbody>\n",
       "</table>\n",
       "<p>288 rows × 8 columns</p>\n",
       "</div>"
      ],
      "text/plain": [
       "       resultId  raceId  driverId  constructorId number  grid position  \\\n",
       "0             1      18         1              1     22     1        1   \n",
       "26           27      19         1              1     22     9        5   \n",
       "56           57      20         1              1     22     3       13   \n",
       "68           69      21         1              1     22     5        3   \n",
       "89           90      22         1              1     22     3        2   \n",
       "...         ...     ...       ...            ...    ...   ...      ...   \n",
       "25301     25307    1070         1            131     44     2        2   \n",
       "25320     25326    1071         1            131     44    10       99   \n",
       "25340     25346    1051         1            131     44     1       99   \n",
       "25360     25366    1072         1            131     44     1       99   \n",
       "25381     25387    1073         1            131     44     2        2   \n",
       "\n",
       "       statusId  \n",
       "0             1  \n",
       "26            1  \n",
       "56           11  \n",
       "68            1  \n",
       "89            1  \n",
       "...         ...  \n",
       "25301         1  \n",
       "25320         1  \n",
       "25340         1  \n",
       "25360         1  \n",
       "25381         1  \n",
       "\n",
       "[288 rows x 8 columns]"
      ]
     },
     "execution_count": 8,
     "metadata": {},
     "output_type": "execute_result"
    }
   ],
   "source": [
    "#Boolean masking to help get the driver in question\n",
    "data_results = data_results[data_results[\"driverId\"]==1]\n",
    "\n",
    "#Dropped columns that cannot be used to predict as they happened during the \n",
    "#course of the race\n",
    "data_results = data_results.drop(\"positionText\", axis=1)\n",
    "data_results = data_results.drop(\"positionOrder\", axis=1)\n",
    "data_results = data_results.drop(\"points\", axis=1)\n",
    "data_results = data_results.drop(\"laps\", axis=1)\n",
    "data_results = data_results.drop(\"time\", axis=1)\n",
    "data_results = data_results.drop(\"milliseconds\", axis=1)\n",
    "data_results = data_results.drop(\"fastestLap\", axis=1)\n",
    "data_results = data_results.drop(\"rank\", axis=1)\n",
    "data_results = data_results.drop(\"fastestLapTime\", axis=1)\n",
    "data_results = data_results.drop(\"fastestLapSpeed\", axis=1)\n",
    "\n",
    "data_results\n",
    "\n",
    "#Target would be the position column which could be set later after merging of tables"
   ]
  },
  {
   "cell_type": "markdown",
   "metadata": {},
   "source": [
    "### 2.6 Merging of Tables"
   ]
  },
  {
   "cell_type": "code",
   "execution_count": 9,
   "metadata": {},
   "outputs": [],
   "source": [
    "df = pd.merge(data_driver,data_pitstops,on='driverId',how='inner')\n",
    "df = pd.merge(df,data_qualifying,on='driverId',how='inner')\n",
    "df = pd.merge(df,data_results,on='driverId',how='inner')\n",
    "df = pd.merge(df,data_races,on='raceId',how='inner')"
   ]
  },
  {
   "cell_type": "code",
   "execution_count": 10,
   "metadata": {},
   "outputs": [
    {
     "data": {
      "text/html": [
       "<div>\n",
       "<style scoped>\n",
       "    .dataframe tbody tr th:only-of-type {\n",
       "        vertical-align: middle;\n",
       "    }\n",
       "\n",
       "    .dataframe tbody tr th {\n",
       "        vertical-align: top;\n",
       "    }\n",
       "\n",
       "    .dataframe thead th {\n",
       "        text-align: right;\n",
       "    }\n",
       "</style>\n",
       "<table border=\"1\" class=\"dataframe\">\n",
       "  <thead>\n",
       "    <tr style=\"text-align: right;\">\n",
       "      <th></th>\n",
       "      <th>driverId</th>\n",
       "      <th>driverRef</th>\n",
       "      <th>number_x</th>\n",
       "      <th>code</th>\n",
       "      <th>forename</th>\n",
       "      <th>surname</th>\n",
       "      <th>dob</th>\n",
       "      <th>nationality</th>\n",
       "      <th>raceId_x</th>\n",
       "      <th>stop</th>\n",
       "      <th>...</th>\n",
       "      <th>constructorId_y</th>\n",
       "      <th>number</th>\n",
       "      <th>grid</th>\n",
       "      <th>position</th>\n",
       "      <th>statusId</th>\n",
       "      <th>round</th>\n",
       "      <th>circuitId</th>\n",
       "      <th>name</th>\n",
       "      <th>date</th>\n",
       "      <th>time_y</th>\n",
       "    </tr>\n",
       "  </thead>\n",
       "  <tbody>\n",
       "    <tr>\n",
       "      <th>0</th>\n",
       "      <td>1</td>\n",
       "      <td>hamilton</td>\n",
       "      <td>44</td>\n",
       "      <td>HAM</td>\n",
       "      <td>Lewis</td>\n",
       "      <td>Hamilton</td>\n",
       "      <td>1985-01-07</td>\n",
       "      <td>British</td>\n",
       "      <td>841</td>\n",
       "      <td>1</td>\n",
       "      <td>...</td>\n",
       "      <td>1</td>\n",
       "      <td>22</td>\n",
       "      <td>1</td>\n",
       "      <td>1</td>\n",
       "      <td>1</td>\n",
       "      <td>1</td>\n",
       "      <td>1</td>\n",
       "      <td>Australian Grand Prix</td>\n",
       "      <td>3/16/2008</td>\n",
       "      <td>4:30:00</td>\n",
       "    </tr>\n",
       "    <tr>\n",
       "      <th>1</th>\n",
       "      <td>1</td>\n",
       "      <td>hamilton</td>\n",
       "      <td>44</td>\n",
       "      <td>HAM</td>\n",
       "      <td>Lewis</td>\n",
       "      <td>Hamilton</td>\n",
       "      <td>1985-01-07</td>\n",
       "      <td>British</td>\n",
       "      <td>841</td>\n",
       "      <td>1</td>\n",
       "      <td>...</td>\n",
       "      <td>1</td>\n",
       "      <td>22</td>\n",
       "      <td>1</td>\n",
       "      <td>1</td>\n",
       "      <td>1</td>\n",
       "      <td>1</td>\n",
       "      <td>1</td>\n",
       "      <td>Australian Grand Prix</td>\n",
       "      <td>3/16/2008</td>\n",
       "      <td>4:30:00</td>\n",
       "    </tr>\n",
       "    <tr>\n",
       "      <th>2</th>\n",
       "      <td>1</td>\n",
       "      <td>hamilton</td>\n",
       "      <td>44</td>\n",
       "      <td>HAM</td>\n",
       "      <td>Lewis</td>\n",
       "      <td>Hamilton</td>\n",
       "      <td>1985-01-07</td>\n",
       "      <td>British</td>\n",
       "      <td>841</td>\n",
       "      <td>1</td>\n",
       "      <td>...</td>\n",
       "      <td>1</td>\n",
       "      <td>22</td>\n",
       "      <td>1</td>\n",
       "      <td>1</td>\n",
       "      <td>1</td>\n",
       "      <td>1</td>\n",
       "      <td>1</td>\n",
       "      <td>Australian Grand Prix</td>\n",
       "      <td>3/16/2008</td>\n",
       "      <td>4:30:00</td>\n",
       "    </tr>\n",
       "    <tr>\n",
       "      <th>3</th>\n",
       "      <td>1</td>\n",
       "      <td>hamilton</td>\n",
       "      <td>44</td>\n",
       "      <td>HAM</td>\n",
       "      <td>Lewis</td>\n",
       "      <td>Hamilton</td>\n",
       "      <td>1985-01-07</td>\n",
       "      <td>British</td>\n",
       "      <td>841</td>\n",
       "      <td>1</td>\n",
       "      <td>...</td>\n",
       "      <td>1</td>\n",
       "      <td>22</td>\n",
       "      <td>1</td>\n",
       "      <td>1</td>\n",
       "      <td>1</td>\n",
       "      <td>1</td>\n",
       "      <td>1</td>\n",
       "      <td>Australian Grand Prix</td>\n",
       "      <td>3/16/2008</td>\n",
       "      <td>4:30:00</td>\n",
       "    </tr>\n",
       "    <tr>\n",
       "      <th>4</th>\n",
       "      <td>1</td>\n",
       "      <td>hamilton</td>\n",
       "      <td>44</td>\n",
       "      <td>HAM</td>\n",
       "      <td>Lewis</td>\n",
       "      <td>Hamilton</td>\n",
       "      <td>1985-01-07</td>\n",
       "      <td>British</td>\n",
       "      <td>841</td>\n",
       "      <td>1</td>\n",
       "      <td>...</td>\n",
       "      <td>1</td>\n",
       "      <td>22</td>\n",
       "      <td>1</td>\n",
       "      <td>1</td>\n",
       "      <td>1</td>\n",
       "      <td>1</td>\n",
       "      <td>1</td>\n",
       "      <td>Australian Grand Prix</td>\n",
       "      <td>3/16/2008</td>\n",
       "      <td>4:30:00</td>\n",
       "    </tr>\n",
       "    <tr>\n",
       "      <th>...</th>\n",
       "      <td>...</td>\n",
       "      <td>...</td>\n",
       "      <td>...</td>\n",
       "      <td>...</td>\n",
       "      <td>...</td>\n",
       "      <td>...</td>\n",
       "      <td>...</td>\n",
       "      <td>...</td>\n",
       "      <td>...</td>\n",
       "      <td>...</td>\n",
       "      <td>...</td>\n",
       "      <td>...</td>\n",
       "      <td>...</td>\n",
       "      <td>...</td>\n",
       "      <td>...</td>\n",
       "      <td>...</td>\n",
       "      <td>...</td>\n",
       "      <td>...</td>\n",
       "      <td>...</td>\n",
       "      <td>...</td>\n",
       "      <td>...</td>\n",
       "    </tr>\n",
       "    <tr>\n",
       "      <th>35748859</th>\n",
       "      <td>1</td>\n",
       "      <td>hamilton</td>\n",
       "      <td>44</td>\n",
       "      <td>HAM</td>\n",
       "      <td>Lewis</td>\n",
       "      <td>Hamilton</td>\n",
       "      <td>1985-01-07</td>\n",
       "      <td>British</td>\n",
       "      <td>1073</td>\n",
       "      <td>1</td>\n",
       "      <td>...</td>\n",
       "      <td>131</td>\n",
       "      <td>44</td>\n",
       "      <td>2</td>\n",
       "      <td>2</td>\n",
       "      <td>1</td>\n",
       "      <td>22</td>\n",
       "      <td>24</td>\n",
       "      <td>Abu Dhabi Grand Prix</td>\n",
       "      <td>12/12/2021</td>\n",
       "      <td>13:00:00</td>\n",
       "    </tr>\n",
       "    <tr>\n",
       "      <th>35748860</th>\n",
       "      <td>1</td>\n",
       "      <td>hamilton</td>\n",
       "      <td>44</td>\n",
       "      <td>HAM</td>\n",
       "      <td>Lewis</td>\n",
       "      <td>Hamilton</td>\n",
       "      <td>1985-01-07</td>\n",
       "      <td>British</td>\n",
       "      <td>1073</td>\n",
       "      <td>1</td>\n",
       "      <td>...</td>\n",
       "      <td>131</td>\n",
       "      <td>44</td>\n",
       "      <td>2</td>\n",
       "      <td>2</td>\n",
       "      <td>1</td>\n",
       "      <td>22</td>\n",
       "      <td>24</td>\n",
       "      <td>Abu Dhabi Grand Prix</td>\n",
       "      <td>12/12/2021</td>\n",
       "      <td>13:00:00</td>\n",
       "    </tr>\n",
       "    <tr>\n",
       "      <th>35748861</th>\n",
       "      <td>1</td>\n",
       "      <td>hamilton</td>\n",
       "      <td>44</td>\n",
       "      <td>HAM</td>\n",
       "      <td>Lewis</td>\n",
       "      <td>Hamilton</td>\n",
       "      <td>1985-01-07</td>\n",
       "      <td>British</td>\n",
       "      <td>1073</td>\n",
       "      <td>1</td>\n",
       "      <td>...</td>\n",
       "      <td>131</td>\n",
       "      <td>44</td>\n",
       "      <td>2</td>\n",
       "      <td>2</td>\n",
       "      <td>1</td>\n",
       "      <td>22</td>\n",
       "      <td>24</td>\n",
       "      <td>Abu Dhabi Grand Prix</td>\n",
       "      <td>12/12/2021</td>\n",
       "      <td>13:00:00</td>\n",
       "    </tr>\n",
       "    <tr>\n",
       "      <th>35748862</th>\n",
       "      <td>1</td>\n",
       "      <td>hamilton</td>\n",
       "      <td>44</td>\n",
       "      <td>HAM</td>\n",
       "      <td>Lewis</td>\n",
       "      <td>Hamilton</td>\n",
       "      <td>1985-01-07</td>\n",
       "      <td>British</td>\n",
       "      <td>1073</td>\n",
       "      <td>1</td>\n",
       "      <td>...</td>\n",
       "      <td>131</td>\n",
       "      <td>44</td>\n",
       "      <td>2</td>\n",
       "      <td>2</td>\n",
       "      <td>1</td>\n",
       "      <td>22</td>\n",
       "      <td>24</td>\n",
       "      <td>Abu Dhabi Grand Prix</td>\n",
       "      <td>12/12/2021</td>\n",
       "      <td>13:00:00</td>\n",
       "    </tr>\n",
       "    <tr>\n",
       "      <th>35748863</th>\n",
       "      <td>1</td>\n",
       "      <td>hamilton</td>\n",
       "      <td>44</td>\n",
       "      <td>HAM</td>\n",
       "      <td>Lewis</td>\n",
       "      <td>Hamilton</td>\n",
       "      <td>1985-01-07</td>\n",
       "      <td>British</td>\n",
       "      <td>1073</td>\n",
       "      <td>1</td>\n",
       "      <td>...</td>\n",
       "      <td>131</td>\n",
       "      <td>44</td>\n",
       "      <td>2</td>\n",
       "      <td>2</td>\n",
       "      <td>1</td>\n",
       "      <td>22</td>\n",
       "      <td>24</td>\n",
       "      <td>Abu Dhabi Grand Prix</td>\n",
       "      <td>12/12/2021</td>\n",
       "      <td>13:00:00</td>\n",
       "    </tr>\n",
       "  </tbody>\n",
       "</table>\n",
       "<p>35748864 rows × 34 columns</p>\n",
       "</div>"
      ],
      "text/plain": [
       "          driverId driverRef number_x code forename   surname         dob  \\\n",
       "0                1  hamilton       44  HAM    Lewis  Hamilton  1985-01-07   \n",
       "1                1  hamilton       44  HAM    Lewis  Hamilton  1985-01-07   \n",
       "2                1  hamilton       44  HAM    Lewis  Hamilton  1985-01-07   \n",
       "3                1  hamilton       44  HAM    Lewis  Hamilton  1985-01-07   \n",
       "4                1  hamilton       44  HAM    Lewis  Hamilton  1985-01-07   \n",
       "...            ...       ...      ...  ...      ...       ...         ...   \n",
       "35748859         1  hamilton       44  HAM    Lewis  Hamilton  1985-01-07   \n",
       "35748860         1  hamilton       44  HAM    Lewis  Hamilton  1985-01-07   \n",
       "35748861         1  hamilton       44  HAM    Lewis  Hamilton  1985-01-07   \n",
       "35748862         1  hamilton       44  HAM    Lewis  Hamilton  1985-01-07   \n",
       "35748863         1  hamilton       44  HAM    Lewis  Hamilton  1985-01-07   \n",
       "\n",
       "         nationality  raceId_x  stop  ...  constructorId_y number grid  \\\n",
       "0            British       841     1  ...                1     22    1   \n",
       "1            British       841     1  ...                1     22    1   \n",
       "2            British       841     1  ...                1     22    1   \n",
       "3            British       841     1  ...                1     22    1   \n",
       "4            British       841     1  ...                1     22    1   \n",
       "...              ...       ...   ...  ...              ...    ...  ...   \n",
       "35748859     British      1073     1  ...              131     44    2   \n",
       "35748860     British      1073     1  ...              131     44    2   \n",
       "35748861     British      1073     1  ...              131     44    2   \n",
       "35748862     British      1073     1  ...              131     44    2   \n",
       "35748863     British      1073     1  ...              131     44    2   \n",
       "\n",
       "          position  statusId  round  circuitId                   name  \\\n",
       "0                1         1      1          1  Australian Grand Prix   \n",
       "1                1         1      1          1  Australian Grand Prix   \n",
       "2                1         1      1          1  Australian Grand Prix   \n",
       "3                1         1      1          1  Australian Grand Prix   \n",
       "4                1         1      1          1  Australian Grand Prix   \n",
       "...            ...       ...    ...        ...                    ...   \n",
       "35748859         2         1     22         24   Abu Dhabi Grand Prix   \n",
       "35748860         2         1     22         24   Abu Dhabi Grand Prix   \n",
       "35748861         2         1     22         24   Abu Dhabi Grand Prix   \n",
       "35748862         2         1     22         24   Abu Dhabi Grand Prix   \n",
       "35748863         2         1     22         24   Abu Dhabi Grand Prix   \n",
       "\n",
       "                date    time_y  \n",
       "0          3/16/2008   4:30:00  \n",
       "1          3/16/2008   4:30:00  \n",
       "2          3/16/2008   4:30:00  \n",
       "3          3/16/2008   4:30:00  \n",
       "4          3/16/2008   4:30:00  \n",
       "...              ...       ...  \n",
       "35748859  12/12/2021  13:00:00  \n",
       "35748860  12/12/2021  13:00:00  \n",
       "35748861  12/12/2021  13:00:00  \n",
       "35748862  12/12/2021  13:00:00  \n",
       "35748863  12/12/2021  13:00:00  \n",
       "\n",
       "[35748864 rows x 34 columns]"
      ]
     },
     "execution_count": 10,
     "metadata": {},
     "output_type": "execute_result"
    }
   ],
   "source": [
    "df.drop_duplicates()"
   ]
  },
  {
   "cell_type": "markdown",
   "metadata": {},
   "source": [
    "### 2.7 Extract and Create Features from Different Tables"
   ]
  },
  {
   "cell_type": "code",
   "execution_count": 11,
   "metadata": {},
   "outputs": [],
   "source": [
    "#Renaming columns for clarity and to reduce duplications\n",
    "df.rename(columns = {'number_x': 'driver_number'}, inplace = True)\n",
    "df.rename(columns = {'cozde': 'driver_code'}, inplace = True)\n",
    "df.rename(columns = {'stop': 'stop_number'}, inplace = True)\n",
    "df.rename(columns = {'duration': 'duration_of_stop'}, inplace = True)\n",
    "df.rename(columns = {'time_x': 'time_of_pitStop'}, inplace = True)\n",
    "df.rename(columns = {'time_y': 'time_of_race'}, inplace = True)\n",
    "df.rename(columns = {'constructorId_x': 'constructorId'}, inplace = True)\n",
    "df.rename(columns = {'name': 'race_name'}, inplace = True)\n",
    "df.rename(columns = {'date': 'race_date'}, inplace = True)\n",
    "\n",
    "#Dropping columns for clarity and reduction of duplications\n",
    "df = df.drop(\"number_y\", axis=1) #Repeated\n",
    "df = df.drop(\"number\", axis=1) #Repeated\n",
    "df = df.drop(\"raceId_x\", axis=1) #Repeated\n",
    "df = df.drop(\"raceId_y\", axis=1) #Repeated\n",
    "df = df.drop(\"constructorId_y\", axis=1) #Repeated\n",
    "\n",
    "df = df.drop(\"driverId\", axis=1) #Constant throughout\n",
    "df = df.drop(\"driverRef\", axis=1) #Constant throughout\n",
    "df = df.drop(\"driver_number\", axis=1) #Constant throughout\n",
    "df = df.drop(\"code\", axis=1) #Constant throughout\n",
    "df = df.drop(\"forename\", axis=1) #Constant throughout\n",
    "df = df.drop(\"surname\", axis=1) #Constant throughout\n",
    "df = df.drop(\"dob\", axis=1) #Constant throughout\n",
    "df = df.drop(\"nationality\", axis=1) #Constant throughout\n",
    "df = df.drop(\"milliseconds\", axis=1) #Same as duration of pitstops\n",
    "df = df.drop(\"time_of_pitStop\", axis=1) #Not needed\n",
    "df = df.drop(\"q1\", axis=1) #Not needed\n",
    "df = df.drop(\"q2\", axis=1) #Not needed\n",
    "df = df.drop(\"q3\", axis=1) #Not needed"
   ]
  },
  {
   "cell_type": "code",
   "execution_count": 12,
   "metadata": {},
   "outputs": [
    {
     "data": {
      "text/plain": [
       "stop_number             int64\n",
       "lap                     int64\n",
       "duration_of_stop       object\n",
       "qualifyId               int64\n",
       "constructorId           int64\n",
       "qualifying_position     int64\n",
       "resultId                int64\n",
       "raceId                  int64\n",
       "grid                    int64\n",
       "position               object\n",
       "statusId                int64\n",
       "round                   int64\n",
       "circuitId               int64\n",
       "race_name              object\n",
       "race_date              object\n",
       "time_of_race           object\n",
       "dtype: object"
      ]
     },
     "execution_count": 12,
     "metadata": {},
     "output_type": "execute_result"
    }
   ],
   "source": [
    "df.dtypes"
   ]
  },
  {
   "cell_type": "code",
   "execution_count": 13,
   "metadata": {},
   "outputs": [
    {
     "data": {
      "text/plain": [
       "stop_number             int64\n",
       "lap                     int64\n",
       "duration_of_stop       object\n",
       "qualifyId               int64\n",
       "constructorId           int64\n",
       "qualifying_position     int64\n",
       "resultId                int64\n",
       "raceId                  int64\n",
       "grid                    int64\n",
       "position               object\n",
       "statusId                int64\n",
       "round                   int64\n",
       "circuitId               int64\n",
       "race_name              object\n",
       "race_date              object\n",
       "time_of_race           object\n",
       "dtype: object"
      ]
     },
     "execution_count": 13,
     "metadata": {},
     "output_type": "execute_result"
    }
   ],
   "source": [
    "df.dtypes"
   ]
  },
  {
   "cell_type": "code",
   "execution_count": 14,
   "metadata": {},
   "outputs": [],
   "source": [
    "df['time_of_race'] = pd.to_datetime(df['time_of_race'])"
   ]
  },
  {
   "cell_type": "code",
   "execution_count": 15,
   "metadata": {},
   "outputs": [],
   "source": [
    "#Replace the data irregularities in race_data\n",
    "df['race_date'] = df['race_date'].replace('4/5/12009', '4/5/2009')\n",
    "df['race_date'] = df['race_date'].replace('6/7/12009', '6/7/2009')\n",
    "df['race_date'] = df['race_date'].replace('7/10/12011', '7/10/2011')\n",
    "df['race_date'] = df['race_date'].replace('4/12/12015', '4/12/2015')\n",
    "df['race_date'] = df['race_date'].replace('11/1/12015', '11/1/2015')\n",
    "df['race_date'] = df['race_date'].replace('10/29/12017', '10/29/2017')\n",
    "df['race_date'] = df['race_date'].replace('4/5/12009', '4/5/2009')\n",
    "df['race_date'] = df['race_date'].replace('9/16/12018', '9/16/2018')\n",
    "df['race_date'] = df['race_date'].replace('8/30/12020', '8/30/2020')\n",
    "df['race_date'] = df['race_date'].replace('4/18/12021', '4/18/2021')"
   ]
  },
  {
   "cell_type": "code",
   "execution_count": 16,
   "metadata": {},
   "outputs": [],
   "source": [
    "df['race_date'] = pd.to_datetime(df['race_date'])"
   ]
  },
  {
   "cell_type": "code",
   "execution_count": 17,
   "metadata": {},
   "outputs": [
    {
     "data": {
      "text/plain": [
       "stop_number                     int64\n",
       "lap                             int64\n",
       "duration_of_stop               object\n",
       "qualifyId                       int64\n",
       "constructorId                   int64\n",
       "qualifying_position             int64\n",
       "resultId                        int64\n",
       "raceId                          int64\n",
       "grid                            int64\n",
       "position                       object\n",
       "statusId                        int64\n",
       "round                           int64\n",
       "circuitId                       int64\n",
       "race_name                      object\n",
       "race_date              datetime64[ns]\n",
       "time_of_race           datetime64[ns]\n",
       "dtype: object"
      ]
     },
     "execution_count": 17,
     "metadata": {},
     "output_type": "execute_result"
    }
   ],
   "source": [
    "df.dtypes"
   ]
  },
  {
   "cell_type": "code",
   "execution_count": 18,
   "metadata": {},
   "outputs": [],
   "source": [
    "df['time_of_race'] = df['time_of_race'].dt.time"
   ]
  },
  {
   "cell_type": "code",
   "execution_count": 19,
   "metadata": {},
   "outputs": [],
   "source": [
    "#Features from Dates & times\n",
    "df['race_year'] = df['race_date'].dt.year\n",
    "df['race_month'] = df['race_date'].dt.month\n",
    "df['race_quarter'] = df['race_date'].dt.quarter\n"
   ]
  },
  {
   "cell_type": "code",
   "execution_count": 20,
   "metadata": {},
   "outputs": [
    {
     "data": {
      "text/plain": [
       "array(['23.227', '23.199', '22.552', '22.611', '25.382', '22.466',\n",
       "       '20.878', '20.533', '20.567', '20.833', '21.075', '35.688',\n",
       "       '22.041', '19.761', '20.235', '20.473', '20.988', '31.445',\n",
       "       '19.347', '26.977', '20.340', '21.035', '20.212', '25.100',\n",
       "       '24.065', '23.340', '20.982', '20.496', '20.403', '21.880',\n",
       "       '20.803', '20.861', '20.855', '21.628', '13.173', '21.895',\n",
       "       '22.083', '21.876', '30.142', '33.456', '24.342', '30.706',\n",
       "       '29.876', '21.091', '22.821', '21.292', '20.846', '20.584',\n",
       "       '22.530', '27.193', '22.172', '19.439', '19.350', '21.099',\n",
       "       '20.396', '20.681', '22.862', '23.464', '24.271', '27.961',\n",
       "       '26.338', '20.177', '20.903', '20.691', '28.341', '30.622',\n",
       "       '23.696', '21.963', '19.980', '25.748', '21.375', '19.355',\n",
       "       '31.081', '24.498', '25.003', '21.012', '17.598', '18.877',\n",
       "       '20.436', '19.059', '20.736', '29.124', '21.148', '19.794',\n",
       "       '19.638', '20.777', '19.447', '20.852', '20.814', '24.410',\n",
       "       '21.606', '22.155', '22.015', '21.778', '24.933', '21.465',\n",
       "       '21.549', '21.271', '20.379', '19.600', '22.072', '21.444',\n",
       "       '21.600', '22.018', '20.132', '19.700', '19.457', '24.801',\n",
       "       '20.879', '20.656', '29.026', '24.635', '19.487', '19.321',\n",
       "       '19.316', '21.840', '21.454', '22.136', '23.397', '22.682',\n",
       "       '24.460', '24.315', '30.085', '29.032', '22.270', '22.251',\n",
       "       '25.297', '23.546', '23.574', '21.372', '21.609', '23.904',\n",
       "       '22.655', '24.423', '17.385', '24.604', '25.296', '24.484',\n",
       "       '24.687', '25.146', '22.968', '23.999', '22.951', '23.590',\n",
       "       '27.509', '24.417', '23.554', '22.226', '22.555', '29.679',\n",
       "       '29.291', '19.710', '19.918', '19.868', '23.800', '23.364',\n",
       "       '25.580', '23.066', '24.757', '24.453', '31.040', '29.284',\n",
       "       '29.422', '18:57.295', '23.891', '23.677', '30.503', '24.368',\n",
       "       '24.244', '23.351', '24.224', '22.874', '21.885', '21.887',\n",
       "       '22.295', '26.094', '24.595', '24.179', '22.645', '22.235',\n",
       "       '25.791', '24.528', '24.586', '22.727', '21.965', '24.181',\n",
       "       '25.495', '23.708', '21.869', '28.417', '28.979', '23.146',\n",
       "       '24.272', '18.249', '17.726', '27.715', '16.579', '22.403',\n",
       "       '22.955', '28.917', '22.750', '23.165', '30.216', '24.354',\n",
       "       '24.088', '22.304', '22.328', '24.328', '23.148', '22.936',\n",
       "       '21.346', '21.392', '21.940', '18:10.087', '24.512', '25.030',\n",
       "       '24.524', '29.322', '25.179', '22.301', '22.626', '22.698',\n",
       "       '30.001', '26.315', '22.243', '20.108', '22.918', '16.983',\n",
       "       '18.716', '22.109', '30.343', '28.728', '21.441', '21.773',\n",
       "       '18.650', '18.504', '18.475', '16:40.478', '24.343', '22.432',\n",
       "       '23.633', '29.150', '28.421', '28.315', '23.689', '22.989',\n",
       "       '22.732', '23.601', '23.575', '21.709', '33:30.361', '24:42.048',\n",
       "       '22.600', '21.355', '22.999', '17.616', '17.737', '22.668',\n",
       "       '30.687', '30.682', '29.739', '21.544', '21.722', '24.155',\n",
       "       '23.061', '20.418', '15.234', '21:50.768', '27.025', '20.761',\n",
       "       '27.733', '21.338', '22.037', '22.357', '23.725', '30.442',\n",
       "       '24.337', '28.466', '23.489', '22.724', '23.402', '29.283',\n",
       "       '23.315', '19.377', '19.237', '18.725', '23.121', '21.274',\n",
       "       '21.821', '24.302', '22.464', '20.377', '21.329', '22.085',\n",
       "       '23.739', '23.335', '24.310', '21.245', '20.980', '28.982',\n",
       "       '18.978', '21.480', '19.372', '22.375', '23.728', '28.946',\n",
       "       '29.551', '22.614', '23.693', '23.915', '22.269', '22.399',\n",
       "       '22.641', '21.283', '21.515', '24.255', '24.324', '22.644',\n",
       "       '23.597', '19.993', '22.265', '22.511', '24.266', '23.662',\n",
       "       '30.186', '30.067', '28.905', '20.203', '22.947', '27.069',\n",
       "       '20.015', '19.610', '22.880', '21.390', '23.497', '23.912',\n",
       "       '23.731', '28.930', '29.751', '23.582', '23.591', '23.943',\n",
       "       '22.882', '23.088', '23.060', '22.178', '21.850', '16.365',\n",
       "       '21.729', '22.320', '22.264', '22.426', '28.805', '28.406',\n",
       "       '29.402', '23.377', '21.853', '23.298', '25:16.864', '24.671',\n",
       "       '23:56.696', '17.536', '22.445', '22.800', '21:40.911', '31.643',\n",
       "       '41.352', '23.983', '23.180', '27.162', '30.382', '30.925',\n",
       "       '23.860', '19:23.979', '24.061', '24.345', '22.406', '24.839',\n",
       "       '24.076', '32.112', '38.198', '24:54.731', '1:05.870', '22.164',\n",
       "       '26.907', '22.220', '22.078', '23.783', '22.470', '15.432',\n",
       "       '33:20.923', '30.263', '21.219', '21.640', '21.005', '21.421',\n",
       "       '34:08.376', '40.266', '24:09.259', '21.731', '21.516', '21.208',\n",
       "       '19.770', '18.868', '19.202', '25.619', '29.878', '30.045',\n",
       "       '22.684', '24.481', '23.676', '22.373', '17.910', '18.660',\n",
       "       '22.690', '22.664', '25.235', '25.381', '20.580', '16:35.856',\n",
       "       '18:06.674', '21.595'], dtype=object)"
      ]
     },
     "execution_count": 20,
     "metadata": {},
     "output_type": "execute_result"
    }
   ],
   "source": [
    "df['duration_of_stop'].unique()"
   ]
  },
  {
   "cell_type": "code",
   "execution_count": 21,
   "metadata": {},
   "outputs": [],
   "source": [
    "#Replacing Duration Values\n",
    "df['duration_of_stop'] = df['duration_of_stop'].replace('18:57.295', '1137.295')\n",
    "df['duration_of_stop'] = df['duration_of_stop'].replace('18:10.087', '1090.087')\n",
    "df['duration_of_stop'] = df['duration_of_stop'].replace('16:40.478', '1000.478')\n",
    "df['duration_of_stop'] = df['duration_of_stop'].replace('33:30.361', '2010.361')\n",
    "df['duration_of_stop'] = df['duration_of_stop'].replace('24:42.048', '1482.048')\n",
    "df['duration_of_stop'] = df['duration_of_stop'].replace('21:50.768', '1310.768')\n",
    "df['duration_of_stop'] = df['duration_of_stop'].replace('25:16.864', '1516.864')\n",
    "df['duration_of_stop'] = df['duration_of_stop'].replace('23:56.696', '1436.696')\n",
    "df['duration_of_stop'] = df['duration_of_stop'].replace('21:40.911', '1300.911')\n",
    "df['duration_of_stop'] = df['duration_of_stop'].replace('19:23.979', '1163.979')\n",
    "df['duration_of_stop'] = df['duration_of_stop'].replace('24:54.731', '1494.731')\n",
    "df['duration_of_stop'] = df['duration_of_stop'].replace('1:05.870', '65.870')\n",
    "df['duration_of_stop'] = df['duration_of_stop'].replace('33:20.923', '2000.923')\n",
    "df['duration_of_stop'] = df['duration_of_stop'].replace('34:08.376', '2048.376')\n",
    "df['duration_of_stop'] = df['duration_of_stop'].replace('24:09.259', '1449.259')\n",
    "df['duration_of_stop'] = df['duration_of_stop'].replace('16:35.856', '995.856')\n",
    "df['duration_of_stop'] = df['duration_of_stop'].replace('18:06.674', '995.856')\n",
    "\n",
    "df['duration_of_stop'] = df['duration_of_stop'].astype(float)"
   ]
  },
  {
   "cell_type": "code",
   "execution_count": 22,
   "metadata": {},
   "outputs": [
    {
     "data": {
      "text/html": [
       "<div>\n",
       "<style scoped>\n",
       "    .dataframe tbody tr th:only-of-type {\n",
       "        vertical-align: middle;\n",
       "    }\n",
       "\n",
       "    .dataframe tbody tr th {\n",
       "        vertical-align: top;\n",
       "    }\n",
       "\n",
       "    .dataframe thead th {\n",
       "        text-align: right;\n",
       "    }\n",
       "</style>\n",
       "<table border=\"1\" class=\"dataframe\">\n",
       "  <thead>\n",
       "    <tr style=\"text-align: right;\">\n",
       "      <th></th>\n",
       "      <th>stop_number</th>\n",
       "      <th>lap</th>\n",
       "      <th>duration_of_stop</th>\n",
       "      <th>qualifyId</th>\n",
       "      <th>constructorId</th>\n",
       "      <th>qualifying_position</th>\n",
       "      <th>resultId</th>\n",
       "      <th>raceId</th>\n",
       "      <th>grid</th>\n",
       "      <th>position</th>\n",
       "      <th>statusId</th>\n",
       "      <th>round</th>\n",
       "      <th>circuitId</th>\n",
       "      <th>race_name</th>\n",
       "      <th>race_date</th>\n",
       "      <th>time_of_race</th>\n",
       "      <th>race_year</th>\n",
       "      <th>race_month</th>\n",
       "      <th>race_quarter</th>\n",
       "    </tr>\n",
       "  </thead>\n",
       "  <tbody>\n",
       "    <tr>\n",
       "      <th>0</th>\n",
       "      <td>1</td>\n",
       "      <td>16</td>\n",
       "      <td>23.227</td>\n",
       "      <td>1</td>\n",
       "      <td>1</td>\n",
       "      <td>1</td>\n",
       "      <td>1</td>\n",
       "      <td>18</td>\n",
       "      <td>1</td>\n",
       "      <td>1</td>\n",
       "      <td>1</td>\n",
       "      <td>1</td>\n",
       "      <td>1</td>\n",
       "      <td>Australian Grand Prix</td>\n",
       "      <td>2008-03-16</td>\n",
       "      <td>04:30:00</td>\n",
       "      <td>2008.0</td>\n",
       "      <td>3.0</td>\n",
       "      <td>1.0</td>\n",
       "    </tr>\n",
       "    <tr>\n",
       "      <th>1</th>\n",
       "      <td>1</td>\n",
       "      <td>16</td>\n",
       "      <td>23.227</td>\n",
       "      <td>26</td>\n",
       "      <td>1</td>\n",
       "      <td>4</td>\n",
       "      <td>1</td>\n",
       "      <td>18</td>\n",
       "      <td>1</td>\n",
       "      <td>1</td>\n",
       "      <td>1</td>\n",
       "      <td>1</td>\n",
       "      <td>1</td>\n",
       "      <td>Australian Grand Prix</td>\n",
       "      <td>2008-03-16</td>\n",
       "      <td>04:30:00</td>\n",
       "      <td>2008.0</td>\n",
       "      <td>3.0</td>\n",
       "      <td>1.0</td>\n",
       "    </tr>\n",
       "    <tr>\n",
       "      <th>2</th>\n",
       "      <td>1</td>\n",
       "      <td>16</td>\n",
       "      <td>23.227</td>\n",
       "      <td>47</td>\n",
       "      <td>1</td>\n",
       "      <td>3</td>\n",
       "      <td>1</td>\n",
       "      <td>18</td>\n",
       "      <td>1</td>\n",
       "      <td>1</td>\n",
       "      <td>1</td>\n",
       "      <td>1</td>\n",
       "      <td>1</td>\n",
       "      <td>Australian Grand Prix</td>\n",
       "      <td>2008-03-16</td>\n",
       "      <td>04:30:00</td>\n",
       "      <td>2008.0</td>\n",
       "      <td>3.0</td>\n",
       "      <td>1.0</td>\n",
       "    </tr>\n",
       "    <tr>\n",
       "      <th>3</th>\n",
       "      <td>1</td>\n",
       "      <td>16</td>\n",
       "      <td>23.227</td>\n",
       "      <td>71</td>\n",
       "      <td>1</td>\n",
       "      <td>5</td>\n",
       "      <td>1</td>\n",
       "      <td>18</td>\n",
       "      <td>1</td>\n",
       "      <td>1</td>\n",
       "      <td>1</td>\n",
       "      <td>1</td>\n",
       "      <td>1</td>\n",
       "      <td>Australian Grand Prix</td>\n",
       "      <td>2008-03-16</td>\n",
       "      <td>04:30:00</td>\n",
       "      <td>2008.0</td>\n",
       "      <td>3.0</td>\n",
       "      <td>1.0</td>\n",
       "    </tr>\n",
       "    <tr>\n",
       "      <th>4</th>\n",
       "      <td>1</td>\n",
       "      <td>16</td>\n",
       "      <td>23.227</td>\n",
       "      <td>91</td>\n",
       "      <td>1</td>\n",
       "      <td>3</td>\n",
       "      <td>1</td>\n",
       "      <td>18</td>\n",
       "      <td>1</td>\n",
       "      <td>1</td>\n",
       "      <td>1</td>\n",
       "      <td>1</td>\n",
       "      <td>1</td>\n",
       "      <td>Australian Grand Prix</td>\n",
       "      <td>2008-03-16</td>\n",
       "      <td>04:30:00</td>\n",
       "      <td>2008.0</td>\n",
       "      <td>3.0</td>\n",
       "      <td>1.0</td>\n",
       "    </tr>\n",
       "    <tr>\n",
       "      <th>...</th>\n",
       "      <td>...</td>\n",
       "      <td>...</td>\n",
       "      <td>...</td>\n",
       "      <td>...</td>\n",
       "      <td>...</td>\n",
       "      <td>...</td>\n",
       "      <td>...</td>\n",
       "      <td>...</td>\n",
       "      <td>...</td>\n",
       "      <td>...</td>\n",
       "      <td>...</td>\n",
       "      <td>...</td>\n",
       "      <td>...</td>\n",
       "      <td>...</td>\n",
       "      <td>...</td>\n",
       "      <td>...</td>\n",
       "      <td>...</td>\n",
       "      <td>...</td>\n",
       "      <td>...</td>\n",
       "    </tr>\n",
       "    <tr>\n",
       "      <th>35748859</th>\n",
       "      <td>1</td>\n",
       "      <td>14</td>\n",
       "      <td>21.595</td>\n",
       "      <td>9077</td>\n",
       "      <td>131</td>\n",
       "      <td>2</td>\n",
       "      <td>25387</td>\n",
       "      <td>1073</td>\n",
       "      <td>2</td>\n",
       "      <td>2</td>\n",
       "      <td>1</td>\n",
       "      <td>22</td>\n",
       "      <td>24</td>\n",
       "      <td>Abu Dhabi Grand Prix</td>\n",
       "      <td>2021-12-12</td>\n",
       "      <td>13:00:00</td>\n",
       "      <td>2021.0</td>\n",
       "      <td>12.0</td>\n",
       "      <td>4.0</td>\n",
       "    </tr>\n",
       "    <tr>\n",
       "      <th>35748860</th>\n",
       "      <td>1</td>\n",
       "      <td>14</td>\n",
       "      <td>21.595</td>\n",
       "      <td>9096</td>\n",
       "      <td>131</td>\n",
       "      <td>1</td>\n",
       "      <td>25387</td>\n",
       "      <td>1073</td>\n",
       "      <td>2</td>\n",
       "      <td>2</td>\n",
       "      <td>1</td>\n",
       "      <td>22</td>\n",
       "      <td>24</td>\n",
       "      <td>Abu Dhabi Grand Prix</td>\n",
       "      <td>2021-12-12</td>\n",
       "      <td>13:00:00</td>\n",
       "      <td>2021.0</td>\n",
       "      <td>12.0</td>\n",
       "      <td>4.0</td>\n",
       "    </tr>\n",
       "    <tr>\n",
       "      <th>35748861</th>\n",
       "      <td>1</td>\n",
       "      <td>14</td>\n",
       "      <td>21.595</td>\n",
       "      <td>9116</td>\n",
       "      <td>131</td>\n",
       "      <td>1</td>\n",
       "      <td>25387</td>\n",
       "      <td>1073</td>\n",
       "      <td>2</td>\n",
       "      <td>2</td>\n",
       "      <td>1</td>\n",
       "      <td>22</td>\n",
       "      <td>24</td>\n",
       "      <td>Abu Dhabi Grand Prix</td>\n",
       "      <td>2021-12-12</td>\n",
       "      <td>13:00:00</td>\n",
       "      <td>2021.0</td>\n",
       "      <td>12.0</td>\n",
       "      <td>4.0</td>\n",
       "    </tr>\n",
       "    <tr>\n",
       "      <th>35748862</th>\n",
       "      <td>1</td>\n",
       "      <td>14</td>\n",
       "      <td>21.595</td>\n",
       "      <td>9136</td>\n",
       "      <td>131</td>\n",
       "      <td>1</td>\n",
       "      <td>25387</td>\n",
       "      <td>1073</td>\n",
       "      <td>2</td>\n",
       "      <td>2</td>\n",
       "      <td>1</td>\n",
       "      <td>22</td>\n",
       "      <td>24</td>\n",
       "      <td>Abu Dhabi Grand Prix</td>\n",
       "      <td>2021-12-12</td>\n",
       "      <td>13:00:00</td>\n",
       "      <td>2021.0</td>\n",
       "      <td>12.0</td>\n",
       "      <td>4.0</td>\n",
       "    </tr>\n",
       "    <tr>\n",
       "      <th>35748863</th>\n",
       "      <td>1</td>\n",
       "      <td>14</td>\n",
       "      <td>21.595</td>\n",
       "      <td>9157</td>\n",
       "      <td>131</td>\n",
       "      <td>2</td>\n",
       "      <td>25387</td>\n",
       "      <td>1073</td>\n",
       "      <td>2</td>\n",
       "      <td>2</td>\n",
       "      <td>1</td>\n",
       "      <td>22</td>\n",
       "      <td>24</td>\n",
       "      <td>Abu Dhabi Grand Prix</td>\n",
       "      <td>2021-12-12</td>\n",
       "      <td>13:00:00</td>\n",
       "      <td>2021.0</td>\n",
       "      <td>12.0</td>\n",
       "      <td>4.0</td>\n",
       "    </tr>\n",
       "  </tbody>\n",
       "</table>\n",
       "<p>35748864 rows × 19 columns</p>\n",
       "</div>"
      ],
      "text/plain": [
       "          stop_number  lap  duration_of_stop  qualifyId  constructorId  \\\n",
       "0                   1   16            23.227          1              1   \n",
       "1                   1   16            23.227         26              1   \n",
       "2                   1   16            23.227         47              1   \n",
       "3                   1   16            23.227         71              1   \n",
       "4                   1   16            23.227         91              1   \n",
       "...               ...  ...               ...        ...            ...   \n",
       "35748859            1   14            21.595       9077            131   \n",
       "35748860            1   14            21.595       9096            131   \n",
       "35748861            1   14            21.595       9116            131   \n",
       "35748862            1   14            21.595       9136            131   \n",
       "35748863            1   14            21.595       9157            131   \n",
       "\n",
       "          qualifying_position  resultId  raceId  grid position  statusId  \\\n",
       "0                           1         1      18     1        1         1   \n",
       "1                           4         1      18     1        1         1   \n",
       "2                           3         1      18     1        1         1   \n",
       "3                           5         1      18     1        1         1   \n",
       "4                           3         1      18     1        1         1   \n",
       "...                       ...       ...     ...   ...      ...       ...   \n",
       "35748859                    2     25387    1073     2        2         1   \n",
       "35748860                    1     25387    1073     2        2         1   \n",
       "35748861                    1     25387    1073     2        2         1   \n",
       "35748862                    1     25387    1073     2        2         1   \n",
       "35748863                    2     25387    1073     2        2         1   \n",
       "\n",
       "          round  circuitId              race_name  race_date time_of_race  \\\n",
       "0             1          1  Australian Grand Prix 2008-03-16     04:30:00   \n",
       "1             1          1  Australian Grand Prix 2008-03-16     04:30:00   \n",
       "2             1          1  Australian Grand Prix 2008-03-16     04:30:00   \n",
       "3             1          1  Australian Grand Prix 2008-03-16     04:30:00   \n",
       "4             1          1  Australian Grand Prix 2008-03-16     04:30:00   \n",
       "...         ...        ...                    ...        ...          ...   \n",
       "35748859     22         24   Abu Dhabi Grand Prix 2021-12-12     13:00:00   \n",
       "35748860     22         24   Abu Dhabi Grand Prix 2021-12-12     13:00:00   \n",
       "35748861     22         24   Abu Dhabi Grand Prix 2021-12-12     13:00:00   \n",
       "35748862     22         24   Abu Dhabi Grand Prix 2021-12-12     13:00:00   \n",
       "35748863     22         24   Abu Dhabi Grand Prix 2021-12-12     13:00:00   \n",
       "\n",
       "          race_year  race_month  race_quarter  \n",
       "0            2008.0         3.0           1.0  \n",
       "1            2008.0         3.0           1.0  \n",
       "2            2008.0         3.0           1.0  \n",
       "3            2008.0         3.0           1.0  \n",
       "4            2008.0         3.0           1.0  \n",
       "...             ...         ...           ...  \n",
       "35748859     2021.0        12.0           4.0  \n",
       "35748860     2021.0        12.0           4.0  \n",
       "35748861     2021.0        12.0           4.0  \n",
       "35748862     2021.0        12.0           4.0  \n",
       "35748863     2021.0        12.0           4.0  \n",
       "\n",
       "[35748864 rows x 19 columns]"
      ]
     },
     "execution_count": 22,
     "metadata": {},
     "output_type": "execute_result"
    }
   ],
   "source": [
    "df"
   ]
  },
  {
   "cell_type": "markdown",
   "metadata": {},
   "source": [
    "### 2.8 Filtering to decrease the size of dataset"
   ]
  },
  {
   "cell_type": "markdown",
   "metadata": {},
   "source": [
    "Originally there were 35 million rows of data. However, dataset was size limited to 600,000 rows of data due to hardware limitation"
   ]
  },
  {
   "cell_type": "code",
   "execution_count": 23,
   "metadata": {},
   "outputs": [],
   "source": [
    "#Subset to subset the dataset to 600k rows of data\n",
    "df = df.loc[0:600000]"
   ]
  },
  {
   "cell_type": "code",
   "execution_count": 24,
   "metadata": {},
   "outputs": [
    {
     "data": {
      "text/html": [
       "<div>\n",
       "<style scoped>\n",
       "    .dataframe tbody tr th:only-of-type {\n",
       "        vertical-align: middle;\n",
       "    }\n",
       "\n",
       "    .dataframe tbody tr th {\n",
       "        vertical-align: top;\n",
       "    }\n",
       "\n",
       "    .dataframe thead th {\n",
       "        text-align: right;\n",
       "    }\n",
       "</style>\n",
       "<table border=\"1\" class=\"dataframe\">\n",
       "  <thead>\n",
       "    <tr style=\"text-align: right;\">\n",
       "      <th></th>\n",
       "      <th>stop_number</th>\n",
       "      <th>lap</th>\n",
       "      <th>duration_of_stop</th>\n",
       "      <th>qualifyId</th>\n",
       "      <th>constructorId</th>\n",
       "      <th>qualifying_position</th>\n",
       "      <th>resultId</th>\n",
       "      <th>raceId</th>\n",
       "      <th>grid</th>\n",
       "      <th>position</th>\n",
       "      <th>statusId</th>\n",
       "      <th>round</th>\n",
       "      <th>circuitId</th>\n",
       "      <th>race_name</th>\n",
       "      <th>race_date</th>\n",
       "      <th>time_of_race</th>\n",
       "      <th>race_year</th>\n",
       "      <th>race_month</th>\n",
       "      <th>race_quarter</th>\n",
       "    </tr>\n",
       "  </thead>\n",
       "  <tbody>\n",
       "    <tr>\n",
       "      <th>0</th>\n",
       "      <td>1</td>\n",
       "      <td>16</td>\n",
       "      <td>23.227</td>\n",
       "      <td>1</td>\n",
       "      <td>1</td>\n",
       "      <td>1</td>\n",
       "      <td>1</td>\n",
       "      <td>18</td>\n",
       "      <td>1</td>\n",
       "      <td>1</td>\n",
       "      <td>1</td>\n",
       "      <td>1</td>\n",
       "      <td>1</td>\n",
       "      <td>Australian Grand Prix</td>\n",
       "      <td>2008-03-16</td>\n",
       "      <td>04:30:00</td>\n",
       "      <td>2008.0</td>\n",
       "      <td>3.0</td>\n",
       "      <td>1.0</td>\n",
       "    </tr>\n",
       "    <tr>\n",
       "      <th>1</th>\n",
       "      <td>1</td>\n",
       "      <td>16</td>\n",
       "      <td>23.227</td>\n",
       "      <td>26</td>\n",
       "      <td>1</td>\n",
       "      <td>4</td>\n",
       "      <td>1</td>\n",
       "      <td>18</td>\n",
       "      <td>1</td>\n",
       "      <td>1</td>\n",
       "      <td>1</td>\n",
       "      <td>1</td>\n",
       "      <td>1</td>\n",
       "      <td>Australian Grand Prix</td>\n",
       "      <td>2008-03-16</td>\n",
       "      <td>04:30:00</td>\n",
       "      <td>2008.0</td>\n",
       "      <td>3.0</td>\n",
       "      <td>1.0</td>\n",
       "    </tr>\n",
       "    <tr>\n",
       "      <th>2</th>\n",
       "      <td>1</td>\n",
       "      <td>16</td>\n",
       "      <td>23.227</td>\n",
       "      <td>47</td>\n",
       "      <td>1</td>\n",
       "      <td>3</td>\n",
       "      <td>1</td>\n",
       "      <td>18</td>\n",
       "      <td>1</td>\n",
       "      <td>1</td>\n",
       "      <td>1</td>\n",
       "      <td>1</td>\n",
       "      <td>1</td>\n",
       "      <td>Australian Grand Prix</td>\n",
       "      <td>2008-03-16</td>\n",
       "      <td>04:30:00</td>\n",
       "      <td>2008.0</td>\n",
       "      <td>3.0</td>\n",
       "      <td>1.0</td>\n",
       "    </tr>\n",
       "    <tr>\n",
       "      <th>3</th>\n",
       "      <td>1</td>\n",
       "      <td>16</td>\n",
       "      <td>23.227</td>\n",
       "      <td>71</td>\n",
       "      <td>1</td>\n",
       "      <td>5</td>\n",
       "      <td>1</td>\n",
       "      <td>18</td>\n",
       "      <td>1</td>\n",
       "      <td>1</td>\n",
       "      <td>1</td>\n",
       "      <td>1</td>\n",
       "      <td>1</td>\n",
       "      <td>Australian Grand Prix</td>\n",
       "      <td>2008-03-16</td>\n",
       "      <td>04:30:00</td>\n",
       "      <td>2008.0</td>\n",
       "      <td>3.0</td>\n",
       "      <td>1.0</td>\n",
       "    </tr>\n",
       "    <tr>\n",
       "      <th>4</th>\n",
       "      <td>1</td>\n",
       "      <td>16</td>\n",
       "      <td>23.227</td>\n",
       "      <td>91</td>\n",
       "      <td>1</td>\n",
       "      <td>3</td>\n",
       "      <td>1</td>\n",
       "      <td>18</td>\n",
       "      <td>1</td>\n",
       "      <td>1</td>\n",
       "      <td>1</td>\n",
       "      <td>1</td>\n",
       "      <td>1</td>\n",
       "      <td>Australian Grand Prix</td>\n",
       "      <td>2008-03-16</td>\n",
       "      <td>04:30:00</td>\n",
       "      <td>2008.0</td>\n",
       "      <td>3.0</td>\n",
       "      <td>1.0</td>\n",
       "    </tr>\n",
       "    <tr>\n",
       "      <th>...</th>\n",
       "      <td>...</td>\n",
       "      <td>...</td>\n",
       "      <td>...</td>\n",
       "      <td>...</td>\n",
       "      <td>...</td>\n",
       "      <td>...</td>\n",
       "      <td>...</td>\n",
       "      <td>...</td>\n",
       "      <td>...</td>\n",
       "      <td>...</td>\n",
       "      <td>...</td>\n",
       "      <td>...</td>\n",
       "      <td>...</td>\n",
       "      <td>...</td>\n",
       "      <td>...</td>\n",
       "      <td>...</td>\n",
       "      <td>...</td>\n",
       "      <td>...</td>\n",
       "      <td>...</td>\n",
       "    </tr>\n",
       "    <tr>\n",
       "      <th>599996</th>\n",
       "      <td>1</td>\n",
       "      <td>13</td>\n",
       "      <td>28.805</td>\n",
       "      <td>5039</td>\n",
       "      <td>1</td>\n",
       "      <td>2</td>\n",
       "      <td>90</td>\n",
       "      <td>22</td>\n",
       "      <td>3</td>\n",
       "      <td>2</td>\n",
       "      <td>1</td>\n",
       "      <td>5</td>\n",
       "      <td>5</td>\n",
       "      <td>Turkish Grand Prix</td>\n",
       "      <td>2008-05-11</td>\n",
       "      <td>12:00:00</td>\n",
       "      <td>2008.0</td>\n",
       "      <td>5.0</td>\n",
       "      <td>2.0</td>\n",
       "    </tr>\n",
       "    <tr>\n",
       "      <th>599997</th>\n",
       "      <td>1</td>\n",
       "      <td>13</td>\n",
       "      <td>28.805</td>\n",
       "      <td>5062</td>\n",
       "      <td>1</td>\n",
       "      <td>1</td>\n",
       "      <td>90</td>\n",
       "      <td>22</td>\n",
       "      <td>3</td>\n",
       "      <td>2</td>\n",
       "      <td>1</td>\n",
       "      <td>5</td>\n",
       "      <td>5</td>\n",
       "      <td>Turkish Grand Prix</td>\n",
       "      <td>2008-05-11</td>\n",
       "      <td>12:00:00</td>\n",
       "      <td>2008.0</td>\n",
       "      <td>5.0</td>\n",
       "      <td>2.0</td>\n",
       "    </tr>\n",
       "    <tr>\n",
       "      <th>599998</th>\n",
       "      <td>1</td>\n",
       "      <td>13</td>\n",
       "      <td>28.805</td>\n",
       "      <td>5089</td>\n",
       "      <td>1</td>\n",
       "      <td>4</td>\n",
       "      <td>90</td>\n",
       "      <td>22</td>\n",
       "      <td>3</td>\n",
       "      <td>2</td>\n",
       "      <td>1</td>\n",
       "      <td>5</td>\n",
       "      <td>5</td>\n",
       "      <td>Turkish Grand Prix</td>\n",
       "      <td>2008-05-11</td>\n",
       "      <td>12:00:00</td>\n",
       "      <td>2008.0</td>\n",
       "      <td>5.0</td>\n",
       "      <td>2.0</td>\n",
       "    </tr>\n",
       "    <tr>\n",
       "      <th>599999</th>\n",
       "      <td>1</td>\n",
       "      <td>13</td>\n",
       "      <td>28.805</td>\n",
       "      <td>5110</td>\n",
       "      <td>1</td>\n",
       "      <td>2</td>\n",
       "      <td>90</td>\n",
       "      <td>22</td>\n",
       "      <td>3</td>\n",
       "      <td>2</td>\n",
       "      <td>1</td>\n",
       "      <td>5</td>\n",
       "      <td>5</td>\n",
       "      <td>Turkish Grand Prix</td>\n",
       "      <td>2008-05-11</td>\n",
       "      <td>12:00:00</td>\n",
       "      <td>2008.0</td>\n",
       "      <td>5.0</td>\n",
       "      <td>2.0</td>\n",
       "    </tr>\n",
       "    <tr>\n",
       "      <th>600000</th>\n",
       "      <td>1</td>\n",
       "      <td>13</td>\n",
       "      <td>28.805</td>\n",
       "      <td>5134</td>\n",
       "      <td>1</td>\n",
       "      <td>2</td>\n",
       "      <td>90</td>\n",
       "      <td>22</td>\n",
       "      <td>3</td>\n",
       "      <td>2</td>\n",
       "      <td>1</td>\n",
       "      <td>5</td>\n",
       "      <td>5</td>\n",
       "      <td>Turkish Grand Prix</td>\n",
       "      <td>2008-05-11</td>\n",
       "      <td>12:00:00</td>\n",
       "      <td>2008.0</td>\n",
       "      <td>5.0</td>\n",
       "      <td>2.0</td>\n",
       "    </tr>\n",
       "  </tbody>\n",
       "</table>\n",
       "<p>600001 rows × 19 columns</p>\n",
       "</div>"
      ],
      "text/plain": [
       "        stop_number  lap  duration_of_stop  qualifyId  constructorId  \\\n",
       "0                 1   16            23.227          1              1   \n",
       "1                 1   16            23.227         26              1   \n",
       "2                 1   16            23.227         47              1   \n",
       "3                 1   16            23.227         71              1   \n",
       "4                 1   16            23.227         91              1   \n",
       "...             ...  ...               ...        ...            ...   \n",
       "599996            1   13            28.805       5039              1   \n",
       "599997            1   13            28.805       5062              1   \n",
       "599998            1   13            28.805       5089              1   \n",
       "599999            1   13            28.805       5110              1   \n",
       "600000            1   13            28.805       5134              1   \n",
       "\n",
       "        qualifying_position  resultId  raceId  grid position  statusId  round  \\\n",
       "0                         1         1      18     1        1         1      1   \n",
       "1                         4         1      18     1        1         1      1   \n",
       "2                         3         1      18     1        1         1      1   \n",
       "3                         5         1      18     1        1         1      1   \n",
       "4                         3         1      18     1        1         1      1   \n",
       "...                     ...       ...     ...   ...      ...       ...    ...   \n",
       "599996                    2        90      22     3        2         1      5   \n",
       "599997                    1        90      22     3        2         1      5   \n",
       "599998                    4        90      22     3        2         1      5   \n",
       "599999                    2        90      22     3        2         1      5   \n",
       "600000                    2        90      22     3        2         1      5   \n",
       "\n",
       "        circuitId              race_name  race_date time_of_race  race_year  \\\n",
       "0               1  Australian Grand Prix 2008-03-16     04:30:00     2008.0   \n",
       "1               1  Australian Grand Prix 2008-03-16     04:30:00     2008.0   \n",
       "2               1  Australian Grand Prix 2008-03-16     04:30:00     2008.0   \n",
       "3               1  Australian Grand Prix 2008-03-16     04:30:00     2008.0   \n",
       "4               1  Australian Grand Prix 2008-03-16     04:30:00     2008.0   \n",
       "...           ...                    ...        ...          ...        ...   \n",
       "599996          5     Turkish Grand Prix 2008-05-11     12:00:00     2008.0   \n",
       "599997          5     Turkish Grand Prix 2008-05-11     12:00:00     2008.0   \n",
       "599998          5     Turkish Grand Prix 2008-05-11     12:00:00     2008.0   \n",
       "599999          5     Turkish Grand Prix 2008-05-11     12:00:00     2008.0   \n",
       "600000          5     Turkish Grand Prix 2008-05-11     12:00:00     2008.0   \n",
       "\n",
       "        race_month  race_quarter  \n",
       "0              3.0           1.0  \n",
       "1              3.0           1.0  \n",
       "2              3.0           1.0  \n",
       "3              3.0           1.0  \n",
       "4              3.0           1.0  \n",
       "...            ...           ...  \n",
       "599996         5.0           2.0  \n",
       "599997         5.0           2.0  \n",
       "599998         5.0           2.0  \n",
       "599999         5.0           2.0  \n",
       "600000         5.0           2.0  \n",
       "\n",
       "[600001 rows x 19 columns]"
      ]
     },
     "execution_count": 24,
     "metadata": {},
     "output_type": "execute_result"
    }
   ],
   "source": [
    "df"
   ]
  },
  {
   "cell_type": "markdown",
   "metadata": {},
   "source": [
    "## Step 3: Data Cleansing and Transformation\n",
    "[Back to top](#top)"
   ]
  },
  {
   "cell_type": "markdown",
   "metadata": {},
   "source": [
    "### 3.1 Overview of Consolidated DataFrame Variable"
   ]
  },
  {
   "cell_type": "code",
   "execution_count": 25,
   "metadata": {},
   "outputs": [
    {
     "name": "stdout",
     "output_type": "stream",
     "text": [
      "<class 'pandas.core.frame.DataFrame'>\n",
      "Int64Index: 600001 entries, 0 to 600000\n",
      "Data columns (total 19 columns):\n",
      " #   Column               Non-Null Count   Dtype         \n",
      "---  ------               --------------   -----         \n",
      " 0   stop_number          600001 non-null  int64         \n",
      " 1   lap                  600001 non-null  int64         \n",
      " 2   duration_of_stop     600001 non-null  float64       \n",
      " 3   qualifyId            600001 non-null  int64         \n",
      " 4   constructorId        600001 non-null  int64         \n",
      " 5   qualifying_position  600001 non-null  int64         \n",
      " 6   resultId             600001 non-null  int64         \n",
      " 7   raceId               600001 non-null  int64         \n",
      " 8   grid                 600001 non-null  int64         \n",
      " 9   position             600001 non-null  object        \n",
      " 10  statusId             600001 non-null  int64         \n",
      " 11  round                600001 non-null  int64         \n",
      " 12  circuitId            600001 non-null  int64         \n",
      " 13  race_name            600001 non-null  object        \n",
      " 14  race_date            600001 non-null  datetime64[ns]\n",
      " 15  time_of_race         600001 non-null  object        \n",
      " 16  race_year            600001 non-null  float64       \n",
      " 17  race_month           600001 non-null  float64       \n",
      " 18  race_quarter         600001 non-null  float64       \n",
      "dtypes: datetime64[ns](1), float64(4), int64(11), object(3)\n",
      "memory usage: 91.6+ MB\n"
     ]
    }
   ],
   "source": [
    "df.info()"
   ]
  },
  {
   "cell_type": "code",
   "execution_count": 26,
   "metadata": {},
   "outputs": [
    {
     "data": {
      "text/html": [
       "<div>\n",
       "<style scoped>\n",
       "    .dataframe tbody tr th:only-of-type {\n",
       "        vertical-align: middle;\n",
       "    }\n",
       "\n",
       "    .dataframe tbody tr th {\n",
       "        vertical-align: top;\n",
       "    }\n",
       "\n",
       "    .dataframe thead th {\n",
       "        text-align: right;\n",
       "    }\n",
       "</style>\n",
       "<table border=\"1\" class=\"dataframe\">\n",
       "  <thead>\n",
       "    <tr style=\"text-align: right;\">\n",
       "      <th></th>\n",
       "      <th>stop_number</th>\n",
       "      <th>lap</th>\n",
       "      <th>duration_of_stop</th>\n",
       "      <th>qualifyId</th>\n",
       "      <th>constructorId</th>\n",
       "      <th>qualifying_position</th>\n",
       "      <th>resultId</th>\n",
       "      <th>raceId</th>\n",
       "      <th>grid</th>\n",
       "      <th>statusId</th>\n",
       "      <th>round</th>\n",
       "      <th>circuitId</th>\n",
       "      <th>race_year</th>\n",
       "      <th>race_month</th>\n",
       "      <th>race_quarter</th>\n",
       "    </tr>\n",
       "  </thead>\n",
       "  <tbody>\n",
       "    <tr>\n",
       "      <th>count</th>\n",
       "      <td>600001.000000</td>\n",
       "      <td>600001.000000</td>\n",
       "      <td>600001.000000</td>\n",
       "      <td>600001.000000</td>\n",
       "      <td>600001.000000</td>\n",
       "      <td>600001.000000</td>\n",
       "      <td>600001.000000</td>\n",
       "      <td>600001.000000</td>\n",
       "      <td>600001.000000</td>\n",
       "      <td>600001.000000</td>\n",
       "      <td>600001.000000</td>\n",
       "      <td>600001.000000</td>\n",
       "      <td>600001.0</td>\n",
       "      <td>600001.000000</td>\n",
       "      <td>600001.000000</td>\n",
       "    </tr>\n",
       "    <tr>\n",
       "      <th>mean</th>\n",
       "      <td>1.806879</td>\n",
       "      <td>26.417418</td>\n",
       "      <td>69.606035</td>\n",
       "      <td>5671.855402</td>\n",
       "      <td>81.334233</td>\n",
       "      <td>3.350856</td>\n",
       "      <td>47.382791</td>\n",
       "      <td>19.931203</td>\n",
       "      <td>4.241278</td>\n",
       "      <td>3.068797</td>\n",
       "      <td>2.931203</td>\n",
       "      <td>2.931203</td>\n",
       "      <td>2008.0</td>\n",
       "      <td>3.758722</td>\n",
       "      <td>1.586241</td>\n",
       "    </tr>\n",
       "    <tr>\n",
       "      <th>std</th>\n",
       "      <td>1.006055</td>\n",
       "      <td>14.538664</td>\n",
       "      <td>255.462057</td>\n",
       "      <td>2566.860796</td>\n",
       "      <td>63.165402</td>\n",
       "      <td>3.971169</td>\n",
       "      <td>30.985482</td>\n",
       "      <td>1.387975</td>\n",
       "      <td>2.749899</td>\n",
       "      <td>4.050688</td>\n",
       "      <td>1.387975</td>\n",
       "      <td>1.387975</td>\n",
       "      <td>0.0</td>\n",
       "      <td>0.726654</td>\n",
       "      <td>0.492507</td>\n",
       "    </tr>\n",
       "    <tr>\n",
       "      <th>min</th>\n",
       "      <td>1.000000</td>\n",
       "      <td>1.000000</td>\n",
       "      <td>13.173000</td>\n",
       "      <td>1.000000</td>\n",
       "      <td>1.000000</td>\n",
       "      <td>1.000000</td>\n",
       "      <td>1.000000</td>\n",
       "      <td>18.000000</td>\n",
       "      <td>1.000000</td>\n",
       "      <td>1.000000</td>\n",
       "      <td>1.000000</td>\n",
       "      <td>1.000000</td>\n",
       "      <td>2008.0</td>\n",
       "      <td>3.000000</td>\n",
       "      <td>1.000000</td>\n",
       "    </tr>\n",
       "    <tr>\n",
       "      <th>25%</th>\n",
       "      <td>1.000000</td>\n",
       "      <td>15.000000</td>\n",
       "      <td>21.355000</td>\n",
       "      <td>4538.000000</td>\n",
       "      <td>1.000000</td>\n",
       "      <td>1.000000</td>\n",
       "      <td>27.000000</td>\n",
       "      <td>19.000000</td>\n",
       "      <td>3.000000</td>\n",
       "      <td>1.000000</td>\n",
       "      <td>2.000000</td>\n",
       "      <td>2.000000</td>\n",
       "      <td>2008.0</td>\n",
       "      <td>3.000000</td>\n",
       "      <td>1.000000</td>\n",
       "    </tr>\n",
       "    <tr>\n",
       "      <th>50%</th>\n",
       "      <td>2.000000</td>\n",
       "      <td>26.000000</td>\n",
       "      <td>22.862000</td>\n",
       "      <td>6193.000000</td>\n",
       "      <td>131.000000</td>\n",
       "      <td>2.000000</td>\n",
       "      <td>57.000000</td>\n",
       "      <td>20.000000</td>\n",
       "      <td>3.000000</td>\n",
       "      <td>1.000000</td>\n",
       "      <td>3.000000</td>\n",
       "      <td>3.000000</td>\n",
       "      <td>2008.0</td>\n",
       "      <td>4.000000</td>\n",
       "      <td>2.000000</td>\n",
       "    </tr>\n",
       "    <tr>\n",
       "      <th>75%</th>\n",
       "      <td>2.000000</td>\n",
       "      <td>37.000000</td>\n",
       "      <td>24.595000</td>\n",
       "      <td>7680.000000</td>\n",
       "      <td>131.000000</td>\n",
       "      <td>4.000000</td>\n",
       "      <td>69.000000</td>\n",
       "      <td>21.000000</td>\n",
       "      <td>5.000000</td>\n",
       "      <td>1.000000</td>\n",
       "      <td>4.000000</td>\n",
       "      <td>4.000000</td>\n",
       "      <td>2008.0</td>\n",
       "      <td>4.000000</td>\n",
       "      <td>2.000000</td>\n",
       "    </tr>\n",
       "    <tr>\n",
       "      <th>max</th>\n",
       "      <td>6.000000</td>\n",
       "      <td>70.000000</td>\n",
       "      <td>2048.376000</td>\n",
       "      <td>9157.000000</td>\n",
       "      <td>131.000000</td>\n",
       "      <td>22.000000</td>\n",
       "      <td>90.000000</td>\n",
       "      <td>22.000000</td>\n",
       "      <td>9.000000</td>\n",
       "      <td>11.000000</td>\n",
       "      <td>5.000000</td>\n",
       "      <td>5.000000</td>\n",
       "      <td>2008.0</td>\n",
       "      <td>5.000000</td>\n",
       "      <td>2.000000</td>\n",
       "    </tr>\n",
       "  </tbody>\n",
       "</table>\n",
       "</div>"
      ],
      "text/plain": [
       "         stop_number            lap  duration_of_stop      qualifyId  \\\n",
       "count  600001.000000  600001.000000     600001.000000  600001.000000   \n",
       "mean        1.806879      26.417418         69.606035    5671.855402   \n",
       "std         1.006055      14.538664        255.462057    2566.860796   \n",
       "min         1.000000       1.000000         13.173000       1.000000   \n",
       "25%         1.000000      15.000000         21.355000    4538.000000   \n",
       "50%         2.000000      26.000000         22.862000    6193.000000   \n",
       "75%         2.000000      37.000000         24.595000    7680.000000   \n",
       "max         6.000000      70.000000       2048.376000    9157.000000   \n",
       "\n",
       "       constructorId  qualifying_position       resultId         raceId  \\\n",
       "count  600001.000000        600001.000000  600001.000000  600001.000000   \n",
       "mean       81.334233             3.350856      47.382791      19.931203   \n",
       "std        63.165402             3.971169      30.985482       1.387975   \n",
       "min         1.000000             1.000000       1.000000      18.000000   \n",
       "25%         1.000000             1.000000      27.000000      19.000000   \n",
       "50%       131.000000             2.000000      57.000000      20.000000   \n",
       "75%       131.000000             4.000000      69.000000      21.000000   \n",
       "max       131.000000            22.000000      90.000000      22.000000   \n",
       "\n",
       "                grid       statusId          round      circuitId  race_year  \\\n",
       "count  600001.000000  600001.000000  600001.000000  600001.000000   600001.0   \n",
       "mean        4.241278       3.068797       2.931203       2.931203     2008.0   \n",
       "std         2.749899       4.050688       1.387975       1.387975        0.0   \n",
       "min         1.000000       1.000000       1.000000       1.000000     2008.0   \n",
       "25%         3.000000       1.000000       2.000000       2.000000     2008.0   \n",
       "50%         3.000000       1.000000       3.000000       3.000000     2008.0   \n",
       "75%         5.000000       1.000000       4.000000       4.000000     2008.0   \n",
       "max         9.000000      11.000000       5.000000       5.000000     2008.0   \n",
       "\n",
       "          race_month   race_quarter  \n",
       "count  600001.000000  600001.000000  \n",
       "mean        3.758722       1.586241  \n",
       "std         0.726654       0.492507  \n",
       "min         3.000000       1.000000  \n",
       "25%         3.000000       1.000000  \n",
       "50%         4.000000       2.000000  \n",
       "75%         4.000000       2.000000  \n",
       "max         5.000000       2.000000  "
      ]
     },
     "execution_count": 26,
     "metadata": {},
     "output_type": "execute_result"
    }
   ],
   "source": [
    "df.describe()"
   ]
  },
  {
   "cell_type": "code",
   "execution_count": 28,
   "metadata": {},
   "outputs": [
    {
     "data": {
      "text/plain": [
       "stop_number            0.0\n",
       "race_year              0.0\n",
       "time_of_race           0.0\n",
       "race_date              0.0\n",
       "race_name              0.0\n",
       "circuitId              0.0\n",
       "round                  0.0\n",
       "statusId               0.0\n",
       "race_month             0.0\n",
       "position               0.0\n",
       "raceId                 0.0\n",
       "resultId               0.0\n",
       "qualifying_position    0.0\n",
       "constructorId          0.0\n",
       "qualifyId              0.0\n",
       "duration_of_stop       0.0\n",
       "lap                    0.0\n",
       "grid                   0.0\n",
       "race_quarter           0.0\n",
       "dtype: float64"
      ]
     },
     "execution_count": 28,
     "metadata": {},
     "output_type": "execute_result"
    }
   ],
   "source": [
    "df.isnull().mean().sort_values()"
   ]
  },
  {
   "cell_type": "code",
   "execution_count": 29,
   "metadata": {},
   "outputs": [
    {
     "data": {
      "text/plain": [
       "['stop_number',\n",
       " 'lap',\n",
       " 'duration_of_stop',\n",
       " 'qualifyId',\n",
       " 'constructorId',\n",
       " 'qualifying_position',\n",
       " 'resultId',\n",
       " 'raceId',\n",
       " 'grid',\n",
       " 'statusId',\n",
       " 'round',\n",
       " 'circuitId',\n",
       " 'race_date',\n",
       " 'race_year',\n",
       " 'race_month',\n",
       " 'race_quarter']"
      ]
     },
     "execution_count": 29,
     "metadata": {},
     "output_type": "execute_result"
    }
   ],
   "source": [
    "#Numerical variables\n",
    "num_cols = [c for c in df.columns if df[c].dtypes !='O']\n",
    "num_cols"
   ]
  },
  {
   "cell_type": "code",
   "execution_count": 30,
   "metadata": {},
   "outputs": [
    {
     "data": {
      "text/plain": [
       "['position', 'race_name', 'time_of_race']"
      ]
     },
     "execution_count": 30,
     "metadata": {},
     "output_type": "execute_result"
    }
   ],
   "source": [
    "#Categorical variables\n",
    "cat_cols = [c for c in df.columns if df[c].dtypes =='O']\n",
    "cat_cols"
   ]
  },
  {
   "cell_type": "markdown",
   "metadata": {},
   "source": [
    "### 3.2 Categorical Data\n"
   ]
  },
  {
   "cell_type": "code",
   "execution_count": 31,
   "metadata": {},
   "outputs": [
    {
     "data": {
      "text/plain": [
       "array(['Australian Grand Prix', 'Malaysian Grand Prix',\n",
       "       'Bahrain Grand Prix', 'Spanish Grand Prix', 'Turkish Grand Prix'],\n",
       "      dtype=object)"
      ]
     },
     "execution_count": 31,
     "metadata": {},
     "output_type": "execute_result"
    }
   ],
   "source": [
    "df['race_name'].unique()"
   ]
  },
  {
   "cell_type": "code",
   "execution_count": 32,
   "metadata": {},
   "outputs": [
    {
     "data": {
      "text/plain": [
       "array([datetime.time(4, 30), datetime.time(7, 0), datetime.time(11, 30),\n",
       "       datetime.time(12, 0)], dtype=object)"
      ]
     },
     "execution_count": 32,
     "metadata": {},
     "output_type": "execute_result"
    }
   ],
   "source": [
    "df['time_of_race'].unique()"
   ]
  },
  {
   "cell_type": "markdown",
   "metadata": {},
   "source": [
    "### 3.3 Exploring Numerical Variables"
   ]
  },
  {
   "cell_type": "code",
   "execution_count": 33,
   "metadata": {},
   "outputs": [
    {
     "data": {
      "image/png": "[encoded data removed]",
      "text/plain": [
       "<Figure size 864x864 with 16 Axes>"
      ]
     },
     "metadata": {
      "needs_background": "light"
     },
     "output_type": "display_data"
    }
   ],
   "source": [
    "df[num_cols].hist(bins=15, figsize=(12,12))\n",
    "plt.show()"
   ]
  },
  {
   "cell_type": "markdown",
   "metadata": {},
   "source": [
    "### 3.4 Numerical Data"
   ]
  },
  {
   "cell_type": "code",
   "execution_count": 34,
   "metadata": {},
   "outputs": [],
   "source": [
    "def diagnostic_plots(df, variable):\n",
    "    # function takes a dataframe (df) and\n",
    "    # the variable of interest as arguments\n",
    "\n",
    "    # define figure size\n",
    "    plt.figure(figsize=(16, 4))\n",
    "\n",
    "    # histogram\n",
    "    plt.subplot(1, 3, 1)\n",
    "    sns.distplot(df[variable], bins=30)\n",
    "    plt.title('Histogram')\n",
    "\n",
    "    # Q-Q plot\n",
    "    plt.subplot(1, 3, 2)\n",
    "    stats.probplot(df[variable], dist=\"norm\", plot=plt)\n",
    "    plt.ylabel('RM quantiles')\n",
    "\n",
    "    # boxplot\n",
    "    plt.subplot(1, 3, 3)\n",
    "    sns.boxplot(y=df[variable])\n",
    "    plt.title('Boxplot')\n",
    "\n",
    "    plt.show()"
   ]
  },
  {
   "cell_type": "code",
   "execution_count": 35,
   "metadata": {},
   "outputs": [
    {
     "data": {
      "text/plain": [
       "['stop_number',\n",
       " 'lap',\n",
       " 'duration_of_stop',\n",
       " 'qualifyId',\n",
       " 'constructorId',\n",
       " 'qualifying_position',\n",
       " 'resultId',\n",
       " 'raceId',\n",
       " 'grid',\n",
       " 'statusId',\n",
       " 'round',\n",
       " 'circuitId',\n",
       " 'race_date',\n",
       " 'race_year',\n",
       " 'race_month',\n",
       " 'race_quarter']"
      ]
     },
     "execution_count": 35,
     "metadata": {},
     "output_type": "execute_result"
    }
   ],
   "source": [
    "#Numerical variables\n",
    "num_cols"
   ]
  },
  {
   "cell_type": "markdown",
   "metadata": {},
   "source": [
    "### 3.5 Exploring the Data Further (Outlier)"
   ]
  },
  {
   "cell_type": "code",
   "execution_count": 36,
   "metadata": {},
   "outputs": [
    {
     "name": "stderr",
     "output_type": "stream",
     "text": [
      "C:\\ProgramData\\Anaconda3\\lib\\site-packages\\seaborn\\distributions.py:2619: FutureWarning: `distplot` is a deprecated function and will be removed in a future version. Please adapt your code to use either `displot` (a figure-level function with similar flexibility) or `histplot` (an axes-level function for histograms).\n",
      "  warnings.warn(msg, FutureWarning)\n"
     ]
    },
    {
     "data": {
      "image/png": "[encoded data removed]",
      "text/plain": [
       "<Figure size 1152x288 with 3 Axes>"
      ]
     },
     "metadata": {
      "needs_background": "light"
     },
     "output_type": "display_data"
    }
   ],
   "source": [
    "#Outliers for stop_number\n",
    "diagnostic_plots(df, 'stop_number')"
   ]
  },
  {
   "cell_type": "code",
   "execution_count": 37,
   "metadata": {},
   "outputs": [
    {
     "name": "stderr",
     "output_type": "stream",
     "text": [
      "C:\\ProgramData\\Anaconda3\\lib\\site-packages\\seaborn\\distributions.py:2619: FutureWarning: `distplot` is a deprecated function and will be removed in a future version. Please adapt your code to use either `displot` (a figure-level function with similar flexibility) or `histplot` (an axes-level function for histograms).\n",
      "  warnings.warn(msg, FutureWarning)\n"
     ]
    },
    {
     "data": {
      "image/png": "[encoded data removed]",
      "text/plain": [
       "<Figure size 1152x288 with 3 Axes>"
      ]
     },
     "metadata": {
      "needs_background": "light"
     },
     "output_type": "display_data"
    }
   ],
   "source": [
    "#Outliers for lap\n",
    "diagnostic_plots(df, 'lap')"
   ]
  },
  {
   "cell_type": "code",
   "execution_count": 38,
   "metadata": {},
   "outputs": [
    {
     "name": "stderr",
     "output_type": "stream",
     "text": [
      "C:\\ProgramData\\Anaconda3\\lib\\site-packages\\seaborn\\distributions.py:2619: FutureWarning: `distplot` is a deprecated function and will be removed in a future version. Please adapt your code to use either `displot` (a figure-level function with similar flexibility) or `histplot` (an axes-level function for histograms).\n",
      "  warnings.warn(msg, FutureWarning)\n"
     ]
    },
    {
     "data": {
      "image/png": "[encoded data removed]",
      "text/plain": [
       "<Figure size 1152x288 with 3 Axes>"
      ]
     },
     "metadata": {
      "needs_background": "light"
     },
     "output_type": "display_data"
    }
   ],
   "source": [
    "#Outliers for qualifying_position\n",
    "diagnostic_plots(df, 'qualifying_position')"
   ]
  },
  {
   "cell_type": "code",
   "execution_count": 39,
   "metadata": {},
   "outputs": [
    {
     "name": "stderr",
     "output_type": "stream",
     "text": [
      "C:\\ProgramData\\Anaconda3\\lib\\site-packages\\seaborn\\distributions.py:2619: FutureWarning: `distplot` is a deprecated function and will be removed in a future version. Please adapt your code to use either `displot` (a figure-level function with similar flexibility) or `histplot` (an axes-level function for histograms).\n",
      "  warnings.warn(msg, FutureWarning)\n"
     ]
    },
    {
     "data": {
      "image/png": "[encoded data removed]",
      "text/plain": [
       "<Figure size 1152x288 with 3 Axes>"
      ]
     },
     "metadata": {
      "needs_background": "light"
     },
     "output_type": "display_data"
    }
   ],
   "source": [
    "#Outliers for grid\n",
    "diagnostic_plots(df, 'grid')"
   ]
  },
  {
   "cell_type": "code",
   "execution_count": 40,
   "metadata": {},
   "outputs": [
    {
     "name": "stderr",
     "output_type": "stream",
     "text": [
      "C:\\ProgramData\\Anaconda3\\lib\\site-packages\\seaborn\\distributions.py:2619: FutureWarning: `distplot` is a deprecated function and will be removed in a future version. Please adapt your code to use either `displot` (a figure-level function with similar flexibility) or `histplot` (an axes-level function for histograms).\n",
      "  warnings.warn(msg, FutureWarning)\n"
     ]
    },
    {
     "data": {
      "image/png": "[encoded data removed]",
      "text/plain": [
       "<Figure size 1152x288 with 3 Axes>"
      ]
     },
     "metadata": {
      "needs_background": "light"
     },
     "output_type": "display_data"
    }
   ],
   "source": [
    "#Outliers for round\n",
    "diagnostic_plots(df, 'round')"
   ]
  },
  {
   "cell_type": "code",
   "execution_count": 41,
   "metadata": {},
   "outputs": [
    {
     "name": "stderr",
     "output_type": "stream",
     "text": [
      "C:\\ProgramData\\Anaconda3\\lib\\site-packages\\seaborn\\distributions.py:2619: FutureWarning: `distplot` is a deprecated function and will be removed in a future version. Please adapt your code to use either `displot` (a figure-level function with similar flexibility) or `histplot` (an axes-level function for histograms).\n",
      "  warnings.warn(msg, FutureWarning)\n",
      "C:\\ProgramData\\Anaconda3\\lib\\site-packages\\seaborn\\distributions.py:316: UserWarning: Dataset has 0 variance; skipping density estimate. Pass `warn_singular=False` to disable this warning.\n",
      "  warnings.warn(msg, UserWarning)\n"
     ]
    },
    {
     "data": {
      "image/png": "[encoded data removed]",
      "text/plain": [
       "<Figure size 1152x288 with 3 Axes>"
      ]
     },
     "metadata": {
      "needs_background": "light"
     },
     "output_type": "display_data"
    }
   ],
   "source": [
    "#Outliers for race_year\n",
    "diagnostic_plots(df, 'race_year')"
   ]
  },
  {
   "cell_type": "code",
   "execution_count": 42,
   "metadata": {},
   "outputs": [
    {
     "name": "stderr",
     "output_type": "stream",
     "text": [
      "C:\\ProgramData\\Anaconda3\\lib\\site-packages\\seaborn\\distributions.py:2619: FutureWarning: `distplot` is a deprecated function and will be removed in a future version. Please adapt your code to use either `displot` (a figure-level function with similar flexibility) or `histplot` (an axes-level function for histograms).\n",
      "  warnings.warn(msg, FutureWarning)\n"
     ]
    },
    {
     "data": {
      "image/png": "[encoded data removed]",
      "text/plain": [
       "<Figure size 1152x288 with 3 Axes>"
      ]
     },
     "metadata": {
      "needs_background": "light"
     },
     "output_type": "display_data"
    }
   ],
   "source": [
    "#Outliers for race_month\n",
    "diagnostic_plots(df, 'race_month')"
   ]
  },
  {
   "cell_type": "code",
   "execution_count": 43,
   "metadata": {},
   "outputs": [
    {
     "name": "stderr",
     "output_type": "stream",
     "text": [
      "C:\\ProgramData\\Anaconda3\\lib\\site-packages\\seaborn\\distributions.py:2619: FutureWarning: `distplot` is a deprecated function and will be removed in a future version. Please adapt your code to use either `displot` (a figure-level function with similar flexibility) or `histplot` (an axes-level function for histograms).\n",
      "  warnings.warn(msg, FutureWarning)\n"
     ]
    },
    {
     "data": {
      "image/png": "[encoded data removed]",
      "text/plain": [
       "<Figure size 1152x288 with 3 Axes>"
      ]
     },
     "metadata": {
      "needs_background": "light"
     },
     "output_type": "display_data"
    }
   ],
   "source": [
    "#Outliers for race_quarter\n",
    "diagnostic_plots(df, 'race_quarter')"
   ]
  },
  {
   "cell_type": "code",
   "execution_count": 44,
   "metadata": {},
   "outputs": [
    {
     "data": {
      "text/plain": [
       "\"\\n#Outliers can be left alone so this may not be neccessary\\nwindsorizer = Winsorizer(capping_method ='gaussian', \\n                        tail='right', # cap left, right or both tails\\n                        fold =0.05,\\n                        variables=['stop_number') #Change where neccesary\\n\\nwindsorizer.fit(df)\\ndf = windsorizer.transform(df)\\n\""
      ]
     },
     "execution_count": 44,
     "metadata": {},
     "output_type": "execute_result"
    }
   ],
   "source": [
    "'''\n",
    "#Outliers can be left alone so this may not be neccessary\n",
    "windsorizer = Winsorizer(capping_method ='gaussian', \n",
    "                        tail='right', # cap left, right or both tails\n",
    "                        fold =0.05,\n",
    "                        variables=['stop_number') #Change where neccesary\n",
    "\n",
    "windsorizer.fit(df)\n",
    "df = windsorizer.transform(df)\n",
    "'''"
   ]
  },
  {
   "cell_type": "markdown",
   "metadata": {},
   "source": [
    "### 4. Missing Value Imputation\n",
    "[Back to top](#top)"
   ]
  },
  {
   "cell_type": "code",
   "execution_count": 45,
   "metadata": {},
   "outputs": [
    {
     "data": {
      "text/plain": [
       "['stop_number',\n",
       " 'lap',\n",
       " 'duration_of_stop',\n",
       " 'qualifyId',\n",
       " 'constructorId',\n",
       " 'qualifying_position',\n",
       " 'resultId',\n",
       " 'raceId',\n",
       " 'grid',\n",
       " 'statusId',\n",
       " 'round',\n",
       " 'circuitId',\n",
       " 'race_date',\n",
       " 'race_year',\n",
       " 'race_month',\n",
       " 'race_quarter']"
      ]
     },
     "execution_count": 45,
     "metadata": {},
     "output_type": "execute_result"
    }
   ],
   "source": [
    "num_cols"
   ]
  },
  {
   "cell_type": "code",
   "execution_count": 46,
   "metadata": {},
   "outputs": [
    {
     "data": {
      "text/plain": [
       "['position', 'race_name', 'time_of_race']"
      ]
     },
     "execution_count": 46,
     "metadata": {},
     "output_type": "execute_result"
    }
   ],
   "source": [
    "cat_cols"
   ]
  },
  {
   "cell_type": "code",
   "execution_count": 47,
   "metadata": {},
   "outputs": [
    {
     "data": {
      "text/plain": [
       "stop_number                     int64\n",
       "lap                             int64\n",
       "duration_of_stop              float64\n",
       "qualifyId                       int64\n",
       "constructorId                   int64\n",
       "qualifying_position             int64\n",
       "resultId                        int64\n",
       "raceId                          int64\n",
       "grid                            int64\n",
       "position                       object\n",
       "statusId                        int64\n",
       "round                           int64\n",
       "circuitId                       int64\n",
       "race_name                      object\n",
       "race_date              datetime64[ns]\n",
       "time_of_race                   object\n",
       "race_year                     float64\n",
       "race_month                    float64\n",
       "race_quarter                  float64\n",
       "dtype: object"
      ]
     },
     "execution_count": 47,
     "metadata": {},
     "output_type": "execute_result"
    }
   ],
   "source": [
    "df.dtypes"
   ]
  },
  {
   "cell_type": "code",
   "execution_count": 48,
   "metadata": {},
   "outputs": [
    {
     "data": {
      "text/plain": [
       "<bound method Series.sort_values of stop_number            0.0\n",
       "lap                    0.0\n",
       "duration_of_stop       0.0\n",
       "qualifyId              0.0\n",
       "constructorId          0.0\n",
       "qualifying_position    0.0\n",
       "resultId               0.0\n",
       "raceId                 0.0\n",
       "grid                   0.0\n",
       "position               0.0\n",
       "statusId               0.0\n",
       "round                  0.0\n",
       "circuitId              0.0\n",
       "race_name              0.0\n",
       "race_date              0.0\n",
       "time_of_race           0.0\n",
       "race_year              0.0\n",
       "race_month             0.0\n",
       "race_quarter           0.0\n",
       "dtype: float64>"
      ]
     },
     "execution_count": 48,
     "metadata": {},
     "output_type": "execute_result"
    }
   ],
   "source": [
    "df.isnull().mean().sort_values"
   ]
  },
  {
   "cell_type": "markdown",
   "metadata": {},
   "source": [
    "### 4.1 Pipeline Imputation"
   ]
  },
  {
   "cell_type": "code",
   "execution_count": 49,
   "metadata": {},
   "outputs": [],
   "source": [
    "#List of numerical vars (X train/test)\n",
    "features_num_arbitrary = ['race_quarter']\n",
    "features_num_median = ['race_year', 'race_month']\n",
    "\n",
    "#List of categorical vars (X train/test)\n",
    "features_cat_missing = ['position']\n"
   ]
  },
  {
   "cell_type": "code",
   "execution_count": 50,
   "metadata": {},
   "outputs": [],
   "source": [
    "#Practical 2.10 (X train/test)\n",
    "\n",
    "pipe = Pipeline(steps=[\n",
    "    ('imp_num_arbitrary', mdi.ArbitraryNumberImputer(variables = features_num_arbitrary)),\n",
    "    ('imp_num_median', mdi.MeanMedianImputer(imputation_method = 'median', variables=features_num_median)),\n",
    "    #('imp_cat_frequent', mdi.CategoricalImputer(variables = features_cat_frequent, imputation_method='frequent')),\n",
    "    ('imp_cat_missing', mdi.CategoricalImputer(variables=features_cat_missing, imputation_method='missing'))\n",
    "])\n",
    "\n",
    "pipe.fit(df)\n",
    "df = pipe.transform(df)"
   ]
  },
  {
   "cell_type": "markdown",
   "metadata": {},
   "source": [
    "### 4.2 Complete Case Analysis (CCA)"
   ]
  },
  {
   "cell_type": "code",
   "execution_count": 51,
   "metadata": {},
   "outputs": [],
   "source": [
    "#Dropping the missing dates in race_date & time_between_race\n",
    "df = df.dropna()"
   ]
  },
  {
   "cell_type": "code",
   "execution_count": 52,
   "metadata": {},
   "outputs": [
    {
     "data": {
      "text/plain": [
       "stop_number            0.0\n",
       "race_year              0.0\n",
       "time_of_race           0.0\n",
       "race_date              0.0\n",
       "race_name              0.0\n",
       "circuitId              0.0\n",
       "round                  0.0\n",
       "statusId               0.0\n",
       "race_month             0.0\n",
       "position               0.0\n",
       "raceId                 0.0\n",
       "resultId               0.0\n",
       "qualifying_position    0.0\n",
       "constructorId          0.0\n",
       "qualifyId              0.0\n",
       "duration_of_stop       0.0\n",
       "lap                    0.0\n",
       "grid                   0.0\n",
       "race_quarter           0.0\n",
       "dtype: float64"
      ]
     },
     "execution_count": 52,
     "metadata": {},
     "output_type": "execute_result"
    }
   ],
   "source": [
    "df.isnull().mean().sort_values()"
   ]
  },
  {
   "cell_type": "code",
   "execution_count": 53,
   "metadata": {},
   "outputs": [
    {
     "data": {
      "text/html": [
       "<div>\n",
       "<style scoped>\n",
       "    .dataframe tbody tr th:only-of-type {\n",
       "        vertical-align: middle;\n",
       "    }\n",
       "\n",
       "    .dataframe tbody tr th {\n",
       "        vertical-align: top;\n",
       "    }\n",
       "\n",
       "    .dataframe thead th {\n",
       "        text-align: right;\n",
       "    }\n",
       "</style>\n",
       "<table border=\"1\" class=\"dataframe\">\n",
       "  <thead>\n",
       "    <tr style=\"text-align: right;\">\n",
       "      <th></th>\n",
       "      <th>stop_number</th>\n",
       "      <th>lap</th>\n",
       "      <th>duration_of_stop</th>\n",
       "      <th>qualifyId</th>\n",
       "      <th>constructorId</th>\n",
       "      <th>qualifying_position</th>\n",
       "      <th>resultId</th>\n",
       "      <th>raceId</th>\n",
       "      <th>grid</th>\n",
       "      <th>position</th>\n",
       "      <th>statusId</th>\n",
       "      <th>round</th>\n",
       "      <th>circuitId</th>\n",
       "      <th>race_name</th>\n",
       "      <th>race_year</th>\n",
       "      <th>race_month</th>\n",
       "      <th>race_quarter</th>\n",
       "    </tr>\n",
       "  </thead>\n",
       "  <tbody>\n",
       "    <tr>\n",
       "      <th>0</th>\n",
       "      <td>1</td>\n",
       "      <td>16</td>\n",
       "      <td>23.227</td>\n",
       "      <td>1</td>\n",
       "      <td>1</td>\n",
       "      <td>1</td>\n",
       "      <td>1</td>\n",
       "      <td>18</td>\n",
       "      <td>1</td>\n",
       "      <td>1</td>\n",
       "      <td>1</td>\n",
       "      <td>1</td>\n",
       "      <td>1</td>\n",
       "      <td>Australian Grand Prix</td>\n",
       "      <td>2008.0</td>\n",
       "      <td>3.0</td>\n",
       "      <td>1.0</td>\n",
       "    </tr>\n",
       "    <tr>\n",
       "      <th>1</th>\n",
       "      <td>1</td>\n",
       "      <td>16</td>\n",
       "      <td>23.227</td>\n",
       "      <td>26</td>\n",
       "      <td>1</td>\n",
       "      <td>4</td>\n",
       "      <td>1</td>\n",
       "      <td>18</td>\n",
       "      <td>1</td>\n",
       "      <td>1</td>\n",
       "      <td>1</td>\n",
       "      <td>1</td>\n",
       "      <td>1</td>\n",
       "      <td>Australian Grand Prix</td>\n",
       "      <td>2008.0</td>\n",
       "      <td>3.0</td>\n",
       "      <td>1.0</td>\n",
       "    </tr>\n",
       "    <tr>\n",
       "      <th>2</th>\n",
       "      <td>1</td>\n",
       "      <td>16</td>\n",
       "      <td>23.227</td>\n",
       "      <td>47</td>\n",
       "      <td>1</td>\n",
       "      <td>3</td>\n",
       "      <td>1</td>\n",
       "      <td>18</td>\n",
       "      <td>1</td>\n",
       "      <td>1</td>\n",
       "      <td>1</td>\n",
       "      <td>1</td>\n",
       "      <td>1</td>\n",
       "      <td>Australian Grand Prix</td>\n",
       "      <td>2008.0</td>\n",
       "      <td>3.0</td>\n",
       "      <td>1.0</td>\n",
       "    </tr>\n",
       "    <tr>\n",
       "      <th>3</th>\n",
       "      <td>1</td>\n",
       "      <td>16</td>\n",
       "      <td>23.227</td>\n",
       "      <td>71</td>\n",
       "      <td>1</td>\n",
       "      <td>5</td>\n",
       "      <td>1</td>\n",
       "      <td>18</td>\n",
       "      <td>1</td>\n",
       "      <td>1</td>\n",
       "      <td>1</td>\n",
       "      <td>1</td>\n",
       "      <td>1</td>\n",
       "      <td>Australian Grand Prix</td>\n",
       "      <td>2008.0</td>\n",
       "      <td>3.0</td>\n",
       "      <td>1.0</td>\n",
       "    </tr>\n",
       "    <tr>\n",
       "      <th>4</th>\n",
       "      <td>1</td>\n",
       "      <td>16</td>\n",
       "      <td>23.227</td>\n",
       "      <td>91</td>\n",
       "      <td>1</td>\n",
       "      <td>3</td>\n",
       "      <td>1</td>\n",
       "      <td>18</td>\n",
       "      <td>1</td>\n",
       "      <td>1</td>\n",
       "      <td>1</td>\n",
       "      <td>1</td>\n",
       "      <td>1</td>\n",
       "      <td>Australian Grand Prix</td>\n",
       "      <td>2008.0</td>\n",
       "      <td>3.0</td>\n",
       "      <td>1.0</td>\n",
       "    </tr>\n",
       "  </tbody>\n",
       "</table>\n",
       "</div>"
      ],
      "text/plain": [
       "   stop_number  lap  duration_of_stop  qualifyId  constructorId  \\\n",
       "0            1   16            23.227          1              1   \n",
       "1            1   16            23.227         26              1   \n",
       "2            1   16            23.227         47              1   \n",
       "3            1   16            23.227         71              1   \n",
       "4            1   16            23.227         91              1   \n",
       "\n",
       "   qualifying_position  resultId  raceId  grid position  statusId  round  \\\n",
       "0                    1         1      18     1        1         1      1   \n",
       "1                    4         1      18     1        1         1      1   \n",
       "2                    3         1      18     1        1         1      1   \n",
       "3                    5         1      18     1        1         1      1   \n",
       "4                    3         1      18     1        1         1      1   \n",
       "\n",
       "   circuitId              race_name  race_year  race_month  race_quarter  \n",
       "0          1  Australian Grand Prix     2008.0         3.0           1.0  \n",
       "1          1  Australian Grand Prix     2008.0         3.0           1.0  \n",
       "2          1  Australian Grand Prix     2008.0         3.0           1.0  \n",
       "3          1  Australian Grand Prix     2008.0         3.0           1.0  \n",
       "4          1  Australian Grand Prix     2008.0         3.0           1.0  "
      ]
     },
     "execution_count": 53,
     "metadata": {},
     "output_type": "execute_result"
    }
   ],
   "source": [
    "#Not needed\n",
    "df = df.drop(['race_date'], axis=1)\n",
    "df = df.drop(['time_of_race'], axis=1)\n",
    "\n",
    "df.head()"
   ]
  },
  {
   "cell_type": "markdown",
   "metadata": {},
   "source": [
    "### 4.3 Changing Datatypes"
   ]
  },
  {
   "cell_type": "code",
   "execution_count": 54,
   "metadata": {},
   "outputs": [],
   "source": [
    "#Convert position from object to int, convert after removing nan\n",
    "df['position'] = df['position'].astype('int')\n"
   ]
  },
  {
   "cell_type": "markdown",
   "metadata": {},
   "source": [
    "### 5.0 Train Test Split\n",
    "[Back to top](#top)"
   ]
  },
  {
   "cell_type": "code",
   "execution_count": 55,
   "metadata": {},
   "outputs": [
    {
     "data": {
      "text/plain": [
       "(600001, 17)"
      ]
     },
     "execution_count": 55,
     "metadata": {},
     "output_type": "execute_result"
    }
   ],
   "source": [
    "df.shape"
   ]
  },
  {
   "cell_type": "code",
   "execution_count": 56,
   "metadata": {},
   "outputs": [],
   "source": [
    "X_train, X_test, y_train, y_test = train_test_split(df.drop(columns=[\"position\"], axis=1),\n",
    "                                                    df[[\"position\"]],\n",
    "                                                    test_size=0.25, random_state=123)"
   ]
  },
  {
   "cell_type": "code",
   "execution_count": 57,
   "metadata": {},
   "outputs": [
    {
     "data": {
      "text/plain": [
       "((450000, 16), (150001, 16))"
      ]
     },
     "execution_count": 57,
     "metadata": {},
     "output_type": "execute_result"
    }
   ],
   "source": [
    "X_train.shape, X_test.shape"
   ]
  },
  {
   "cell_type": "code",
   "execution_count": 58,
   "metadata": {},
   "outputs": [
    {
     "data": {
      "text/plain": [
       "((450000, 1), (150001, 1))"
      ]
     },
     "execution_count": 58,
     "metadata": {},
     "output_type": "execute_result"
    }
   ],
   "source": [
    "y_train.shape, y_test.shape"
   ]
  },
  {
   "cell_type": "markdown",
   "metadata": {},
   "source": [
    "### 6.0 Categorical Data Encoding\n",
    "[Back to top](#top)"
   ]
  },
  {
   "cell_type": "code",
   "execution_count": 59,
   "metadata": {},
   "outputs": [
    {
     "data": {
      "text/plain": [
       "array(['Bahrain Grand Prix', 'Spanish Grand Prix', 'Turkish Grand Prix',\n",
       "       'Malaysian Grand Prix', 'Australian Grand Prix'], dtype=object)"
      ]
     },
     "execution_count": 59,
     "metadata": {},
     "output_type": "execute_result"
    }
   ],
   "source": [
    "X_train['race_name'].unique()"
   ]
  },
  {
   "cell_type": "code",
   "execution_count": 60,
   "metadata": {},
   "outputs": [
    {
     "data": {
      "text/html": [
       "<div>\n",
       "<style scoped>\n",
       "    .dataframe tbody tr th:only-of-type {\n",
       "        vertical-align: middle;\n",
       "    }\n",
       "\n",
       "    .dataframe tbody tr th {\n",
       "        vertical-align: top;\n",
       "    }\n",
       "\n",
       "    .dataframe thead th {\n",
       "        text-align: right;\n",
       "    }\n",
       "</style>\n",
       "<table border=\"1\" class=\"dataframe\">\n",
       "  <thead>\n",
       "    <tr style=\"text-align: right;\">\n",
       "      <th></th>\n",
       "      <th>stop_number</th>\n",
       "      <th>lap</th>\n",
       "      <th>duration_of_stop</th>\n",
       "      <th>qualifyId</th>\n",
       "      <th>constructorId</th>\n",
       "      <th>qualifying_position</th>\n",
       "      <th>resultId</th>\n",
       "      <th>raceId</th>\n",
       "      <th>grid</th>\n",
       "      <th>statusId</th>\n",
       "      <th>round</th>\n",
       "      <th>circuitId</th>\n",
       "      <th>race_name</th>\n",
       "      <th>race_year</th>\n",
       "      <th>race_month</th>\n",
       "      <th>race_quarter</th>\n",
       "    </tr>\n",
       "  </thead>\n",
       "  <tbody>\n",
       "    <tr>\n",
       "      <th>283937</th>\n",
       "      <td>2</td>\n",
       "      <td>38</td>\n",
       "      <td>24.315</td>\n",
       "      <td>8518</td>\n",
       "      <td>131</td>\n",
       "      <td>1</td>\n",
       "      <td>57</td>\n",
       "      <td>20</td>\n",
       "      <td>3</td>\n",
       "      <td>11</td>\n",
       "      <td>3</td>\n",
       "      <td>3</td>\n",
       "      <td>0</td>\n",
       "      <td>2008.0</td>\n",
       "      <td>4.0</td>\n",
       "      <td>2.0</td>\n",
       "    </tr>\n",
       "    <tr>\n",
       "      <th>262868</th>\n",
       "      <td>3</td>\n",
       "      <td>45</td>\n",
       "      <td>22.172</td>\n",
       "      <td>7620</td>\n",
       "      <td>131</td>\n",
       "      <td>1</td>\n",
       "      <td>57</td>\n",
       "      <td>20</td>\n",
       "      <td>3</td>\n",
       "      <td>11</td>\n",
       "      <td>3</td>\n",
       "      <td>3</td>\n",
       "      <td>0</td>\n",
       "      <td>2008.0</td>\n",
       "      <td>4.0</td>\n",
       "      <td>2.0</td>\n",
       "    </tr>\n",
       "    <tr>\n",
       "      <th>432225</th>\n",
       "      <td>2</td>\n",
       "      <td>43</td>\n",
       "      <td>24.088</td>\n",
       "      <td>7880</td>\n",
       "      <td>131</td>\n",
       "      <td>1</td>\n",
       "      <td>69</td>\n",
       "      <td>21</td>\n",
       "      <td>5</td>\n",
       "      <td>1</td>\n",
       "      <td>4</td>\n",
       "      <td>4</td>\n",
       "      <td>1</td>\n",
       "      <td>2008.0</td>\n",
       "      <td>4.0</td>\n",
       "      <td>2.0</td>\n",
       "    </tr>\n",
       "    <tr>\n",
       "      <th>598908</th>\n",
       "      <td>1</td>\n",
       "      <td>27</td>\n",
       "      <td>21.729</td>\n",
       "      <td>6464</td>\n",
       "      <td>131</td>\n",
       "      <td>1</td>\n",
       "      <td>90</td>\n",
       "      <td>22</td>\n",
       "      <td>3</td>\n",
       "      <td>1</td>\n",
       "      <td>5</td>\n",
       "      <td>5</td>\n",
       "      <td>2</td>\n",
       "      <td>2008.0</td>\n",
       "      <td>5.0</td>\n",
       "      <td>2.0</td>\n",
       "    </tr>\n",
       "    <tr>\n",
       "      <th>257885</th>\n",
       "      <td>5</td>\n",
       "      <td>54</td>\n",
       "      <td>21.628</td>\n",
       "      <td>5797</td>\n",
       "      <td>131</td>\n",
       "      <td>4</td>\n",
       "      <td>57</td>\n",
       "      <td>20</td>\n",
       "      <td>3</td>\n",
       "      <td>11</td>\n",
       "      <td>3</td>\n",
       "      <td>3</td>\n",
       "      <td>0</td>\n",
       "      <td>2008.0</td>\n",
       "      <td>4.0</td>\n",
       "      <td>2.0</td>\n",
       "    </tr>\n",
       "  </tbody>\n",
       "</table>\n",
       "</div>"
      ],
      "text/plain": [
       "        stop_number  lap  duration_of_stop  qualifyId  constructorId  \\\n",
       "283937            2   38            24.315       8518            131   \n",
       "262868            3   45            22.172       7620            131   \n",
       "432225            2   43            24.088       7880            131   \n",
       "598908            1   27            21.729       6464            131   \n",
       "257885            5   54            21.628       5797            131   \n",
       "\n",
       "        qualifying_position  resultId  raceId  grid  statusId  round  \\\n",
       "283937                    1        57      20     3        11      3   \n",
       "262868                    1        57      20     3        11      3   \n",
       "432225                    1        69      21     5         1      4   \n",
       "598908                    1        90      22     3         1      5   \n",
       "257885                    4        57      20     3        11      3   \n",
       "\n",
       "        circuitId  race_name  race_year  race_month  race_quarter  \n",
       "283937          3          0     2008.0         4.0           2.0  \n",
       "262868          3          0     2008.0         4.0           2.0  \n",
       "432225          4          1     2008.0         4.0           2.0  \n",
       "598908          5          2     2008.0         5.0           2.0  \n",
       "257885          3          0     2008.0         4.0           2.0  "
      ]
     },
     "execution_count": 60,
     "metadata": {},
     "output_type": "execute_result"
    }
   ],
   "source": [
    "vars_categorical = ['race_name']\n",
    "\n",
    "ordinal_enc = OrdinalEncoder(\n",
    "    encoding_method='arbitrary',\n",
    "    variables=vars_categorical)\n",
    "\n",
    "ordinal_enc.fit(X_train)\n",
    "X_train = ordinal_enc.transform(X_train)\n",
    "X_test = ordinal_enc.transform(X_test)\n",
    "X_train.head()"
   ]
  },
  {
   "cell_type": "code",
   "execution_count": 61,
   "metadata": {},
   "outputs": [
    {
     "data": {
      "text/plain": [
       "{'race_name': {'Bahrain Grand Prix': 0,\n",
       "  'Spanish Grand Prix': 1,\n",
       "  'Turkish Grand Prix': 2,\n",
       "  'Malaysian Grand Prix': 3,\n",
       "  'Australian Grand Prix': 4}}"
      ]
     },
     "execution_count": 61,
     "metadata": {},
     "output_type": "execute_result"
    }
   ],
   "source": [
    "ordinal_enc.encoder_dict_"
   ]
  },
  {
   "cell_type": "markdown",
   "metadata": {},
   "source": [
    "### 6.1 Numerical Data Transformation"
   ]
  },
  {
   "cell_type": "code",
   "execution_count": 62,
   "metadata": {},
   "outputs": [
    {
     "data": {
      "text/plain": [
       "['stop_number',\n",
       " 'lap',\n",
       " 'duration_of_stop',\n",
       " 'qualifyId',\n",
       " 'constructorId',\n",
       " 'qualifying_position',\n",
       " 'resultId',\n",
       " 'raceId',\n",
       " 'grid',\n",
       " 'statusId',\n",
       " 'round',\n",
       " 'circuitId',\n",
       " 'race_date',\n",
       " 'race_year',\n",
       " 'race_month',\n",
       " 'race_quarter']"
      ]
     },
     "execution_count": 62,
     "metadata": {},
     "output_type": "execute_result"
    }
   ],
   "source": [
    "num_cols"
   ]
  },
  {
   "cell_type": "code",
   "execution_count": 63,
   "metadata": {},
   "outputs": [
    {
     "data": {
      "text/html": [
       "<div>\n",
       "<style scoped>\n",
       "    .dataframe tbody tr th:only-of-type {\n",
       "        vertical-align: middle;\n",
       "    }\n",
       "\n",
       "    .dataframe tbody tr th {\n",
       "        vertical-align: top;\n",
       "    }\n",
       "\n",
       "    .dataframe thead th {\n",
       "        text-align: right;\n",
       "    }\n",
       "</style>\n",
       "<table border=\"1\" class=\"dataframe\">\n",
       "  <thead>\n",
       "    <tr style=\"text-align: right;\">\n",
       "      <th></th>\n",
       "      <th>stop_number</th>\n",
       "      <th>lap</th>\n",
       "      <th>duration_of_stop</th>\n",
       "      <th>qualifyId</th>\n",
       "      <th>constructorId</th>\n",
       "      <th>qualifying_position</th>\n",
       "      <th>resultId</th>\n",
       "      <th>raceId</th>\n",
       "      <th>grid</th>\n",
       "      <th>statusId</th>\n",
       "      <th>round</th>\n",
       "      <th>circuitId</th>\n",
       "      <th>race_name</th>\n",
       "      <th>race_year</th>\n",
       "      <th>race_month</th>\n",
       "      <th>race_quarter</th>\n",
       "    </tr>\n",
       "  </thead>\n",
       "  <tbody>\n",
       "    <tr>\n",
       "      <th>283937</th>\n",
       "      <td>1.231144</td>\n",
       "      <td>38</td>\n",
       "      <td>24.315</td>\n",
       "      <td>8518</td>\n",
       "      <td>131</td>\n",
       "      <td>1.000000</td>\n",
       "      <td>57</td>\n",
       "      <td>20</td>\n",
       "      <td>1.732051</td>\n",
       "      <td>11</td>\n",
       "      <td>3</td>\n",
       "      <td>3</td>\n",
       "      <td>0</td>\n",
       "      <td>2008.0</td>\n",
       "      <td>4.0</td>\n",
       "      <td>2.0</td>\n",
       "    </tr>\n",
       "    <tr>\n",
       "      <th>262868</th>\n",
       "      <td>1.390389</td>\n",
       "      <td>45</td>\n",
       "      <td>22.172</td>\n",
       "      <td>7620</td>\n",
       "      <td>131</td>\n",
       "      <td>1.000000</td>\n",
       "      <td>57</td>\n",
       "      <td>20</td>\n",
       "      <td>1.732051</td>\n",
       "      <td>11</td>\n",
       "      <td>3</td>\n",
       "      <td>3</td>\n",
       "      <td>0</td>\n",
       "      <td>2008.0</td>\n",
       "      <td>4.0</td>\n",
       "      <td>2.0</td>\n",
       "    </tr>\n",
       "    <tr>\n",
       "      <th>432225</th>\n",
       "      <td>1.231144</td>\n",
       "      <td>43</td>\n",
       "      <td>24.088</td>\n",
       "      <td>7880</td>\n",
       "      <td>131</td>\n",
       "      <td>1.000000</td>\n",
       "      <td>69</td>\n",
       "      <td>21</td>\n",
       "      <td>2.236068</td>\n",
       "      <td>1</td>\n",
       "      <td>4</td>\n",
       "      <td>4</td>\n",
       "      <td>1</td>\n",
       "      <td>2008.0</td>\n",
       "      <td>4.0</td>\n",
       "      <td>2.0</td>\n",
       "    </tr>\n",
       "    <tr>\n",
       "      <th>598908</th>\n",
       "      <td>1.000000</td>\n",
       "      <td>27</td>\n",
       "      <td>21.729</td>\n",
       "      <td>6464</td>\n",
       "      <td>131</td>\n",
       "      <td>1.000000</td>\n",
       "      <td>90</td>\n",
       "      <td>22</td>\n",
       "      <td>1.732051</td>\n",
       "      <td>1</td>\n",
       "      <td>5</td>\n",
       "      <td>5</td>\n",
       "      <td>2</td>\n",
       "      <td>2008.0</td>\n",
       "      <td>5.0</td>\n",
       "      <td>2.0</td>\n",
       "    </tr>\n",
       "    <tr>\n",
       "      <th>257885</th>\n",
       "      <td>1.620657</td>\n",
       "      <td>54</td>\n",
       "      <td>21.628</td>\n",
       "      <td>5797</td>\n",
       "      <td>131</td>\n",
       "      <td>1.741101</td>\n",
       "      <td>57</td>\n",
       "      <td>20</td>\n",
       "      <td>1.732051</td>\n",
       "      <td>11</td>\n",
       "      <td>3</td>\n",
       "      <td>3</td>\n",
       "      <td>0</td>\n",
       "      <td>2008.0</td>\n",
       "      <td>4.0</td>\n",
       "      <td>2.0</td>\n",
       "    </tr>\n",
       "  </tbody>\n",
       "</table>\n",
       "</div>"
      ],
      "text/plain": [
       "        stop_number  lap  duration_of_stop  qualifyId  constructorId  \\\n",
       "283937     1.231144   38            24.315       8518            131   \n",
       "262868     1.390389   45            22.172       7620            131   \n",
       "432225     1.231144   43            24.088       7880            131   \n",
       "598908     1.000000   27            21.729       6464            131   \n",
       "257885     1.620657   54            21.628       5797            131   \n",
       "\n",
       "        qualifying_position  resultId  raceId      grid  statusId  round  \\\n",
       "283937             1.000000        57      20  1.732051        11      3   \n",
       "262868             1.000000        57      20  1.732051        11      3   \n",
       "432225             1.000000        69      21  2.236068         1      4   \n",
       "598908             1.000000        90      22  1.732051         1      5   \n",
       "257885             1.741101        57      20  1.732051        11      3   \n",
       "\n",
       "        circuitId  race_name  race_year  race_month  race_quarter  \n",
       "283937          3          0     2008.0         4.0           2.0  \n",
       "262868          3          0     2008.0         4.0           2.0  \n",
       "432225          4          1     2008.0         4.0           2.0  \n",
       "598908          5          2     2008.0         5.0           2.0  \n",
       "257885          3          0     2008.0         4.0           2.0  "
      ]
     },
     "execution_count": 63,
     "metadata": {},
     "output_type": "execute_result"
    }
   ],
   "source": [
    "#Power transformation\n",
    "pipe = Pipeline([\n",
    "    ('power1', PowerTransformer(variables = ['stop_number'], exp=0.3)),    \n",
    "    ('power2', PowerTransformer(variables = ['qualifying_position'], exp=0.4)),\n",
    "    ('power3', PowerTransformer(variables = ['grid'], exp=0.5)),\n",
    "     ])\n",
    "\n",
    "pipe.fit(X_train)\n",
    "X_train = pipe.transform(X_train)\n",
    "X_test = pipe.transform(X_test)\n",
    "X_train.head()"
   ]
  },
  {
   "cell_type": "markdown",
   "metadata": {},
   "source": [
    "### 6.2 Variable Discretization/Binning"
   ]
  },
  {
   "cell_type": "code",
   "execution_count": 64,
   "metadata": {},
   "outputs": [
    {
     "data": {
      "text/plain": [
       "['stop_number',\n",
       " 'lap',\n",
       " 'duration_of_stop',\n",
       " 'qualifyId',\n",
       " 'constructorId',\n",
       " 'qualifying_position',\n",
       " 'resultId',\n",
       " 'raceId',\n",
       " 'grid',\n",
       " 'statusId',\n",
       " 'round',\n",
       " 'circuitId',\n",
       " 'race_date',\n",
       " 'race_year',\n",
       " 'race_month',\n",
       " 'race_quarter']"
      ]
     },
     "execution_count": 64,
     "metadata": {},
     "output_type": "execute_result"
    }
   ],
   "source": [
    "num_cols"
   ]
  },
  {
   "cell_type": "code",
   "execution_count": 65,
   "metadata": {},
   "outputs": [],
   "source": [
    "disc = EqualWidthDiscretiser(bins=20, variables = ['stop_number', 'lap', 'qualifying_position',\n",
    "                                                   'grid'])\n",
    "disc.fit(X_train)\n",
    "train_t = disc.transform(X_train)\n",
    "test_t = disc.transform(X_test)"
   ]
  },
  {
   "cell_type": "code",
   "execution_count": 66,
   "metadata": {},
   "outputs": [
    {
     "data": {
      "image/png": "[encoded data removed]",
      "text/plain": [
       "<Figure size 432x288 with 1 Axes>"
      ]
     },
     "metadata": {
      "needs_background": "light"
     },
     "output_type": "display_data"
    }
   ],
   "source": [
    "#stop_number\n",
    "t1 = train_t.groupby(['stop_number'])['stop_number'].count() / len(train_t)\n",
    "t2 = test_t.groupby(['stop_number'])['stop_number'].count() / len(test_t)\n",
    "\n",
    "tmp = pd.concat([t1, t2], axis=1)\n",
    "tmp.columns = ['train', 'test']\n",
    "tmp.plot.bar()\n",
    "plt.xticks(rotation=0)\n",
    "plt.ylabel('Number of observations per bin');"
   ]
  },
  {
   "cell_type": "code",
   "execution_count": 67,
   "metadata": {},
   "outputs": [
    {
     "data": {
      "image/png": "[encoded data removed]",
      "text/plain": [
       "<Figure size 432x288 with 1 Axes>"
      ]
     },
     "metadata": {
      "needs_background": "light"
     },
     "output_type": "display_data"
    }
   ],
   "source": [
    "#lap\n",
    "t1 = train_t.groupby(['lap'])['lap'].count() / len(train_t)\n",
    "t2 = test_t.groupby(['lap'])['lap'].count() / len(test_t)\n",
    "\n",
    "tmp = pd.concat([t1, t2], axis=1)\n",
    "tmp.columns = ['train', 'test']\n",
    "tmp.plot.bar()\n",
    "plt.xticks(rotation=0)\n",
    "plt.ylabel('Number of observations per bin');"
   ]
  },
  {
   "cell_type": "code",
   "execution_count": 68,
   "metadata": {},
   "outputs": [
    {
     "data": {
      "image/png": "[encoded data removed]",
      "text/plain": [
       "<Figure size 432x288 with 1 Axes>"
      ]
     },
     "metadata": {
      "needs_background": "light"
     },
     "output_type": "display_data"
    }
   ],
   "source": [
    "#qualifying_position\n",
    "t1 = train_t.groupby(['qualifying_position'])['qualifying_position'].count() / len(train_t)\n",
    "t2 = test_t.groupby(['qualifying_position'])['qualifying_position'].count() / len(test_t)\n",
    "\n",
    "tmp = pd.concat([t1, t2], axis=1)\n",
    "tmp.columns = ['train', 'test']\n",
    "tmp.plot.bar()\n",
    "plt.xticks(rotation=0)\n",
    "plt.ylabel('Number of observations per bin');"
   ]
  },
  {
   "cell_type": "code",
   "execution_count": 69,
   "metadata": {},
   "outputs": [
    {
     "data": {
      "image/png": "[encoded data removed]",
      "text/plain": [
       "<Figure size 432x288 with 1 Axes>"
      ]
     },
     "metadata": {
      "needs_background": "light"
     },
     "output_type": "display_data"
    }
   ],
   "source": [
    "#grid\n",
    "t1 = train_t.groupby(['grid'])['grid'].count() / len(train_t)\n",
    "t2 = test_t.groupby(['grid'])['grid'].count() / len(test_t)\n",
    "\n",
    "tmp = pd.concat([t1, t2], axis=1)\n",
    "tmp.columns = ['train', 'test']\n",
    "tmp.plot.bar()\n",
    "plt.xticks(rotation=0)\n",
    "plt.ylabel('Number of observations per bin');"
   ]
  },
  {
   "cell_type": "markdown",
   "metadata": {},
   "source": [
    "### 6.3 Feature Engineering"
   ]
  },
  {
   "cell_type": "code",
   "execution_count": 70,
   "metadata": {},
   "outputs": [
    {
     "data": {
      "text/plain": [
       "stop_number            float64\n",
       "lap                      int64\n",
       "duration_of_stop       float64\n",
       "qualifyId                int64\n",
       "constructorId            int64\n",
       "qualifying_position    float64\n",
       "resultId                 int64\n",
       "raceId                   int64\n",
       "grid                   float64\n",
       "statusId                 int64\n",
       "round                    int64\n",
       "circuitId                int64\n",
       "race_name                int64\n",
       "race_year              float64\n",
       "race_month             float64\n",
       "race_quarter           float64\n",
       "dtype: object"
      ]
     },
     "execution_count": 70,
     "metadata": {},
     "output_type": "execute_result"
    }
   ],
   "source": [
    "X_train.dtypes"
   ]
  },
  {
   "cell_type": "code",
   "execution_count": 71,
   "metadata": {},
   "outputs": [
    {
     "data": {
      "text/html": [
       "<div>\n",
       "<style scoped>\n",
       "    .dataframe tbody tr th:only-of-type {\n",
       "        vertical-align: middle;\n",
       "    }\n",
       "\n",
       "    .dataframe tbody tr th {\n",
       "        vertical-align: top;\n",
       "    }\n",
       "\n",
       "    .dataframe thead th {\n",
       "        text-align: right;\n",
       "    }\n",
       "</style>\n",
       "<table border=\"1\" class=\"dataframe\">\n",
       "  <thead>\n",
       "    <tr style=\"text-align: right;\">\n",
       "      <th></th>\n",
       "      <th>stop_number</th>\n",
       "      <th>lap</th>\n",
       "      <th>duration_of_stop</th>\n",
       "      <th>qualifyId</th>\n",
       "      <th>constructorId</th>\n",
       "      <th>qualifying_position</th>\n",
       "      <th>resultId</th>\n",
       "      <th>raceId</th>\n",
       "      <th>grid</th>\n",
       "      <th>statusId</th>\n",
       "      <th>round</th>\n",
       "      <th>circuitId</th>\n",
       "      <th>race_name</th>\n",
       "      <th>race_year</th>\n",
       "      <th>race_month</th>\n",
       "      <th>race_quarter</th>\n",
       "    </tr>\n",
       "  </thead>\n",
       "  <tbody>\n",
       "    <tr>\n",
       "      <th>283937</th>\n",
       "      <td>1.231144</td>\n",
       "      <td>38</td>\n",
       "      <td>24.315</td>\n",
       "      <td>8518</td>\n",
       "      <td>131</td>\n",
       "      <td>1.000000</td>\n",
       "      <td>57</td>\n",
       "      <td>20</td>\n",
       "      <td>1.732051</td>\n",
       "      <td>11</td>\n",
       "      <td>3</td>\n",
       "      <td>3</td>\n",
       "      <td>0</td>\n",
       "      <td>2008.0</td>\n",
       "      <td>4.0</td>\n",
       "      <td>2.0</td>\n",
       "    </tr>\n",
       "    <tr>\n",
       "      <th>262868</th>\n",
       "      <td>1.390389</td>\n",
       "      <td>45</td>\n",
       "      <td>22.172</td>\n",
       "      <td>7620</td>\n",
       "      <td>131</td>\n",
       "      <td>1.000000</td>\n",
       "      <td>57</td>\n",
       "      <td>20</td>\n",
       "      <td>1.732051</td>\n",
       "      <td>11</td>\n",
       "      <td>3</td>\n",
       "      <td>3</td>\n",
       "      <td>0</td>\n",
       "      <td>2008.0</td>\n",
       "      <td>4.0</td>\n",
       "      <td>2.0</td>\n",
       "    </tr>\n",
       "    <tr>\n",
       "      <th>432225</th>\n",
       "      <td>1.231144</td>\n",
       "      <td>43</td>\n",
       "      <td>24.088</td>\n",
       "      <td>7880</td>\n",
       "      <td>131</td>\n",
       "      <td>1.000000</td>\n",
       "      <td>69</td>\n",
       "      <td>21</td>\n",
       "      <td>2.236068</td>\n",
       "      <td>1</td>\n",
       "      <td>4</td>\n",
       "      <td>4</td>\n",
       "      <td>1</td>\n",
       "      <td>2008.0</td>\n",
       "      <td>4.0</td>\n",
       "      <td>2.0</td>\n",
       "    </tr>\n",
       "    <tr>\n",
       "      <th>598908</th>\n",
       "      <td>1.000000</td>\n",
       "      <td>27</td>\n",
       "      <td>21.729</td>\n",
       "      <td>6464</td>\n",
       "      <td>131</td>\n",
       "      <td>1.000000</td>\n",
       "      <td>90</td>\n",
       "      <td>22</td>\n",
       "      <td>1.732051</td>\n",
       "      <td>1</td>\n",
       "      <td>5</td>\n",
       "      <td>5</td>\n",
       "      <td>2</td>\n",
       "      <td>2008.0</td>\n",
       "      <td>5.0</td>\n",
       "      <td>2.0</td>\n",
       "    </tr>\n",
       "    <tr>\n",
       "      <th>257885</th>\n",
       "      <td>1.620657</td>\n",
       "      <td>54</td>\n",
       "      <td>21.628</td>\n",
       "      <td>5797</td>\n",
       "      <td>131</td>\n",
       "      <td>1.741101</td>\n",
       "      <td>57</td>\n",
       "      <td>20</td>\n",
       "      <td>1.732051</td>\n",
       "      <td>11</td>\n",
       "      <td>3</td>\n",
       "      <td>3</td>\n",
       "      <td>0</td>\n",
       "      <td>2008.0</td>\n",
       "      <td>4.0</td>\n",
       "      <td>2.0</td>\n",
       "    </tr>\n",
       "    <tr>\n",
       "      <th>...</th>\n",
       "      <td>...</td>\n",
       "      <td>...</td>\n",
       "      <td>...</td>\n",
       "      <td>...</td>\n",
       "      <td>...</td>\n",
       "      <td>...</td>\n",
       "      <td>...</td>\n",
       "      <td>...</td>\n",
       "      <td>...</td>\n",
       "      <td>...</td>\n",
       "      <td>...</td>\n",
       "      <td>...</td>\n",
       "      <td>...</td>\n",
       "      <td>...</td>\n",
       "      <td>...</td>\n",
       "      <td>...</td>\n",
       "    </tr>\n",
       "    <tr>\n",
       "      <th>194278</th>\n",
       "      <td>1.000000</td>\n",
       "      <td>25</td>\n",
       "      <td>23.633</td>\n",
       "      <td>6664</td>\n",
       "      <td>131</td>\n",
       "      <td>1.319508</td>\n",
       "      <td>27</td>\n",
       "      <td>19</td>\n",
       "      <td>3.000000</td>\n",
       "      <td>1</td>\n",
       "      <td>2</td>\n",
       "      <td>2</td>\n",
       "      <td>3</td>\n",
       "      <td>2008.0</td>\n",
       "      <td>3.0</td>\n",
       "      <td>1.0</td>\n",
       "    </tr>\n",
       "    <tr>\n",
       "      <th>192476</th>\n",
       "      <td>1.000000</td>\n",
       "      <td>14</td>\n",
       "      <td>18.650</td>\n",
       "      <td>5039</td>\n",
       "      <td>1</td>\n",
       "      <td>1.319508</td>\n",
       "      <td>27</td>\n",
       "      <td>19</td>\n",
       "      <td>3.000000</td>\n",
       "      <td>1</td>\n",
       "      <td>2</td>\n",
       "      <td>2</td>\n",
       "      <td>3</td>\n",
       "      <td>2008.0</td>\n",
       "      <td>3.0</td>\n",
       "      <td>1.0</td>\n",
       "    </tr>\n",
       "    <tr>\n",
       "      <th>17730</th>\n",
       "      <td>1.390389</td>\n",
       "      <td>38</td>\n",
       "      <td>20.177</td>\n",
       "      <td>6585</td>\n",
       "      <td>131</td>\n",
       "      <td>1.319508</td>\n",
       "      <td>1</td>\n",
       "      <td>18</td>\n",
       "      <td>1.000000</td>\n",
       "      <td>1</td>\n",
       "      <td>1</td>\n",
       "      <td>1</td>\n",
       "      <td>4</td>\n",
       "      <td>2008.0</td>\n",
       "      <td>3.0</td>\n",
       "      <td>1.0</td>\n",
       "    </tr>\n",
       "    <tr>\n",
       "      <th>28030</th>\n",
       "      <td>1.390389</td>\n",
       "      <td>30</td>\n",
       "      <td>21.549</td>\n",
       "      <td>5089</td>\n",
       "      <td>1</td>\n",
       "      <td>1.741101</td>\n",
       "      <td>1</td>\n",
       "      <td>18</td>\n",
       "      <td>1.000000</td>\n",
       "      <td>1</td>\n",
       "      <td>1</td>\n",
       "      <td>1</td>\n",
       "      <td>4</td>\n",
       "      <td>2008.0</td>\n",
       "      <td>3.0</td>\n",
       "      <td>1.0</td>\n",
       "    </tr>\n",
       "    <tr>\n",
       "      <th>277869</th>\n",
       "      <td>1.000000</td>\n",
       "      <td>10</td>\n",
       "      <td>22.072</td>\n",
       "      <td>8119</td>\n",
       "      <td>131</td>\n",
       "      <td>1.319508</td>\n",
       "      <td>57</td>\n",
       "      <td>20</td>\n",
       "      <td>1.732051</td>\n",
       "      <td>11</td>\n",
       "      <td>3</td>\n",
       "      <td>3</td>\n",
       "      <td>0</td>\n",
       "      <td>2008.0</td>\n",
       "      <td>4.0</td>\n",
       "      <td>2.0</td>\n",
       "    </tr>\n",
       "  </tbody>\n",
       "</table>\n",
       "<p>450000 rows × 16 columns</p>\n",
       "</div>"
      ],
      "text/plain": [
       "        stop_number  lap  duration_of_stop  qualifyId  constructorId  \\\n",
       "283937     1.231144   38            24.315       8518            131   \n",
       "262868     1.390389   45            22.172       7620            131   \n",
       "432225     1.231144   43            24.088       7880            131   \n",
       "598908     1.000000   27            21.729       6464            131   \n",
       "257885     1.620657   54            21.628       5797            131   \n",
       "...             ...  ...               ...        ...            ...   \n",
       "194278     1.000000   25            23.633       6664            131   \n",
       "192476     1.000000   14            18.650       5039              1   \n",
       "17730      1.390389   38            20.177       6585            131   \n",
       "28030      1.390389   30            21.549       5089              1   \n",
       "277869     1.000000   10            22.072       8119            131   \n",
       "\n",
       "        qualifying_position  resultId  raceId      grid  statusId  round  \\\n",
       "283937             1.000000        57      20  1.732051        11      3   \n",
       "262868             1.000000        57      20  1.732051        11      3   \n",
       "432225             1.000000        69      21  2.236068         1      4   \n",
       "598908             1.000000        90      22  1.732051         1      5   \n",
       "257885             1.741101        57      20  1.732051        11      3   \n",
       "...                     ...       ...     ...       ...       ...    ...   \n",
       "194278             1.319508        27      19  3.000000         1      2   \n",
       "192476             1.319508        27      19  3.000000         1      2   \n",
       "17730              1.319508         1      18  1.000000         1      1   \n",
       "28030              1.741101         1      18  1.000000         1      1   \n",
       "277869             1.319508        57      20  1.732051        11      3   \n",
       "\n",
       "        circuitId  race_name  race_year  race_month  race_quarter  \n",
       "283937          3          0     2008.0         4.0           2.0  \n",
       "262868          3          0     2008.0         4.0           2.0  \n",
       "432225          4          1     2008.0         4.0           2.0  \n",
       "598908          5          2     2008.0         5.0           2.0  \n",
       "257885          3          0     2008.0         4.0           2.0  \n",
       "...           ...        ...        ...         ...           ...  \n",
       "194278          2          3     2008.0         3.0           1.0  \n",
       "192476          2          3     2008.0         3.0           1.0  \n",
       "17730           1          4     2008.0         3.0           1.0  \n",
       "28030           1          4     2008.0         3.0           1.0  \n",
       "277869          3          0     2008.0         4.0           2.0  \n",
       "\n",
       "[450000 rows x 16 columns]"
      ]
     },
     "execution_count": 71,
     "metadata": {},
     "output_type": "execute_result"
    }
   ],
   "source": [
    "X_train #Delete once done"
   ]
  },
  {
   "cell_type": "code",
   "execution_count": 72,
   "metadata": {},
   "outputs": [],
   "source": [
    "scaler = MaxAbsScaler()\n",
    "\n",
    "scaler.fit(X_train)\n",
    "\n",
    "X_train_scaled = scaler.transform(X_train)\n",
    "X_test_scaled = scaler.transform(X_test)\n",
    "\n",
    "#Convert to DataFrame\n",
    "X_train_scaled = pd.DataFrame(X_train_scaled, columns=X_train.columns)\n",
    "X_test_scaled = pd.DataFrame(X_test_scaled, columns=X_test.columns)\n"
   ]
  },
  {
   "cell_type": "code",
   "execution_count": 73,
   "metadata": {},
   "outputs": [
    {
     "data": {
      "text/plain": [
       "array([1.71176986e+00, 7.00000000e+01, 2.04837600e+03, 9.15700000e+03,\n",
       "       1.31000000e+02, 3.44325409e+00, 9.00000000e+01, 2.20000000e+01,\n",
       "       3.00000000e+00, 1.10000000e+01, 5.00000000e+00, 5.00000000e+00,\n",
       "       4.00000000e+00, 2.00800000e+03, 5.00000000e+00, 2.00000000e+00])"
      ]
     },
     "execution_count": 73,
     "metadata": {},
     "output_type": "execute_result"
    }
   ],
   "source": [
    "scaler.max_abs_"
   ]
  },
  {
   "cell_type": "code",
   "execution_count": 74,
   "metadata": {},
   "outputs": [
    {
     "data": {
      "image/png": "[encoded data removed]",
      "text/plain": [
       "<Figure size 864x360 with 2 Axes>"
      ]
     },
     "metadata": {
      "needs_background": "light"
     },
     "output_type": "display_data"
    }
   ],
   "source": [
    "# Setting the subplots\n",
    "fig, (ax1, ax2) = plt.subplots(ncols=2, figsize=(12, 5))\n",
    "\n",
    "# before scaling\n",
    "ax1.set_title('Before Scaling')\n",
    "sns.kdeplot(X_train['stop_number'], ax=ax1, label ='stop_number')\n",
    "sns.kdeplot(X_train['lap'], ax=ax1, label ='lap')\n",
    "sns.kdeplot(X_train['qualifying_position'], ax=ax1, label ='qualifying_position')\n",
    "sns.kdeplot(X_train['grid'], ax=ax1, label ='grid')\n",
    "sns.kdeplot(X_train['round'], ax=ax1, label ='round')\n",
    "ax1.legend()\n",
    "\n",
    "# after scaling\n",
    "ax2.set_title('After Scaling')\n",
    "sns.kdeplot(X_train_scaled['stop_number'], ax=ax2, label ='stop_number')\n",
    "sns.kdeplot(X_train_scaled['lap'], ax=ax2, label ='lap')\n",
    "sns.kdeplot(X_train_scaled['qualifying_position'], ax=ax2, label ='qualifying_position')\n",
    "sns.kdeplot(X_train['grid'], ax=ax2, label ='grid')\n",
    "sns.kdeplot(X_train['round'], ax=ax2, label ='round')\n",
    "ax2.legend()\n",
    "plt.show()"
   ]
  },
  {
   "cell_type": "markdown",
   "metadata": {},
   "source": [
    "## 7.0 Machine Learning Modelling\n",
    "[Back to top](#top)"
   ]
  },
  {
   "cell_type": "code",
   "execution_count": 75,
   "metadata": {},
   "outputs": [
    {
     "data": {
      "text/html": [
       "<div>\n",
       "<style scoped>\n",
       "    .dataframe tbody tr th:only-of-type {\n",
       "        vertical-align: middle;\n",
       "    }\n",
       "\n",
       "    .dataframe tbody tr th {\n",
       "        vertical-align: top;\n",
       "    }\n",
       "\n",
       "    .dataframe thead th {\n",
       "        text-align: right;\n",
       "    }\n",
       "</style>\n",
       "<table border=\"1\" class=\"dataframe\">\n",
       "  <thead>\n",
       "    <tr style=\"text-align: right;\">\n",
       "      <th></th>\n",
       "      <th>stop_number</th>\n",
       "      <th>lap</th>\n",
       "      <th>duration_of_stop</th>\n",
       "      <th>qualifyId</th>\n",
       "      <th>constructorId</th>\n",
       "      <th>qualifying_position</th>\n",
       "      <th>resultId</th>\n",
       "      <th>raceId</th>\n",
       "      <th>grid</th>\n",
       "      <th>statusId</th>\n",
       "      <th>round</th>\n",
       "      <th>circuitId</th>\n",
       "      <th>race_name</th>\n",
       "      <th>race_year</th>\n",
       "      <th>race_month</th>\n",
       "      <th>race_quarter</th>\n",
       "    </tr>\n",
       "  </thead>\n",
       "  <tbody>\n",
       "    <tr>\n",
       "      <th>0</th>\n",
       "      <td>0.719223</td>\n",
       "      <td>0.542857</td>\n",
       "      <td>0.011870</td>\n",
       "      <td>0.930217</td>\n",
       "      <td>1.000000</td>\n",
       "      <td>0.290423</td>\n",
       "      <td>0.633333</td>\n",
       "      <td>0.909091</td>\n",
       "      <td>0.577350</td>\n",
       "      <td>1.000000</td>\n",
       "      <td>0.6</td>\n",
       "      <td>0.6</td>\n",
       "      <td>0.00</td>\n",
       "      <td>1.0</td>\n",
       "      <td>0.8</td>\n",
       "      <td>1.0</td>\n",
       "    </tr>\n",
       "    <tr>\n",
       "      <th>1</th>\n",
       "      <td>0.812252</td>\n",
       "      <td>0.642857</td>\n",
       "      <td>0.010824</td>\n",
       "      <td>0.832150</td>\n",
       "      <td>1.000000</td>\n",
       "      <td>0.290423</td>\n",
       "      <td>0.633333</td>\n",
       "      <td>0.909091</td>\n",
       "      <td>0.577350</td>\n",
       "      <td>1.000000</td>\n",
       "      <td>0.6</td>\n",
       "      <td>0.6</td>\n",
       "      <td>0.00</td>\n",
       "      <td>1.0</td>\n",
       "      <td>0.8</td>\n",
       "      <td>1.0</td>\n",
       "    </tr>\n",
       "    <tr>\n",
       "      <th>2</th>\n",
       "      <td>0.719223</td>\n",
       "      <td>0.614286</td>\n",
       "      <td>0.011760</td>\n",
       "      <td>0.860544</td>\n",
       "      <td>1.000000</td>\n",
       "      <td>0.290423</td>\n",
       "      <td>0.766667</td>\n",
       "      <td>0.954545</td>\n",
       "      <td>0.745356</td>\n",
       "      <td>0.090909</td>\n",
       "      <td>0.8</td>\n",
       "      <td>0.8</td>\n",
       "      <td>0.25</td>\n",
       "      <td>1.0</td>\n",
       "      <td>0.8</td>\n",
       "      <td>1.0</td>\n",
       "    </tr>\n",
       "    <tr>\n",
       "      <th>3</th>\n",
       "      <td>0.584191</td>\n",
       "      <td>0.385714</td>\n",
       "      <td>0.010608</td>\n",
       "      <td>0.705908</td>\n",
       "      <td>1.000000</td>\n",
       "      <td>0.290423</td>\n",
       "      <td>1.000000</td>\n",
       "      <td>1.000000</td>\n",
       "      <td>0.577350</td>\n",
       "      <td>0.090909</td>\n",
       "      <td>1.0</td>\n",
       "      <td>1.0</td>\n",
       "      <td>0.50</td>\n",
       "      <td>1.0</td>\n",
       "      <td>1.0</td>\n",
       "      <td>1.0</td>\n",
       "    </tr>\n",
       "    <tr>\n",
       "      <th>4</th>\n",
       "      <td>0.946772</td>\n",
       "      <td>0.771429</td>\n",
       "      <td>0.010559</td>\n",
       "      <td>0.633068</td>\n",
       "      <td>1.000000</td>\n",
       "      <td>0.505656</td>\n",
       "      <td>0.633333</td>\n",
       "      <td>0.909091</td>\n",
       "      <td>0.577350</td>\n",
       "      <td>1.000000</td>\n",
       "      <td>0.6</td>\n",
       "      <td>0.6</td>\n",
       "      <td>0.00</td>\n",
       "      <td>1.0</td>\n",
       "      <td>0.8</td>\n",
       "      <td>1.0</td>\n",
       "    </tr>\n",
       "    <tr>\n",
       "      <th>...</th>\n",
       "      <td>...</td>\n",
       "      <td>...</td>\n",
       "      <td>...</td>\n",
       "      <td>...</td>\n",
       "      <td>...</td>\n",
       "      <td>...</td>\n",
       "      <td>...</td>\n",
       "      <td>...</td>\n",
       "      <td>...</td>\n",
       "      <td>...</td>\n",
       "      <td>...</td>\n",
       "      <td>...</td>\n",
       "      <td>...</td>\n",
       "      <td>...</td>\n",
       "      <td>...</td>\n",
       "      <td>...</td>\n",
       "    </tr>\n",
       "    <tr>\n",
       "      <th>449995</th>\n",
       "      <td>0.584191</td>\n",
       "      <td>0.357143</td>\n",
       "      <td>0.011537</td>\n",
       "      <td>0.727749</td>\n",
       "      <td>1.000000</td>\n",
       "      <td>0.383215</td>\n",
       "      <td>0.300000</td>\n",
       "      <td>0.863636</td>\n",
       "      <td>1.000000</td>\n",
       "      <td>0.090909</td>\n",
       "      <td>0.4</td>\n",
       "      <td>0.4</td>\n",
       "      <td>0.75</td>\n",
       "      <td>1.0</td>\n",
       "      <td>0.6</td>\n",
       "      <td>0.5</td>\n",
       "    </tr>\n",
       "    <tr>\n",
       "      <th>449996</th>\n",
       "      <td>0.584191</td>\n",
       "      <td>0.200000</td>\n",
       "      <td>0.009105</td>\n",
       "      <td>0.550289</td>\n",
       "      <td>0.007634</td>\n",
       "      <td>0.383215</td>\n",
       "      <td>0.300000</td>\n",
       "      <td>0.863636</td>\n",
       "      <td>1.000000</td>\n",
       "      <td>0.090909</td>\n",
       "      <td>0.4</td>\n",
       "      <td>0.4</td>\n",
       "      <td>0.75</td>\n",
       "      <td>1.0</td>\n",
       "      <td>0.6</td>\n",
       "      <td>0.5</td>\n",
       "    </tr>\n",
       "    <tr>\n",
       "      <th>449997</th>\n",
       "      <td>0.812252</td>\n",
       "      <td>0.542857</td>\n",
       "      <td>0.009850</td>\n",
       "      <td>0.719122</td>\n",
       "      <td>1.000000</td>\n",
       "      <td>0.383215</td>\n",
       "      <td>0.011111</td>\n",
       "      <td>0.818182</td>\n",
       "      <td>0.333333</td>\n",
       "      <td>0.090909</td>\n",
       "      <td>0.2</td>\n",
       "      <td>0.2</td>\n",
       "      <td>1.00</td>\n",
       "      <td>1.0</td>\n",
       "      <td>0.6</td>\n",
       "      <td>0.5</td>\n",
       "    </tr>\n",
       "    <tr>\n",
       "      <th>449998</th>\n",
       "      <td>0.812252</td>\n",
       "      <td>0.428571</td>\n",
       "      <td>0.010520</td>\n",
       "      <td>0.555750</td>\n",
       "      <td>0.007634</td>\n",
       "      <td>0.505656</td>\n",
       "      <td>0.011111</td>\n",
       "      <td>0.818182</td>\n",
       "      <td>0.333333</td>\n",
       "      <td>0.090909</td>\n",
       "      <td>0.2</td>\n",
       "      <td>0.2</td>\n",
       "      <td>1.00</td>\n",
       "      <td>1.0</td>\n",
       "      <td>0.6</td>\n",
       "      <td>0.5</td>\n",
       "    </tr>\n",
       "    <tr>\n",
       "      <th>449999</th>\n",
       "      <td>0.584191</td>\n",
       "      <td>0.142857</td>\n",
       "      <td>0.010775</td>\n",
       "      <td>0.886644</td>\n",
       "      <td>1.000000</td>\n",
       "      <td>0.383215</td>\n",
       "      <td>0.633333</td>\n",
       "      <td>0.909091</td>\n",
       "      <td>0.577350</td>\n",
       "      <td>1.000000</td>\n",
       "      <td>0.6</td>\n",
       "      <td>0.6</td>\n",
       "      <td>0.00</td>\n",
       "      <td>1.0</td>\n",
       "      <td>0.8</td>\n",
       "      <td>1.0</td>\n",
       "    </tr>\n",
       "  </tbody>\n",
       "</table>\n",
       "<p>450000 rows × 16 columns</p>\n",
       "</div>"
      ],
      "text/plain": [
       "        stop_number       lap  duration_of_stop  qualifyId  constructorId  \\\n",
       "0          0.719223  0.542857          0.011870   0.930217       1.000000   \n",
       "1          0.812252  0.642857          0.010824   0.832150       1.000000   \n",
       "2          0.719223  0.614286          0.011760   0.860544       1.000000   \n",
       "3          0.584191  0.385714          0.010608   0.705908       1.000000   \n",
       "4          0.946772  0.771429          0.010559   0.633068       1.000000   \n",
       "...             ...       ...               ...        ...            ...   \n",
       "449995     0.584191  0.357143          0.011537   0.727749       1.000000   \n",
       "449996     0.584191  0.200000          0.009105   0.550289       0.007634   \n",
       "449997     0.812252  0.542857          0.009850   0.719122       1.000000   \n",
       "449998     0.812252  0.428571          0.010520   0.555750       0.007634   \n",
       "449999     0.584191  0.142857          0.010775   0.886644       1.000000   \n",
       "\n",
       "        qualifying_position  resultId    raceId      grid  statusId  round  \\\n",
       "0                  0.290423  0.633333  0.909091  0.577350  1.000000    0.6   \n",
       "1                  0.290423  0.633333  0.909091  0.577350  1.000000    0.6   \n",
       "2                  0.290423  0.766667  0.954545  0.745356  0.090909    0.8   \n",
       "3                  0.290423  1.000000  1.000000  0.577350  0.090909    1.0   \n",
       "4                  0.505656  0.633333  0.909091  0.577350  1.000000    0.6   \n",
       "...                     ...       ...       ...       ...       ...    ...   \n",
       "449995             0.383215  0.300000  0.863636  1.000000  0.090909    0.4   \n",
       "449996             0.383215  0.300000  0.863636  1.000000  0.090909    0.4   \n",
       "449997             0.383215  0.011111  0.818182  0.333333  0.090909    0.2   \n",
       "449998             0.505656  0.011111  0.818182  0.333333  0.090909    0.2   \n",
       "449999             0.383215  0.633333  0.909091  0.577350  1.000000    0.6   \n",
       "\n",
       "        circuitId  race_name  race_year  race_month  race_quarter  \n",
       "0             0.6       0.00        1.0         0.8           1.0  \n",
       "1             0.6       0.00        1.0         0.8           1.0  \n",
       "2             0.8       0.25        1.0         0.8           1.0  \n",
       "3             1.0       0.50        1.0         1.0           1.0  \n",
       "4             0.6       0.00        1.0         0.8           1.0  \n",
       "...           ...        ...        ...         ...           ...  \n",
       "449995        0.4       0.75        1.0         0.6           0.5  \n",
       "449996        0.4       0.75        1.0         0.6           0.5  \n",
       "449997        0.2       1.00        1.0         0.6           0.5  \n",
       "449998        0.2       1.00        1.0         0.6           0.5  \n",
       "449999        0.6       0.00        1.0         0.8           1.0  \n",
       "\n",
       "[450000 rows x 16 columns]"
      ]
     },
     "execution_count": 75,
     "metadata": {},
     "output_type": "execute_result"
    }
   ],
   "source": [
    "X_train_scaled"
   ]
  },
  {
   "cell_type": "code",
   "execution_count": 76,
   "metadata": {},
   "outputs": [
    {
     "data": {
      "text/plain": [
       "stop_number            float64\n",
       "lap                      int64\n",
       "duration_of_stop       float64\n",
       "qualifyId                int64\n",
       "constructorId            int64\n",
       "qualifying_position    float64\n",
       "resultId                 int64\n",
       "raceId                   int64\n",
       "grid                   float64\n",
       "statusId                 int64\n",
       "round                    int64\n",
       "circuitId                int64\n",
       "race_name                int64\n",
       "race_year              float64\n",
       "race_month             float64\n",
       "race_quarter           float64\n",
       "dtype: object"
      ]
     },
     "execution_count": 76,
     "metadata": {},
     "output_type": "execute_result"
    }
   ],
   "source": [
    "X_train.dtypes #All should be int/float"
   ]
  },
  {
   "cell_type": "code",
   "execution_count": 77,
   "metadata": {},
   "outputs": [],
   "source": [
    "#Ensuring we get the final X and Y train/test values\n",
    "X_train_final = X_train_scaled\n",
    "X_test_final = X_test_scaled\n",
    "\n",
    "y_train_final = y_train\n",
    "y_test_final = y_test"
   ]
  },
  {
   "cell_type": "markdown",
   "metadata": {},
   "source": [
    "### 7.1 Number of Rows and Columns "
   ]
  },
  {
   "cell_type": "code",
   "execution_count": 78,
   "metadata": {},
   "outputs": [
    {
     "data": {
      "text/plain": [
       "(450000, 16)"
      ]
     },
     "execution_count": 78,
     "metadata": {},
     "output_type": "execute_result"
    }
   ],
   "source": [
    "X_train_final.shape"
   ]
  },
  {
   "cell_type": "code",
   "execution_count": 79,
   "metadata": {},
   "outputs": [
    {
     "data": {
      "text/plain": [
       "(150001, 16)"
      ]
     },
     "execution_count": 79,
     "metadata": {},
     "output_type": "execute_result"
    }
   ],
   "source": [
    "X_test_final.shape"
   ]
  },
  {
   "cell_type": "code",
   "execution_count": 80,
   "metadata": {},
   "outputs": [
    {
     "data": {
      "text/plain": [
       "(450000, 1)"
      ]
     },
     "execution_count": 80,
     "metadata": {},
     "output_type": "execute_result"
    }
   ],
   "source": [
    "y_train_final.shape"
   ]
  },
  {
   "cell_type": "code",
   "execution_count": 81,
   "metadata": {},
   "outputs": [
    {
     "data": {
      "text/plain": [
       "(150001, 1)"
      ]
     },
     "execution_count": 81,
     "metadata": {},
     "output_type": "execute_result"
    }
   ],
   "source": [
    "y_test_final.shape"
   ]
  },
  {
   "cell_type": "markdown",
   "metadata": {},
   "source": [
    "### 7.2 Naive Baseline Model"
   ]
  },
  {
   "cell_type": "markdown",
   "metadata": {},
   "source": [
    "This is a regression model as it is used when the output variable is a real or continuous value like \"age\", \"salary\", etc"
   ]
  },
  {
   "cell_type": "code",
   "execution_count": 82,
   "metadata": {},
   "outputs": [
    {
     "data": {
      "text/plain": [
       "position    4.898484\n",
       "dtype: float64"
      ]
     },
     "execution_count": 82,
     "metadata": {},
     "output_type": "execute_result"
    }
   ],
   "source": [
    "y_train.mean()"
   ]
  },
  {
   "cell_type": "code",
   "execution_count": 83,
   "metadata": {},
   "outputs": [
    {
     "name": "stdout",
     "output_type": "stream",
     "text": [
      "position    4.898484\n",
      "dtype: float64\n"
     ]
    }
   ],
   "source": [
    "print(y_train_final.mean())\n",
    "\n",
    "mean_target_value = y_train.mean()\n"
   ]
  },
  {
   "cell_type": "code",
   "execution_count": 84,
   "metadata": {},
   "outputs": [
    {
     "data": {
      "text/plain": [
       "[position    4.9\n",
       " dtype: float64,\n",
       " position    4.9\n",
       " dtype: float64,\n",
       " position    4.9\n",
       " dtype: float64,\n",
       " position    4.9\n",
       " dtype: float64,\n",
       " position    4.9\n",
       " dtype: float64]"
      ]
     },
     "execution_count": 84,
     "metadata": {},
     "output_type": "execute_result"
    }
   ],
   "source": [
    "#y_train naive baseline\n",
    "y_train_preds_naive = [round(mean_target_value,2) for row in X_train_final.iloc[:,0]]\n",
    "y_train_preds_naive[0:5]"
   ]
  },
  {
   "cell_type": "code",
   "execution_count": 85,
   "metadata": {},
   "outputs": [
    {
     "data": {
      "text/plain": [
       "[position    4.9\n",
       " dtype: float64,\n",
       " position    4.9\n",
       " dtype: float64,\n",
       " position    4.9\n",
       " dtype: float64,\n",
       " position    4.9\n",
       " dtype: float64,\n",
       " position    4.9\n",
       " dtype: float64]"
      ]
     },
     "execution_count": 85,
     "metadata": {},
     "output_type": "execute_result"
    }
   ],
   "source": [
    "#y_test naive baseline\n",
    "y_test_preds_naive = [round(mean_target_value,2) for row in X_test_final.iloc[:,0]]\n",
    "y_test_preds_naive[0:5]"
   ]
  },
  {
   "cell_type": "code",
   "execution_count": 86,
   "metadata": {},
   "outputs": [
    {
     "name": "stdout",
     "output_type": "stream",
     "text": [
      "The Naive Baseline Model's MSE on train data is 18.93.\n",
      "The Naive Baseline Model's MSE on test data is 18.90.\n",
      "\n",
      "The Naive Baseline Model's RMSE on train data is 4.35.\n",
      "The Naive Baseline Model's RMSE on test data is 4.35.\n",
      "\n",
      "The Naive Baseline Model's R2 on train data is -0.00.\n",
      "The Naive Baseline Model's R2 on test data is -0.00.\n"
     ]
    }
   ],
   "source": [
    "# Mean Squared Error (the lower the better, 0 is best possible score)\n",
    "\n",
    "# train MSE score\n",
    "y_true = y_train_final\n",
    "y_pred = y_train_preds_naive\n",
    "\n",
    "train_mse_naive = mean_squared_error(y_true, y_pred)\n",
    "print(f\"The Naive Baseline Model's MSE on train data is {train_mse_naive:.2f}.\")\n",
    "\n",
    "# test MSE score\n",
    "y_true = y_test_final\n",
    "y_pred = y_test_preds_naive\n",
    "\n",
    "test_mse_naive = mean_squared_error(y_true, y_pred)\n",
    "print(f\"The Naive Baseline Model's MSE on test data is {test_mse_naive:.2f}.\")\n",
    "\n",
    "print()\n",
    "\n",
    "# Root Mean Squared Error (if MSE < 1, rooting it makes it numerically larger, vice-versa if MSE > 1)\n",
    "\n",
    "# train RMSE score\n",
    "y_true = y_train_final\n",
    "y_pred = y_train_preds_naive\n",
    "\n",
    "train_rmse_naive = mean_squared_error(y_true, y_pred, squared=False) #False so it is RMSE, if true is MSE\n",
    "print(f\"The Naive Baseline Model's RMSE on train data is {train_rmse_naive:.2f}.\")\n",
    "\n",
    "# test RMSE score\n",
    "y_true = y_test_final\n",
    "y_pred = y_test_preds_naive\n",
    "\n",
    "test_rmse_naive = mean_squared_error(y_true, y_pred, squared=False)\n",
    "print(f\"The Naive Baseline Model's RMSE on test data is {test_rmse_naive:.2f}.\")\n",
    "\n",
    "print()\n",
    "\n",
    "# R2 Value (Coefficient of Determination, which measures how well the X cols account for y's variance, 1.0 is best score)\n",
    "\n",
    "# train R2 score\n",
    "y_true = y_train_final\n",
    "y_pred = y_train_preds_naive\n",
    "\n",
    "train_r2_naive = r2_score(y_true, y_pred)\n",
    "print(f\"The Naive Baseline Model's R2 on train data is {train_r2_naive:.2f}.\")\n",
    "\n",
    "# test R2 score\n",
    "y_true = y_test_final\n",
    "y_pred = y_test_preds_naive\n",
    "\n",
    "test_r2_naive = r2_score(y_true, y_pred)\n",
    "print(f\"The Naive Baseline Model's R2 on test data is {test_r2_naive:.2f}.\")\n"
   ]
  },
  {
   "cell_type": "markdown",
   "metadata": {},
   "source": [
    "### 7.3 Linear Regression Modelling"
   ]
  },
  {
   "cell_type": "code",
   "execution_count": 87,
   "metadata": {},
   "outputs": [],
   "source": [
    "linreg = LinearRegression().fit(X_train_final, y_train_final)"
   ]
  },
  {
   "cell_type": "code",
   "execution_count": 88,
   "metadata": {},
   "outputs": [],
   "source": [
    "y_train_preds_linreg = linreg.predict(X_train_final)\n",
    "y_test_preds_linreg = linreg.predict(X_test_final)"
   ]
  },
  {
   "cell_type": "code",
   "execution_count": 89,
   "metadata": {},
   "outputs": [
    {
     "name": "stdout",
     "output_type": "stream",
     "text": [
      "The LinReg Model's MSE on train data is 0.0000.\n",
      "The LinReg Model's MSE on test data is 0.0000.\n",
      "\n",
      "The LinReg Model's RMSE on train data is 0.0000.\n",
      "The LinReg Model's RMSE on test data is 0.0000.\n",
      "\n",
      "The LinReg Model's R2 on train data is 1.0000.\n",
      "The LinReg Model's R2 on test data is 1.0000.\n"
     ]
    }
   ],
   "source": [
    "# Mean Squared Error (the lower the better, 0 is best possible score)\n",
    "\n",
    "# train MSE score\n",
    "y_true = y_train_final\n",
    "y_pred = y_train_preds_linreg\n",
    "\n",
    "train_mse_linreg = mean_squared_error(y_true, y_pred)\n",
    "print(f\"The LinReg Model's MSE on train data is {train_mse_linreg:.4f}.\")\n",
    "\n",
    "# test MSE score\n",
    "y_true = y_test_final\n",
    "y_pred = y_test_preds_linreg\n",
    "\n",
    "test_mse_linreg = mean_squared_error(y_true, y_pred)\n",
    "print(f\"The LinReg Model's MSE on test data is {test_mse_linreg:.4f}.\")\n",
    "\n",
    "print()\n",
    "\n",
    "# Root Mean Squared Error (if MSE < 1, rooting it makes it numerically larger, vice-versa if MSE > 1)\n",
    "\n",
    "# train RMSE score\n",
    "y_true = y_train_final\n",
    "y_pred = y_train_preds_linreg\n",
    "\n",
    "train_rmse_linreg = mean_squared_error(y_true, y_pred, squared=False)\n",
    "print(f\"The LinReg Model's RMSE on train data is {train_rmse_linreg:.4f}.\")\n",
    "\n",
    "# test RMSE score\n",
    "y_true = y_test_final\n",
    "y_pred = y_test_preds_linreg\n",
    "\n",
    "test_rmse_linreg = mean_squared_error(y_true, y_pred, squared=False)\n",
    "print(f\"The LinReg Model's RMSE on test data is {test_rmse_linreg:.4f}.\")\n",
    "\n",
    "print()\n",
    "\n",
    "# R2 Value (Coefficient of Determination, which measures how well the X cols account for y's variance, 1.0 is best score)\n",
    "\n",
    "# train R2 score\n",
    "y_true = y_train_final\n",
    "y_pred = y_train_preds_linreg\n",
    "\n",
    "train_r2_linreg = r2_score(y_true, y_pred)\n",
    "print(f\"The LinReg Model's R2 on train data is {train_r2_linreg:.4f}.\")\n",
    "\n",
    "# test R2 score\n",
    "y_true = y_test_final\n",
    "y_pred = y_test_preds_linreg\n",
    "\n",
    "test_r2_linreg = r2_score(y_true, y_pred)\n",
    "print(f\"The LinReg Model's R2 on test data is {test_r2_linreg:.4f}.\")\n"
   ]
  },
  {
   "cell_type": "markdown",
   "metadata": {},
   "source": [
    "### 7.4 Feature Importance"
   ]
  },
  {
   "cell_type": "code",
   "execution_count": 90,
   "metadata": {},
   "outputs": [
    {
     "data": {
      "text/plain": [
       "array([[-3.69124637e-14,  6.04422513e-15,  1.25010363e-14,\n",
       "         2.74435115e-15,  5.78713825e-16, -9.53538646e-15,\n",
       "        -2.22383091e+01, -1.04750564e+01,  6.77679415e+00,\n",
       "         1.73311934e+01,  1.80512670e+01,  1.80512670e+01,\n",
       "         3.35132082e+00,  0.00000000e+00, -1.12735953e+01,\n",
       "         1.09038274e+00]])"
      ]
     },
     "execution_count": 90,
     "metadata": {},
     "output_type": "execute_result"
    }
   ],
   "source": [
    "# get importance\n",
    "linreg_importance = linreg.coef_\n",
    "linreg_importance"
   ]
  },
  {
   "cell_type": "code",
   "execution_count": 91,
   "metadata": {},
   "outputs": [
    {
     "data": {
      "text/html": [
       "<div>\n",
       "<style scoped>\n",
       "    .dataframe tbody tr th:only-of-type {\n",
       "        vertical-align: middle;\n",
       "    }\n",
       "\n",
       "    .dataframe tbody tr th {\n",
       "        vertical-align: top;\n",
       "    }\n",
       "\n",
       "    .dataframe thead th {\n",
       "        text-align: right;\n",
       "    }\n",
       "</style>\n",
       "<table border=\"1\" class=\"dataframe\">\n",
       "  <thead>\n",
       "    <tr style=\"text-align: right;\">\n",
       "      <th></th>\n",
       "      <th>feature</th>\n",
       "      <th>importance</th>\n",
       "    </tr>\n",
       "  </thead>\n",
       "  <tbody>\n",
       "    <tr>\n",
       "      <th>0</th>\n",
       "      <td>stop_number</td>\n",
       "      <td>-3.691246e-14</td>\n",
       "    </tr>\n",
       "    <tr>\n",
       "      <th>1</th>\n",
       "      <td>lap</td>\n",
       "      <td>6.044225e-15</td>\n",
       "    </tr>\n",
       "    <tr>\n",
       "      <th>2</th>\n",
       "      <td>duration_of_stop</td>\n",
       "      <td>1.250104e-14</td>\n",
       "    </tr>\n",
       "    <tr>\n",
       "      <th>3</th>\n",
       "      <td>qualifyId</td>\n",
       "      <td>2.744351e-15</td>\n",
       "    </tr>\n",
       "    <tr>\n",
       "      <th>4</th>\n",
       "      <td>constructorId</td>\n",
       "      <td>5.787138e-16</td>\n",
       "    </tr>\n",
       "    <tr>\n",
       "      <th>5</th>\n",
       "      <td>qualifying_position</td>\n",
       "      <td>-9.535386e-15</td>\n",
       "    </tr>\n",
       "    <tr>\n",
       "      <th>6</th>\n",
       "      <td>resultId</td>\n",
       "      <td>-2.223831e+01</td>\n",
       "    </tr>\n",
       "    <tr>\n",
       "      <th>7</th>\n",
       "      <td>raceId</td>\n",
       "      <td>-1.047506e+01</td>\n",
       "    </tr>\n",
       "    <tr>\n",
       "      <th>8</th>\n",
       "      <td>grid</td>\n",
       "      <td>6.776794e+00</td>\n",
       "    </tr>\n",
       "    <tr>\n",
       "      <th>9</th>\n",
       "      <td>statusId</td>\n",
       "      <td>1.733119e+01</td>\n",
       "    </tr>\n",
       "    <tr>\n",
       "      <th>10</th>\n",
       "      <td>round</td>\n",
       "      <td>1.805127e+01</td>\n",
       "    </tr>\n",
       "    <tr>\n",
       "      <th>11</th>\n",
       "      <td>circuitId</td>\n",
       "      <td>1.805127e+01</td>\n",
       "    </tr>\n",
       "    <tr>\n",
       "      <th>12</th>\n",
       "      <td>race_name</td>\n",
       "      <td>3.351321e+00</td>\n",
       "    </tr>\n",
       "    <tr>\n",
       "      <th>13</th>\n",
       "      <td>race_year</td>\n",
       "      <td>0.000000e+00</td>\n",
       "    </tr>\n",
       "    <tr>\n",
       "      <th>14</th>\n",
       "      <td>race_month</td>\n",
       "      <td>-1.127360e+01</td>\n",
       "    </tr>\n",
       "    <tr>\n",
       "      <th>15</th>\n",
       "      <td>race_quarter</td>\n",
       "      <td>1.090383e+00</td>\n",
       "    </tr>\n",
       "  </tbody>\n",
       "</table>\n",
       "</div>"
      ],
      "text/plain": [
       "                feature    importance\n",
       "0           stop_number -3.691246e-14\n",
       "1                   lap  6.044225e-15\n",
       "2      duration_of_stop  1.250104e-14\n",
       "3             qualifyId  2.744351e-15\n",
       "4         constructorId  5.787138e-16\n",
       "5   qualifying_position -9.535386e-15\n",
       "6              resultId -2.223831e+01\n",
       "7                raceId -1.047506e+01\n",
       "8                  grid  6.776794e+00\n",
       "9              statusId  1.733119e+01\n",
       "10                round  1.805127e+01\n",
       "11            circuitId  1.805127e+01\n",
       "12            race_name  3.351321e+00\n",
       "13            race_year  0.000000e+00\n",
       "14           race_month -1.127360e+01\n",
       "15         race_quarter  1.090383e+00"
      ]
     },
     "execution_count": 91,
     "metadata": {},
     "output_type": "execute_result"
    }
   ],
   "source": [
    "# reorganize into dataframe\n",
    "df_linreg_feature_importance = pd.DataFrame(X_train_final.columns, columns=[\"feature\"])\n",
    "df_linreg_feature_importance[\"importance\"] = linreg_importance[0]\n",
    "df_linreg_feature_importance"
   ]
  },
  {
   "cell_type": "code",
   "execution_count": 92,
   "metadata": {},
   "outputs": [
    {
     "data": {
      "text/html": [
       "<div>\n",
       "<style scoped>\n",
       "    .dataframe tbody tr th:only-of-type {\n",
       "        vertical-align: middle;\n",
       "    }\n",
       "\n",
       "    .dataframe tbody tr th {\n",
       "        vertical-align: top;\n",
       "    }\n",
       "\n",
       "    .dataframe thead th {\n",
       "        text-align: right;\n",
       "    }\n",
       "</style>\n",
       "<table border=\"1\" class=\"dataframe\">\n",
       "  <thead>\n",
       "    <tr style=\"text-align: right;\">\n",
       "      <th></th>\n",
       "      <th>feature</th>\n",
       "      <th>importance</th>\n",
       "    </tr>\n",
       "  </thead>\n",
       "  <tbody>\n",
       "    <tr>\n",
       "      <th>10</th>\n",
       "      <td>round</td>\n",
       "      <td>1.805127e+01</td>\n",
       "    </tr>\n",
       "    <tr>\n",
       "      <th>11</th>\n",
       "      <td>circuitId</td>\n",
       "      <td>1.805127e+01</td>\n",
       "    </tr>\n",
       "    <tr>\n",
       "      <th>9</th>\n",
       "      <td>statusId</td>\n",
       "      <td>1.733119e+01</td>\n",
       "    </tr>\n",
       "    <tr>\n",
       "      <th>8</th>\n",
       "      <td>grid</td>\n",
       "      <td>6.776794e+00</td>\n",
       "    </tr>\n",
       "    <tr>\n",
       "      <th>12</th>\n",
       "      <td>race_name</td>\n",
       "      <td>3.351321e+00</td>\n",
       "    </tr>\n",
       "    <tr>\n",
       "      <th>15</th>\n",
       "      <td>race_quarter</td>\n",
       "      <td>1.090383e+00</td>\n",
       "    </tr>\n",
       "    <tr>\n",
       "      <th>2</th>\n",
       "      <td>duration_of_stop</td>\n",
       "      <td>1.250104e-14</td>\n",
       "    </tr>\n",
       "    <tr>\n",
       "      <th>1</th>\n",
       "      <td>lap</td>\n",
       "      <td>6.044225e-15</td>\n",
       "    </tr>\n",
       "    <tr>\n",
       "      <th>3</th>\n",
       "      <td>qualifyId</td>\n",
       "      <td>2.744351e-15</td>\n",
       "    </tr>\n",
       "    <tr>\n",
       "      <th>4</th>\n",
       "      <td>constructorId</td>\n",
       "      <td>5.787138e-16</td>\n",
       "    </tr>\n",
       "    <tr>\n",
       "      <th>13</th>\n",
       "      <td>race_year</td>\n",
       "      <td>0.000000e+00</td>\n",
       "    </tr>\n",
       "    <tr>\n",
       "      <th>5</th>\n",
       "      <td>qualifying_position</td>\n",
       "      <td>-9.535386e-15</td>\n",
       "    </tr>\n",
       "    <tr>\n",
       "      <th>0</th>\n",
       "      <td>stop_number</td>\n",
       "      <td>-3.691246e-14</td>\n",
       "    </tr>\n",
       "    <tr>\n",
       "      <th>7</th>\n",
       "      <td>raceId</td>\n",
       "      <td>-1.047506e+01</td>\n",
       "    </tr>\n",
       "    <tr>\n",
       "      <th>14</th>\n",
       "      <td>race_month</td>\n",
       "      <td>-1.127360e+01</td>\n",
       "    </tr>\n",
       "    <tr>\n",
       "      <th>6</th>\n",
       "      <td>resultId</td>\n",
       "      <td>-2.223831e+01</td>\n",
       "    </tr>\n",
       "  </tbody>\n",
       "</table>\n",
       "</div>"
      ],
      "text/plain": [
       "                feature    importance\n",
       "10                round  1.805127e+01\n",
       "11            circuitId  1.805127e+01\n",
       "9              statusId  1.733119e+01\n",
       "8                  grid  6.776794e+00\n",
       "12            race_name  3.351321e+00\n",
       "15         race_quarter  1.090383e+00\n",
       "2      duration_of_stop  1.250104e-14\n",
       "1                   lap  6.044225e-15\n",
       "3             qualifyId  2.744351e-15\n",
       "4         constructorId  5.787138e-16\n",
       "13            race_year  0.000000e+00\n",
       "5   qualifying_position -9.535386e-15\n",
       "0           stop_number -3.691246e-14\n",
       "7                raceId -1.047506e+01\n",
       "14           race_month -1.127360e+01\n",
       "6              resultId -2.223831e+01"
      ]
     },
     "execution_count": 92,
     "metadata": {},
     "output_type": "execute_result"
    }
   ],
   "source": [
    "df_linreg_feature_importance.sort_values(\"importance\", ascending=False)"
   ]
  },
  {
   "cell_type": "markdown",
   "metadata": {},
   "source": [
    "## Report  <a id=\"report\"></a>\n",
    "[Back to top](#top)"
   ]
  },
  {
   "cell_type": "markdown",
   "metadata": {},
   "source": [
    "### Table of Contents  <a id=\"part1\"></a>"
   ]
  },
  {
   "cell_type": "markdown",
   "metadata": {},
   "source": [
    "#### 1. [Table of Contents](#part1) \n",
    "\n",
    "#### 2. [Introduction with Value Based Problem Statement](#part2)\n",
    "\n",
    "#### 3. [Problem Formulation](#part3)\n",
    "   - [3.1 Load the Data](#part3.1)\n",
    "   - [3.2 Explore the Data](#part3.2)\n",
    "   - [3.3 Understand the Data](#part3.3)\n",
    "   - [3.4 Formulate a Prediction Problem](#part3.4)\n",
    "   - [3.5 References](#part3.5)\n",
    "   \n",
    "#### 4. [Data Wrangling on Multiple Tables](#part4)\n",
    "   - [4.1 Extract and Create Features from Different Tables](#part4.1)\n",
    "   - [4.2 Concatenate, Merge or Join the Tables](#part4.2)\n",
    "   - [4.3 Subsetting the Dataset](#part4.3)\n",
    "   - [4.4 Grouping the Data](#part4.4)\n",
    "   - [4.5 Concatenation](#part4.5)\n",
    "   - [4.6 Joining (Left and Outer)](#part4.6)\n",
    "   - [4.7 Sort by Value](#part4.7)\n",
    "   \n",
    "#### 5. [Data Cleansing and Transformation](#part5)\n",
    "   - [5.1 Missing Value Imputation](#part5.1)\n",
    "   - [5.2 Numerical Data (Outlier)](#part5.2)\n",
    "   - [5.3 Train Test Split](#part5.3)\n",
    "   - [5.4 Categorical Data Encoding](#part5.4)\n",
    "   - [5.5 Numerical Data Transformation](#part5.5)\n",
    "   - [5.6 Variable Discretization and Binning](#part5.6)\n",
    "   \n",
    "#### 6. [Machine Learning Model](#part6)\n",
    "   - [6.1 Show Count of Rows and Columns](#part6.1)\n",
    "   - [6.2 Build and Evaluate the Model Against a Naive Baseline Model](#part6.2)\n",
    "   \n",
    "#### 7. [Summary and Further Improvement](#part7)\n",
    "   - [7.1 Summarise your Findings](#part7.1)\n",
    "   - [7.2 Explain the Possible Further Improvements](#part7.2)"
   ]
  },
  {
   "cell_type": "markdown",
   "metadata": {},
   "source": [
    "### 2.0 Introduction with Value Based Problem Statement <a id=\"part2\"></a>\n",
    "[Back to top](#top)"
   ]
  },
  {
   "cell_type": "markdown",
   "metadata": {},
   "source": [
    "In data wrangling assignment 2, we are tasked with wrangling and preparing the given F1-Dataset to solve a prediction problem.\n",
    "\n",
    "\n",
    "The value-based problem statement is for the company looking to market themselves to a global audience to expand their marketing potential into the potentially untapped market and countries which the aim is to increase overall sales through advertising themselves with a driver who would give them the most screen time to advertise.\n",
    "\n",
    "This would be the driver who wins as they generally get the most positive screen time. Thus, with the driver's suit and car plastered with their sponsors all over, it would provide the company with immense marketing potential. Likewise, the fans of the driver would typically support the sponsors that these drivers are tied to.\n",
    "\n",
    "Thus, with the prediction model, we can find out if the driver is doing well and is suitable for the company to garner positive advertisement which brings tons of value to the company.\n",
    "\n",
    "\n",
    "<div style=\"text-align: right\"> Word count for Section 2: 160</div>"
   ]
  },
  {
   "cell_type": "markdown",
   "metadata": {},
   "source": [
    "### 3.0 Problem Formulation<a id=\"part3\"></a>\n",
    "[Back to top](#top)"
   ]
  },
  {
   "cell_type": "markdown",
   "metadata": {},
   "source": [
    "#### 3.1 Load the Data <a id=\"part3.1\"></a>"
   ]
  },
  {
   "cell_type": "markdown",
   "metadata": {},
   "source": [
    "First and foremost, loading all the datasets into the Jupyter notebook is done through pandas read CSV file before creating a copy of each dataset as a backup in the event the datasets get corrupted as best practice. "
   ]
  },
  {
   "cell_type": "markdown",
   "metadata": {},
   "source": [
    "#### 3.2 Explore the Data <a id=\"part3.2\"></a>"
   ]
  },
  {
   "cell_type": "markdown",
   "metadata": {},
   "source": [
    "Data exploration found from the circuit data set was that circuits were scattered across the different countries and that the number of circuits per country varies largely. However, it is important to note that the regions that have multiple circuits for formula 1 are mainly the European and North American regions. Additionally, it was noted that the naming convention for the country was not consistent for the USA as there are instances whereby the country is called the USA and ‘United States’ which represent the same country but are named differently and would be picked up as different countries. Thus, this was something to take note of and should be standardised.\n",
    "\n",
    "It was also found that in the pitstop dataset, the duration of pitstop remained fairly consistent despite the number of stops which entails that there isn’t much variation here. However, irregularities were found in the dataset where the vast majority of duration is in seconds. But there are several instances where the values were formatted in minutes, seconds, and milliseconds in the event when the pitstop duration exceeds one minute.\n",
    "In the constructor’s dataset, it was found again that most constructor resides in Europe and mostly in Britain.\n",
    "\n",
    "Likewise, in the driver dataset, most of the drivers are also from Europe and once again the British have the most drivers. It is also important to note that the driver's dataset has quite a large amount of null values which are denoted as ‘\\N’ which would need to be cleaned as this format is not identified as a null by Jupyter Notebook.\n",
    "\n",
    "Additionally, in the races dataset, we can observe the frequency of grand Prix and we once again can identify that Europe hosted the most Grand Prix with Britain once again leading with the most number of Grand Prix hosted.\n",
    "Lastly, with the status id, we can identify the primary causes of DNF for drivers as a way to potentially mitigate the number of DNF a driver can experience over the next few races. We can observe that engine problems are potential issues that can be drilled further.\n"
   ]
  },
  {
   "cell_type": "markdown",
   "metadata": {},
   "source": [
    "#### 3.3 Understand the Data <a id=\"part3.3\"></a>"
   ]
  },
  {
   "cell_type": "markdown",
   "metadata": {},
   "source": [
    "With the aid of these data sets, we can identify that from the beginning, Formula 1 has been a very Europe-dominated sport with drivers and constructors mainly coming from that region. This could be a potential area that formula 1 can diversify into to improve global presence and outreach."
   ]
  },
  {
   "cell_type": "markdown",
   "metadata": {},
   "source": [
    "#### 3.4 Formulate a Prediction Problem <a id=\"part3.4\"></a>"
   ]
  },
  {
   "cell_type": "markdown",
   "metadata": {},
   "source": [
    "The prediction problem is to find how the finishing position of the driver Lewis Hamilton over the years for several races the ‘Bahrain Grand Prix’, ‘Spanish Grand Prix’, ‘Turkish Grand Prix’, ‘Malaysian Grand Prix’, and the ‘Australian Grand Prix’. And find out which attribute affects his finishing position the most in these respective races.\n",
    "\n",
    "The reason why Lewis Hamilton was chosen as the driver is that he is a 37-year-old British formula one driver who started his full-time Formula 1 career in 2007 and is still racing in F1 to this day.\n",
    "\n",
    "He is also well recognised globally and is the most recognisable and influential F1 driver to have come about in recent times, having received an MBE from Queen Elizabeth II and having also officially received a knighthood from the Prince of Wales and is on the list of the 100 most influential people of 2020.\n",
    "\n",
    "Thus, with the combination of the untapped potential of the country in which the races were held and the fact that Lewis Hamilton is one of the most influential people of our times, the people who are interested in this prediction model would be potential companies looking for marketing opportunities.\n"
   ]
  },
  {
   "cell_type": "markdown",
   "metadata": {},
   "source": [
    "#### 3.5 References<a id=\"part3.5\"></a>"
   ]
  },
  {
   "cell_type": "markdown",
   "metadata": {},
   "source": [
    "Low, J. (2021). Lewis Hamilton is Now Sir Lewis Hamilton. Luxuo. https://www.luxuo.com/editors-picks/lewis-hamilton-is-now-sir-lewis-hamilton.html#:~:text=Hamilton%20received%20his%20MBE%20from,the%20knighthood%20while%20still%20racing.\n",
    "\n",
    "F1. (2021). Seven-time F1 Champion Sir Lewis Hamilton Knighted at Windsor Castle. https://www.formula1.com/en/latest/article.seven-time-f1-champion-sir-lewis-hamilton-knighted-at-windsor-castle.5tY9cYG8dFe6nqLsYD1YQ4.html\n",
    "\n",
    "Wallace, B. (2020). The 100 Most Influential People of 2020. Time.https://time.com/collection/100-most-influential-people-2020/5888433/lewis-hamilton/\n",
    "\n",
    "<div style=\"text-align: right\"> Word count for Section 3: 691</div>"
   ]
  },
  {
   "cell_type": "markdown",
   "metadata": {},
   "source": [
    "### 4.0 Data Wrangling on Multiple Tables <a id=\"part4\"></a>\n",
    "[Back to top](#top)"
   ]
  },
  {
   "cell_type": "markdown",
   "metadata": {},
   "source": [
    "#### 4.1 Extract and Create Features from Different Tables <a id=\"part4.1\"></a>"
   ]
  },
  {
   "cell_type": "markdown",
   "metadata": {},
   "source": [
    "Upon understanding the dataset and developing the prediction problem, I eventually decided to use the drivers mods, pit stops mod, qualifying mod, races mod, results mod and status mod datasets. \n",
    "\n",
    "Afterwards, where possible, the driver ID from the dataset is filtered to only obtain the driver id which is the driver id for Lewis Hamilton in this dataset. This was then followed by removing ‘URL’ from the datasets where it was present such as the drivers and races dataset as the URL serves as a reference for more information for the user through a link for more information but is not useful to be in the data model, thus, it was removed.\n",
    "\n",
    "Moreover, in the qualifying dataset, ‘position’ was renamed to ‘qualifying position’ to aid in clarity as there were two columns who would be named position. One of which is finishing position and the other is qualifying position so thus, the qualifying position column name was changed.\n",
    "\n",
    "Additionally, from the results dataset, several columns were dropped such as position text, position order, points, laps, times, milliseconds, fastest laps, rank, fastest lap time, and fastest lap speed as they were not very useful and also upon initial inspection, they cannot be used to predict finishing position as, under normal circumstances, we would not have these data when predicting the finishing position.\n"
   ]
  },
  {
   "cell_type": "markdown",
   "metadata": {},
   "source": [
    "#### 4.2 Concatenate, Merge or Join the Tables<a id=\"part4.2\"></a>"
   ]
  },
  {
   "cell_type": "markdown",
   "metadata": {},
   "source": [
    "After the initial filtering of data and columns, we can merge the datasets into one large table through the inner join method. The pitstops, qualifying and results datasets were joined using the driver id and the races dataset was joined using race id as shown below.\n",
    "\n",
    "We then drop the duplicates in the data frame to ensure that no repeated rows of data were created in the process of inner join as inner join has the tendency to create duplicate rows of data and values. As such, drop duplicates was done as a precaution to ensure no duplicates were generated.\n",
    "\n",
    "After which, I renamed several columns as there are instances of columns with the same name but different meanings such as the automatically generated columns number x and cozde which was renamed to driver number and driver code respectively. Also, several columns are renamed to aid in understanding such as duration and name being renamed to duration of stop and race name respectively.\n",
    "\n",
    "This is then followed by the dropping of unnecessary columns such as number y, number, race id x, race id y, and constructo rid y as they were repeated columns.\n",
    "\n",
    "Columns where the data is constant throughout such as driver id, driver number, driver date of birth and other such columns were dropped as they were constant throughout and thus to improve model performance, this data was dropped. Afterall, these data remained constant due to the fact that the driver in this model remained consistent. \n",
    "\n",
    "Only after, can DateTime features be created where the time of race column was converted to pandas DateTime format and thereafter time was extracted and replaced the original time of race column.\n",
    "\n",
    "As for the race date columns, irregularities were identified within the column where the year columns had an additional number which causes an error. As such, these instances were replaced where appropriate before converting the race date column to pandas DateTime as well.\n",
    "\n",
    "With the race data in pandas DateTime format, we can extract the year, month, and quarter of the race. Naming them race year, race month, and race quarter respectively. This would help later in the model as the model is unable to run variables in the DateTime format. Thus, we extracted the relevant time variables to serve as a substitute.\n",
    "\n",
    "Similarly, the duration of stop was originally formatted as an object which is a categorical variable but ideally, this should be a numerical variable. However, before converting the datatype, it was identified earlier that in instances where the duration of stop exceeds a minute, the format changed. As such, we would have to standardise those data to show the duration of stop in terms of seconds. After doing so, we can convert the data type to a float type. \n"
   ]
  },
  {
   "attachments": {
    "Part%204%20pic.jpg": {
     "image/jpeg": "[encoded data removed]"
    }
   },
   "cell_type": "markdown",
   "metadata": {},
   "source": [
    "![Part%204%20pic.jpg](attachment:Part%204%20pic.jpg)"
   ]
  },
  {
   "cell_type": "markdown",
   "metadata": {},
   "source": [
    "#### 4.3 Subsetting the Dataset <a id=\"part4.3\"></a>"
   ]
  },
  {
   "cell_type": "markdown",
   "metadata": {},
   "source": [
    "Lastly, an unorthodox step has to be done where I had to subset the dataset to get only the first 600,000 rows of data. This was done as the originally joined dataset has 35 million rows of data which had a performance issue due to the hardware limitation of my laptop. As such, 600,000 rows of data were chosen as it still allowed the model to be relatively accurate while allowing for optimal performance."
   ]
  },
  {
   "cell_type": "markdown",
   "metadata": {},
   "source": [
    "#### 4.3 Subsetting the Dataset <a id=\"part4.3\"></a>"
   ]
  },
  {
   "cell_type": "markdown",
   "metadata": {},
   "source": [
    "Lastly, an unorthodox step has to be done where I had to subset the dataset to get only the first 600,000 rows of data. This was done as the originally joined dataset has 35 million rows of data which had a performance issue due to the hardware limitation of my laptop. As such, 600,000 rows of data were chosen as it still allowed the model to be relatively accurate while allowing for optimal performance."
   ]
  },
  {
   "cell_type": "markdown",
   "metadata": {},
   "source": [
    "#### 4.4 Grouping the Dataset <a id=\"part4.4\"></a>"
   ]
  },
  {
   "cell_type": "markdown",
   "metadata": {},
   "source": [
    "Grouping was not done in this case as there wasn’t a need to group different variables together as filtering was already done at the earlier stage to get the driver in question that we want. Furthermore, we are looking for data pertaining to just one specific driver so in this case there isn’t a need to group multiple drivers or multiple variables together. Additionally, no aggregate functions were made thus grouping and group by was not necessary."
   ]
  },
  {
   "cell_type": "markdown",
   "metadata": {},
   "source": [
    "#### 4.5 Concatenation <a id=\"part4.5\"></a>"
   ]
  },
  {
   "cell_type": "markdown",
   "metadata": {},
   "source": [
    "Concatenation was also not done as the different datasets have very differing columns. As such they could not simply be stacked either vertically or horizontally. As such, concatenation will not be useful given the current circumstances."
   ]
  },
  {
   "cell_type": "markdown",
   "metadata": {},
   "source": [
    "#### 4.6 Joining (Left & Outer) <a id=\"part4.6\"></a>"
   ]
  },
  {
   "cell_type": "markdown",
   "metadata": {},
   "source": [
    "Left and outer join were not used and inner join was favoured as outer join and left join would result in many Na and NaN values due to the nature and the way at which they join. As such, so minimise complexity and the need to do extra avoidable steps down the road, inner join was greatly preferred."
   ]
  },
  {
   "cell_type": "markdown",
   "metadata": {},
   "source": [
    "#### 4.7 Sort by Value <a id=\"part4.7\"></a>"
   ]
  },
  {
   "cell_type": "markdown",
   "metadata": {},
   "source": [
    "Soft by value was also not needed as we simply needed to filter the driver id, one, which we wanted. Additionally, there is no variable within the dataset that requires to be sorted as such this function was not used in this assignment\n",
    "\n",
    "<div style=\"text-align: right\"> Word count for Section 5: 1003</div>"
   ]
  },
  {
   "cell_type": "markdown",
   "metadata": {},
   "source": [
    "### 5.0 Data Cleansing and Transformation <a id=\"part5\"></a>\n",
    "[Back to top](#top)"
   ]
  },
  {
   "cell_type": "markdown",
   "metadata": {},
   "source": [
    "#### 5.1 Missing Value Imputation <a id=\"part5.1\"></a>"
   ]
  },
  {
   "cell_type": "markdown",
   "metadata": {},
   "source": [
    "Previously while exploring the data, it was found that there were placeholder values such as ‘\\\\N’ that were used to represent null values. However, this variable used to represent null values was not able to be identified by the Jupyter notebook. As such, I replaced ‘\\\\N’ which were placeholder values to represent nan values. I had to replace it to garner a true understanding of the missing values in the dataset. \n",
    "\n",
    "Based on the current subset of data, there aren’t any missing values present. However, when another subset of the dataset is taken, there could be missing values. As such, if such events were to arise, pipeline imputation would be used to handle the missing values for the numerical and categorical variables. This can be accomplished by placing the respective columns into the respective names and thereafter fitting and transforming the dataset.\n",
    "\n",
    " I used pipeline imputation using the feature engine. I used a feature engine over scikit learning for example as scikit learning has not only more steps, but the end results would be in the form of an array which has to be converted back to a data frame format which seems like an extra hassle for no real benefit. The pipeline imputation aided me in the convenience of replacing numerical variables and categorical variables as it requires fewer steps than most of the other methods and it has that degree of automation by replacing numerical categories with either the mean of an arbitrary number and either frequent or missing for the categorical variable.\n",
    " \n",
    "In the case whereby a column is a DateTime object with missing values, if there isn’t a large number of missing values, a complete case analysis can be used to simply remove the null values to mitigate and get rid of the null values.\n",
    "\n",
    "After these imputation and DateTime calculations, race_date and time_of_race columns would then be dropped as they are DateTime data types which cannot be used for the next step in model prediction. \n"
   ]
  },
  {
   "cell_type": "markdown",
   "metadata": {},
   "source": [
    "#### 5.2 Numerical Data (Outlier) <a id=\"part5.2\"></a>"
   ]
  },
  {
   "cell_type": "markdown",
   "metadata": {},
   "source": [
    "As for the handling of outliers for the numerical data, we would use a histogram to explore the numerical variables of the data set before using diagnostics plots which consist of a histogram, Q-Q plot, and boxplot to show the outliers for the numerical variables.\n",
    "\n",
    "It can be observed that although yes, there are outliers, it is shown to be true values regardless and we should not get rid of them as they are not completely untrue for instance age being 300. As such, for the most part, I chose to leave it alone given this subset of the dataset.\n",
    "\n",
    "However, in the event that other subsets of the dataset may be needed to alter the outliers, the windsorizer can be used through the gaussian capping method which allows the user to choose for which variable should the method be applied to and specify which tail to add it to. This would help eliminate the outliers by capping them to one side of the fence, thus getting rid of the untrue outliers that may affect the accuracy of the model prediction down the road.\n"
   ]
  },
  {
   "cell_type": "markdown",
   "metadata": {},
   "source": [
    "#### 5.3 Train Test Split <a id=\"part5.3\"></a>"
   ]
  },
  {
   "cell_type": "markdown",
   "metadata": {},
   "source": [
    "After this step, the train test split was done by taking the position column as the target and test size to be 25%. This resulted in the X series having 16 columns where X_train has 450,000 rows and X_test has 150,001 rows of data."
   ]
  },
  {
   "cell_type": "markdown",
   "metadata": {},
   "source": [
    "#### 5.4 Categorical Data Encoding <a id=\"part5.4\"></a>"
   ]
  },
  {
   "cell_type": "markdown",
   "metadata": {},
   "source": [
    "After the train test split, categorical data encoding can be done where we identified the different races in this subset of the data. We then used ordinal encoding where it replaces categories with digits from 1 to the number of distinct categories of the variable of which the numbers are automatically assigned arbitrarily of which the dictionary is shown. This is an unordered ordinal encoding as there isn’t a need to order it as such and thus it was not used. This was done to both X_train and X_test.\n",
    "\n",
    "I used this method over one hot encoding as one hot encoding will result in a lot of columns which will get very hard and annoying to read given the number of variables I have. Also, one hot encoding of frequent categories wouldn’t work as this will automatically choose the variables and would often time not choose the variables I desired thus, this method was not used.\n",
    "\n",
    "I didn’t replace the categories with counts, frequency, mean of the target, and grouping rare categories as well as I find it hard to read given the sheer number of variables and would lead to confusion as the numbers do not make logical sense and are often hard to reference as well. After all, we should instead be aiming for ease of viewing.\n"
   ]
  },
  {
   "cell_type": "markdown",
   "metadata": {},
   "source": [
    "#### 5.5 Numerical Data Transformation <a id=\"part5.5\"></a>"
   ]
  },
  {
   "cell_type": "markdown",
   "metadata": {},
   "source": [
    "As for the numerical data transformation, We did numerical data encoding to try to normally distribute the input variables using transformation which can also help to find the linear relationship among variables and target.\n",
    "\n",
    "I chose the power transformation method as it is dependent on lambda, and we can try different lambda to determine which one gives us the best transformation. Although I had to play around with the lambda values in order to get the distribution I desired, in the end, while testing the various methods, it gave me the best model score.\n",
    "\n",
    "I did not use the logarithmic and reciprocal transformation method as it had a strong transformation which resulted in an extreme effect on the distribution of the variable.\n"
   ]
  },
  {
   "cell_type": "markdown",
   "metadata": {},
   "source": [
    "#### 5.6 Variable Discretization and Binning <a id=\"part5.6\"></a>"
   ]
  },
  {
   "cell_type": "markdown",
   "metadata": {},
   "source": [
    "I also did equal width discretisation which is a method used for sorting the variable values into intervals of the same width. The number of intervals is decided arbitrarily and width is determined by the range of values of the variable as well as the number of bins to be created.\n",
    "\n",
    "I did not use discretisation plus categorical encoding as the variables used for my code are not treated as categorical. Thus, there is no need to reorder the intervals according to the target value.\n",
    "\n",
    "I also did not use the arbitrary interval discretisation as although I tried to, I could not get the interval value as per what I wanted and thus, I did not use this method.\n",
    "\n",
    "Furthermore, while testing with all the different methods including the equal frequency discretisation, they did not give MSE and R-square values better than that while using equal width discretisation.\n",
    "\n",
    "<div style=\"text-align: right\"> Word count for Section 5: 1072</div>"
   ]
  },
  {
   "cell_type": "markdown",
   "metadata": {},
   "source": [
    "### 6.0 Machine Learning Model <a id=\"part6\"></a>\n",
    "[Back to top](#top)"
   ]
  },
  {
   "cell_type": "markdown",
   "metadata": {},
   "source": [
    "#### 6.1 Show Count of Rows and Columns <a id=\"part6.1\"></a>"
   ]
  },
  {
   "cell_type": "markdown",
   "metadata": {},
   "source": [
    "After the data cleansing and transformation, the shape of the train test split may change. As a result, using the .shape function, we can find out the size of our dataset that would be used for the modelling. This is important as it is paramount that the size of the dataset isn’t too small to ensure that the model has a higher level of accuracy. As such, we can see that X_train and y_train both have 450,000 rows of data with 16 and 1 column respectively. Likewise, X_test and y_test have 150,001 rows of data with 16 and 1 column respectively. \n",
    "\n",
    "Thus, given the size of the dataset, I am confident that it is sufficient for this assignment to create an accurate model.\n"
   ]
  },
  {
   "cell_type": "markdown",
   "metadata": {},
   "source": [
    "#### 6.2 Build and Evaluate the Model Against a Naive Baseline Model <a id=\"part6.2\"></a>"
   ]
  },
  {
   "cell_type": "markdown",
   "metadata": {},
   "source": [
    "When building a naïve baseline model, the regression model was used as the output variable is the position which is real. As such, it was found that the mean value of y_train is 4.9. This unsurprisingly resulted in a naive baseline model that is not very accurate whose mean square error for train and test data is 18.93 and 18.9 respectively. Additionally, the root mean square error is 4.35 for both train and test data and the r2 is 0 as well.  \n",
    "Ideally, a good mean square error is a value that is lower with zero being a perfect model. Likewise, for root mean square error, the lower the better. For the r2 value, the higher the value, the more useful it is with the value one denoting a perfect fit.\n",
    "\n",
    "With this in mind, I created a linear regression model for my data modelling and this would be compared against the naive baseline model to ensure that it is minimally better than that of the naive baseline. This was done by importing the linear regression function from sklearn linear model which easily allows us to create a linear regression model while producing the MSE, RMSE, and r2 values which can be used to evaluate the model. Doing so, resulted in a MSE and RMSE value of 0 for both train and test data with the r2 value being one. \n",
    "\n",
    "This is compared to the naïve baseline model means that the current linear regression model is more accurate and is a better fit. If viewing based on the score for the linear regression model, it is a really accurate model with a perfect fit which is really surprising. This means that the model should be able to predict the target position very well and accurately given the variables we have.\n",
    "\n",
    "Additionally, linear regression feature importance was also used to find out for each variable, how important is it when finding the target value. After getting the importance which resulted in an array, we reorganise the feature importance into a data frame which is then sorted in descending order. \n",
    "As such, the variable with the greatest importance when it came to predicting the target value, position, is round with race month holding one of the least importance.\n",
    " \n",
    "<div style=\"text-align: right\"> Word count for Section 6: 517</div>"
   ]
  },
  {
   "cell_type": "markdown",
   "metadata": {},
   "source": [
    "### 7.0 Summary and Further Improvements  <a id=\"part7\"></a>\n",
    "[Back to top](#top)"
   ]
  },
  {
   "cell_type": "markdown",
   "metadata": {},
   "source": [
    "#### 7.1 Summarise your Findings <a id=\"part7.1\"></a>"
   ]
  },
  {
   "cell_type": "markdown",
   "metadata": {},
   "source": [
    "It is found that for the company looking to advertise with Lewis Hamilton, it is a safe bet that Lewis Hamilton would be winning if not at the front of the grid in terms of their finishing position and given the circumstances, Lewis Hamilton would be likely to win. As such, for the company, it is a good idea for the company to sponsor Lewis Hamilton in an effort to expand its sales and marketing across the globe.\n",
    "\n",
    "This would be a safe bet given the accuracy of the current model and should anything happen, it is important to see that the round and the grid is amongst the most important variable in determining his finishing position. Thus, this could be focused upon by the company.\n"
   ]
  },
  {
   "cell_type": "markdown",
   "metadata": {},
   "source": [
    "#### 7.2 Explain the Possible Further Improvements <a id=\"part7.2\"></a>"
   ]
  },
  {
   "cell_type": "markdown",
   "metadata": {},
   "source": [
    "The current linear regression is accurate with the current size of the dataset. However, it is always best practice to run a model with as many rows of data as possible to ensure accuracy as right now, the model can be accurate. But upon using the full 35 million rows of data, the results could be very different.\n",
    "\n",
    "Likewise, more columns of data and variables can help improve model accuracy especially since currently, we are missing key technical data in the model prediction which can play a huge role in determining the finishing place of the driver.\n",
    "\n",
    "<div style=\"text-align: right\"> Word count for Section 7: 233</div>"
   ]
  },
  {
   "cell_type": "markdown",
   "metadata": {},
   "source": [
    "### Other Methods (Not used) <a id=\"methods\"></a>\n",
    "[Back to top](#top)"
   ]
  },
  {
   "cell_type": "markdown",
   "metadata": {},
   "source": [
    "The following code is other methods that were tried out but not used due to it having poorer MSE, RMSE, and r2 score in the model"
   ]
  },
  {
   "cell_type": "markdown",
   "metadata": {},
   "source": [
    "- [Outlier](#O1)\n",
    "- [Missing Value Imputation](#O2)\n",
    "- [Categorical Data Encoding](#O3)\n",
    "- [Variable Discretization/Binniing](#O4)\n",
    "- [Feature Engineering](#O5)"
   ]
  },
  {
   "cell_type": "markdown",
   "metadata": {},
   "source": [
    "### Outlier <a id=\"O1\"></a>\n",
    "[Back to top](#top)"
   ]
  },
  {
   "cell_type": "code",
   "execution_count": 93,
   "metadata": {},
   "outputs": [
    {
     "data": {
      "text/plain": [
       "\"\\ndef find_boundaries(df, variable):\\n    lower_boundary = df[variable].quantile(0.05)\\n    upper_boundary = df[variable].quantile(0.95)\\n    return upper_boundary, lower_boundary\\n\\n#Limits for Item_Visibility\\nIV_upper_limit, IV_lower_limit = find_boundaries(data, 'Item_Visibility')\\nIV_upper_limit, IV_lower_limit\\n\\n#limits for Item_Outlet_Sales\\nIOS_upper_limit, IOS_lower_limit = find_boundaries(data, 'Item_Outlet_Sales')\\nIOS_upper_limit, IOS_lower_limit\\n\\n#Flagging the outliers in Item_Visibility\\noutliers_IV = np.where(data['Item_Visibility'] > IV_upper_limit, True,\\n                       np.where(data['Item_Visibility'] < IV_lower_limit, True, False))\\n\\n#Flagging the outliers in Item_Outlet_Sales\\noutliers_IOS = np.where(data['Item_Outlet_Sales'] > IOS_upper_limit, True,\\n                       np.where(data['Item_Outlet_Sales'] < IOS_lower_limit, True, False))\\n\\n#Trimming the dataset by removing outliers for Item_Visibility\\ndata_trimmed1 = data.loc[~outliers_IV ]\\n\\n#Trimming the dataset by removing outliers for Item_Visibility\\ndata_trimmed2 = data.loc[~outliers_IOS ]\\n\\ndata.shape, data_trimmed1.shape, data_trimmed2.shape\\n\""
      ]
     },
     "execution_count": 93,
     "metadata": {},
     "output_type": "execute_result"
    }
   ],
   "source": [
    "\"\"\"\n",
    "def find_boundaries(df, variable):\n",
    "    lower_boundary = df[variable].quantile(0.05)\n",
    "    upper_boundary = df[variable].quantile(0.95)\n",
    "    return upper_boundary, lower_boundary\n",
    "\n",
    "#Limits for Item_Visibility\n",
    "IV_upper_limit, IV_lower_limit = find_boundaries(data, 'Item_Visibility')\n",
    "IV_upper_limit, IV_lower_limit\n",
    "\n",
    "#limits for Item_Outlet_Sales\n",
    "IOS_upper_limit, IOS_lower_limit = find_boundaries(data, 'Item_Outlet_Sales')\n",
    "IOS_upper_limit, IOS_lower_limit\n",
    "\n",
    "#Flagging the outliers in Item_Visibility\n",
    "outliers_IV = np.where(data['Item_Visibility'] > IV_upper_limit, True,\n",
    "                       np.where(data['Item_Visibility'] < IV_lower_limit, True, False))\n",
    "\n",
    "#Flagging the outliers in Item_Outlet_Sales\n",
    "outliers_IOS = np.where(data['Item_Outlet_Sales'] > IOS_upper_limit, True,\n",
    "                       np.where(data['Item_Outlet_Sales'] < IOS_lower_limit, True, False))\n",
    "\n",
    "#Trimming the dataset by removing outliers for Item_Visibility\n",
    "data_trimmed1 = data.loc[~outliers_IV ]\n",
    "\n",
    "#Trimming the dataset by removing outliers for Item_Visibility\n",
    "data_trimmed2 = data.loc[~outliers_IOS ]\n",
    "\n",
    "data.shape, data_trimmed1.shape, data_trimmed2.shape\n",
    "\"\"\""
   ]
  },
  {
   "cell_type": "code",
   "execution_count": 94,
   "metadata": {},
   "outputs": [
    {
     "data": {
      "text/plain": [
       "\"\\n1.5x IQR boundaries\\n\\ndef find_boundaries(df, variable, distance):\\n\\n    # Let's calculate the boundaries outside which sit the outliers\\n    # for skewed distributions\\n\\n    # distance passed as an argument, gives us the option to\\n    # estimate 1.5 times or 3 times the IQR to calculate\\n    # the boundaries.\\n\\n    IQR = df[variable].quantile(0.75) - df[variable].quantile(0.25)\\n\\n    lower_boundary = df[variable].quantile(0.25) - (IQR * distance)\\n    upper_boundary = df[variable].quantile(0.75) + (IQR * distance)\\n\\n    return upper_boundary, lower_boundary\\n\\n#Limits for Item_Visibility\\nIV_upper_limit, IV_lower_limit = find_boundaries(data, 'Item_Visibility', 1.5)\\nIV_upper_limit, IV_lower_limit\\n\\n#limits for Item_Outlet_Sales\\nIOS_upper_limit, IOS_lower_limit = find_boundaries(data, 'Item_Outlet_Sales', 1.5)\\nIOS_upper_limit, IOS_lower_limit\\n\\n#Flagging the outliers in Item_Visibility\\noutliers_IV = np.where(data['Item_Visibility'] > IV_upper_limit, True,\\n                       np.where(data['Item_Visibility'] < IV_lower_limit, True, False))\\n\\n#Flagging the outliers in Item_Outlet_Sales\\noutliers_IOS = np.where(data['Item_Outlet_Sales'] > IOS_upper_limit, True,\\n                       np.where(data['Item_Outlet_Sales'] < IOS_lower_limit, True, False))\\n\\n#Trimming the dataset by removing outliers for Item_Visibility\\ndata_trimmed1 = data.loc[~outliers_IV ]\\n\\n#Trimming the dataset by removing outliers for Item_Visibility\\ndata_trimmed2 = data.loc[~outliers_IOS ]\\n\\ndata.shape, data_trimmed1.shape, data_trimmed2.shape\\n\""
      ]
     },
     "execution_count": 94,
     "metadata": {},
     "output_type": "execute_result"
    }
   ],
   "source": [
    "\"\"\"\n",
    "1.5x IQR boundaries\n",
    "\n",
    "def find_boundaries(df, variable, distance):\n",
    "\n",
    "    # Let's calculate the boundaries outside which sit the outliers\n",
    "    # for skewed distributions\n",
    "\n",
    "    # distance passed as an argument, gives us the option to\n",
    "    # estimate 1.5 times or 3 times the IQR to calculate\n",
    "    # the boundaries.\n",
    "\n",
    "    IQR = df[variable].quantile(0.75) - df[variable].quantile(0.25)\n",
    "\n",
    "    lower_boundary = df[variable].quantile(0.25) - (IQR * distance)\n",
    "    upper_boundary = df[variable].quantile(0.75) + (IQR * distance)\n",
    "\n",
    "    return upper_boundary, lower_boundary\n",
    "\n",
    "#Limits for Item_Visibility\n",
    "IV_upper_limit, IV_lower_limit = find_boundaries(data, 'Item_Visibility', 1.5)\n",
    "IV_upper_limit, IV_lower_limit\n",
    "\n",
    "#limits for Item_Outlet_Sales\n",
    "IOS_upper_limit, IOS_lower_limit = find_boundaries(data, 'Item_Outlet_Sales', 1.5)\n",
    "IOS_upper_limit, IOS_lower_limit\n",
    "\n",
    "#Flagging the outliers in Item_Visibility\n",
    "outliers_IV = np.where(data['Item_Visibility'] > IV_upper_limit, True,\n",
    "                       np.where(data['Item_Visibility'] < IV_lower_limit, True, False))\n",
    "\n",
    "#Flagging the outliers in Item_Outlet_Sales\n",
    "outliers_IOS = np.where(data['Item_Outlet_Sales'] > IOS_upper_limit, True,\n",
    "                       np.where(data['Item_Outlet_Sales'] < IOS_lower_limit, True, False))\n",
    "\n",
    "#Trimming the dataset by removing outliers for Item_Visibility\n",
    "data_trimmed1 = data.loc[~outliers_IV ]\n",
    "\n",
    "#Trimming the dataset by removing outliers for Item_Visibility\n",
    "data_trimmed2 = data.loc[~outliers_IOS ]\n",
    "\n",
    "data.shape, data_trimmed1.shape, data_trimmed2.shape\n",
    "\"\"\""
   ]
  },
  {
   "cell_type": "code",
   "execution_count": 95,
   "metadata": {},
   "outputs": [
    {
     "data": {
      "text/plain": [
       "\"\\n3 SD from mean\\n\\ndef find_boundaries(df, variable, distance):\\n    lower_boundary = df[variable].mean() - (df[variable].std() * distance)\\n    upper_boundary = df[variable].mean() + (df[variable].std() * distance)\\n    return upper_boundary, lower_boundary\\n\\n#Limits for Item_Visibility\\nIV_upper_limit, IV_lower_limit = find_boundaries(data, 'Item_Visibility', 3)\\nIV_upper_limit, IV_lower_limit\\n\\n#limits for Item_Outlet_Sales\\nIOS_upper_limit, IOS_lower_limit = find_boundaries(data, 'Item_Outlet_Sales', 3)\\nIOS_upper_limit, IOS_lower_limit\\n\\n#Flagging the outliers in Item_Visibility\\noutliers_IV = np.where(data['Item_Visibility'] > IV_upper_limit, True,\\n                       np.where(data['Item_Visibility'] < IV_lower_limit, True, False))\\n\\n#Flagging the outliers in Item_Outlet_Sales\\noutliers_IOS = np.where(data['Item_Outlet_Sales'] > IOS_upper_limit, True,\\n                       np.where(data['Item_Outlet_Sales'] < IOS_lower_limit, True, False))\\n\\n#Trimming the dataset by removing outliers for Item_Visibility\\ndata_trimmed1 = data.loc[~outliers_IV ]\\n\\n#Trimming the dataset by removing outliers for Item_Visibility\\ndata_trimmed2 = data.loc[~outliers_IOS ]\\n\\ndata.shape, data_trimmed1.shape, data_trimmed2.shape\\n\""
      ]
     },
     "execution_count": 95,
     "metadata": {},
     "output_type": "execute_result"
    }
   ],
   "source": [
    "\"\"\"\n",
    "3 SD from mean\n",
    "\n",
    "def find_boundaries(df, variable, distance):\n",
    "    lower_boundary = df[variable].mean() - (df[variable].std() * distance)\n",
    "    upper_boundary = df[variable].mean() + (df[variable].std() * distance)\n",
    "    return upper_boundary, lower_boundary\n",
    "\n",
    "#Limits for Item_Visibility\n",
    "IV_upper_limit, IV_lower_limit = find_boundaries(data, 'Item_Visibility', 3)\n",
    "IV_upper_limit, IV_lower_limit\n",
    "\n",
    "#limits for Item_Outlet_Sales\n",
    "IOS_upper_limit, IOS_lower_limit = find_boundaries(data, 'Item_Outlet_Sales', 3)\n",
    "IOS_upper_limit, IOS_lower_limit\n",
    "\n",
    "#Flagging the outliers in Item_Visibility\n",
    "outliers_IV = np.where(data['Item_Visibility'] > IV_upper_limit, True,\n",
    "                       np.where(data['Item_Visibility'] < IV_lower_limit, True, False))\n",
    "\n",
    "#Flagging the outliers in Item_Outlet_Sales\n",
    "outliers_IOS = np.where(data['Item_Outlet_Sales'] > IOS_upper_limit, True,\n",
    "                       np.where(data['Item_Outlet_Sales'] < IOS_lower_limit, True, False))\n",
    "\n",
    "#Trimming the dataset by removing outliers for Item_Visibility\n",
    "data_trimmed1 = data.loc[~outliers_IV ]\n",
    "\n",
    "#Trimming the dataset by removing outliers for Item_Visibility\n",
    "data_trimmed2 = data.loc[~outliers_IOS ]\n",
    "\n",
    "data.shape, data_trimmed1.shape, data_trimmed2.shape\n",
    "\"\"\""
   ]
  },
  {
   "cell_type": "markdown",
   "metadata": {},
   "source": [
    "#### Zero-coding"
   ]
  },
  {
   "cell_type": "code",
   "execution_count": 96,
   "metadata": {},
   "outputs": [
    {
     "data": {
      "text/plain": [
       "\"\\nfrom feature_engine.outliers import ArbitraryOutlierCapper\\n\\n# create the capper\\n\\nwindsoriser = ArbitraryOutlierCapper(max_capping_dict={'Item_Visibility':0.15, 'Item_Outlet_Sales':6000},\\n                                     min_capping_dict= None)\\n\\nwindsoriser.fit(data)\\ndata_t = windsoriser.transform(data)\\n\""
      ]
     },
     "execution_count": 96,
     "metadata": {},
     "output_type": "execute_result"
    }
   ],
   "source": [
    "\"\"\"\n",
    "from feature_engine.outliers import ArbitraryOutlierCapper\n",
    "\n",
    "# create the capper\n",
    "\n",
    "windsoriser = ArbitraryOutlierCapper(max_capping_dict={'Item_Visibility':0.15, 'Item_Outlet_Sales':6000},\n",
    "                                     min_capping_dict= None)\n",
    "\n",
    "windsoriser.fit(data)\n",
    "data_t = windsoriser.transform(data)\n",
    "\"\"\""
   ]
  },
  {
   "cell_type": "markdown",
   "metadata": {},
   "source": [
    "### Missing Value Imputation <a id=\"O2\"></a>\n",
    "[Back to top](#top)"
   ]
  },
  {
   "cell_type": "code",
   "execution_count": 97,
   "metadata": {},
   "outputs": [
    {
     "data": {
      "text/plain": [
       "\"\\n#Median Imputation\\n#(Median imputation)\\nfor var in ['race_year']:\\n\\n    value = X_train[var].median()\\n    print(value)\\n\\n    X_train[var] = X_train[var].fillna(value)\\n    X_test[var] = X_test[var].fillna(value)\\n\""
      ]
     },
     "execution_count": 97,
     "metadata": {},
     "output_type": "execute_result"
    }
   ],
   "source": [
    "\"\"\"\n",
    "#Median Imputation\n",
    "#(Median imputation)\n",
    "for var in ['race_year']:\n",
    "\n",
    "    value = X_train[var].median()\n",
    "    print(value)\n",
    "\n",
    "    X_train[var] = X_train[var].fillna(value)\n",
    "    X_test[var] = X_test[var].fillna(value)\n",
    "\"\"\""
   ]
  },
  {
   "cell_type": "code",
   "execution_count": 98,
   "metadata": {},
   "outputs": [
    {
     "data": {
      "text/plain": [
       "\"\\n#(Mean imputation)\\nfor var in ['race_month']:\\n\\n    value = X_train[var].mean()\\n    print(value)\\n\\n    X_train[var] = X_train[var].fillna(value)\\n    X_test[var] = X_test[var].fillna(value)\\n\""
      ]
     },
     "execution_count": 98,
     "metadata": {},
     "output_type": "execute_result"
    }
   ],
   "source": [
    "\"\"\"\n",
    "#(Mean imputation)\n",
    "for var in ['race_month']:\n",
    "\n",
    "    value = X_train[var].mean()\n",
    "    print(value)\n",
    "\n",
    "    X_train[var] = X_train[var].fillna(value)\n",
    "    X_test[var] = X_test[var].fillna(value)\n",
    "\"\"\""
   ]
  },
  {
   "cell_type": "code",
   "execution_count": 99,
   "metadata": {},
   "outputs": [
    {
     "data": {
      "text/plain": [
       "\"\\n#Mode or frequent category imputation\\n\\n#For Outlet_Size (Categorical variable, Mode imputation) (Using Pandas)\\nfor var in ['position']:\\n    \\n    value = X_train[var].mode()[0] #12.15\\n\\n    X_train[var] = X_train[var].fillna(value)\\n    X_test[var] = X_test[var].fillna(value)\\n    \\nX_train.isnull().mean().sort_values()\\n\""
      ]
     },
     "execution_count": 99,
     "metadata": {},
     "output_type": "execute_result"
    }
   ],
   "source": [
    "\"\"\"\n",
    "#Mode or frequent category imputation\n",
    "\n",
    "#For Outlet_Size (Categorical variable, Mode imputation) (Using Pandas)\n",
    "for var in ['position']:\n",
    "    \n",
    "    value = X_train[var].mode()[0] #12.15\n",
    "\n",
    "    X_train[var] = X_train[var].fillna(value)\n",
    "    X_test[var] = X_test[var].fillna(value)\n",
    "    \n",
    "X_train.isnull().mean().sort_values()\n",
    "\"\"\""
   ]
  },
  {
   "cell_type": "code",
   "execution_count": 100,
   "metadata": {},
   "outputs": [
    {
     "data": {
      "text/plain": [
       "\"\\n#Replacing missing values by an arbitary number (Numerical)\\n\\n# to impute missing data with feature-engine\\nfrom feature_engine.imputation import ArbitraryNumberImputer\\n\\nimputer = ArbitraryNumberImputer(\\n    arbitrary_number=19, variables=['race_quarter'])\\n\\nimputer.fit(X_train)\\nimputer.arbitrary_number\\n\\nX_train = imputer.transform(X_train)\\nX_test = imputer.transform(X_test)\\n\\nX_train[['Item_Weight']].isnull().mean()\\n\""
      ]
     },
     "execution_count": 100,
     "metadata": {},
     "output_type": "execute_result"
    }
   ],
   "source": [
    "\"\"\"\n",
    "#Replacing missing values by an arbitary number (Numerical)\n",
    "\n",
    "# to impute missing data with feature-engine\n",
    "from feature_engine.imputation import ArbitraryNumberImputer\n",
    "\n",
    "imputer = ArbitraryNumberImputer(\n",
    "    arbitrary_number=19, variables=['race_quarter'])\n",
    "\n",
    "imputer.fit(X_train)\n",
    "imputer.arbitrary_number\n",
    "\n",
    "X_train = imputer.transform(X_train)\n",
    "X_test = imputer.transform(X_test)\n",
    "\n",
    "X_train[['Item_Weight']].isnull().mean()\n",
    "\"\"\""
   ]
  },
  {
   "cell_type": "code",
   "execution_count": 101,
   "metadata": {},
   "outputs": [
    {
     "data": {
      "text/plain": [
       "\"\\n#Capturing missing values in a bespoke category (Categorical)\\n\\nfrom feature_engine.imputation import CategoricalImputer\\nimputer = CategoricalImputer(variables=['position'])\\n\\nimputer.fit(X_train)\\nX_train = imputer.transform(X_train)\\nX_test = imputer.transform(X_test)\\n\\nX_train[['Outlet_Size']].isnull().mean()\\n\""
      ]
     },
     "execution_count": 101,
     "metadata": {},
     "output_type": "execute_result"
    }
   ],
   "source": [
    "\"\"\"\n",
    "#Capturing missing values in a bespoke category (Categorical)\n",
    "\n",
    "from feature_engine.imputation import CategoricalImputer\n",
    "imputer = CategoricalImputer(variables=['position'])\n",
    "\n",
    "imputer.fit(X_train)\n",
    "X_train = imputer.transform(X_train)\n",
    "X_test = imputer.transform(X_test)\n",
    "\n",
    "X_train[['Outlet_Size']].isnull().mean()\n",
    "\"\"\""
   ]
  },
  {
   "cell_type": "code",
   "execution_count": 102,
   "metadata": {},
   "outputs": [
    {
     "data": {
      "text/plain": [
       "\"\\n#Replacing missing value by end of distribution value (Numerical)\\n\\nfrom feature_engine.imputation import EndTailImputer\\nimputer = EndTailImputer(imputation_method='iqr', tail='right', fold =1.5, \\n                         variables=['race_year'])\\n\\nimputer.fit(X_train)\\nimputer.imputer_dict_ \\n\\nX_train = imputer.transform(X_train)\\nX_test = imputer.transform(X_test)\\n\\nX_train[['Item_Weight']].isnull().mean()\\n\""
      ]
     },
     "execution_count": 102,
     "metadata": {},
     "output_type": "execute_result"
    }
   ],
   "source": [
    "\"\"\"\n",
    "#Replacing missing value by end of distribution value (Numerical)\n",
    "\n",
    "from feature_engine.imputation import EndTailImputer\n",
    "imputer = EndTailImputer(imputation_method='iqr', tail='right', fold =1.5, \n",
    "                         variables=['race_year'])\n",
    "\n",
    "imputer.fit(X_train)\n",
    "imputer.imputer_dict_ \n",
    "\n",
    "X_train = imputer.transform(X_train)\n",
    "X_test = imputer.transform(X_test)\n",
    "\n",
    "X_train[['Item_Weight']].isnull().mean()\n",
    "\"\"\""
   ]
  },
  {
   "cell_type": "code",
   "execution_count": 103,
   "metadata": {},
   "outputs": [
    {
     "data": {
      "text/plain": [
       "'\\n#Implementing random sample imputation (Categorical & Numerical)\\n\\nfrom feature_engine.imputation import RandomSampleImputer\\n\\nimputer = RandomSampleImputer()\\n\\nimputer.fit(X_train)\\nX_train = imputer.transform(X_train)\\nX_test = imputer.transform(X_test)\\nX_train.isnull().mean()\\n'"
      ]
     },
     "execution_count": 103,
     "metadata": {},
     "output_type": "execute_result"
    }
   ],
   "source": [
    "\"\"\"\n",
    "#Implementing random sample imputation (Categorical & Numerical)\n",
    "\n",
    "from feature_engine.imputation import RandomSampleImputer\n",
    "\n",
    "imputer = RandomSampleImputer()\n",
    "\n",
    "imputer.fit(X_train)\n",
    "X_train = imputer.transform(X_train)\n",
    "X_test = imputer.transform(X_test)\n",
    "X_train.isnull().mean()\n",
    "\"\"\""
   ]
  },
  {
   "cell_type": "code",
   "execution_count": 104,
   "metadata": {},
   "outputs": [
    {
     "data": {
      "text/plain": [
       "'\\n#Adding a missing value indicator variable\\n\\nfrom feature_engine.imputation import AddMissingIndicator\\n\\nimputer = AddMissingIndicator()\\n\\nimputer.fit(X_train)\\n\\nX_train = imputer.transform(X_train)\\nX_test = imputer.transform(X_test)\\n\\nX_train.head()\\n'"
      ]
     },
     "execution_count": 104,
     "metadata": {},
     "output_type": "execute_result"
    }
   ],
   "source": [
    "\"\"\"\n",
    "#Adding a missing value indicator variable\n",
    "\n",
    "from feature_engine.imputation import AddMissingIndicator\n",
    "\n",
    "imputer = AddMissingIndicator()\n",
    "\n",
    "imputer.fit(X_train)\n",
    "\n",
    "X_train = imputer.transform(X_train)\n",
    "X_test = imputer.transform(X_test)\n",
    "\n",
    "X_train.head()\n",
    "\"\"\""
   ]
  },
  {
   "cell_type": "markdown",
   "metadata": {},
   "source": [
    "### Categorical Data Encoding <a id=\"O3\"></a>\n",
    "[Back to top](#top)"
   ]
  },
  {
   "cell_type": "code",
   "execution_count": 105,
   "metadata": {},
   "outputs": [
    {
     "data": {
      "text/plain": [
       "'\\n#One Hot Encoding\\n\\nfrom feature_engine.encoding import OneHotEncoder\\n\\nohe_enc = OneHotEncoder(\\n    top_categories=None,\\n    drop_last=True)  # to return k-1, false to return k\\n\\nohe_enc.fit(X_train)\\nX_train_enc = ohe_enc.transform(X_train)\\nX_test_enc = ohe_enc.transform(X_test)\\n\\nX_train_enc.head()\\n'"
      ]
     },
     "execution_count": 105,
     "metadata": {},
     "output_type": "execute_result"
    }
   ],
   "source": [
    "\"\"\"\n",
    "#One Hot Encoding\n",
    "\n",
    "from feature_engine.encoding import OneHotEncoder\n",
    "\n",
    "ohe_enc = OneHotEncoder(\n",
    "    top_categories=None,\n",
    "    drop_last=True)  # to return k-1, false to return k\n",
    "\n",
    "ohe_enc.fit(X_train)\n",
    "X_train_enc = ohe_enc.transform(X_train)\n",
    "X_test_enc = ohe_enc.transform(X_test)\n",
    "\n",
    "X_train_enc.head()\n",
    "\"\"\""
   ]
  },
  {
   "cell_type": "code",
   "execution_count": 106,
   "metadata": {},
   "outputs": [
    {
     "data": {
      "text/plain": [
       "\"\\n#One Hot Encoding Top Categories\\n\\nfrom feature_engine.encoding import OneHotEncoder\\n\\nohe_enc = OneHotEncoder(\\n    \\n    # to indicate how many top categories\\n    top_categories=2,  \\n    \\n    # we can select which variables to encode\\n    variables=['race_name'],\\n    \\n    # to indicate if we drop one of the binaries\\n    drop_last=False)\\n\\nohe_enc.fit(X_train)\\nX_train_enc = ohe_enc.transform(X_train)\\nX_test_enc = ohe_enc.transform(X_test)\\nX_train_enc.head()\\n\""
      ]
     },
     "execution_count": 106,
     "metadata": {},
     "output_type": "execute_result"
    }
   ],
   "source": [
    "\"\"\"\n",
    "#One Hot Encoding Top Categories\n",
    "\n",
    "from feature_engine.encoding import OneHotEncoder\n",
    "\n",
    "ohe_enc = OneHotEncoder(\n",
    "    \n",
    "    # to indicate how many top categories\n",
    "    top_categories=2,  \n",
    "    \n",
    "    # we can select which variables to encode\n",
    "    variables=['race_name'],\n",
    "    \n",
    "    # to indicate if we drop one of the binaries\n",
    "    drop_last=False)\n",
    "\n",
    "ohe_enc.fit(X_train)\n",
    "X_train_enc = ohe_enc.transform(X_train)\n",
    "X_test_enc = ohe_enc.transform(X_test)\n",
    "X_train_enc.head()\n",
    "\"\"\""
   ]
  },
  {
   "cell_type": "code",
   "execution_count": 107,
   "metadata": {},
   "outputs": [
    {
     "data": {
      "text/plain": [
       "\"\\n#Replacing categories by counts \\n\\nfrom feature_engine.encoding import CountFrequencyEncoder\\n\\nvars_categorical = ['race_name']\\n\\ncount_enc = CountFrequencyEncoder(\\n    encoding_method='count', # to do frequency ==> encoding_method='frequency'\\n    variables=vars_categorical)\\n\\ncount_enc.fit(X_train)\\nX_train_enc = count_enc.transform(X_train)\\nX_test_enc = count_enc.transform(X_test)\\nX_train_enc.head()\\ncount_enc.encoder_dict_\\n\""
      ]
     },
     "execution_count": 107,
     "metadata": {},
     "output_type": "execute_result"
    }
   ],
   "source": [
    "\"\"\"\n",
    "#Replacing categories by counts \n",
    "\n",
    "from feature_engine.encoding import CountFrequencyEncoder\n",
    "\n",
    "vars_categorical = ['race_name']\n",
    "\n",
    "count_enc = CountFrequencyEncoder(\n",
    "    encoding_method='count', # to do frequency ==> encoding_method='frequency'\n",
    "    variables=vars_categorical)\n",
    "\n",
    "count_enc.fit(X_train)\n",
    "X_train_enc = count_enc.transform(X_train)\n",
    "X_test_enc = count_enc.transform(X_test)\n",
    "X_train_enc.head()\n",
    "count_enc.encoder_dict_\n",
    "\"\"\""
   ]
  },
  {
   "cell_type": "code",
   "execution_count": 108,
   "metadata": {},
   "outputs": [
    {
     "data": {
      "text/plain": [
       "\"\\n#Replacing categories by frequency \\n\\nfrom feature_engine.encoding import CountFrequencyEncoder\\n\\nvars_categorical = ['race_name']\\n\\ncount_enc = CountFrequencyEncoder(\\n    encoding_method='frequency', # to do frequency ==> encoding_method='frequency'\\n    variables=vars_categorical)\\n\\ncount_enc.fit(X_train)\\nX_train_enc = count_enc.transform(X_train)\\nX_test_enc = count_enc.transform(X_test)\\nX_train_enc.head()\\ncount_enc.encoder_dict_\\n\""
      ]
     },
     "execution_count": 108,
     "metadata": {},
     "output_type": "execute_result"
    }
   ],
   "source": [
    "\"\"\"\n",
    "#Replacing categories by frequency \n",
    "\n",
    "from feature_engine.encoding import CountFrequencyEncoder\n",
    "\n",
    "vars_categorical = ['race_name']\n",
    "\n",
    "count_enc = CountFrequencyEncoder(\n",
    "    encoding_method='frequency', # to do frequency ==> encoding_method='frequency'\n",
    "    variables=vars_categorical)\n",
    "\n",
    "count_enc.fit(X_train)\n",
    "X_train_enc = count_enc.transform(X_train)\n",
    "X_test_enc = count_enc.transform(X_test)\n",
    "X_train_enc.head()\n",
    "count_enc.encoder_dict_\n",
    "\"\"\""
   ]
  },
  {
   "cell_type": "code",
   "execution_count": 109,
   "metadata": {},
   "outputs": [
    {
     "data": {
      "text/plain": [
       "\"\\n#Ordered ordinal encoding (Ordered, not unordered)\\n\\nfrom feature_engine.encoding import OrdinalEncoder\\n\\nordinal_enc = OrdinalEncoder(\\n    encoding_method='ordered')\\n\\nordinal_enc.fit(X_train, y_train)\\nX_train_enc = ordinal_enc.transform(X_train)\\nX_test_enc = ordinal_enc.transform(X_test)\\nX_train_enc.head()\\n\\n\\n#ordinal_enc.fit(X_train, y_train)\\nordinal_enc.encoder_dict_\\n\""
      ]
     },
     "execution_count": 109,
     "metadata": {},
     "output_type": "execute_result"
    }
   ],
   "source": [
    "\"\"\"\n",
    "#Ordered ordinal encoding (Ordered, not unordered)\n",
    "\n",
    "from feature_engine.encoding import OrdinalEncoder\n",
    "\n",
    "ordinal_enc = OrdinalEncoder(\n",
    "    encoding_method='ordered')\n",
    "\n",
    "ordinal_enc.fit(X_train, y_train)\n",
    "X_train_enc = ordinal_enc.transform(X_train)\n",
    "X_test_enc = ordinal_enc.transform(X_test)\n",
    "X_train_enc.head()\n",
    "\n",
    "\n",
    "#ordinal_enc.fit(X_train, y_train)\n",
    "ordinal_enc.encoder_dict_\n",
    "\"\"\""
   ]
  },
  {
   "cell_type": "code",
   "execution_count": 110,
   "metadata": {},
   "outputs": [
    {
     "data": {
      "text/plain": [
       "\"\\n#Target mean encoding\\n\\nfrom feature_engine.encoding import MeanEncoder\\n\\nvars_categorical = ['race_name']\\n\\nmean_enc = MeanEncoder(variables=vars_categorical)\\nmean_enc.fit(X_train, y_train)\\n\\nX_train_enc = mean_enc.transform(X_train)\\nX_test_enc = mean_enc.transform(X_test)\\n\\nX_train_enc.head()\\nmean_enc.encoder_dict_\\n\""
      ]
     },
     "execution_count": 110,
     "metadata": {},
     "output_type": "execute_result"
    }
   ],
   "source": [
    "\"\"\"\n",
    "#Target mean encoding\n",
    "\n",
    "from feature_engine.encoding import MeanEncoder\n",
    "\n",
    "vars_categorical = ['race_name']\n",
    "\n",
    "mean_enc = MeanEncoder(variables=vars_categorical)\n",
    "mean_enc.fit(X_train, y_train)\n",
    "\n",
    "X_train_enc = mean_enc.transform(X_train)\n",
    "X_test_enc = mean_enc.transform(X_test)\n",
    "\n",
    "X_train_enc.head()\n",
    "mean_enc.encoder_dict_\n",
    "\"\"\""
   ]
  },
  {
   "cell_type": "code",
   "execution_count": 111,
   "metadata": {},
   "outputs": [
    {
     "data": {
      "text/plain": [
       "'\\n#Grouping rare categories\\n\\nfrom feature_engine.encoding import RareLabelEncoder\\n\\nrare_encoder = RareLabelEncoder(tol=0.05, n_categories=4)  \\n\\nrare_encoder.fit(X_train)\\nX_train_enc = rare_encoder.transform(X_train)\\nX_test_enc = rare_encoder.transform(X_test)\\nX_train_enc.head()\\n\\nrare_encoder.encoder_dict_\\n'"
      ]
     },
     "execution_count": 111,
     "metadata": {},
     "output_type": "execute_result"
    }
   ],
   "source": [
    "\"\"\"\n",
    "#Grouping rare categories\n",
    "\n",
    "from feature_engine.encoding import RareLabelEncoder\n",
    "\n",
    "rare_encoder = RareLabelEncoder(tol=0.05, n_categories=4)  \n",
    "\n",
    "rare_encoder.fit(X_train)\n",
    "X_train_enc = rare_encoder.transform(X_train)\n",
    "X_test_enc = rare_encoder.transform(X_test)\n",
    "X_train_enc.head()\n",
    "\n",
    "rare_encoder.encoder_dict_\n",
    "\"\"\""
   ]
  },
  {
   "cell_type": "markdown",
   "metadata": {},
   "source": [
    "### Variable Discretization/Binniing <a id=\"O4\"></a>\n",
    "[Back to top](#top)"
   ]
  },
  {
   "cell_type": "code",
   "execution_count": 112,
   "metadata": {},
   "outputs": [
    {
     "data": {
      "text/plain": [
       "\"\\n#Equal Frequency Distribution\\nfrom sklearn.preprocessing import KBinsDiscretizer\\nfrom feature_engine.discretisation import EqualFrequencyDiscretiser\\n\\ndisc = EqualFrequencyDiscretiser(q=10, variables = ['race_year', 'race_month', 'race_quarter'])\\n\\ndisc.fit(X_train)\\ntrain_t = disc.transform(X_train)\\ntest_t = disc.transform(X_test)\\n\\n\""
      ]
     },
     "execution_count": 112,
     "metadata": {},
     "output_type": "execute_result"
    }
   ],
   "source": [
    "\"\"\"\n",
    "#Equal Frequency Distribution\n",
    "from sklearn.preprocessing import KBinsDiscretizer\n",
    "from feature_engine.discretisation import EqualFrequencyDiscretiser\n",
    "\n",
    "disc = EqualFrequencyDiscretiser(q=10, variables = ['race_year', 'race_month', 'race_quarter'])\n",
    "\n",
    "disc.fit(X_train)\n",
    "train_t = disc.transform(X_train)\n",
    "test_t = disc.transform(X_test)\n",
    "\n",
    "\"\"\""
   ]
  },
  {
   "cell_type": "markdown",
   "metadata": {},
   "source": [
    "### Feature Engineering <a id=\"O5\"></a>\n",
    "[Back to top](#top)"
   ]
  },
  {
   "cell_type": "code",
   "execution_count": 113,
   "metadata": {},
   "outputs": [
    {
     "data": {
      "text/plain": [
       "'\\n#Standardisation\\nfrom sklearn.preprocessing import StandardScaler\\n\\nscaler = StandardScaler()\\nscaler.fit(X_train[num_cols])\\n\\n\\nX_train_scaled = scaler.transform(X_train[num_cols])\\nX_test_scaled = scaler.transform(X_test[num_cols])\\n\\nscaler.mean_ #Mean\\nscaler.scale_ #SD\\n\\nX_train_scaled = pd.DataFrame(X_train_scaled, columns=X_train[num_cols].columns)\\nX_test_scaled = pd.DataFrame(X_test_scaled, columns=X_test[num_cols].columns)\\n'"
      ]
     },
     "execution_count": 113,
     "metadata": {},
     "output_type": "execute_result"
    }
   ],
   "source": [
    "\"\"\"\n",
    "#Standardisation\n",
    "from sklearn.preprocessing import StandardScaler\n",
    "\n",
    "scaler = StandardScaler()\n",
    "scaler.fit(X_train[num_cols])\n",
    "\n",
    "\n",
    "X_train_scaled = scaler.transform(X_train[num_cols])\n",
    "X_test_scaled = scaler.transform(X_test[num_cols])\n",
    "\n",
    "scaler.mean_ #Mean\n",
    "scaler.scale_ #SD\n",
    "\n",
    "X_train_scaled = pd.DataFrame(X_train_scaled, columns=X_train[num_cols].columns)\n",
    "X_test_scaled = pd.DataFrame(X_test_scaled, columns=X_test[num_cols].columns)\n",
    "\"\"\""
   ]
  },
  {
   "cell_type": "code",
   "execution_count": 114,
   "metadata": {},
   "outputs": [
    {
     "data": {
      "text/plain": [
       "'\\n#Mean Normalisation\\nfrom sklearn.preprocessing import StandardScaler, RobustScaler\\n\\nmeans = X_train.mean(axis=0)\\nranges = X_train[num_cols].max(axis=0)-X_train[num_cols2].min(axis=0)\\n\\nX_train_scaled = (X_train[num_cols] - means) / ranges\\nX_test_scaled = (X_test[num_cols] - means) / ranges\\n\\nX_train_scaled\\n'"
      ]
     },
     "execution_count": 114,
     "metadata": {},
     "output_type": "execute_result"
    }
   ],
   "source": [
    "\"\"\"\n",
    "#Mean Normalisation\n",
    "from sklearn.preprocessing import StandardScaler, RobustScaler\n",
    "\n",
    "means = X_train.mean(axis=0)\n",
    "ranges = X_train[num_cols].max(axis=0)-X_train[num_cols2].min(axis=0)\n",
    "\n",
    "X_train_scaled = (X_train[num_cols] - means) / ranges\n",
    "X_test_scaled = (X_test[num_cols] - means) / ranges\n",
    "\n",
    "X_train_scaled\n",
    "\"\"\""
   ]
  },
  {
   "cell_type": "code",
   "execution_count": 115,
   "metadata": {},
   "outputs": [
    {
     "data": {
      "text/plain": [
       "'\\n#Min-Max Scaling\\nfrom sklearn.preprocessing import MinMaxScaler\\n\\nscaler = MinMaxScaler()\\n\\nscaler.fit(X_train[num_cols])\\n\\nX_train_scaled = scaler.transform(X_train[num_cols])\\nX_test_scaled = scaler.transform(X_test[num_cols])\\n\\n#To show Max, Min & Range \\nscaler.data_max_\\nscaler.min_\\nscaler.data_range_\\n'"
      ]
     },
     "execution_count": 115,
     "metadata": {},
     "output_type": "execute_result"
    }
   ],
   "source": [
    "\"\"\"\n",
    "#Min-Max Scaling\n",
    "from sklearn.preprocessing import MinMaxScaler\n",
    "\n",
    "scaler = MinMaxScaler()\n",
    "\n",
    "scaler.fit(X_train[num_cols])\n",
    "\n",
    "X_train_scaled = scaler.transform(X_train[num_cols])\n",
    "X_test_scaled = scaler.transform(X_test[num_cols])\n",
    "\n",
    "#To show Max, Min & Range \n",
    "scaler.data_max_\n",
    "scaler.min_\n",
    "scaler.data_range_\n",
    "\"\"\""
   ]
  },
  {
   "cell_type": "code",
   "execution_count": 116,
   "metadata": {},
   "outputs": [
    {
     "data": {
      "text/plain": [
       "'\\n#Robust Scaling\\nfrom sklearn.preprocessing import RobustScaler\\n\\nscaler = RobustScaler()\\n\\n# fit the scaler to the train set, it will learn the parameters\\nscaler.fit(X_train[num_cols])\\n\\n# transform train and test sets\\nX_train_scaled = scaler.transform(X_train[num_cols])\\nX_test_scaled = scaler.transform(X_train[num_cols])\\n\\nscaler.center_\\nscaler.scale_\\n\\nX_train_scaled = pd.DataFrame(X_train_scaled, columns=X_train[num_cols].columns)\\nX_test_scaled = pd.DataFrame(X_test_scaled, columns=X_test[num_cols].columns)\\n'"
      ]
     },
     "execution_count": 116,
     "metadata": {},
     "output_type": "execute_result"
    }
   ],
   "source": [
    "\"\"\"\n",
    "#Robust Scaling\n",
    "from sklearn.preprocessing import RobustScaler\n",
    "\n",
    "scaler = RobustScaler()\n",
    "\n",
    "# fit the scaler to the train set, it will learn the parameters\n",
    "scaler.fit(X_train[num_cols])\n",
    "\n",
    "# transform train and test sets\n",
    "X_train_scaled = scaler.transform(X_train[num_cols])\n",
    "X_test_scaled = scaler.transform(X_train[num_cols])\n",
    "\n",
    "scaler.center_\n",
    "scaler.scale_\n",
    "\n",
    "X_train_scaled = pd.DataFrame(X_train_scaled, columns=X_train[num_cols].columns)\n",
    "X_test_scaled = pd.DataFrame(X_test_scaled, columns=X_test[num_cols].columns)\n",
    "\"\"\""
   ]
  }
 ],
 "metadata": {
  "kernelspec": {
   "display_name": "Python 3 (ipykernel)",
   "language": "python",
   "name": "python3"
  },
  "language_info": {
   "codemirror_mode": {
    "name": "ipython",
    "version": 3
   },
   "file_extension": ".py",
   "mimetype": "text/x-python",
   "name": "python",
   "nbconvert_exporter": "python",
   "pygments_lexer": "ipython3",
   "version": "3.9.7"
  }
 },
 "nbformat": 4,
 "nbformat_minor": 4
}
