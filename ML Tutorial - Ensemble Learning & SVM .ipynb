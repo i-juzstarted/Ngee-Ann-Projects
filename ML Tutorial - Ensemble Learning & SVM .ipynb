{
 "cells": [
  {
   "cell_type": "markdown",
   "metadata": {},
   "source": [
    "<table class=\"table table-bordered\">\n",
    "    <tr>\n",
    "        <th style=\"text-align:center; width:35%\"><img src='https://www.np.edu.sg/images/default-source/edm/schools-logos/ict-logo-full-colour.jpg' style=\"width: 500px; height: 125px; \"></th>\n",
    "        <th style=\"text-align:center;\"><h1>Machine Learning</h1><h2>Practical 6a - Ensemble Learning & SVM<br/></h2><h3>AY2022/23 Semester</h3></th>\n",
    "    </tr>\n",
    "</table>"
   ]
  },
  {
   "cell_type": "markdown",
   "metadata": {},
   "source": [
    "## Objectives\n",
    "After completing this practical exercise, students should be able to build various Ensemble Learning and SVM Models which inculding:\n",
    "1. [Random Forest: an ensemble of decision trees](#rf)\n",
    "2. [Ada Boost: a classsic boosting algorithm](#adb)\n",
    "3. [XGBoost: eXtreme Gradient Boosting algorithm](#xgb)\n",
    "4. [SVM: Support Vector Machine](#svm)"
   ]
  },
  {
   "cell_type": "markdown",
   "metadata": {},
   "source": [
    "In this practical, we will be using the cleansed titanic dataset (`titanic_new.csv`). First, we provide codes for you to load data and build a Decision Tree Model. Then, we will need you to complete the excercise by writing codes to build various ensemble models. \n",
    "\n",
    "You may find below YouTube video useful for you to complete the excersice. If you have difficulty to watch the video in Jupyter Notebook, please click [here](https://www.youtube.com/watch?v=X3Wbfb4M33w)."
   ]
  },
  {
   "cell_type": "code",
   "execution_count": 1,
   "metadata": {},
   "outputs": [
    {
     "data": {
      "image/jpeg": "[encoded data removed]",
      "text/html": [
       "\n",
       "        <iframe\n",
       "            width=\"400\"\n",
       "            height=\"300\"\n",
       "            src=\"https://www.youtube.com/embed/X3Wbfb4M33w\"\n",
       "            frameborder=\"0\"\n",
       "            allowfullscreen\n",
       "            \n",
       "        ></iframe>\n",
       "        "
      ],
      "text/plain": [
       "<IPython.lib.display.YouTubeVideo at 0x19850bf5ee0>"
      ]
     },
     "execution_count": 1,
     "metadata": {},
     "output_type": "execute_result"
    }
   ],
   "source": [
    "from IPython.display import YouTubeVideo\n",
    "YouTubeVideo('X3Wbfb4M33w')"
   ]
  },
  {
   "cell_type": "markdown",
   "metadata": {},
   "source": [
    "### Part 1: Load Data and Build a Decision Tree Model: "
   ]
  },
  {
   "cell_type": "code",
   "execution_count": 1,
   "metadata": {},
   "outputs": [],
   "source": [
    "# Imports needed for this Practical\n",
    "import numpy as np \n",
    "import pandas as pd\n",
    "from sklearn.model_selection import train_test_split\n",
    "from sklearn.tree import DecisionTreeClassifier\n",
    "from sklearn. ensemble import RandomForestClassifier, BaggingClassifier, AdaBoostClassifier, VotingClassifier\n",
    "from sklearn.linear_model import LogisticRegression\n",
    "from sklearn.svm import SVC\n"
   ]
  },
  {
   "cell_type": "code",
   "execution_count": 2,
   "metadata": {},
   "outputs": [],
   "source": [
    "# Load Data and Split into train & test data\n",
    "data = pd.read_csv('titanic_new.csv')\n",
    "df_x = data.iloc[:,1:]\n",
    "df_y = data.iloc[:,0]\n",
    "x_train, x_test, y_train, y_test = train_test_split(df_x, df_y, test_size=0.2, random_state = 4)"
   ]
  },
  {
   "cell_type": "code",
   "execution_count": 3,
   "metadata": {},
   "outputs": [
    {
     "name": "stdout",
     "output_type": "stream",
     "text": [
      "training accuracy is:  0.9620786516853933\n",
      "testing accuracy is:  0.8324022346368715\n"
     ]
    }
   ],
   "source": [
    "# Build Descision tree Model and Evaluate both training and testing accuracy\n",
    "dt = DecisionTreeClassifier()\n",
    "dt.fit(x_train,y_train)\n",
    "\n",
    "print('training accuracy is: ', dt.score(x_train,y_train))\n",
    "print('testing accuracy is: ', dt.score(x_test,y_test))"
   ]
  },
  {
   "cell_type": "markdown",
   "metadata": {},
   "source": [
    "### Part 2: Exercise"
   ]
  },
  {
   "cell_type": "markdown",
   "metadata": {},
   "source": [
    "### 1. Random Forest - Ensemble of Descision Trees  <a id='rf' />"
   ]
  },
  {
   "cell_type": "code",
   "execution_count": 4,
   "metadata": {},
   "outputs": [
    {
     "name": "stdout",
     "output_type": "stream",
     "text": [
      "The training accuracy is:  0.8230337078651685\n",
      "The testing accuracy is:  0.8547486033519553\n"
     ]
    }
   ],
   "source": [
    "#Task 1: Build Random Forest Model and Evaluate both training and testing accuracy\n",
    "random_forest = RandomForestClassifier(n_estimators = 10, max_depth=4)\n",
    "random_forest.fit(x_train, y_train)\n",
    "\n",
    "\n",
    "print('The training accuracy is: ', random_forest.score(x_train,y_train))\n",
    "print('The testing accuracy is: ', random_forest.score(x_test,y_test))"
   ]
  },
  {
   "cell_type": "markdown",
   "metadata": {},
   "source": [
    "### 2. Ada Boost <a id='adb' />"
   ]
  },
  {
   "cell_type": "code",
   "execution_count": 5,
   "metadata": {},
   "outputs": [
    {
     "name": "stdout",
     "output_type": "stream",
     "text": [
      "The training accuracy is:  0.8412921348314607\n",
      "The testing accuracy is:  0.8603351955307262\n"
     ]
    }
   ],
   "source": [
    "#Task 2: Build Ada Boost Model and Evaluate both training and testing accuracy\n",
    "ada_boost = AdaBoostClassifier(DecisionTreeClassifier(max_depth=3), n_estimators = 20, learning_rate = 0.1)\n",
    "ada_boost.fit(x_train,y_train)\n",
    "\n",
    "print('The training accuracy is: ', ada_boost.score(x_train,y_train))\n",
    "print('The testing accuracy is: ', ada_boost.score(x_test,y_test))"
   ]
  },
  {
   "cell_type": "markdown",
   "metadata": {},
   "source": [
    "### 3. XGBoost - eXtreme Gradient Boosting  <a id='xgb' />\n",
    "XGBoost is an algorithm that has recently been dominating applied machine learning and Kaggle competitions for structured or tabular data. Please click [here](https://machinelearningmastery.com/gentle-introduction-xgboost-applied-machine-learning/) to gain a better understanding on XGBoost. This webpage is also helpful for you to the complete below excercise."
   ]
  },
  {
   "cell_type": "markdown",
   "metadata": {},
   "source": [
    "First, you need to install `xgboost` package. \n",
    "* For windows users you can type `conda install -c anaconda py-xgboost` in Anaconda terminal to install; \n",
    "* For other operating systems, please refer to Anaconda website for details (click [here](https://anaconda.org/search?q=xgboost))"
   ]
  },
  {
   "cell_type": "code",
   "execution_count": 6,
   "metadata": {},
   "outputs": [],
   "source": [
    "# import XGBClassifier from xgboost package\n",
    "from xgboost import XGBClassifier "
   ]
  },
  {
   "cell_type": "code",
   "execution_count": 7,
   "metadata": {},
   "outputs": [
    {
     "name": "stdout",
     "output_type": "stream",
     "text": [
      "The training accuracy is:  0.8764044943820225\n",
      "The testing accuracy is:  0.8603351955307262\n"
     ]
    }
   ],
   "source": [
    "# Task 3: Build XGBoost Model and Evaluate both training and testing accuracy \n",
    "\n",
    "XGBoost = XGBClassifier(n_estimators = 20, learning_rate=0.1, use_label_encoder = False, eval_metric='logloss')\n",
    "XGBoost.fit(x_train, y_train)\n",
    "\n",
    "print('The training accuracy is: ', XGBoost.score(x_train,y_train))\n",
    "print('The testing accuracy is: ', XGBoost.score(x_test,y_test))"
   ]
  },
  {
   "cell_type": "markdown",
   "metadata": {},
   "source": [
    "### 4. SVM - Support Vector Machine  <a id='svm' />\n",
    "To better understand the Support Vector Machine algorithm and the model hypterparameters, please click [here](https://www.linkedin.com/learning-login/share?forceAccount=false&redirect=https%3A%2F%2Fwww.linkedin.com%2Flearning%2Fapplied-machine-learning-algorithms%3Ftrk%3Dshare_ent_url&account=42538748) to watch the videos related to Support Vector Machine section of the course. \n",
    "\n",
    "(Note: remember to login to Linkedin Learning website using your NP student email)."
   ]
  },
  {
   "cell_type": "code",
   "execution_count": 8,
   "metadata": {},
   "outputs": [
    {
     "name": "stdout",
     "output_type": "stream",
     "text": [
      "The training accuracy is:  0.8258426966292135\n",
      "The testing accuracy is:  0.8547486033519553\n"
     ]
    }
   ],
   "source": [
    "# Task 4: Build SVM Model and Evaluate both training and testing accuracy \n",
    "support_vector_machine = SVC(C=0.8, kernel = 'rbf')\n",
    "support_vector_machine.fit(x_train, y_train)\n",
    "\n",
    "print('The training accuracy is: ', support_vector_machine.score(x_train,y_train))\n",
    "print('The testing accuracy is: ', support_vector_machine.score(x_test,y_test))"
   ]
  }
 ],
 "metadata": {
  "kernelspec": {
   "display_name": "Python 3 (ipykernel)",
   "language": "python",
   "name": "python3"
  },
  "language_info": {
   "codemirror_mode": {
    "name": "ipython",
    "version": 3
   },
   "file_extension": ".py",
   "mimetype": "text/x-python",
   "name": "python",
   "nbconvert_exporter": "python",
   "pygments_lexer": "ipython3",
   "version": "3.9.7"
  }
 },
 "nbformat": 4,
 "nbformat_minor": 2
}
