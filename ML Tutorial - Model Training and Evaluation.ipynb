{
 "cells": [
  {
   "cell_type": "markdown",
   "metadata": {},
   "source": [
    "<table class=\"table table-bordered\">\n",
    "    <tr>\n",
    "        <th style=\"text-align:center; width:35%\"><img src='https://www.np.edu.sg/images/default-source/edm/schools-logos/ict-logo-full-colour.jpg' style=\"width: 500px; height: 125px; \"></th>\n",
    "        <th style=\"text-align:center;\"><h1>Machine Learning</h1><h2>Practical 6b - Model Training and Evaluation</h2><h3>AY2022/23 Semester</h3></th>\n",
    "    </tr>\n",
    "</table>"
   ]
  },
  {
   "cell_type": "markdown",
   "metadata": {},
   "source": [
    "### Objectives\n",
    "After completing this practical exercise, students should be able to:\n",
    "1. [Train and Evaluate a Classification Model](#class)\n",
    "2. [Train and Evaluate a Regression Model](#reg)\n",
    "3. [Exercise](#exc)"
   ]
  },
  {
   "cell_type": "markdown",
   "metadata": {},
   "source": [
    "### 1. Train and Evaluation a Classification Model <a id='class' />\n",
    "\n",
    "In this section, we will be using the same dataset (`titanic_new.csv`, the cleansed titanic dataset) you have been used in the past weeks. "
   ]
  },
  {
   "cell_type": "code",
   "execution_count": 1,
   "metadata": {},
   "outputs": [],
   "source": [
    "# Imports needed for this Practical\n",
    "import numpy as np \n",
    "import pandas as pd\n",
    "from sklearn.model_selection import train_test_split\n",
    "from sklearn.tree import DecisionTreeClassifier\n",
    "from sklearn. ensemble import RandomForestClassifier, RandomForestRegressor\n",
    "\n",
    "from sklearn.model_selection import cross_val_score, cross_validate\n",
    "from sklearn.model_selection import GridSearchCV\n",
    "\n",
    "import matplotlib.pyplot as plt\n",
    "%matplotlib inline"
   ]
  },
  {
   "cell_type": "markdown",
   "metadata": {},
   "source": [
    "#### 1.1 Simple train & test split\n",
    "We start by using the simple train-test split which we have been using in the past several weeks."
   ]
  },
  {
   "cell_type": "code",
   "execution_count": 2,
   "metadata": {},
   "outputs": [],
   "source": [
    "# Load Data and Split into train & test data\n",
    "data = pd.read_csv('titanic_new.csv')\n",
    "df_x = data.iloc[:,1:]\n",
    "df_y = data.iloc[:,0]\n",
    "x_train, x_test, y_train, y_test = train_test_split(df_x, df_y, test_size=0.2, random_state = 4)"
   ]
  },
  {
   "cell_type": "code",
   "execution_count": 3,
   "metadata": {},
   "outputs": [
    {
     "data": {
      "text/html": [
       "<div>\n",
       "<style scoped>\n",
       "    .dataframe tbody tr th:only-of-type {\n",
       "        vertical-align: middle;\n",
       "    }\n",
       "\n",
       "    .dataframe tbody tr th {\n",
       "        vertical-align: top;\n",
       "    }\n",
       "\n",
       "    .dataframe thead th {\n",
       "        text-align: right;\n",
       "    }\n",
       "</style>\n",
       "<table border=\"1\" class=\"dataframe\">\n",
       "  <thead>\n",
       "    <tr style=\"text-align: right;\">\n",
       "      <th></th>\n",
       "      <th>Pclass</th>\n",
       "      <th>Gender</th>\n",
       "      <th>Age</th>\n",
       "      <th>SibSp</th>\n",
       "      <th>Parch</th>\n",
       "      <th>Fare</th>\n",
       "      <th>Cabin</th>\n",
       "      <th>Embarked</th>\n",
       "      <th>Title</th>\n",
       "      <th>FamilySize</th>\n",
       "      <th>IsAlone</th>\n",
       "    </tr>\n",
       "  </thead>\n",
       "  <tbody>\n",
       "    <tr>\n",
       "      <th>42</th>\n",
       "      <td>3</td>\n",
       "      <td>1</td>\n",
       "      <td>0.3500</td>\n",
       "      <td>0</td>\n",
       "      <td>0</td>\n",
       "      <td>0</td>\n",
       "      <td>0</td>\n",
       "      <td>1</td>\n",
       "      <td>1</td>\n",
       "      <td>1</td>\n",
       "      <td>1</td>\n",
       "    </tr>\n",
       "    <tr>\n",
       "      <th>684</th>\n",
       "      <td>2</td>\n",
       "      <td>1</td>\n",
       "      <td>0.7500</td>\n",
       "      <td>1</td>\n",
       "      <td>1</td>\n",
       "      <td>3</td>\n",
       "      <td>0</td>\n",
       "      <td>0</td>\n",
       "      <td>1</td>\n",
       "      <td>3</td>\n",
       "      <td>0</td>\n",
       "    </tr>\n",
       "    <tr>\n",
       "      <th>605</th>\n",
       "      <td>3</td>\n",
       "      <td>1</td>\n",
       "      <td>0.4500</td>\n",
       "      <td>1</td>\n",
       "      <td>0</td>\n",
       "      <td>2</td>\n",
       "      <td>0</td>\n",
       "      <td>0</td>\n",
       "      <td>1</td>\n",
       "      <td>2</td>\n",
       "      <td>0</td>\n",
       "    </tr>\n",
       "    <tr>\n",
       "      <th>409</th>\n",
       "      <td>3</td>\n",
       "      <td>0</td>\n",
       "      <td>0.3500</td>\n",
       "      <td>3</td>\n",
       "      <td>1</td>\n",
       "      <td>2</td>\n",
       "      <td>0</td>\n",
       "      <td>0</td>\n",
       "      <td>4</td>\n",
       "      <td>5</td>\n",
       "      <td>0</td>\n",
       "    </tr>\n",
       "    <tr>\n",
       "      <th>740</th>\n",
       "      <td>1</td>\n",
       "      <td>1</td>\n",
       "      <td>0.3500</td>\n",
       "      <td>0</td>\n",
       "      <td>0</td>\n",
       "      <td>2</td>\n",
       "      <td>1</td>\n",
       "      <td>0</td>\n",
       "      <td>1</td>\n",
       "      <td>1</td>\n",
       "      <td>1</td>\n",
       "    </tr>\n",
       "    <tr>\n",
       "      <th>...</th>\n",
       "      <td>...</td>\n",
       "      <td>...</td>\n",
       "      <td>...</td>\n",
       "      <td>...</td>\n",
       "      <td>...</td>\n",
       "      <td>...</td>\n",
       "      <td>...</td>\n",
       "      <td>...</td>\n",
       "      <td>...</td>\n",
       "      <td>...</td>\n",
       "      <td>...</td>\n",
       "    </tr>\n",
       "    <tr>\n",
       "      <th>360</th>\n",
       "      <td>3</td>\n",
       "      <td>1</td>\n",
       "      <td>0.5000</td>\n",
       "      <td>1</td>\n",
       "      <td>4</td>\n",
       "      <td>2</td>\n",
       "      <td>0</td>\n",
       "      <td>0</td>\n",
       "      <td>1</td>\n",
       "      <td>6</td>\n",
       "      <td>0</td>\n",
       "    </tr>\n",
       "    <tr>\n",
       "      <th>709</th>\n",
       "      <td>3</td>\n",
       "      <td>1</td>\n",
       "      <td>0.3500</td>\n",
       "      <td>1</td>\n",
       "      <td>1</td>\n",
       "      <td>2</td>\n",
       "      <td>0</td>\n",
       "      <td>1</td>\n",
       "      <td>2</td>\n",
       "      <td>3</td>\n",
       "      <td>0</td>\n",
       "    </tr>\n",
       "    <tr>\n",
       "      <th>439</th>\n",
       "      <td>2</td>\n",
       "      <td>1</td>\n",
       "      <td>0.3875</td>\n",
       "      <td>0</td>\n",
       "      <td>0</td>\n",
       "      <td>1</td>\n",
       "      <td>0</td>\n",
       "      <td>0</td>\n",
       "      <td>1</td>\n",
       "      <td>1</td>\n",
       "      <td>1</td>\n",
       "    </tr>\n",
       "    <tr>\n",
       "      <th>174</th>\n",
       "      <td>1</td>\n",
       "      <td>1</td>\n",
       "      <td>0.7000</td>\n",
       "      <td>0</td>\n",
       "      <td>0</td>\n",
       "      <td>2</td>\n",
       "      <td>1</td>\n",
       "      <td>1</td>\n",
       "      <td>1</td>\n",
       "      <td>1</td>\n",
       "      <td>1</td>\n",
       "    </tr>\n",
       "    <tr>\n",
       "      <th>122</th>\n",
       "      <td>2</td>\n",
       "      <td>1</td>\n",
       "      <td>0.4000</td>\n",
       "      <td>1</td>\n",
       "      <td>0</td>\n",
       "      <td>2</td>\n",
       "      <td>0</td>\n",
       "      <td>1</td>\n",
       "      <td>1</td>\n",
       "      <td>2</td>\n",
       "      <td>0</td>\n",
       "    </tr>\n",
       "  </tbody>\n",
       "</table>\n",
       "<p>712 rows × 11 columns</p>\n",
       "</div>"
      ],
      "text/plain": [
       "     Pclass  Gender     Age  SibSp  Parch  Fare  Cabin  Embarked  Title  \\\n",
       "42        3       1  0.3500      0      0     0      0         1      1   \n",
       "684       2       1  0.7500      1      1     3      0         0      1   \n",
       "605       3       1  0.4500      1      0     2      0         0      1   \n",
       "409       3       0  0.3500      3      1     2      0         0      4   \n",
       "740       1       1  0.3500      0      0     2      1         0      1   \n",
       "..      ...     ...     ...    ...    ...   ...    ...       ...    ...   \n",
       "360       3       1  0.5000      1      4     2      0         0      1   \n",
       "709       3       1  0.3500      1      1     2      0         1      2   \n",
       "439       2       1  0.3875      0      0     1      0         0      1   \n",
       "174       1       1  0.7000      0      0     2      1         1      1   \n",
       "122       2       1  0.4000      1      0     2      0         1      1   \n",
       "\n",
       "     FamilySize  IsAlone  \n",
       "42            1        1  \n",
       "684           3        0  \n",
       "605           2        0  \n",
       "409           5        0  \n",
       "740           1        1  \n",
       "..          ...      ...  \n",
       "360           6        0  \n",
       "709           3        0  \n",
       "439           1        1  \n",
       "174           1        1  \n",
       "122           2        0  \n",
       "\n",
       "[712 rows x 11 columns]"
      ]
     },
     "execution_count": 3,
     "metadata": {},
     "output_type": "execute_result"
    }
   ],
   "source": [
    "x_train"
   ]
  },
  {
   "cell_type": "code",
   "execution_count": 4,
   "metadata": {},
   "outputs": [
    {
     "name": "stdout",
     "output_type": "stream",
     "text": [
      "training accuracy is:  0.9592696629213483\n",
      "testing accuracy is:  0.8379888268156425\n"
     ]
    }
   ],
   "source": [
    "# Build Random Forest Model and Evaluate both training and testing accuracy\n",
    "rf = RandomForestClassifier(n_estimators=40)\n",
    "rf.fit(x_train,y_train)\n",
    "\n",
    "print('training accuracy is: ', rf.score(x_train,y_train))\n",
    "print('testing accuracy is: ', rf.score(x_test,y_test))"
   ]
  },
  {
   "cell_type": "markdown",
   "metadata": {},
   "source": [
    "* The high training accuracy suggests the model has low bias. \n",
    "* A big gap between training accuracy and testing accuracy suggest the model has high variance. \n",
    "\n",
    "Thus, the model is overfitted to the training data."
   ]
  },
  {
   "cell_type": "markdown",
   "metadata": {},
   "source": [
    "#### 1.2 K-folds Cross Validation"
   ]
  },
  {
   "cell_type": "markdown",
   "metadata": {},
   "source": [
    "Now let's do something different. Instead of spliting into train and test data, we randomly split the full dataset into 5 folds (K=5) and then train & evaluate the Decision Tree model 5 times, picking a different fold for evaluation every time and training on the other 4 folds. The result is an array containing the 5 evaluation scores for both training and testing scores: "
   ]
  },
  {
   "cell_type": "code",
   "execution_count": 5,
   "metadata": {},
   "outputs": [
    {
     "name": "stdout",
     "output_type": "stream",
     "text": [
      "train_score:  [0.96348315 0.96633941 0.96493689 0.96213184 0.95511921]\n",
      "test_score:  [0.7877095  0.7752809  0.82022472 0.76404494 0.81460674]\n"
     ]
    }
   ],
   "source": [
    "# Evaluate the Model using K-folds Cross validation\n",
    "results  = cross_validate(rf, df_x, df_y, scoring='accuracy', cv=5, return_train_score = True)\n",
    "print('train_score: ', results['train_score'])\n",
    "print('test_score: ', results['test_score'])"
   ]
  },
  {
   "cell_type": "markdown",
   "metadata": {},
   "source": [
    "The cross validation traning and testing accuracy will be an average of the 5 evaluation scores respectively, shown per below."
   ]
  },
  {
   "cell_type": "code",
   "execution_count": 6,
   "metadata": {},
   "outputs": [
    {
     "name": "stdout",
     "output_type": "stream",
     "text": [
      "cross val training accuracy is: 0.9624020990592055\n",
      "cross val testing accuracy is: 0.7923733601154981\n"
     ]
    }
   ],
   "source": [
    "print('cross val training accuracy is:', sum(results['train_score'])/len(results['train_score']))\n",
    "print('cross val testing accuracy is:', sum(results['test_score'])/len(results['test_score']))"
   ]
  },
  {
   "cell_type": "markdown",
   "metadata": {},
   "source": [
    "As an average of 5 experiments, the cross validation measures (train and test accuracy) are more representative than the simple split measures (train and test accuracy), which is only coming from one simple split. \n"
   ]
  },
  {
   "cell_type": "markdown",
   "metadata": {},
   "source": [
    "#### 1.3 Grid Search\n",
    "To improve our model, we use the grid search to try to find the best parametars, details are shown below. "
   ]
  },
  {
   "cell_type": "code",
   "execution_count": 7,
   "metadata": {},
   "outputs": [
    {
     "name": "stdout",
     "output_type": "stream",
     "text": [
      "0.8305316678174629\n",
      "{'criterion': 'gini', 'max_depth': 6, 'min_samples_leaf': 10, 'n_estimators': 10}\n"
     ]
    }
   ],
   "source": [
    "# Grid Search\n",
    "\n",
    "rf = RandomForestClassifier(max_features='auto', random_state=1, n_jobs=-1)\n",
    "\n",
    "param_grid = { \"criterion\" : [\"gini\", \"entropy\"], \n",
    "              \"max_depth\": [2, 4, 6, 8], \n",
    "              \"min_samples_leaf\" : [1, 5, 10], \n",
    "              \"n_estimators\": [10, 20, 50, 100]}\n",
    "\n",
    "gs = GridSearchCV(estimator=rf, param_grid=param_grid, scoring='accuracy', cv=5, n_jobs=-1)\n",
    "\n",
    "gs = gs.fit(df_x, df_y)\n",
    "\n",
    "print(gs.best_score_)\n",
    "print(gs.best_params_)\n",
    "#print(gs.cv_results_)"
   ]
  },
  {
   "cell_type": "markdown",
   "metadata": {},
   "source": [
    "Now let's build the final model using the above recommended parametars and do a final evaluation for the model. "
   ]
  },
  {
   "cell_type": "code",
   "execution_count": 8,
   "metadata": {},
   "outputs": [
    {
     "name": "stdout",
     "output_type": "stream",
     "text": [
      "***Final Model***\n",
      "training acc:  0.8300561797752809\n",
      "testing acc:  0.8435754189944135\n",
      "cross val training accuracy is: 0.8409107742250658\n",
      "cross val testing accuracy is: 0.8305316678174629\n"
     ]
    }
   ],
   "source": [
    "rf_final = RandomForestClassifier(criterion='gini', \n",
    "                             n_estimators=10,\n",
    "                             max_depth=6,\n",
    "                             min_samples_leaf=10,\n",
    "                             max_features='auto',                             \n",
    "                             random_state=1,\n",
    "                             n_jobs=-1)\n",
    "\n",
    "rf_final.fit(x_train,y_train)\n",
    "\n",
    "print('***Final Model***')\n",
    "print('training acc: ', rf_final.score(x_train,y_train))\n",
    "print('testing acc: ', rf_final.score(x_test,y_test))\n",
    "results  = cross_validate(rf_final, df_x, df_y, scoring='accuracy', cv=5, return_train_score = True)\n",
    "print('cross val training accuracy is:', sum(results['train_score'])/len(results['train_score']))\n",
    "print('cross val testing accuracy is:', sum(results['test_score'])/len(results['test_score']))"
   ]
  },
  {
   "cell_type": "markdown",
   "metadata": {},
   "source": [
    "#### 1.4 Feature Importances\n"
   ]
  },
  {
   "cell_type": "markdown",
   "metadata": {},
   "source": [
    "If you look at a single Decision Tree, important features are likely to appear closer to the root of the tree, while unimportant features will often appear closer to the leaves (or not at all). It is therefore possible to get an estimate of a feature's importance by computing the average depth at which it appears accross all trees in the forest. \n",
    "\n",
    "Scikit-Learning computes this automatically using `feature_importances_`, details are shown below."
   ]
  },
  {
   "cell_type": "code",
   "execution_count": 9,
   "metadata": {},
   "outputs": [
    {
     "data": {
      "text/html": [
       "<div>\n",
       "<style scoped>\n",
       "    .dataframe tbody tr th:only-of-type {\n",
       "        vertical-align: middle;\n",
       "    }\n",
       "\n",
       "    .dataframe tbody tr th {\n",
       "        vertical-align: top;\n",
       "    }\n",
       "\n",
       "    .dataframe thead th {\n",
       "        text-align: right;\n",
       "    }\n",
       "</style>\n",
       "<table border=\"1\" class=\"dataframe\">\n",
       "  <thead>\n",
       "    <tr style=\"text-align: right;\">\n",
       "      <th></th>\n",
       "      <th>Pclass</th>\n",
       "      <th>Gender</th>\n",
       "      <th>Age</th>\n",
       "      <th>SibSp</th>\n",
       "      <th>Parch</th>\n",
       "      <th>Fare</th>\n",
       "      <th>Cabin</th>\n",
       "      <th>Embarked</th>\n",
       "      <th>Title</th>\n",
       "      <th>FamilySize</th>\n",
       "      <th>IsAlone</th>\n",
       "    </tr>\n",
       "  </thead>\n",
       "  <tbody>\n",
       "    <tr>\n",
       "      <th>42</th>\n",
       "      <td>3</td>\n",
       "      <td>1</td>\n",
       "      <td>0.3500</td>\n",
       "      <td>0</td>\n",
       "      <td>0</td>\n",
       "      <td>0</td>\n",
       "      <td>0</td>\n",
       "      <td>1</td>\n",
       "      <td>1</td>\n",
       "      <td>1</td>\n",
       "      <td>1</td>\n",
       "    </tr>\n",
       "    <tr>\n",
       "      <th>684</th>\n",
       "      <td>2</td>\n",
       "      <td>1</td>\n",
       "      <td>0.7500</td>\n",
       "      <td>1</td>\n",
       "      <td>1</td>\n",
       "      <td>3</td>\n",
       "      <td>0</td>\n",
       "      <td>0</td>\n",
       "      <td>1</td>\n",
       "      <td>3</td>\n",
       "      <td>0</td>\n",
       "    </tr>\n",
       "    <tr>\n",
       "      <th>605</th>\n",
       "      <td>3</td>\n",
       "      <td>1</td>\n",
       "      <td>0.4500</td>\n",
       "      <td>1</td>\n",
       "      <td>0</td>\n",
       "      <td>2</td>\n",
       "      <td>0</td>\n",
       "      <td>0</td>\n",
       "      <td>1</td>\n",
       "      <td>2</td>\n",
       "      <td>0</td>\n",
       "    </tr>\n",
       "    <tr>\n",
       "      <th>409</th>\n",
       "      <td>3</td>\n",
       "      <td>0</td>\n",
       "      <td>0.3500</td>\n",
       "      <td>3</td>\n",
       "      <td>1</td>\n",
       "      <td>2</td>\n",
       "      <td>0</td>\n",
       "      <td>0</td>\n",
       "      <td>4</td>\n",
       "      <td>5</td>\n",
       "      <td>0</td>\n",
       "    </tr>\n",
       "    <tr>\n",
       "      <th>740</th>\n",
       "      <td>1</td>\n",
       "      <td>1</td>\n",
       "      <td>0.3500</td>\n",
       "      <td>0</td>\n",
       "      <td>0</td>\n",
       "      <td>2</td>\n",
       "      <td>1</td>\n",
       "      <td>0</td>\n",
       "      <td>1</td>\n",
       "      <td>1</td>\n",
       "      <td>1</td>\n",
       "    </tr>\n",
       "    <tr>\n",
       "      <th>...</th>\n",
       "      <td>...</td>\n",
       "      <td>...</td>\n",
       "      <td>...</td>\n",
       "      <td>...</td>\n",
       "      <td>...</td>\n",
       "      <td>...</td>\n",
       "      <td>...</td>\n",
       "      <td>...</td>\n",
       "      <td>...</td>\n",
       "      <td>...</td>\n",
       "      <td>...</td>\n",
       "    </tr>\n",
       "    <tr>\n",
       "      <th>360</th>\n",
       "      <td>3</td>\n",
       "      <td>1</td>\n",
       "      <td>0.5000</td>\n",
       "      <td>1</td>\n",
       "      <td>4</td>\n",
       "      <td>2</td>\n",
       "      <td>0</td>\n",
       "      <td>0</td>\n",
       "      <td>1</td>\n",
       "      <td>6</td>\n",
       "      <td>0</td>\n",
       "    </tr>\n",
       "    <tr>\n",
       "      <th>709</th>\n",
       "      <td>3</td>\n",
       "      <td>1</td>\n",
       "      <td>0.3500</td>\n",
       "      <td>1</td>\n",
       "      <td>1</td>\n",
       "      <td>2</td>\n",
       "      <td>0</td>\n",
       "      <td>1</td>\n",
       "      <td>2</td>\n",
       "      <td>3</td>\n",
       "      <td>0</td>\n",
       "    </tr>\n",
       "    <tr>\n",
       "      <th>439</th>\n",
       "      <td>2</td>\n",
       "      <td>1</td>\n",
       "      <td>0.3875</td>\n",
       "      <td>0</td>\n",
       "      <td>0</td>\n",
       "      <td>1</td>\n",
       "      <td>0</td>\n",
       "      <td>0</td>\n",
       "      <td>1</td>\n",
       "      <td>1</td>\n",
       "      <td>1</td>\n",
       "    </tr>\n",
       "    <tr>\n",
       "      <th>174</th>\n",
       "      <td>1</td>\n",
       "      <td>1</td>\n",
       "      <td>0.7000</td>\n",
       "      <td>0</td>\n",
       "      <td>0</td>\n",
       "      <td>2</td>\n",
       "      <td>1</td>\n",
       "      <td>1</td>\n",
       "      <td>1</td>\n",
       "      <td>1</td>\n",
       "      <td>1</td>\n",
       "    </tr>\n",
       "    <tr>\n",
       "      <th>122</th>\n",
       "      <td>2</td>\n",
       "      <td>1</td>\n",
       "      <td>0.4000</td>\n",
       "      <td>1</td>\n",
       "      <td>0</td>\n",
       "      <td>2</td>\n",
       "      <td>0</td>\n",
       "      <td>1</td>\n",
       "      <td>1</td>\n",
       "      <td>2</td>\n",
       "      <td>0</td>\n",
       "    </tr>\n",
       "  </tbody>\n",
       "</table>\n",
       "<p>712 rows × 11 columns</p>\n",
       "</div>"
      ],
      "text/plain": [
       "     Pclass  Gender     Age  SibSp  Parch  Fare  Cabin  Embarked  Title  \\\n",
       "42        3       1  0.3500      0      0     0      0         1      1   \n",
       "684       2       1  0.7500      1      1     3      0         0      1   \n",
       "605       3       1  0.4500      1      0     2      0         0      1   \n",
       "409       3       0  0.3500      3      1     2      0         0      4   \n",
       "740       1       1  0.3500      0      0     2      1         0      1   \n",
       "..      ...     ...     ...    ...    ...   ...    ...       ...    ...   \n",
       "360       3       1  0.5000      1      4     2      0         0      1   \n",
       "709       3       1  0.3500      1      1     2      0         1      2   \n",
       "439       2       1  0.3875      0      0     1      0         0      1   \n",
       "174       1       1  0.7000      0      0     2      1         1      1   \n",
       "122       2       1  0.4000      1      0     2      0         1      1   \n",
       "\n",
       "     FamilySize  IsAlone  \n",
       "42            1        1  \n",
       "684           3        0  \n",
       "605           2        0  \n",
       "409           5        0  \n",
       "740           1        1  \n",
       "..          ...      ...  \n",
       "360           6        0  \n",
       "709           3        0  \n",
       "439           1        1  \n",
       "174           1        1  \n",
       "122           2        0  \n",
       "\n",
       "[712 rows x 11 columns]"
      ]
     },
     "execution_count": 9,
     "metadata": {},
     "output_type": "execute_result"
    }
   ],
   "source": [
    "x_train"
   ]
  },
  {
   "cell_type": "code",
   "execution_count": 10,
   "metadata": {},
   "outputs": [
    {
     "data": {
      "text/plain": [
       "Index(['Pclass', 'Gender', 'Age', 'SibSp', 'Parch', 'Fare', 'Cabin',\n",
       "       'Embarked', 'Title', 'FamilySize', 'IsAlone'],\n",
       "      dtype='object')"
      ]
     },
     "execution_count": 10,
     "metadata": {},
     "output_type": "execute_result"
    }
   ],
   "source": [
    "x_train.columns"
   ]
  },
  {
   "cell_type": "code",
   "execution_count": 11,
   "metadata": {},
   "outputs": [
    {
     "data": {
      "text/plain": [
       "array([0.15007096, 0.37043224, 0.07034837, 0.04327562, 0.01234083,\n",
       "       0.04656932, 0.05002898, 0.01905151, 0.19801596, 0.03441965,\n",
       "       0.00544655])"
      ]
     },
     "execution_count": 11,
     "metadata": {},
     "output_type": "execute_result"
    }
   ],
   "source": [
    "rf_final.feature_importances_"
   ]
  },
  {
   "cell_type": "code",
   "execution_count": 12,
   "metadata": {},
   "outputs": [
    {
     "data": {
      "text/html": [
       "<div>\n",
       "<style scoped>\n",
       "    .dataframe tbody tr th:only-of-type {\n",
       "        vertical-align: middle;\n",
       "    }\n",
       "\n",
       "    .dataframe tbody tr th {\n",
       "        vertical-align: top;\n",
       "    }\n",
       "\n",
       "    .dataframe thead th {\n",
       "        text-align: right;\n",
       "    }\n",
       "</style>\n",
       "<table border=\"1\" class=\"dataframe\">\n",
       "  <thead>\n",
       "    <tr style=\"text-align: right;\">\n",
       "      <th></th>\n",
       "      <th>feature</th>\n",
       "      <th>importance</th>\n",
       "    </tr>\n",
       "  </thead>\n",
       "  <tbody>\n",
       "    <tr>\n",
       "      <th>1</th>\n",
       "      <td>Gender</td>\n",
       "      <td>0.370432</td>\n",
       "    </tr>\n",
       "    <tr>\n",
       "      <th>8</th>\n",
       "      <td>Title</td>\n",
       "      <td>0.198016</td>\n",
       "    </tr>\n",
       "    <tr>\n",
       "      <th>0</th>\n",
       "      <td>Pclass</td>\n",
       "      <td>0.150071</td>\n",
       "    </tr>\n",
       "    <tr>\n",
       "      <th>2</th>\n",
       "      <td>Age</td>\n",
       "      <td>0.070348</td>\n",
       "    </tr>\n",
       "    <tr>\n",
       "      <th>6</th>\n",
       "      <td>Cabin</td>\n",
       "      <td>0.050029</td>\n",
       "    </tr>\n",
       "    <tr>\n",
       "      <th>5</th>\n",
       "      <td>Fare</td>\n",
       "      <td>0.046569</td>\n",
       "    </tr>\n",
       "    <tr>\n",
       "      <th>3</th>\n",
       "      <td>SibSp</td>\n",
       "      <td>0.043276</td>\n",
       "    </tr>\n",
       "    <tr>\n",
       "      <th>9</th>\n",
       "      <td>FamilySize</td>\n",
       "      <td>0.034420</td>\n",
       "    </tr>\n",
       "    <tr>\n",
       "      <th>7</th>\n",
       "      <td>Embarked</td>\n",
       "      <td>0.019052</td>\n",
       "    </tr>\n",
       "    <tr>\n",
       "      <th>4</th>\n",
       "      <td>Parch</td>\n",
       "      <td>0.012341</td>\n",
       "    </tr>\n",
       "    <tr>\n",
       "      <th>10</th>\n",
       "      <td>IsAlone</td>\n",
       "      <td>0.005447</td>\n",
       "    </tr>\n",
       "  </tbody>\n",
       "</table>\n",
       "</div>"
      ],
      "text/plain": [
       "       feature  importance\n",
       "1       Gender    0.370432\n",
       "8        Title    0.198016\n",
       "0       Pclass    0.150071\n",
       "2          Age    0.070348\n",
       "6        Cabin    0.050029\n",
       "5         Fare    0.046569\n",
       "3        SibSp    0.043276\n",
       "9   FamilySize    0.034420\n",
       "7     Embarked    0.019052\n",
       "4        Parch    0.012341\n",
       "10     IsAlone    0.005447"
      ]
     },
     "execution_count": 12,
     "metadata": {},
     "output_type": "execute_result"
    }
   ],
   "source": [
    "pd.concat((pd.DataFrame(x_train.columns, columns = ['feature']), \n",
    "           pd.DataFrame(rf_final.feature_importances_, columns = ['importance'])), \n",
    "          axis = 1).sort_values(by='importance', ascending = False)"
   ]
  },
  {
   "cell_type": "markdown",
   "metadata": {},
   "source": [
    "### 2. Train and Evaluate a Regression Model <a id='reg' />"
   ]
  },
  {
   "cell_type": "markdown",
   "metadata": {},
   "source": [
    "For the regression model, we will be using the noisy quadratic dataset we used before. We will start by using the simple train & test split, and then followed by K-folds cross validation"
   ]
  },
  {
   "cell_type": "markdown",
   "metadata": {},
   "source": [
    "#### 2.1 Simple train & test split"
   ]
  },
  {
   "cell_type": "code",
   "execution_count": 13,
   "metadata": {},
   "outputs": [],
   "source": [
    "# Generate the data: Quadratic data set + noise\n",
    "np.random.seed(2)\n",
    "m = 2000\n",
    "X = np.random.rand(m, 1)\n",
    "Y = 4 * (X - 0.5) ** 2\n",
    "Y = Y + np.random.randn(m, 1) / 10\n",
    "\n",
    "X_train, X_test, Y_train, Y_test = train_test_split(X, Y, test_size=0.2, random_state=2)"
   ]
  },
  {
   "cell_type": "code",
   "execution_count": 14,
   "metadata": {},
   "outputs": [
    {
     "data": {
      "text/plain": [
       "Text(0.5, 0, 'X')"
      ]
     },
     "execution_count": 14,
     "metadata": {},
     "output_type": "execute_result"
    },
    {
     "data": {
      "image/png": "[encoded data removed]",
      "text/plain": [
       "<Figure size 432x288 with 1 Axes>"
      ]
     },
     "metadata": {
      "needs_background": "light"
     },
     "output_type": "display_data"
    }
   ],
   "source": [
    "import matplotlib.pyplot as plt\n",
    "plt.plot(X,Y, 'b.')\n",
    "plt.ylabel('Y')\n",
    "plt.xlabel('X')"
   ]
  },
  {
   "cell_type": "code",
   "execution_count": 15,
   "metadata": {},
   "outputs": [
    {
     "data": {
      "text/plain": [
       "(1600, 1)"
      ]
     },
     "execution_count": 15,
     "metadata": {},
     "output_type": "execute_result"
    }
   ],
   "source": [
    "Y_train.shape"
   ]
  },
  {
   "cell_type": "code",
   "execution_count": 16,
   "metadata": {},
   "outputs": [
    {
     "data": {
      "text/plain": [
       "array([ 0.04031722,  0.12551785,  0.51849997, ..., -0.0301615 ,\n",
       "        0.56852906,  0.08446947])"
      ]
     },
     "execution_count": 16,
     "metadata": {},
     "output_type": "execute_result"
    }
   ],
   "source": [
    "Y_train.ravel()"
   ]
  },
  {
   "cell_type": "code",
   "execution_count": 17,
   "metadata": {},
   "outputs": [
    {
     "data": {
      "text/plain": [
       "RandomForestRegressor(max_depth=2, n_estimators=20, random_state=1)"
      ]
     },
     "execution_count": 17,
     "metadata": {},
     "output_type": "execute_result"
    }
   ],
   "source": [
    "# Create Random Forest Model\n",
    "rf_reg = RandomForestRegressor(max_depth=2, random_state=1, n_estimators=20)\n",
    "# Y_train is a 1D array, use ravel() to change the shape of Y_train to (n_samples,) before feed it into fit function\n",
    "rf_reg.fit(X_train, Y_train.ravel()) "
   ]
  },
  {
   "cell_type": "code",
   "execution_count": 18,
   "metadata": {},
   "outputs": [
    {
     "name": "stdout",
     "output_type": "stream",
     "text": [
      "the training mean squared error is:  0.0214951917758256\n",
      "the testing mean squared error is:  0.02212524660537352\n"
     ]
    }
   ],
   "source": [
    "from sklearn.metrics import mean_squared_error\n",
    "print('the training mean squared error is: ', mean_squared_error(rf_reg.predict(X_train), Y_train))\n",
    "print('the testing mean squared error is: ', mean_squared_error(rf_reg.predict(X_test), Y_test))"
   ]
  },
  {
   "cell_type": "markdown",
   "metadata": {},
   "source": [
    "#### 2.2 K-folds Cross Validation"
   ]
  },
  {
   "cell_type": "code",
   "execution_count": 19,
   "metadata": {},
   "outputs": [
    {
     "name": "stdout",
     "output_type": "stream",
     "text": [
      "train_score:  [-0.02055619 -0.02338512 -0.02123739 -0.02096031 -0.02156201]\n",
      "test_score:  [-0.01916226 -0.02415364 -0.0210835  -0.02363969 -0.02355731]\n"
     ]
    }
   ],
   "source": [
    "# Evaluate the Model using K-folds Cross validation\n",
    "results  = cross_validate(rf_reg, X, Y.ravel(), scoring='neg_mean_squared_error', cv=5, return_train_score = True)\n",
    "print('train_score: ', results['train_score'])\n",
    "print('test_score: ', results['test_score'])"
   ]
  },
  {
   "cell_type": "code",
   "execution_count": 20,
   "metadata": {},
   "outputs": [
    {
     "name": "stdout",
     "output_type": "stream",
     "text": [
      "cross val training mean_squared_error is: 0.0215402023535854\n",
      "cross val testing mean_squared_error is: 0.022319280542776355\n"
     ]
    }
   ],
   "source": [
    "print('cross val training mean_squared_error is:', sum(-results['train_score'])/len(results['train_score']))\n",
    "print('cross val testing mean_squared_error is:', sum(-results['test_score'])/len(results['test_score']))"
   ]
  },
  {
   "cell_type": "markdown",
   "metadata": {},
   "source": [
    "#### 2.3 Tuning Parameters"
   ]
  },
  {
   "cell_type": "markdown",
   "metadata": {},
   "source": [
    "Instead of tuning multiple parameters using grid search, this time we will be only tuning one parameter (i.e. max_depth). Through this process, you will be having a better understanding on model underfitting and overfitting (bias and variance). "
   ]
  },
  {
   "cell_type": "code",
   "execution_count": 21,
   "metadata": {},
   "outputs": [],
   "source": [
    "# Setting max_depth from 2 to 9 (8 different values)\n",
    "# Training & evaluating the model 8 times with different max_depth value\n",
    "# Store both simple split measures (train_mse & test_mse) and \n",
    "# cross validation measures (cross_val_train_mse & cross val_test_mse) into arrays\n",
    "\n",
    "depth_range = range(2,10)\n",
    "\n",
    "train_mse = []\n",
    "test_mse = []\n",
    "cross_val_train_mse =[]\n",
    "cross_val_test_mse =[]\n",
    "\n",
    "for d in depth_range:\n",
    "    # Create Random Forest Model\n",
    "    rf_reg = RandomForestRegressor(max_depth=d,random_state=1, n_estimators=20)\n",
    "    rf_reg.fit(X_train, Y_train.ravel()) \n",
    "    train_mse.append(mean_squared_error(rf_reg.predict(X_train), Y_train))\n",
    "    test_mse.append(mean_squared_error(rf_reg.predict(X_test), Y_test))\n",
    "    \n",
    "    results  = cross_validate(rf_reg, X, Y.ravel(), scoring='neg_mean_squared_error', cv=5, return_train_score = True)\n",
    "    cross_val_train_mse.append(sum(-results['train_score'])/len(results['train_score']))\n",
    "    cross_val_test_mse.append(sum(-results['test_score'])/len(results['test_score']))\n",
    "    "
   ]
  },
  {
   "cell_type": "code",
   "execution_count": 22,
   "metadata": {},
   "outputs": [
    {
     "data": {
      "image/png": "[encoded data removed]",
      "text/plain": [
       "<Figure size 432x288 with 1 Axes>"
      ]
     },
     "metadata": {
      "needs_background": "light"
     },
     "output_type": "display_data"
    }
   ],
   "source": [
    "# Plot the simple split measures (train_mse & test_mse) \n",
    "plt.plot(depth_range, train_mse, 'bo-', label ='training mse')\n",
    "plt.plot(depth_range, test_mse, 'ro-', label = 'testing mse')\n",
    "\n",
    "plt.xlabel('max_depth', fontsize='x-large')\n",
    "plt.ylabel('mean squared error (MSE)', fontsize='x-large')\n",
    "\n",
    "plt.legend(loc='best', shadow=True, fontsize='x-large')\n",
    "plt.show()"
   ]
  },
  {
   "cell_type": "code",
   "execution_count": 23,
   "metadata": {},
   "outputs": [
    {
     "data": {
      "image/png": "[encoded data removed]",
      "text/plain": [
       "<Figure size 432x288 with 1 Axes>"
      ]
     },
     "metadata": {
      "needs_background": "light"
     },
     "output_type": "display_data"
    }
   ],
   "source": [
    "# Plot the cross validation measures (cross_val_train_mse & cross val_test_mse) \n",
    "plt.plot(depth_range, cross_val_train_mse, 'bo-', label ='cross val training mse')\n",
    "plt.plot(depth_range, cross_val_test_mse, 'ro-', label = 'cross val testing mse')\n",
    "\n",
    "plt.xlabel('max_depth', fontsize='x-large')\n",
    "plt.ylabel('mean squared error (MSE)', fontsize='x-large')\n",
    "\n",
    "plt.legend(loc='best', shadow=True, fontsize='x-large')\n",
    "plt.show()"
   ]
  },
  {
   "cell_type": "markdown",
   "metadata": {},
   "source": [
    "From the above figures, we can see that:\n",
    "* Initially model is underfitting, so after increase `max_depth` from 2 to 5, both training & testing mse are decreasing;\n",
    "* Then, after further increase `max_depth` to 6, 7, 8 and 9, though training mse is still decreasing, testing mse starts to increase, i.e. model is overfitting. \n",
    "\n",
    "Therefore, we think the ideal `max_depth` is around 5. Now let's build our final model using `max_depth =5`."
   ]
  },
  {
   "cell_type": "code",
   "execution_count": 24,
   "metadata": {},
   "outputs": [
    {
     "name": "stdout",
     "output_type": "stream",
     "text": [
      "***Final Model***\n",
      "training mse:  0.009582995911544961\n",
      "testing mse:  0.012344919969897864\n",
      "cross val training mse: 0.009959313771995533\n",
      "cross val testing mse: 0.011315745713622196\n"
     ]
    }
   ],
   "source": [
    "print('***Final Model***')\n",
    "rf_reg_final = RandomForestRegressor(max_depth=5,random_state=1, n_estimators=20)\n",
    "rf_reg_final.fit(X_train, Y_train.ravel()) \n",
    "print('training mse: ', mean_squared_error(rf_reg_final.predict(X_train), Y_train))\n",
    "print('testing mse: ', mean_squared_error(rf_reg_final.predict(X_test), Y_test))\n",
    "    \n",
    "results  = cross_validate(rf_reg_final, X, Y.ravel(), scoring='neg_mean_squared_error', cv=5, return_train_score = True)\n",
    "print('cross val training mse:', sum(-results['train_score'])/len(results['train_score']))\n",
    "print('cross val testing mse:', sum(-results['test_score'])/len(results['test_score']))\n"
   ]
  },
  {
   "cell_type": "markdown",
   "metadata": {},
   "source": [
    "### 3. Exercise <a id='exc' />\n",
    "\n",
    "Using SVM (Support Vector Machine) Model to solve the above classification problem and regression problem. "
   ]
  },
  {
   "cell_type": "markdown",
   "metadata": {},
   "source": [
    "#### 3.1 Classification Problem"
   ]
  },
  {
   "cell_type": "code",
   "execution_count": 25,
   "metadata": {},
   "outputs": [],
   "source": [
    "# Task 1: Load Data and Split into train & test data\n",
    "df = pd.read_csv('titanic_new.csv')\n",
    "df_x = df.iloc[:,1:]\n",
    "df_y = df.iloc[:,0]\n",
    "X_train, X_test, y_train, y_test = train_test_split(df_x, df_y, test_size=0.2, random_state = 4)"
   ]
  },
  {
   "cell_type": "code",
   "execution_count": 26,
   "metadata": {},
   "outputs": [
    {
     "name": "stdout",
     "output_type": "stream",
     "text": [
      "The training accuracy is:  0.7851123595505618\n",
      "The testing accuracy is:  0.8156424581005587\n"
     ]
    }
   ],
   "source": [
    "# Task 2: Build Model and Evaluate both training and testing accuracy\n",
    "\n",
    "#Import the package\n",
    "from sklearn import svm\n",
    "\n",
    "svc_model = svm.SVC(kernel='linear', gamma = 0.001, C = 0.1)\n",
    "svc_model.fit(X_train,y_train)\n",
    "\n",
    "print('The training accuracy is: ', svc_model.score(X_train,y_train))\n",
    "print('The testing accuracy is: ', svc_model.score(X_test,y_test))"
   ]
  },
  {
   "cell_type": "code",
   "execution_count": 37,
   "metadata": {},
   "outputs": [
    {
     "name": "stdout",
     "output_type": "stream",
     "text": [
      "train_score:  [0.78651685 0.78681627 0.79242637 0.80084151 0.78962132]\n",
      "test_score:  [0.81005587 0.80337079 0.78651685 0.75280899 0.79775281]\n",
      "cross val training accuracy is:  -0.7912444647556612\n",
      "cross val testing accuracy is:  -0.7901010608248069\n"
     ]
    }
   ],
   "source": [
    "# Task 3: Evaluate the Model using K-folds Cross validation\n",
    "#svc_model_results = cross_validate(svc_model, X, Y.ravel(), scoring='neg_mean_squared_error', cv=5, return_train_score = True)\n",
    "results  = cross_validate(svc_model, df_x, df_y.ravel(), scoring='accuracy', cv=5, return_train_score = True)\n",
    "\n",
    "print('train_score: ', results['train_score'])\n",
    "print('test_score: ', results['test_score'])\n",
    "\n",
    "print('cross val training accuracy is: ', sum(-results['train_score'])/len(results['train_score']))\n",
    "print('cross val testing accuracy is: ', sum(-results['test_score'])/len(results['test_score']))"
   ]
  },
  {
   "cell_type": "code",
   "execution_count": 28,
   "metadata": {},
   "outputs": [],
   "source": [
    "# Task 4 (optional): tuning parametars or using Grid Search to find the best parameters."
   ]
  },
  {
   "cell_type": "markdown",
   "metadata": {},
   "source": [
    "#### 3.2 Regression Problem"
   ]
  },
  {
   "cell_type": "code",
   "execution_count": 38,
   "metadata": {},
   "outputs": [],
   "source": [
    "# Task 1: Generate the data: Quadratic data set + noise\n",
    "np.random.seed(3)\n",
    "m = 2000\n",
    "X = np.random.rand(m, 1)\n",
    "Y = 4 * (X - 0.5) ** 2\n",
    "Y = Y + np.random.randn(m,1)/10\n",
    "\n",
    "X_train, X_test, y_train, y_test = train_test_split(X, Y, test_size=0.2, random_state=2)"
   ]
  },
  {
   "cell_type": "code",
   "execution_count": 41,
   "metadata": {},
   "outputs": [
    {
     "name": "stdout",
     "output_type": "stream",
     "text": [
      "The training mean_squared_error is:  0.09856568410136514\n",
      "The testing mean_squared_error is:  0.1006710779492365\n"
     ]
    }
   ],
   "source": [
    "# Task 2: Build Model and Evaluate both training and testing MSE\n",
    "svregressor_model = svm.SVR(kernel='linear', gamma = 0.001, C = 0.1)\n",
    "svregressor_model.fit(X_train,y_train.ravel())\n",
    "\n",
    "print(\"The training mean_squared_error is: \", mean_squared_error(svregressor_model.predict(X_train), y_train))\n",
    "print(\"The testing mean_squared_error is: \", mean_squared_error(svregressor_model.predict(X_test), y_test))"
   ]
  },
  {
   "cell_type": "code",
   "execution_count": 43,
   "metadata": {},
   "outputs": [
    {
     "name": "stdout",
     "output_type": "stream",
     "text": [
      "train_score:  [0.78651685 0.78681627 0.79242637 0.80084151 0.78962132]\n",
      "test_score:  [0.81005587 0.80337079 0.78651685 0.75280899 0.79775281]\n",
      "cross validating training mean_squared_error is:  -0.7912444647556612\n",
      "cross validating testing mean_squared_error is:  -0.7901010608248069\n"
     ]
    }
   ],
   "source": [
    "# Task 3: Evaluate the Model using K-folds Cross validation\n",
    "svregressor_model_results = cross_validate(svregressor_model, X, Y.ravel(), scoring='neg_mean_squared_error', cv=5, return_train_score = True)\n",
    "print('train_score: ', results['train_score'])\n",
    "print('test_score: ', results['test_score'])\n",
    "\n",
    "print('cross validating training mean_squared_error is: ', sum(-results['train_score'])/len(results['train_score']))\n",
    "print('cross validating testing mean_squared_error is: ', sum(-results['test_score'])/len(results['test_score']))"
   ]
  },
  {
   "cell_type": "code",
   "execution_count": 32,
   "metadata": {},
   "outputs": [],
   "source": [
    "# Task 4 (optional): tuning parametars or using Grid Search to find the best parameters."
   ]
  }
 ],
 "metadata": {
  "kernelspec": {
   "display_name": "Python 3 (ipykernel)",
   "language": "python",
   "name": "python3"
  },
  "language_info": {
   "codemirror_mode": {
    "name": "ipython",
    "version": 3
   },
   "file_extension": ".py",
   "mimetype": "text/x-python",
   "name": "python",
   "nbconvert_exporter": "python",
   "pygments_lexer": "ipython3",
   "version": "3.9.7"
  }
 },
 "nbformat": 4,
 "nbformat_minor": 2
}
